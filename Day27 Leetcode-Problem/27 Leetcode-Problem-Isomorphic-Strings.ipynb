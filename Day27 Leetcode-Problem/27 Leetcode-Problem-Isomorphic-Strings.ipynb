{
 "cells": [
  {
   "cell_type": "markdown",
   "id": "72b4e569-e1c9-4dff-9207-e58f17bdf700",
   "metadata": {},
   "source": [
    "# Leetcode Problem: Isomorphic Strings\n",
    "- Click on the link to start solving the problem\n",
    "- [Leetcode-Problem](https://leetcode.com/problems/isomorphic-strings/description/)"
   ]
  },
  {
   "cell_type": "code",
   "execution_count": 1,
   "id": "e35c3a47-8f87-4a38-b6e6-ec05b1ba2b99",
   "metadata": {},
   "outputs": [
    {
     "name": "stdout",
     "output_type": "stream",
     "text": [
      "e a\n",
      "g d\n",
      "g d\n"
     ]
    }
   ],
   "source": [
    "s = \"egg\"\n",
    "t = \"add\"\n",
    "\n",
    "for i in range(len(s)):\n",
    "    ch1 = s[i]\n",
    "    ch2 = t[i]\n",
    "    print(ch1, ch2)"
   ]
  },
  {
   "cell_type": "code",
   "execution_count": 2,
   "id": "4711609d-a0f3-4cee-9918-f620b1849343",
   "metadata": {},
   "outputs": [
    {
     "name": "stdout",
     "output_type": "stream",
     "text": [
      "e a\n",
      "g d\n",
      "g d\n",
      "{'e': 'a', 'g': 'd'}\n",
      "{'a': 'e', 'd': 'g'}\n"
     ]
    }
   ],
   "source": [
    "s = \"egg\" \n",
    "t = \"add\"\n",
    "dici = {}\n",
    "revi  = {}\n",
    "for i in range(len(s)):\n",
    "    ch1 = s[i]\n",
    "    ch2 = t[i]\n",
    "    print(ch1, ch2)\n",
    "    if ch1 not in dici and ch2 not in revi:\n",
    "        dici[ch1] = ch2\n",
    "        revi[ch2]  = ch1\n",
    "    \n",
    "print(dici)\n",
    "print(revi)"
   ]
  },
  {
   "cell_type": "code",
   "execution_count": 3,
   "id": "aaa57997-e860-46da-9d3d-1ed1f3a0bb38",
   "metadata": {},
   "outputs": [
    {
     "name": "stdout",
     "output_type": "stream",
     "text": [
      "e a\n",
      "g d\n",
      "g k\n",
      "{'e': 'a', 'g': 'd'}\n",
      "{'a': 'e', 'd': 'g'}\n",
      "False\n"
     ]
    }
   ],
   "source": [
    "s = \"egg\"\n",
    "t = \"adk\"\n",
    "dici = {}\n",
    "revi  = {}\n",
    "iso = True\n",
    "for i in range(len(s)):\n",
    "    ch1 = s[i]\n",
    "    ch2 = t[i]\n",
    "    print(ch1, ch2)\n",
    "    if ch1 not in dici and ch2 not in revi:\n",
    "        dici[ch1] = ch2\n",
    "        revi[ch2]  = ch1\n",
    "    elif ch1 in dici and dici[ch1] != ch2:\n",
    "        iso = False\n",
    "        break\n",
    "        \n",
    "print(dici)\n",
    "print(revi)\n",
    "print(iso) "
   ]
  },
  {
   "cell_type": "code",
   "execution_count": 4,
   "id": "c4e553a2-4860-42b0-b7b2-e5bb7a04f702",
   "metadata": {},
   "outputs": [
    {
     "name": "stdout",
     "output_type": "stream",
     "text": [
      "e a\n",
      "g d\n",
      "g d\n",
      "{'e': 'a', 'g': 'd'}\n",
      "{'a': 'e', 'd': 'g'}\n",
      "True\n"
     ]
    }
   ],
   "source": [
    "s = \"egg\"\n",
    "t = \"add\"\n",
    "dici = {}\n",
    "revi  = {}\n",
    "iso = True\n",
    "for i in range(len(s)):\n",
    "    ch1 = s[i]\n",
    "    ch2 = t[i]\n",
    "    print(ch1, ch2)\n",
    "    if ch1 not in dici and ch2 not in revi:\n",
    "        dici[ch1] = ch2\n",
    "        revi[ch2]  = ch1\n",
    "    elif ch1 in dici and dici[ch1] != ch2:\n",
    "        iso = False\n",
    "        break\n",
    "        \n",
    "print(dici)\n",
    "print(revi)\n",
    "print(iso) "
   ]
  },
  {
   "cell_type": "code",
   "execution_count": 5,
   "id": "dfb2ff41-4eea-4757-9946-e904f46db975",
   "metadata": {},
   "outputs": [
    {
     "name": "stdout",
     "output_type": "stream",
     "text": [
      "e a\n",
      "g d\n",
      "f d\n",
      "{'e': 'a', 'g': 'd'}\n",
      "{'a': 'e', 'd': 'g'}\n",
      "False\n"
     ]
    }
   ],
   "source": [
    "s = \"egf\"\n",
    "t = \"add\"\n",
    "dici = {}\n",
    "revi  = {}\n",
    "iso = True\n",
    "for i in range(len(s)):\n",
    "    ch1 = s[i]\n",
    "    ch2 = t[i]\n",
    "    print(ch1, ch2)\n",
    "    if ch1 not in dici and ch2 not in revi:\n",
    "        dici[ch1] = ch2\n",
    "        revi[ch2]  = ch1\n",
    "    elif ch1 in dici and dici[ch1] != ch2:\n",
    "        iso = False\n",
    "        break\n",
    "    elif (ch2 in revi and revi[ch2] != ch1):\n",
    "        iso = False\n",
    "        break\n",
    "        \n",
    "print(dici)\n",
    "print(revi)\n",
    "print(iso)     "
   ]
  },
  {
   "cell_type": "code",
   "execution_count": 6,
   "id": "d0916f6e-a3d8-42c7-b96f-535644d2347f",
   "metadata": {},
   "outputs": [
    {
     "name": "stdout",
     "output_type": "stream",
     "text": [
      "e a\n",
      "g d\n",
      "g d\n",
      "{'e': 'a', 'g': 'd'}\n",
      "{'a': 'e', 'd': 'g'}\n",
      "True\n"
     ]
    }
   ],
   "source": [
    "s = \"egg\"\n",
    "t = \"add\"\n",
    "dici = {}\n",
    "revi  = {}\n",
    "iso = True\n",
    "for i in range(len(s)):\n",
    "    ch1 = s[i]\n",
    "    ch2 = t[i]\n",
    "    print(ch1, ch2)\n",
    "    if ch1 not in dici and ch2 not in revi:\n",
    "        dici[ch1] = ch2\n",
    "        revi[ch2]  = ch1\n",
    "    elif ch1 in dici and dici[ch1] != ch2:\n",
    "        iso = False\n",
    "        break\n",
    "    elif (ch2 in revi and revi[ch2] != ch1):\n",
    "        iso = False\n",
    "        break\n",
    "        \n",
    "print(dici)\n",
    "print(revi)\n",
    "print(iso)     "
   ]
  },
  {
   "cell_type": "code",
   "execution_count": 7,
   "id": "dbadc459-0ccd-44cb-a3eb-b89a5bcf69bc",
   "metadata": {},
   "outputs": [
    {
     "name": "stdout",
     "output_type": "stream",
     "text": [
      "p k\n",
      "a a\n",
      "p k\n",
      "u u\n",
      "{'p': 'k', 'a': 'a', 'u': 'u'}\n",
      "{'k': 'p', 'a': 'a', 'u': 'u'}\n",
      "True\n"
     ]
    }
   ],
   "source": [
    "s = \"papu\"\n",
    "t = \"kaku\"\n",
    "dici = {}\n",
    "revi  = {}\n",
    "iso = True\n",
    "for i in range(len(s)):\n",
    "    ch1 = s[i]\n",
    "    ch2 = t[i]\n",
    "    print(ch1, ch2)\n",
    "    if ch1 not in dici and ch2 not in revi:\n",
    "        dici[ch1] = ch2\n",
    "        revi[ch2]  = ch1\n",
    "    elif ch1 in dici and dici[ch1] != ch2:\n",
    "        iso = False\n",
    "        break\n",
    "    elif (ch2 in revi and revi[ch2] != ch1):\n",
    "        iso = False\n",
    "        break\n",
    "        \n",
    "print(dici)\n",
    "print(revi)\n",
    "print(iso)     "
   ]
  },
  {
   "cell_type": "code",
   "execution_count": 8,
   "id": "34a8f369-34e9-4bc0-b182-c042b6fa46ee",
   "metadata": {},
   "outputs": [
    {
     "name": "stdout",
     "output_type": "stream",
     "text": [
      "p k\n",
      "a a\n",
      "p f\n",
      "{'p': 'k', 'a': 'a'}\n",
      "{'k': 'p', 'a': 'a'}\n",
      "False\n"
     ]
    }
   ],
   "source": [
    "s = \"papu\"\n",
    "t = \"kafu\"\n",
    "dici = {}\n",
    "revi  = {}\n",
    "iso = True\n",
    "for i in range(len(s)):\n",
    "    ch1 = s[i]\n",
    "    ch2 = t[i]\n",
    "    print(ch1, ch2)\n",
    "    if ch1 not in dici and ch2 not in revi:\n",
    "        dici[ch1] = ch2\n",
    "        revi[ch2]  = ch1\n",
    "    elif ch1 in dici and dici[ch1] != ch2:\n",
    "        iso = False\n",
    "        break\n",
    "    elif (ch2 in revi and revi[ch2] != ch1):\n",
    "        iso = False\n",
    "        break\n",
    "        \n",
    "print(dici)\n",
    "print(revi)\n",
    "print(iso)     "
   ]
  },
  {
   "cell_type": "markdown",
   "id": "cd7f4f50-9e16-4aac-9329-31f5fd9c69b3",
   "metadata": {},
   "source": [
    "# Leetcode Problem: Isomorphic Strings\n",
    "```python\n",
    "class Solution:\n",
    "    def isIsomorphic(self, s: str, t: str) -> bool:\n",
    "        dici = {}\n",
    "        revi  = {}\n",
    "        iso = True\n",
    "        for i in range(len(s)):\n",
    "            ch1 = s[i]\n",
    "            ch2 = t[i]\n",
    "            print(ch1, ch2)\n",
    "            if ch1 not in dici and ch2 not in revi:\n",
    "                dici[ch1] = ch2\n",
    "                revi[ch2]  = ch1\n",
    "            elif ch1 in dici and dici[ch1] != ch2:\n",
    "                iso = False\n",
    "                break\n",
    "            elif (ch2 in revi and revi[ch2] != ch1):\n",
    "                iso = False\n",
    "                break\n",
    "        return iso\n",
    "```"
   ]
  },
  {
   "cell_type": "code",
   "execution_count": null,
   "id": "2d00b81a-9432-44e0-aa03-5b1751dde1a4",
   "metadata": {},
   "outputs": [],
   "source": []
  }
 ],
 "metadata": {
  "kernelspec": {
   "display_name": "Python 3 (ipykernel)",
   "language": "python",
   "name": "python3"
  },
  "language_info": {
   "codemirror_mode": {
    "name": "ipython",
    "version": 3
   },
   "file_extension": ".py",
   "mimetype": "text/x-python",
   "name": "python",
   "nbconvert_exporter": "python",
   "pygments_lexer": "ipython3",
   "version": "3.11.7"
  }
 },
 "nbformat": 4,
 "nbformat_minor": 5
}
