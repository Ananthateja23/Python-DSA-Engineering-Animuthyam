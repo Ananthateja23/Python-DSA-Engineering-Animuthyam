{
 "cells": [
  {
   "cell_type": "markdown",
   "id": "2d53970d-4f5a-4077-9d9f-1b1b3e894bd1",
   "metadata": {},
   "source": [
    "# Leetcode Problem : `930 Binary Subarrays With Sum`\n",
    "- Click on the link to start solve the problem\n",
    "- <a href=\"https://leetcode.com/problems/binary-subarrays-with-sum/description/\">Leetcode-Problem</a>"
   ]
  },
  {
   "cell_type": "code",
   "execution_count": 1,
   "id": "b9f33618-1cc1-4963-a999-f794a2b7a906",
   "metadata": {},
   "outputs": [],
   "source": [
    "def atMostK(nums, k):\n",
    "    if k < 0:\n",
    "        return 0\n",
    "    n = len(nums)\n",
    "    l = 0\n",
    "    ans = 0\n",
    "    tsum = 0\n",
    "    for r in range(n):\n",
    "        if nums[r] == 1:\n",
    "            tsum += 1\n",
    "        while tsum > k:\n",
    "            if nums[l] == 1:\n",
    "                tsum -= 1\n",
    "            l += 1\n",
    "        ans += (r-l+1)\n",
    "    return ans"
   ]
  },
  {
   "cell_type": "code",
   "execution_count": 2,
   "id": "1e29d957-1102-4172-97e7-e2e874f80bd5",
   "metadata": {},
   "outputs": [
    {
     "data": {
      "text/plain": [
       "2"
      ]
     },
     "execution_count": 2,
     "metadata": {},
     "output_type": "execute_result"
    }
   ],
   "source": [
    "atMostK(nums = [1, 0, 1, 0, 1], k = 0)"
   ]
  },
  {
   "cell_type": "code",
   "execution_count": 3,
   "id": "856b2b6f-3d80-42bb-b519-80a6b7fba9d1",
   "metadata": {},
   "outputs": [
    {
     "data": {
      "text/plain": [
       "0"
      ]
     },
     "execution_count": 3,
     "metadata": {},
     "output_type": "execute_result"
    }
   ],
   "source": [
    "atMostK(nums = [1, 0, 1, 0, 1], k = -1)"
   ]
  },
  {
   "cell_type": "markdown",
   "id": "96512379-ffa5-4ea4-b335-e8d17e511d76",
   "metadata": {},
   "source": [
    "# Leetcode Problem Solved\n",
    "```python\n",
    "class Solution:\n",
    "    def numSubarraysWithSum(self, nums: List[int], goal: int) -> int:\n",
    "        def atMostK(nums, k):\n",
    "            if k < 0:\n",
    "                return 0\n",
    "            n = len(nums)\n",
    "            l = 0\n",
    "            ans = 0\n",
    "            tsum = 0\n",
    "            for r in range(n):\n",
    "                if nums[r] == 1:\n",
    "                    tsum += 1\n",
    "                \n",
    "                while tsum > k:\n",
    "                    if nums[l] == 1:\n",
    "                        tsum -= 1\n",
    "                    l += 1\n",
    "                ans += (r-l+1)\n",
    "            return ans\n",
    "        return atMostK(nums, goal) - atMostK(nums, goal-1)\n",
    "```"
   ]
  },
  {
   "cell_type": "code",
   "execution_count": null,
   "id": "c8f7a5de-2b22-4979-9420-5e3efaf98137",
   "metadata": {},
   "outputs": [],
   "source": []
  }
 ],
 "metadata": {
  "kernelspec": {
   "display_name": "Python 3 (ipykernel)",
   "language": "python",
   "name": "python3"
  },
  "language_info": {
   "codemirror_mode": {
    "name": "ipython",
    "version": 3
   },
   "file_extension": ".py",
   "mimetype": "text/x-python",
   "name": "python",
   "nbconvert_exporter": "python",
   "pygments_lexer": "ipython3",
   "version": "3.11.7"
  }
 },
 "nbformat": 4,
 "nbformat_minor": 5
}
