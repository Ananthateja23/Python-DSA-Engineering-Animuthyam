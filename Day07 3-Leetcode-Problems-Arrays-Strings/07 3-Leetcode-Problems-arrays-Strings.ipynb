{
 "cells": [
  {
   "cell_type": "markdown",
   "id": "d21bfce5-b63f-4d21-aa48-9b5d86cdf4ec",
   "metadata": {},
   "source": [
    "# Solving a Leetcode problem Number: 02\n",
    "\n",
    "- Click on the Leetcode Problem link and start solving the problem\n",
    "- [Leetcode-Problem](https://leetcode.com/problems/final-value-of-variable-after-performing-operations/description/)"
   ]
  },
  {
   "cell_type": "markdown",
   "id": "88ffa553-e39a-45d2-a30f-9c5760a15815",
   "metadata": {},
   "source": [
    "## Explanation\n",
    "\n",
    "##### --X : -1\n",
    "##### X-- : -1\n",
    "##### ++X : +1\n",
    "##### X++ : +1"
   ]
  },
  {
   "cell_type": "markdown",
   "id": "c6907e4f-77c4-49d3-8dde-b471f1b21acc",
   "metadata": {},
   "source": [
    "## Solving problem using brute force approach"
   ]
  },
  {
   "cell_type": "code",
   "execution_count": 1,
   "id": "1f23a622-ca10-49e0-a98b-14318b4ef9ae",
   "metadata": {},
   "outputs": [
    {
     "name": "stdout",
     "output_type": "stream",
     "text": [
      "1\n"
     ]
    }
   ],
   "source": [
    "li = ['--X', 'X++', '++X']\n",
    "x  = 0\n",
    "\n",
    "\n",
    "for i in range(len(li)):\n",
    "    if li[i] == '--X':\n",
    "        x = x - 1\n",
    "    if li[i] == 'X--':\n",
    "        x = x - 1\n",
    "    if li[i] == '++X':\n",
    "        x = x + 1\n",
    "    if li[i] == 'X++':\n",
    "        x = x + 1\n",
    "\n",
    "print(x)"
   ]
  },
  {
   "cell_type": "code",
   "execution_count": 2,
   "id": "c0e4c14c-1215-4d75-8d49-8c309b052e7e",
   "metadata": {},
   "outputs": [
    {
     "name": "stdout",
     "output_type": "stream",
     "text": [
      "2\n"
     ]
    }
   ],
   "source": [
    "li = ['--X', 'X--', '++X', 'X++', '++X', 'X++']\n",
    "x  = 0\n",
    "\n",
    "for i in range(len(li)):\n",
    "    temp = li[i]\n",
    "    if temp == '--X' or temp == 'X--':\n",
    "        x = x - 1\n",
    "    if temp == '++X' or temp == 'X++':\n",
    "        x = x + 1\n",
    "\n",
    "print(x)"
   ]
  },
  {
   "cell_type": "code",
   "execution_count": 3,
   "id": "997599c0-5419-4254-980d-b9099d8095e9",
   "metadata": {},
   "outputs": [
    {
     "name": "stdout",
     "output_type": "stream",
     "text": [
      "2\n"
     ]
    }
   ],
   "source": [
    "li = ['--X', 'X--', '++X', 'X++', '++X', 'X++']\n",
    "x  = 0\n",
    "\n",
    "for i in range(len(li)):\n",
    "    temp = li[i]\n",
    "    if temp == '--X' or temp == 'X--':\n",
    "        x = x - 1\n",
    "    else:\n",
    "        x = x + 1\n",
    "\n",
    "print(x)"
   ]
  },
  {
   "cell_type": "code",
   "execution_count": 4,
   "id": "117caf3e-1c9f-4849-a405-40f6ebf1f128",
   "metadata": {},
   "outputs": [
    {
     "name": "stdout",
     "output_type": "stream",
     "text": [
      "2\n"
     ]
    }
   ],
   "source": [
    "li = ['--X', 'X--', '++X', 'X++', '++X', 'X++']\n",
    "x  = 0\n",
    "\n",
    "for i in li:\n",
    "    temp = i\n",
    "    if temp == '--X' or temp == 'X--':\n",
    "        x = x - 1\n",
    "    else:\n",
    "        x = x + 1\n",
    "\n",
    "print(x)"
   ]
  },
  {
   "cell_type": "code",
   "execution_count": 5,
   "id": "72f1ca30-6e84-4616-b134-3a60213b6e03",
   "metadata": {},
   "outputs": [
    {
     "name": "stdout",
     "output_type": "stream",
     "text": [
      "2\n"
     ]
    }
   ],
   "source": [
    "li = ['--X', 'X--', '++X', 'X++', '++X', 'X++']\n",
    "x  = 0\n",
    "\n",
    "for i in li:\n",
    "    if i == '--X' or i == 'X--':\n",
    "        x = x - 1\n",
    "    else:\n",
    "        x = x + 1\n",
    "\n",
    "print(x)"
   ]
  },
  {
   "cell_type": "markdown",
   "id": "bc8d74d9-ad68-40d8-ae6a-1d0b22f13a14",
   "metadata": {},
   "source": [
    "## Solving Problem on Leetcode\n",
    "```python\n",
    "class Solution:\n",
    "    def finalValueAfterOperation(self, operations: List[str]) -> int:\n",
    "        x = 0\n",
    "        for op in operations:\n",
    "            if op == '--X' or op == 'X--':\n",
    "                x = x - 1\n",
    "            else:\n",
    "                x = x + 1\n",
    "        return x\n",
    "```"
   ]
  },
  {
   "cell_type": "markdown",
   "id": "66f48c37-f7ff-4aa2-a435-bc7d66807d4d",
   "metadata": {},
   "source": [
    "<hr>"
   ]
  },
  {
   "cell_type": "markdown",
   "id": "76598132-7dfe-4013-a5f1-ec0dc152aed2",
   "metadata": {},
   "source": [
    "# Solving a Leetcode problem Number: 03\n",
    "\n",
    "- Click on the Leetcode Problem link and start solving the problem\n",
    "- [Leetcode-Problem](https://leetcode.com/problems/defanging-an-ip-address/description/)\n",
    "\n",
    "\n",
    "## Explanation:\n",
    "\n",
    "##### input : \"1.1.1.1\"\n",
    "##### output:  \"1[.]1[.]1[.]1\""
   ]
  },
  {
   "cell_type": "markdown",
   "id": "84a6c81b-7f48-4b9d-8083-4ba0d9af0aba",
   "metadata": {},
   "source": [
    "## Solving problem using brute force approach"
   ]
  },
  {
   "cell_type": "code",
   "execution_count": 6,
   "id": "bb2d1576-871e-48f0-8bc4-53713d71fb06",
   "metadata": {},
   "outputs": [
    {
     "name": "stdout",
     "output_type": "stream",
     "text": [
      "1\n",
      ".\n",
      "1\n",
      ".\n",
      "1\n",
      ".\n",
      "1\n"
     ]
    }
   ],
   "source": [
    "s = '1.1.1.1'\n",
    "ans = ''\n",
    "\n",
    "for i in range(len(s)):\n",
    "    ch = s[i]\n",
    "    print(ch)"
   ]
  },
  {
   "cell_type": "code",
   "execution_count": 7,
   "id": "a9401c72-3017-4067-aa57-fafeedf40432",
   "metadata": {},
   "outputs": [
    {
     "name": "stdout",
     "output_type": "stream",
     "text": [
      "1[.]1[.]1[.]1\n"
     ]
    }
   ],
   "source": [
    "s = '1.1.1.1'\n",
    "ans = ''\n",
    "\n",
    "for i in range(len(s)):\n",
    "    ch = s[i]\n",
    "    if ch == '.':\n",
    "        ans = ans + \"[.]\"\n",
    "    else:\n",
    "        ans = ans + ch\n",
    "\n",
    "print(ans)"
   ]
  },
  {
   "cell_type": "code",
   "execution_count": 8,
   "id": "039edf6d-80d9-4e5c-9829-7e813b0b723d",
   "metadata": {},
   "outputs": [
    {
     "name": "stdout",
     "output_type": "stream",
     "text": [
      "1[.]1[.]1[.]1\n"
     ]
    }
   ],
   "source": [
    "s = '1.1.1.1'\n",
    "ans = ''\n",
    "\n",
    "for i in s:\n",
    "    ch = i\n",
    "    if ch == '.':\n",
    "        ans = ans + \"[.]\"\n",
    "    else:\n",
    "        ans = ans + ch\n",
    "\n",
    "print(ans)"
   ]
  },
  {
   "cell_type": "code",
   "execution_count": 9,
   "id": "6e2c5093-c031-4768-8590-193dd5c4b6b8",
   "metadata": {},
   "outputs": [
    {
     "name": "stdout",
     "output_type": "stream",
     "text": [
      "1[.]1[.]1[.]1\n"
     ]
    }
   ],
   "source": [
    "s = '1.1.1.1'\n",
    "ans = ''\n",
    "\n",
    "for i in s:\n",
    "    if i == '.':\n",
    "        ans = ans + \"[.]\"\n",
    "    else:\n",
    "        ans = ans + ch\n",
    "\n",
    "print(ans)"
   ]
  },
  {
   "cell_type": "markdown",
   "id": "82116118-5c59-4117-8212-668a0d579754",
   "metadata": {},
   "source": [
    "## Solving Problem on Leetcode\n",
    "```python\n",
    "class Solution:\n",
    "    def defangIPaddr(self, address: str) -> str:\n",
    "        ans = \"\"\n",
    "        for ch in address:\n",
    "            if ch == '.':\n",
    "                ans = ans + \"[.]\"\n",
    "            else:\n",
    "                ans = ans + ch\n",
    "        return ans\n",
    "```"
   ]
  },
  {
   "cell_type": "markdown",
   "id": "9e84edea-e0f5-41de-b101-05c7e8c6ef5b",
   "metadata": {},
   "source": [
    "<hr>"
   ]
  },
  {
   "cell_type": "markdown",
   "id": "d436d07d-8b95-4213-9da6-0779930f8b72",
   "metadata": {},
   "source": [
    "# Solving a Leetcode problem Number: 04\n",
    "\n",
    "- Click on the Leetcode link and start solving the problem\n",
    "- [Leetcode-Problem](https://leetcode.com/problems/jewels-and-stones/description/)\n",
    "\n",
    "## Explanation\n",
    "\n",
    "##### input:\n",
    "##### jewels = \"aA\"\n",
    "##### stones = \"aAAbbbb\"\n",
    "\n",
    "##### output:\n",
    "##### 3"
   ]
  },
  {
   "cell_type": "markdown",
   "id": "af45deed-795e-4ce6-8005-d2c188796e16",
   "metadata": {},
   "source": [
    "## Understanding the double for loop"
   ]
  },
  {
   "cell_type": "code",
   "execution_count": 10,
   "id": "0cb5a96d-7cea-485f-9cc1-78d0e1888fe4",
   "metadata": {},
   "outputs": [
    {
     "name": "stdout",
     "output_type": "stream",
     "text": [
      "0\n",
      "1\n",
      "2\n",
      "3\n"
     ]
    }
   ],
   "source": [
    "n = 4\n",
    "\n",
    "for i in range(n):\n",
    "    print(i)"
   ]
  },
  {
   "cell_type": "code",
   "execution_count": 11,
   "id": "04761ccd-06e2-46ee-8e9d-2079e072b6fd",
   "metadata": {},
   "outputs": [
    {
     "name": "stdout",
     "output_type": "stream",
     "text": [
      "0\n",
      "a\n",
      "b\n",
      "c\n",
      "1\n",
      "a\n",
      "b\n",
      "c\n",
      "2\n",
      "a\n",
      "b\n",
      "c\n",
      "3\n",
      "a\n",
      "b\n",
      "c\n"
     ]
    }
   ],
   "source": [
    "n = 4\n",
    "for i in range(n):\n",
    "    print(i)\n",
    "    for j in ['a', 'b', 'c']:\n",
    "        print(j)"
   ]
  },
  {
   "cell_type": "code",
   "execution_count": 12,
   "id": "4ac06f71-f9b8-4024-a151-b6d378f064c0",
   "metadata": {},
   "outputs": [
    {
     "name": "stdout",
     "output_type": "stream",
     "text": [
      "0 a\n",
      "0 b\n",
      "0 c\n",
      "1 a\n",
      "1 b\n",
      "1 c\n",
      "2 a\n",
      "2 b\n",
      "2 c\n",
      "3 a\n",
      "3 b\n",
      "3 c\n"
     ]
    }
   ],
   "source": [
    "n = 4\n",
    "for i in range(n):\n",
    "    for j in ['a', 'b', 'c']:\n",
    "        print(i, j)"
   ]
  },
  {
   "cell_type": "code",
   "execution_count": 13,
   "id": "f2c74901-0018-45f3-9518-a5cf8eff4465",
   "metadata": {},
   "outputs": [
    {
     "name": "stdout",
     "output_type": "stream",
     "text": [
      "a\n",
      "b\n"
     ]
    }
   ],
   "source": [
    "for j in ['a', 'b']:\n",
    "    print(j)"
   ]
  },
  {
   "cell_type": "code",
   "execution_count": 14,
   "id": "f2b92e2f-7638-4563-9646-e50e5d35c835",
   "metadata": {},
   "outputs": [
    {
     "name": "stdout",
     "output_type": "stream",
     "text": [
      "0 a\n",
      "0 b\n",
      "1 a\n",
      "1 b\n",
      "2 a\n",
      "2 b\n"
     ]
    }
   ],
   "source": [
    "n = 3\n",
    "for i in range(n):\n",
    "\tfor j in ['a', 'b']:\n",
    "\t\tprint(i, j)"
   ]
  },
  {
   "cell_type": "code",
   "execution_count": 15,
   "id": "e10756db-b5e1-44e8-86c5-73c3ad397c50",
   "metadata": {},
   "outputs": [
    {
     "name": "stdout",
     "output_type": "stream",
     "text": [
      "0 a\n",
      "0 b\n",
      "macha\n",
      "1 a\n",
      "1 b\n",
      "macha\n",
      "2 a\n",
      "2 b\n",
      "macha\n"
     ]
    }
   ],
   "source": [
    "n = 3\n",
    "for i in range(n):\n",
    "\tfor j in ['a', 'b']:\n",
    "\t\tprint(i, j)\n",
    "\tprint(\"macha\")"
   ]
  },
  {
   "cell_type": "code",
   "execution_count": 16,
   "id": "e0166cec-782e-4a2b-b64e-83313fb31bb7",
   "metadata": {},
   "outputs": [
    {
     "name": "stdout",
     "output_type": "stream",
     "text": [
      "0 0\n",
      "0 1\n",
      "macha\n",
      "1 0\n",
      "1 1\n",
      "macha\n",
      "2 0\n",
      "2 1\n",
      "macha\n"
     ]
    }
   ],
   "source": [
    "n = 3\n",
    "for i in range(n):\n",
    "\tfor j in range(2):\n",
    "\t\tprint(i, j)\n",
    "\tprint(\"macha\")"
   ]
  },
  {
   "cell_type": "markdown",
   "id": "a85982c5-adb0-460d-be7a-9ea6c79fb19d",
   "metadata": {},
   "source": [
    "# Solving problem using brute force approach"
   ]
  },
  {
   "cell_type": "code",
   "execution_count": 17,
   "id": "2b7ffa08-9bdb-4cf2-81f3-d532a20e8f84",
   "metadata": {},
   "outputs": [
    {
     "name": "stdout",
     "output_type": "stream",
     "text": [
      "a a\n",
      "a b\n",
      "a b\n",
      "a B\n",
      "a B\n",
      "a B\n",
      "b a\n",
      "b b\n",
      "b b\n",
      "b B\n",
      "b B\n",
      "b B\n"
     ]
    }
   ],
   "source": [
    "stones = 'abbBBB'\n",
    "jewels = 'ab'\n",
    "\n",
    "for i in jewels:\n",
    "    for j in stones:\n",
    "        print(i, j)"
   ]
  },
  {
   "cell_type": "code",
   "execution_count": 18,
   "id": "bbd0e50e-a09d-4f84-90b7-80d513bbb545",
   "metadata": {},
   "outputs": [
    {
     "name": "stdout",
     "output_type": "stream",
     "text": [
      "a a\n",
      "a b\n",
      "a c\n",
      "a d\n",
      "b a\n",
      "b b\n",
      "b c\n",
      "b d\n"
     ]
    }
   ],
   "source": [
    "stones = 'abcd'\n",
    "jewels = 'ab'\n",
    "\n",
    "for i in jewels:\n",
    "    for j in stones:\n",
    "        print(i, j)"
   ]
  },
  {
   "cell_type": "code",
   "execution_count": 19,
   "id": "ef99260d-b529-49c8-a265-e49510587c53",
   "metadata": {},
   "outputs": [
    {
     "name": "stdout",
     "output_type": "stream",
     "text": [
      "4\n"
     ]
    }
   ],
   "source": [
    "stones = 'aabbcd'\n",
    "jewels = 'ab'\n",
    "ans = 0\n",
    "\n",
    "for i in jewels:\n",
    "    for j in stones:\n",
    "        if i == j:\n",
    "            ans = ans + 1\n",
    "\n",
    "print(ans)"
   ]
  },
  {
   "cell_type": "code",
   "execution_count": 20,
   "id": "0ad4621e-119a-4ecd-9aac-1cd87c6e42eb",
   "metadata": {},
   "outputs": [
    {
     "name": "stdout",
     "output_type": "stream",
     "text": [
      "4\n"
     ]
    }
   ],
   "source": [
    "stones = 'aabbcd'\n",
    "jewels = 'ab'\n",
    "ans = 0\n",
    "\n",
    "for i in range(len(jewels)):\n",
    "    for j in range(len(stones)):\n",
    "        chi = jewels[i]\n",
    "        chj = stones[j]\n",
    "        if chi == chj:\n",
    "            ans = ans + 1\n",
    "\n",
    "print(ans)"
   ]
  },
  {
   "cell_type": "markdown",
   "id": "39b9a566-742f-456f-b75f-a8c94973770e",
   "metadata": {},
   "source": [
    "## Solving Problem on Leetcode\n",
    "```python\n",
    "class Solution:\r\n",
    "    def numJewelsInStones(self, jewels: str, stones: str) -> int:\r\n",
    "        count = 0\r\n",
    "        for stone in stones:\r\n",
    "            if stone in jewels:\r\n",
    "                count = count + 1\r\n",
    "        return count\n",
    "```"
   ]
  },
  {
   "cell_type": "markdown",
   "id": "e96a5b85-4a0b-4dc9-aedc-98e8704f3d1c",
   "metadata": {},
   "source": [
    "### Let's say we have duplicate entries in jewels then how to solve it"
   ]
  },
  {
   "cell_type": "code",
   "execution_count": 21,
   "id": "eacbf764-0436-4aa1-8d3a-4e8732a6dd52",
   "metadata": {},
   "outputs": [
    {
     "name": "stdout",
     "output_type": "stream",
     "text": [
      "4\n"
     ]
    }
   ],
   "source": [
    "stones = 'aabbcd'\n",
    "jewels = 'abba'\n",
    "ans = 0\n",
    "for i in stones:\n",
    "\tfor j in jewels:\n",
    "\t\tif i == j:\n",
    "\t\t\tans = ans + 1\n",
    "\t\t\tbreak\n",
    "print(ans)"
   ]
  },
  {
   "cell_type": "code",
   "execution_count": 22,
   "id": "12539d1f-a285-4768-9cc9-16aff2b91e03",
   "metadata": {},
   "outputs": [
    {
     "name": "stdout",
     "output_type": "stream",
     "text": [
      "4\n"
     ]
    }
   ],
   "source": [
    "stones = 'aabbcd'\n",
    "jewels = 'abba'\n",
    "ans = 0\n",
    "for i in stones:\n",
    "\tif i in jewels:\n",
    "\t\tans = ans + 1\n",
    "print(ans)"
   ]
  },
  {
   "cell_type": "code",
   "execution_count": null,
   "id": "bae82b61-ede2-488e-b2a9-8c8884ba36a2",
   "metadata": {},
   "outputs": [],
   "source": []
  }
 ],
 "metadata": {
  "kernelspec": {
   "display_name": "Python 3 (ipykernel)",
   "language": "python",
   "name": "python3"
  },
  "language_info": {
   "codemirror_mode": {
    "name": "ipython",
    "version": 3
   },
   "file_extension": ".py",
   "mimetype": "text/x-python",
   "name": "python",
   "nbconvert_exporter": "python",
   "pygments_lexer": "ipython3",
   "version": "3.11.7"
  }
 },
 "nbformat": 4,
 "nbformat_minor": 5
}
