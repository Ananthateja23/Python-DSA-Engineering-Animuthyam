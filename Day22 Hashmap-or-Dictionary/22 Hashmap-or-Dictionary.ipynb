{
 "cells": [
  {
   "cell_type": "markdown",
   "id": "c6d59a70-4d41-4363-8a28-6d38b6659ad0",
   "metadata": {},
   "source": [
    "# Understanding the Difference:\n",
    "\n",
    "- In python, We call it as `Dictionary`\n",
    "\n",
    "- In other langauges, We call it as `Hashmap`"
   ]
  },
  {
   "cell_type": "markdown",
   "id": "521f8ee4-7903-4b43-9224-ae4174d816ac",
   "metadata": {},
   "source": [
    "### Why we need to learn Hashmap???\n",
    "\n",
    "- Animuthyam degara oka array lo numbers unai ayithey, Ae number eni times undhi ani chepali animuthyam\n",
    "\n",
    "arr : [1, 5, 8, 0, 1, 8, 1, 5, 1]\n",
    "\n",
    "- 1 --> 4\n",
    "- 5 --> 2\n",
    "- 8 --> 2\n",
    "- 0 --> 1"
   ]
  },
  {
   "cell_type": "markdown",
   "id": "2815574d-d06f-4026-be2c-f55f914e4a2b",
   "metadata": {},
   "source": [
    "# Learning Hashmap from some examples"
   ]
  },
  {
   "cell_type": "code",
   "execution_count": 1,
   "id": "150345b1-a12c-465d-8bcf-e4127e66f2fd",
   "metadata": {},
   "outputs": [
    {
     "name": "stdout",
     "output_type": "stream",
     "text": [
      "{5: 3}\n"
     ]
    }
   ],
   "source": [
    "dici = {}\n",
    "dici[5] = 3\n",
    "print(dici)"
   ]
  },
  {
   "cell_type": "code",
   "execution_count": 2,
   "id": "976daa3b-fff3-45e5-b8d4-6361cfd9e269",
   "metadata": {},
   "outputs": [
    {
     "name": "stdout",
     "output_type": "stream",
     "text": [
      "{5: 3, 6: 2}\n"
     ]
    }
   ],
   "source": [
    "dici = {}\n",
    "dici[5] = 3\n",
    "dici[6] = 2\n",
    "print(dici)"
   ]
  },
  {
   "cell_type": "code",
   "execution_count": 3,
   "id": "4662cdde-3231-4d5b-ba3e-340569d69b82",
   "metadata": {},
   "outputs": [
    {
     "name": "stdout",
     "output_type": "stream",
     "text": [
      "{5: 10, 6: 2}\n"
     ]
    }
   ],
   "source": [
    "dici = {}\n",
    "dici[5] = 3\n",
    "dici[6] = 2\n",
    "dici[5] = 10\n",
    "print(dici)"
   ]
  },
  {
   "cell_type": "code",
   "execution_count": 4,
   "id": "155a244d-3be8-4234-9b88-6542cd0a872a",
   "metadata": {},
   "outputs": [
    {
     "name": "stdout",
     "output_type": "stream",
     "text": [
      "2\n"
     ]
    }
   ],
   "source": [
    "dici = {}\n",
    "dici[5] = 3\n",
    "dici[6] = 2\n",
    "dici[5] = 10\n",
    "print(dici[6]) # It give the value of 6(key)"
   ]
  },
  {
   "cell_type": "code",
   "execution_count": 5,
   "id": "aac9c4ad-3e51-4be8-b5cb-ae8467ccaba0",
   "metadata": {},
   "outputs": [
    {
     "name": "stdout",
     "output_type": "stream",
     "text": [
      "2\n"
     ]
    }
   ],
   "source": [
    "dici = {}\n",
    "dici[5] = 3\n",
    "dici[6] = 2\n",
    "dici[5] = 10\n",
    "val6 = dici[6]\n",
    "print(val6)"
   ]
  },
  {
   "cell_type": "code",
   "execution_count": 7,
   "id": "b626efab-1f9a-4da3-86aa-b5d9ee8cb219",
   "metadata": {},
   "outputs": [
    {
     "name": "stdout",
     "output_type": "stream",
     "text": [
      "{5: 4, 6: 2}\n"
     ]
    }
   ],
   "source": [
    "dici = {}\n",
    "dici[5] = 3\n",
    "dici[6] = 2\n",
    "dici[5] = dici[5] + 1\n",
    "print(dici)"
   ]
  },
  {
   "cell_type": "code",
   "execution_count": 8,
   "id": "80d0d4fa-3156-4b93-a7c6-282fb637614c",
   "metadata": {},
   "outputs": [
    {
     "name": "stdout",
     "output_type": "stream",
     "text": [
      "{5: 5, 6: 2}\n"
     ]
    }
   ],
   "source": [
    "dici = {}\n",
    "dici[5] = 3\n",
    "dici[6] = 2\n",
    "dici[5] = dici[5] + 1\n",
    "dici[5] = dici[5] + 1\n",
    "print(dici)"
   ]
  },
  {
   "cell_type": "code",
   "execution_count": 9,
   "id": "c81682c5-0408-49c4-bf8c-f1903235c796",
   "metadata": {},
   "outputs": [
    {
     "name": "stdout",
     "output_type": "stream",
     "text": [
      "{5: 6, 6: 2}\n"
     ]
    }
   ],
   "source": [
    "dici = {}\n",
    "dici[5] = 3\n",
    "dici[6] = 2\n",
    "dici[5] = dici[5] + 1\n",
    "dici[5] = dici[5] + 1\n",
    "dici[5] = dici[5] + 1\n",
    "print(dici)"
   ]
  },
  {
   "cell_type": "code",
   "execution_count": 11,
   "id": "f0cd6450-111b-4935-b731-df319651956e",
   "metadata": {},
   "outputs": [
    {
     "name": "stdout",
     "output_type": "stream",
     "text": [
      "{5: 3, 6: 2, 7: 1}\n"
     ]
    }
   ],
   "source": [
    "dici = {}\n",
    "dici[5] = 3\n",
    "dici[6] = 2\n",
    "dici[7] = 1\n",
    "print(dici)"
   ]
  },
  {
   "cell_type": "code",
   "execution_count": 12,
   "id": "ee4b6d7a-95d6-4c7e-9979-e9b1853c9cec",
   "metadata": {},
   "outputs": [
    {
     "name": "stdout",
     "output_type": "stream",
     "text": [
      "{5: 3, 6: 2, 7: 1}\n",
      "5\n",
      "6\n",
      "7\n"
     ]
    }
   ],
   "source": [
    "dici = {}\n",
    "dici[5] = 3\n",
    "dici[6] = 2\n",
    "dici[7] = 1\n",
    "print(dici)\n",
    "\n",
    "for i in dici:\n",
    "    print(i)"
   ]
  },
  {
   "cell_type": "code",
   "execution_count": 13,
   "id": "68cddb2e-74a1-44b0-be72-0f15890fd916",
   "metadata": {},
   "outputs": [
    {
     "name": "stdout",
     "output_type": "stream",
     "text": [
      "{7: 1, 5: 3, 6: 2}\n",
      "7\n",
      "5\n",
      "6\n"
     ]
    }
   ],
   "source": [
    "dici = {}\n",
    "dici[7] = 1\n",
    "dici[5] = 3\n",
    "dici[6] = 2\n",
    "print(dici)\n",
    "\n",
    "for i in dici:\n",
    "    print(i)"
   ]
  },
  {
   "cell_type": "code",
   "execution_count": 14,
   "id": "73818fe8-5a1c-46f6-ac35-85b36e1a62c9",
   "metadata": {},
   "outputs": [
    {
     "name": "stdout",
     "output_type": "stream",
     "text": [
      "{7: 4, 5: 3, 6: 2}\n",
      "7\n",
      "5\n",
      "6\n"
     ]
    }
   ],
   "source": [
    "dici = {}\n",
    "dici[7] = 1\n",
    "dici[5] = 3\n",
    "dici[6] = 2\n",
    "dici[7] = 4\n",
    "print(dici)\n",
    "\n",
    "for i in dici:\n",
    "    print(i)"
   ]
  },
  {
   "cell_type": "code",
   "execution_count": 15,
   "id": "9f213901-7351-456a-8c43-129b4e1f7b47",
   "metadata": {},
   "outputs": [
    {
     "name": "stdout",
     "output_type": "stream",
     "text": [
      "{7: 4, 5: 3, 6: 2}\n",
      "4\n",
      "3\n",
      "2\n"
     ]
    }
   ],
   "source": [
    "dici = {}\n",
    "dici[7] = 1\n",
    "dici[5] = 3\n",
    "dici[6] = 2\n",
    "dici[7] = 4\n",
    "print(dici)\n",
    "\n",
    "for i in dici:\n",
    "    print(dici[i])"
   ]
  },
  {
   "cell_type": "code",
   "execution_count": 16,
   "id": "1e87c0ef-174b-4cac-b67d-9af2c70fdc62",
   "metadata": {},
   "outputs": [
    {
     "name": "stdout",
     "output_type": "stream",
     "text": [
      "{7: 4, 5: 3, 6: 2}\n",
      "Yes\n"
     ]
    }
   ],
   "source": [
    "dici = {}\n",
    "dici[7] = 1\n",
    "dici[5] = 3\n",
    "dici[6] = 2\n",
    "dici[7] = 4\n",
    "print(dici)\n",
    "\n",
    "if 6 in dici:\n",
    "    print(\"Yes\")"
   ]
  },
  {
   "cell_type": "code",
   "execution_count": 17,
   "id": "48c5ece1-279a-43b8-a5b2-c669f6b44a57",
   "metadata": {},
   "outputs": [
    {
     "name": "stdout",
     "output_type": "stream",
     "text": [
      "{7: 4, 5: 3, 6: 2}\n",
      "Yes\n"
     ]
    }
   ],
   "source": [
    "dici = {}\n",
    "dici[7] = 1\n",
    "dici[5] = 3\n",
    "dici[6] = 2\n",
    "dici[7] = 4\n",
    "print(dici)\n",
    "\n",
    "if 6 in dici:\n",
    "    print(\"Yes\")\n",
    "else:\n",
    "    print(\"No\")"
   ]
  },
  {
   "cell_type": "code",
   "execution_count": 18,
   "id": "acf5ed9c-3afe-4b08-b33b-f9d1315d49dd",
   "metadata": {},
   "outputs": [
    {
     "name": "stdout",
     "output_type": "stream",
     "text": [
      "{7: 4, 5: 3, 6: 2}\n",
      "No\n"
     ]
    }
   ],
   "source": [
    "dici = {}\n",
    "dici[7] = 1\n",
    "dici[5] = 3\n",
    "dici[6] = 2\n",
    "dici[7] = 4\n",
    "print(dici)\n",
    "\n",
    "if 3 in dici:\n",
    "    print(\"Yes\")\n",
    "else:\n",
    "    print(\"No\")"
   ]
  },
  {
   "cell_type": "markdown",
   "id": "9d095304-9df8-445e-8870-44aaf81d502b",
   "metadata": {},
   "source": [
    "# Solving the animuthyam problem"
   ]
  },
  {
   "cell_type": "code",
   "execution_count": 19,
   "id": "f25a6cd6-6b7f-4f6d-b37b-108541e9d2b3",
   "metadata": {},
   "outputs": [
    {
     "name": "stdout",
     "output_type": "stream",
     "text": [
      "1\n",
      "5\n",
      "8\n",
      "0\n",
      "1\n",
      "8\n",
      "1\n",
      "5\n",
      "1\n"
     ]
    }
   ],
   "source": [
    "arr = [1, 5, 8, 0, 1, 8, 1, 5, 1]\n",
    "dici = {}\n",
    "n = len(arr)\n",
    "for i in range(n):\n",
    "    key = arr[i]\n",
    "    print(key)"
   ]
  },
  {
   "cell_type": "code",
   "execution_count": 20,
   "id": "f9f21c99-27a4-4edb-b35d-1c439259a59e",
   "metadata": {},
   "outputs": [
    {
     "name": "stdout",
     "output_type": "stream",
     "text": [
      "{1: 4, 5: 2, 8: 2, 0: 1}\n"
     ]
    }
   ],
   "source": [
    "arr = [1, 5, 8, 0, 1, 8, 1, 5, 1]\n",
    "dici = {}\n",
    "n = len(arr)\n",
    "for i in range(n):\n",
    "    key = arr[i]\n",
    "    if key not in dici:\n",
    "        dici[key] = 1\n",
    "    else:\n",
    "        temp = dici[key]\n",
    "        dici[key] = temp + 1\n",
    "print(dici)"
   ]
  },
  {
   "cell_type": "code",
   "execution_count": 21,
   "id": "3c4df8b3-0acc-49e8-bcfa-6789a4cf570b",
   "metadata": {},
   "outputs": [
    {
     "name": "stdout",
     "output_type": "stream",
     "text": [
      "{1: 4, 5: 2, 8: 2, 0: 1}\n"
     ]
    }
   ],
   "source": [
    "arr = [1, 5, 8, 0, 1, 8, 1, 5, 1]\n",
    "dici = {}\n",
    "n = len(arr)\n",
    "for i in range(n):\n",
    "    key = arr[i]\n",
    "    if key not in dici:\n",
    "        dici[key] = 1\n",
    "    else: \n",
    "        dici[key] = dici[key] + 1\n",
    "print(dici)"
   ]
  },
  {
   "cell_type": "markdown",
   "id": "6b112b56-f40b-4adb-862c-50bdd1fa1df1",
   "metadata": {},
   "source": [
    "```python\n",
    "# calculate the frequency count without using array indexing\n",
    "\n",
    "arr = [1, 5, 8, 0, 1, 8, 1, 5, 1]\n",
    "dici = {}\n",
    "for key in arr:\n",
    "    if key not in dici:\n",
    "        dici[key] = 1\n",
    "    else: \n",
    "        dici[key] = dici[key] + 1\n",
    "print(dici)\n",
    "```"
   ]
  },
  {
   "cell_type": "markdown",
   "id": "30d8637c-94b0-4a27-9903-385c05930c92",
   "metadata": {},
   "source": [
    "# Understanding the time complexity of Membership Operators"
   ]
  },
  {
   "cell_type": "code",
   "execution_count": 22,
   "id": "5fe9c156-fce0-445a-adf0-a1de7622081e",
   "metadata": {},
   "outputs": [
    {
     "name": "stdout",
     "output_type": "stream",
     "text": [
      "Yes\n"
     ]
    }
   ],
   "source": [
    "li = [3, 4, 5, 6]\n",
    "\n",
    "if 4 in li:\n",
    "    print(\"Yes\")"
   ]
  },
  {
   "cell_type": "code",
   "execution_count": 23,
   "id": "f7792c20-1478-469c-a68d-c3ccc6d102cc",
   "metadata": {},
   "outputs": [
    {
     "name": "stdout",
     "output_type": "stream",
     "text": [
      "Yes\n"
     ]
    }
   ],
   "source": [
    "dici = {3: 1, 4: 1, 5: 8, 6: 0}\n",
    "\n",
    "if 4 in dici:\n",
    "    print(\"Yes\")"
   ]
  },
  {
   "cell_type": "markdown",
   "id": "c3fb49d4-6ea7-4e90-8f96-18a7d322a731",
   "metadata": {},
   "source": [
    "```\n",
    "Time Complexity:\n",
    "\n",
    "(1) dictionary: in, not in ==> O(1)\n",
    "\n",
    "(2) list      : in, not in ==> O(n)\n",
    "```"
   ]
  },
  {
   "cell_type": "code",
   "execution_count": null,
   "id": "44ae642c-f4b0-490d-b608-8a186ac6ab03",
   "metadata": {},
   "outputs": [],
   "source": []
  }
 ],
 "metadata": {
  "kernelspec": {
   "display_name": "Python 3 (ipykernel)",
   "language": "python",
   "name": "python3"
  },
  "language_info": {
   "codemirror_mode": {
    "name": "ipython",
    "version": 3
   },
   "file_extension": ".py",
   "mimetype": "text/x-python",
   "name": "python",
   "nbconvert_exporter": "python",
   "pygments_lexer": "ipython3",
   "version": "3.11.7"
  }
 },
 "nbformat": 4,
 "nbformat_minor": 5
}
