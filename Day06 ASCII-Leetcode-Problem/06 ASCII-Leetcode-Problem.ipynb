{
 "cells": [
  {
   "cell_type": "markdown",
   "id": "669e08ba-9dad-4af4-8497-11be79a2c330",
   "metadata": {},
   "source": [
    "# Solving a Leetcode problem Number: 01\n",
    "\n",
    "- Click on the Leetcode Problem link and start solving the problem\n",
    "- [Leetcode-Problem](https://leetcode.com/problems/score-of-a-string/description/)\n",
    "\n",
    "\n",
    "## Understanding the terms before solving the problem\n",
    "\n",
    "### (1) Adjacent\n",
    "### (2) Absolute difference\n",
    "### (3) ASCII Values"
   ]
  },
  {
   "cell_type": "markdown",
   "id": "5f788211-505f-49be-810d-737b6184184e",
   "metadata": {},
   "source": [
    "## To Understand the ASCII Values\n",
    "\n",
    "- It is a numerical representation of characters\n",
    "Ex: a = 97, z = 122, A = 65, Z = 90"
   ]
  },
  {
   "cell_type": "code",
   "execution_count": 1,
   "id": "71c2a66d-c36f-4fb1-ab60-60afbeb7cb3e",
   "metadata": {},
   "outputs": [
    {
     "name": "stdout",
     "output_type": "stream",
     "text": [
      "a\n",
      "97\n"
     ]
    }
   ],
   "source": [
    "macha = 'a'\n",
    "print(macha)\n",
    "print(ord(macha))"
   ]
  },
  {
   "cell_type": "code",
   "execution_count": 2,
   "id": "359dbe39-8d1c-4104-806a-f6a09bb13f03",
   "metadata": {},
   "outputs": [
    {
     "name": "stdout",
     "output_type": "stream",
     "text": [
      "d\n",
      "100\n"
     ]
    }
   ],
   "source": [
    "macha = 'd'\n",
    "print(macha)\n",
    "print(ord(macha))"
   ]
  },
  {
   "cell_type": "code",
   "execution_count": 3,
   "id": "e7032c51-6425-4346-9666-02fbd779092a",
   "metadata": {},
   "outputs": [
    {
     "name": "stdout",
     "output_type": "stream",
     "text": [
      "A\n",
      "65\n"
     ]
    }
   ],
   "source": [
    "macha = 'A'\n",
    "print(macha)\n",
    "print(ord(macha))"
   ]
  },
  {
   "cell_type": "markdown",
   "id": "bea7704b-b991-401a-9322-69b707c460db",
   "metadata": {},
   "source": [
    "## To Understand the absolute difference"
   ]
  },
  {
   "cell_type": "code",
   "execution_count": 4,
   "id": "32e66a29-d91e-42ee-aee1-aff434ba3a8f",
   "metadata": {},
   "outputs": [
    {
     "name": "stdout",
     "output_type": "stream",
     "text": [
      "1\n"
     ]
    }
   ],
   "source": [
    "dif = 5 - 4\n",
    "print(dif)"
   ]
  },
  {
   "cell_type": "code",
   "execution_count": 5,
   "id": "5a75271c-1d11-40de-a7f6-a683c0bea168",
   "metadata": {},
   "outputs": [
    {
     "name": "stdout",
     "output_type": "stream",
     "text": [
      "-2\n"
     ]
    }
   ],
   "source": [
    "dif = 5 - 7\n",
    "print(dif)"
   ]
  },
  {
   "cell_type": "code",
   "execution_count": 6,
   "id": "7c0865f7-ae2b-4535-b397-03fed127bd8e",
   "metadata": {},
   "outputs": [
    {
     "name": "stdout",
     "output_type": "stream",
     "text": [
      "2\n"
     ]
    }
   ],
   "source": [
    "dif = 5 - 7\n",
    "\n",
    "if dif < 0:\n",
    "    dif = dif * -1\n",
    "print(dif)"
   ]
  },
  {
   "cell_type": "code",
   "execution_count": 7,
   "id": "a05479ff-0e08-4185-9ac2-e5dd7ce5bbbc",
   "metadata": {},
   "outputs": [
    {
     "name": "stdout",
     "output_type": "stream",
     "text": [
      "5\n"
     ]
    }
   ],
   "source": [
    "dif = 5 - 10\n",
    "\n",
    "if dif < 0:\n",
    "    dif = dif * -1\n",
    "print(dif)"
   ]
  },
  {
   "cell_type": "code",
   "execution_count": 8,
   "id": "d7fedb3f-1170-4be9-8a1a-bdbf12a233b6",
   "metadata": {},
   "outputs": [
    {
     "name": "stdout",
     "output_type": "stream",
     "text": [
      "5\n"
     ]
    }
   ],
   "source": [
    "dif = 5 - 10\n",
    "dif = abs(dif)\n",
    "print(dif)"
   ]
  },
  {
   "cell_type": "code",
   "execution_count": 9,
   "id": "040144ac-2347-4150-b44d-6db2bf1175ea",
   "metadata": {},
   "outputs": [
    {
     "name": "stdout",
     "output_type": "stream",
     "text": [
      "5\n"
     ]
    }
   ],
   "source": [
    "dif = 5 - 10\n",
    "print(abs(dif))"
   ]
  },
  {
   "cell_type": "markdown",
   "id": "1309f298-f998-4a4e-ae39-39461b492699",
   "metadata": {},
   "source": [
    "## Understanding the sum of an array"
   ]
  },
  {
   "cell_type": "code",
   "execution_count": 10,
   "id": "23078a57-6792-44eb-a20f-b1b0e5c87488",
   "metadata": {},
   "outputs": [
    {
     "name": "stdout",
     "output_type": "stream",
     "text": [
      "23\n"
     ]
    }
   ],
   "source": [
    "li = [1, 5, 8, 9]\n",
    "\n",
    "ans = 0\n",
    "for i in li:\n",
    "    ans = ans + i\n",
    "    \n",
    "print(ans)"
   ]
  },
  {
   "cell_type": "markdown",
   "id": "8ddc3978-1f09-4c9b-88cd-8affcf950458",
   "metadata": {},
   "source": [
    "## To understand the indices of characters"
   ]
  },
  {
   "cell_type": "code",
   "execution_count": 11,
   "id": "f122db33-7494-40d8-8332-0293a3c46912",
   "metadata": {},
   "outputs": [
    {
     "name": "stdout",
     "output_type": "stream",
     "text": [
      "0 1\n",
      "1 2\n",
      "2 3\n",
      "3 4\n"
     ]
    }
   ],
   "source": [
    "s = \"abcd\"\n",
    "\n",
    "for i in range(len(s)):\n",
    "    print(i, i+1)"
   ]
  },
  {
   "cell_type": "code",
   "execution_count": 12,
   "id": "9f8bcfbf-b870-43ca-98cb-68374f00f2e3",
   "metadata": {},
   "outputs": [
    {
     "name": "stdout",
     "output_type": "stream",
     "text": [
      "0 1\n",
      "1 2\n",
      "2 3\n"
     ]
    }
   ],
   "source": [
    "s = \"abcd\"\n",
    "\n",
    "for i in range(len(s)-1):\n",
    "    print(i, i+1)"
   ]
  },
  {
   "cell_type": "code",
   "execution_count": 13,
   "id": "00ea8fa9-b462-4b45-9cd4-af585d18dd9e",
   "metadata": {},
   "outputs": [
    {
     "name": "stdout",
     "output_type": "stream",
     "text": [
      "0 1\n",
      "a b\n",
      "1 2\n",
      "b c\n",
      "2 3\n",
      "c d\n"
     ]
    }
   ],
   "source": [
    "s = \"abcd\"\n",
    "\n",
    "for i in range(len(s)-1):\n",
    "    print(i, i+1)\n",
    "    print(s[i], s[i+1])"
   ]
  },
  {
   "cell_type": "markdown",
   "id": "1861b06a-032e-40bb-9cb7-f42612935181",
   "metadata": {},
   "source": [
    "## Solving the problem using brute force approach"
   ]
  },
  {
   "cell_type": "code",
   "execution_count": 18,
   "id": "81b33fec-f0c6-4996-85d3-64b8aed3e793",
   "metadata": {},
   "outputs": [
    {
     "name": "stdout",
     "output_type": "stream",
     "text": [
      "1\n",
      "1\n",
      "1\n"
     ]
    }
   ],
   "source": [
    "s = \"abcd\"\n",
    "\n",
    "for i in range(len(s)-1):\n",
    "    a = ord(s[i])\n",
    "    b = ord(s[i+1])\n",
    "    temp = abs(a - b)\n",
    "    print(temp)"
   ]
  },
  {
   "cell_type": "code",
   "execution_count": 16,
   "id": "30ece00a-0fa3-4d7f-9204-0dc374849313",
   "metadata": {},
   "outputs": [
    {
     "name": "stdout",
     "output_type": "stream",
     "text": [
      "1\n",
      "2\n"
     ]
    }
   ],
   "source": [
    "s = \"abd\"\n",
    "\n",
    "for i in range(len(s)-1):\n",
    "    a = ord(s[i])\n",
    "    b = ord(s[i+1])\n",
    "    temp = abs(a - b)\n",
    "    print(temp)"
   ]
  },
  {
   "cell_type": "code",
   "execution_count": 17,
   "id": "4161e22a-0919-479d-b27b-7218e527b7b3",
   "metadata": {},
   "outputs": [
    {
     "name": "stdout",
     "output_type": "stream",
     "text": [
      "3\n"
     ]
    }
   ],
   "source": [
    "s = \"abd\"\n",
    "\n",
    "ans = 0\n",
    "for i in range(len(s)-1):\n",
    "    a = ord(s[i])\n",
    "    b = ord(s[i+1])\n",
    "    temp = abs(a - b)\n",
    "    ans = ans + temp\n",
    "\n",
    "print(ans)"
   ]
  },
  {
   "cell_type": "markdown",
   "id": "282ae554-7b97-4c08-84ee-02e4dc4c6926",
   "metadata": {},
   "source": [
    "# Solving Leetcode problem\n",
    "### ALT + SHIFT : To move multiple lines content to right at a time\n",
    "### CTRL + '    : To run the code\n",
    "### CTRL + ENTER: To submit the code"
   ]
  },
  {
   "cell_type": "markdown",
   "id": "2b86a31e-7163-4a2f-a677-6fbe906e5352",
   "metadata": {},
   "source": [
    "```python\n",
    "class Solution:\n",
    "    def scoreOfString(self, s: str) -> int:\n",
    "        ans = 0\n",
    "        for i in range(len(s)-1):\n",
    "            a = ord(s[i])\n",
    "            b = ord(s[i+1])\n",
    "            temp = abs(a - b)\n",
    "            ans = ans + temp\n",
    "        return ans\n",
    "```"
   ]
  },
  {
   "cell_type": "markdown",
   "id": "a43006ae-69e6-4128-b610-55de8a1ee1d1",
   "metadata": {},
   "source": [
    "# Optimizing the code even more\n",
    "```python\n",
    "class Solution:\n",
    "    def scoreOfString(self, s: str) -> int:\n",
    "        ans = 0\n",
    "        for i in range(len(s)-1):\n",
    "            temp = abs(ord(s[i]) - ord(s[i+1]))\n",
    "            ans = ans + temp\n",
    "        return ans\n",
    "```"
   ]
  },
  {
   "cell_type": "code",
   "execution_count": null,
   "id": "083edcc8-c23e-450b-970c-e06d41de6b86",
   "metadata": {},
   "outputs": [],
   "source": []
  }
 ],
 "metadata": {
  "kernelspec": {
   "display_name": "Python 3 (ipykernel)",
   "language": "python",
   "name": "python3"
  },
  "language_info": {
   "codemirror_mode": {
    "name": "ipython",
    "version": 3
   },
   "file_extension": ".py",
   "mimetype": "text/x-python",
   "name": "python",
   "nbconvert_exporter": "python",
   "pygments_lexer": "ipython3",
   "version": "3.11.7"
  }
 },
 "nbformat": 4,
 "nbformat_minor": 5
}
