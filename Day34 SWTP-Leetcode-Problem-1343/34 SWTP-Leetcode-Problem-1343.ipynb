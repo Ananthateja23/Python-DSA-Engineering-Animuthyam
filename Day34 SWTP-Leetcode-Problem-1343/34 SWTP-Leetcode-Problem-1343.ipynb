{
 "cells": [
  {
   "cell_type": "markdown",
   "id": "d3acfef3-f275-410d-a53d-c09406f9e96e",
   "metadata": {},
   "source": [
    "# Leetcode Problem : `1343. Number of Sub-arrays of Size K and Average Greater than or Equal to Threshold`\n",
    "- Click on the link to start solve the problem\n",
    "- [Leetcode-Problem](https://leetcode.com/problems/number-of-sub-arrays-of-size-k-and-average-greater-than-or-equal-to-threshold/description/)"
   ]
  },
  {
   "cell_type": "markdown",
   "id": "3e9cfd76-c3f1-42a8-96f6-a2d6220dfe50",
   "metadata": {},
   "source": [
    "# Method01: Bruteforce Approach"
   ]
  },
  {
   "cell_type": "code",
   "execution_count": 1,
   "id": "72bfef2e-fddf-43c3-8b83-c571cad0bdec",
   "metadata": {},
   "outputs": [
    {
     "name": "stdout",
     "output_type": "stream",
     "text": [
      "[2]\n",
      "[2, 2]\n",
      "[2, 2, 2]\n",
      "[2, 2, 2, 2]\n",
      "[2, 2, 2, 2, 5]\n",
      "[2, 2, 2, 2, 5, 5]\n",
      "[2, 2, 2, 2, 5, 5, 5]\n",
      "[2, 2, 2, 2, 5, 5, 5, 8]\n",
      "[2]\n",
      "[2, 2]\n",
      "[2, 2, 2]\n",
      "[2, 2, 2, 5]\n",
      "[2, 2, 2, 5, 5]\n",
      "[2, 2, 2, 5, 5, 5]\n",
      "[2, 2, 2, 5, 5, 5, 8]\n",
      "[2]\n",
      "[2, 2]\n",
      "[2, 2, 5]\n",
      "[2, 2, 5, 5]\n",
      "[2, 2, 5, 5, 5]\n",
      "[2, 2, 5, 5, 5, 8]\n",
      "[2]\n",
      "[2, 5]\n",
      "[2, 5, 5]\n",
      "[2, 5, 5, 5]\n",
      "[2, 5, 5, 5, 8]\n",
      "[5]\n",
      "[5, 5]\n",
      "[5, 5, 5]\n",
      "[5, 5, 5, 8]\n",
      "[5]\n",
      "[5, 5]\n",
      "[5, 5, 8]\n",
      "[5]\n",
      "[5, 8]\n",
      "[8]\n"
     ]
    }
   ],
   "source": [
    "arr = [2, 2, 2, 2, 5, 5, 5, 8]\n",
    "k = 3\n",
    "threshold = 4\n",
    "n = len(arr)\n",
    "\n",
    "for i in range(n):\n",
    "    for j in range(i, n):\n",
    "        temp = []\n",
    "        for k in range(i, j+1):\n",
    "            temp.append(arr[k])\n",
    "        print(temp)"
   ]
  },
  {
   "cell_type": "code",
   "execution_count": 4,
   "id": "9e9db955-e819-41a2-bdbf-c99a87e44093",
   "metadata": {},
   "outputs": [
    {
     "name": "stdout",
     "output_type": "stream",
     "text": [
      "[2, 2, 2]\n",
      "[2, 2, 2]\n",
      "[2, 2, 5]\n",
      "[2, 5, 5]\n",
      "[5, 5, 5]\n",
      "[5, 5, 8]\n"
     ]
    }
   ],
   "source": [
    "arr = [2, 2, 2, 2, 5, 5, 5, 8]\n",
    "k = 3\n",
    "threshold = 4\n",
    "n = len(arr)\n",
    "\n",
    "for i in range(n):\n",
    "    for j in range(i, n):\n",
    "        temp = []\n",
    "        tsum = 0\n",
    "        for m in range(i, j+1):\n",
    "            temp.append(arr[m])\n",
    "            tsum += arr[m]\n",
    "        if len(temp) == k:\n",
    "            print(temp)"
   ]
  },
  {
   "cell_type": "code",
   "execution_count": 14,
   "id": "dffb83f5-5ed6-4e39-9655-c451d054b231",
   "metadata": {},
   "outputs": [
    {
     "name": "stdout",
     "output_type": "stream",
     "text": [
      "[2, 5, 5]\n",
      "[5, 5, 5]\n",
      "[5, 5, 8]\n"
     ]
    }
   ],
   "source": [
    "arr = [2, 2, 2, 2, 5, 5, 5, 8]\n",
    "k = 3\n",
    "threshold = 4\n",
    "n = len(arr)\n",
    "\n",
    "for i in range(n):\n",
    "    for j in range(i, n):\n",
    "        temp = []\n",
    "        tsum = 0\n",
    "        for m in range(i, j+1):\n",
    "            temp.append(arr[m])\n",
    "            tsum += arr[m]\n",
    "        if len(temp) == k:\n",
    "            avg = tsum / k\n",
    "            if avg >= threshold:\n",
    "                print(temp)"
   ]
  },
  {
   "cell_type": "code",
   "execution_count": 13,
   "id": "ff47e956-c524-4b58-945f-d43748a0c888",
   "metadata": {},
   "outputs": [
    {
     "name": "stdout",
     "output_type": "stream",
     "text": [
      "3\n"
     ]
    }
   ],
   "source": [
    "arr = [2, 2, 2, 2, 5, 5, 5, 8]\n",
    "k = 3\n",
    "threshold = 4\n",
    "n = len(arr)\n",
    "ans = 0\n",
    "for i in range(n):\n",
    "    for j in range(i, n):\n",
    "        temp = []\n",
    "        tsum = 0\n",
    "        for m in range(i, j+1):\n",
    "            temp.append(arr[m])\n",
    "            tsum += arr[m]\n",
    "        if len(temp) == k:\n",
    "            avg = tsum / k\n",
    "            if avg >= threshold:\n",
    "                ans += 1\n",
    "print(ans)"
   ]
  },
  {
   "cell_type": "markdown",
   "id": "dfc845d3-541a-449d-8f82-6b26931ba432",
   "metadata": {},
   "source": [
    "**Time Complexity is O(n^3)**"
   ]
  },
  {
   "cell_type": "markdown",
   "id": "2d88e64e-d2dc-4634-912e-dc829381564f",
   "metadata": {},
   "source": [
    "```python\n",
    "class Solution:\n",
    "    def numOfSubarrays(self, arr: List[int], k: int, threshold: int) -> int:\n",
    "        # Method01: Brute force appraoch\n",
    "        n = len(arr)\n",
    "        ans = 0\n",
    "        for i in range(n):\n",
    "            for j in range(i, n):\n",
    "                temp = []\n",
    "                tsum = 0\n",
    "                for m in range(i, j+1):\n",
    "                    temp.append(arr[m])\n",
    "                    tsum += arr[m]\n",
    "                if len(temp) == k:\n",
    "                    avg = tsum / k\n",
    "                    if avg >= threshold:\n",
    "                        ans += 1\n",
    "        return ans\n",
    "```"
   ]
  },
  {
   "cell_type": "markdown",
   "id": "8a6a5bb0-0c2e-40be-baee-6ba92feaaf41",
   "metadata": {},
   "source": [
    "# Method02: Sliding Window and Two Pointers Algorithm"
   ]
  },
  {
   "cell_type": "code",
   "execution_count": 7,
   "id": "5f34361d-a220-4e55-b247-696d34f72958",
   "metadata": {},
   "outputs": [
    {
     "name": "stdout",
     "output_type": "stream",
     "text": [
      "[2]\n",
      "[2, 2]\n",
      "[2, 2, 2]\n",
      "[2, 2, 2]\n",
      "[2, 2, 5]\n",
      "[2, 5, 5]\n",
      "[5, 5, 5]\n",
      "[5, 5, 8]\n"
     ]
    }
   ],
   "source": [
    "arr = [2, 2, 2, 2, 5, 5, 5, 8]\n",
    "k = 3\n",
    "threshold = 4\n",
    "n = len(arr)\n",
    "ans = 0\n",
    "l = 0\n",
    "tsum = 0\n",
    "for r in range(n):\n",
    "    tsum += arr[r]\n",
    "\n",
    "    if (r-l == k):\n",
    "        tsum -= arr[l]\n",
    "        l += 1\n",
    "    print(arr[l:r+1])"
   ]
  },
  {
   "cell_type": "code",
   "execution_count": 11,
   "id": "fbdd5c0f-a11b-4549-90d1-15168748a200",
   "metadata": {},
   "outputs": [
    {
     "name": "stdout",
     "output_type": "stream",
     "text": [
      "[2, 5, 5]\n",
      "[5, 5, 5]\n",
      "[5, 5, 8]\n"
     ]
    }
   ],
   "source": [
    "arr = [2, 2, 2, 2, 5, 5, 5, 8]\n",
    "k = 3\n",
    "threshold = 4\n",
    "n = len(arr)\n",
    "ans = 0\n",
    "l = 0\n",
    "tsum = 0\n",
    "for r in range(n):\n",
    "    tsum += arr[r]\n",
    "\n",
    "    if (r-l == k):\n",
    "        tsum -= arr[l]\n",
    "        l += 1\n",
    "    if (r-l+1 == k):\n",
    "         if (tsum/k >= threshold):\n",
    "            print(arr[l:r+1])"
   ]
  },
  {
   "cell_type": "code",
   "execution_count": 10,
   "id": "37028382-b4e7-44ae-beb2-f17be818db50",
   "metadata": {},
   "outputs": [
    {
     "name": "stdout",
     "output_type": "stream",
     "text": [
      "3\n"
     ]
    }
   ],
   "source": [
    "arr = [2, 2, 2, 2, 5, 5, 5, 8]\n",
    "k = 3\n",
    "threshold = 4\n",
    "n = len(arr)\n",
    "ans = 0\n",
    "l = 0\n",
    "tsum = 0\n",
    "for r in range(n):\n",
    "    tsum += arr[r]\n",
    "\n",
    "    if (r-l == k):\n",
    "        tsum -= arr[l]\n",
    "        l += 1\n",
    "    if (r-l+1 == k):\n",
    "         if (tsum/k >= threshold):\n",
    "            ans += 1\n",
    "print(ans)"
   ]
  },
  {
   "cell_type": "markdown",
   "id": "4fe27693-3e65-4984-bcf0-b0e8dfb4110a",
   "metadata": {},
   "source": [
    "**Time Complexity is O(n)**"
   ]
  },
  {
   "cell_type": "markdown",
   "id": "bbad7aec-bc1e-40f8-9a21-a1f6b8ff1696",
   "metadata": {},
   "source": [
    "```python\n",
    "class Solution:\n",
    "    def numOfSubarrays(self, arr: List[int], k: int, threshold: int) -> int:\n",
    "        # Method02: Sliding Window and Two Pointers Algorithm\n",
    "        n = len(arr)\n",
    "        ans = 0\n",
    "        l = 0\n",
    "        tsum = 0\n",
    "        for r in range(n):\n",
    "            tsum += arr[r]\n",
    "\n",
    "            if (r-l == k):\n",
    "                tsum -= arr[l]\n",
    "                l += 1\n",
    "\n",
    "            if (r-l+1 == k):\n",
    "                if (tsum/k >= threshold):\n",
    "                    ans += 1\n",
    "        return ans\n",
    "```"
   ]
  },
  {
   "cell_type": "code",
   "execution_count": null,
   "id": "a147efc1-fa56-42f3-a57a-f22bbe62fe9d",
   "metadata": {},
   "outputs": [],
   "source": []
  }
 ],
 "metadata": {
  "kernelspec": {
   "display_name": "Python 3 (ipykernel)",
   "language": "python",
   "name": "python3"
  },
  "language_info": {
   "codemirror_mode": {
    "name": "ipython",
    "version": 3
   },
   "file_extension": ".py",
   "mimetype": "text/x-python",
   "name": "python",
   "nbconvert_exporter": "python",
   "pygments_lexer": "ipython3",
   "version": "3.11.7"
  }
 },
 "nbformat": 4,
 "nbformat_minor": 5
}
