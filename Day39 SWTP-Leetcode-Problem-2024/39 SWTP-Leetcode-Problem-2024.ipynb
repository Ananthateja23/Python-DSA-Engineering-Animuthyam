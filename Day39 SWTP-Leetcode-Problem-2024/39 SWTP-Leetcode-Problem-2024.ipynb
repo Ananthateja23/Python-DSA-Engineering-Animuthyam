{
 "cells": [
  {
   "cell_type": "markdown",
   "id": "a52f9db4-26e6-4f41-8e00-ff9466533fe1",
   "metadata": {},
   "source": [
    "# Leetcode Problem : `2024 Maximize the confusion of an exam`\n",
    "- Click on the link to start solve the problem\n",
    "- <a href=\"https://leetcode.com/problems/maximize-the-confusion-of-an-exam/description/\">Leetcode-Problem</a>"
   ]
  },
  {
   "cell_type": "markdown",
   "id": "aa76c048-c099-4f1d-a3ab-9bf37a9174ee",
   "metadata": {},
   "source": [
    "## Before solving the above problem. Let's try to understand the Day38 Leetcode problem in different way"
   ]
  },
  {
   "cell_type": "markdown",
   "id": "e6436558-4ac7-4ba0-b7d6-614634486e1d",
   "metadata": {},
   "source": [
    "<img src=\"Images/Image01.png\" width=\"900px\">\n",
    "<img src=\"Images/Image02.png\" width=\"900px\">\n",
    "<img src=\"Images/Image03.png\" width=\"900px\">"
   ]
  },
  {
   "cell_type": "code",
   "execution_count": 1,
   "id": "15a420dd-2231-41f0-9cec-2c04a178cb10",
   "metadata": {},
   "outputs": [
    {
     "name": "stdout",
     "output_type": "stream",
     "text": [
      "6\n"
     ]
    }
   ],
   "source": [
    "nums = [1, 1, 1, 0, 0, 0, 1, 1, 1, 1, 0]\n",
    "n = len(nums)\n",
    "cnt0 = 0\n",
    "cnt1 = 0\n",
    "k = 2\n",
    "ans = 0\n",
    "l = 0\n",
    "for r in range(n):\n",
    "    if (nums[r] == 0):\n",
    "        cnt0 += 1\n",
    "    else:\n",
    "        cnt1 += 1\n",
    "\n",
    "    while (min(cnt0, cnt1) > k):\n",
    "        if (nums[l] == 0):\n",
    "            cnt0 -= 1\n",
    "        else:\n",
    "            cnt1 -= 1\n",
    "        l += 1\n",
    "    ans = max(ans, r-l+1)\n",
    "print(ans)"
   ]
  },
  {
   "cell_type": "markdown",
   "id": "bb40abbd-7816-4f86-8089-d01fa3781f2d",
   "metadata": {},
   "source": [
    "**Now, Take pen and paper try to solve the current Leetcode problem**"
   ]
  },
  {
   "cell_type": "code",
   "execution_count": 2,
   "id": "1767cf46-a3af-4f41-9d84-26b108f78259",
   "metadata": {},
   "outputs": [
    {
     "name": "stdout",
     "output_type": "stream",
     "text": [
      "4\n"
     ]
    }
   ],
   "source": [
    "answerKey = \"TTFF\"\n",
    "n = len(answerKey)\n",
    "cntTrue = 0\n",
    "cntFalse = 0\n",
    "k = 2\n",
    "ans = 0\n",
    "l = 0\n",
    "\n",
    "for r in range(n):\n",
    "    if (answerKey[r] == 'F'):\n",
    "        cntFalse += 1\n",
    "    else:\n",
    "        cntTrue += 1\n",
    "\n",
    "    while (min(cntFalse, cntTrue) > k):\n",
    "        if (answerKey[l] == 'F'):\n",
    "            cntFalse -= 1\n",
    "        else:\n",
    "            cntTrue -= 1\n",
    "        l += 1\n",
    "    ans = max(ans, r-l+1)\n",
    "    \n",
    "print(ans)"
   ]
  },
  {
   "cell_type": "markdown",
   "id": "06da53e3-9802-4a68-8a84-3b7841281480",
   "metadata": {},
   "source": [
    "```python\n",
    "class Solution:\n",
    "    def maxConsecutiveAnswers(self, answerKey: str, k: int) -> int:\n",
    "        n = len(answerKey)\n",
    "        l = 0\n",
    "        ans = 0\n",
    "        cntTrue = 0\n",
    "        cntFalse = 0\n",
    "        for r in range(n):\n",
    "            if (answerKey[r] == \"F\"):\n",
    "                cntFalse += 1\n",
    "            else:\n",
    "                cntTrue += 1\n",
    "            while (min(cntFalse, cntTrue) > k):\n",
    "                if (answerKey[l] == \"F\"):\n",
    "                    cntFalse -= 1\n",
    "                else:\n",
    "                    cntTrue -= 1\n",
    "                l += 1\n",
    "            ans = max(ans, r-l+1)\n",
    "        return ans\n",
    "```"
   ]
  },
  {
   "cell_type": "code",
   "execution_count": null,
   "id": "55202e6c-09e5-4219-b01b-3cb9d5a33b1b",
   "metadata": {},
   "outputs": [],
   "source": []
  }
 ],
 "metadata": {
  "kernelspec": {
   "display_name": "Python 3 (ipykernel)",
   "language": "python",
   "name": "python3"
  },
  "language_info": {
   "codemirror_mode": {
    "name": "ipython",
    "version": 3
   },
   "file_extension": ".py",
   "mimetype": "text/x-python",
   "name": "python",
   "nbconvert_exporter": "python",
   "pygments_lexer": "ipython3",
   "version": "3.11.7"
  }
 },
 "nbformat": 4,
 "nbformat_minor": 5
}
