{
 "cells": [
  {
   "cell_type": "markdown",
   "id": "41184118-4a0f-4ef5-b0f1-b9288e789b90",
   "metadata": {},
   "source": [
    "# Solving a Leetcode Problem number: 05\n",
    "\n",
    "- Click on the Leetcode Problem link and start solving the problem\n",
    "- [Leetcode-Problem](https://leetcode.com/problems/maximum-number-of-words-found-in-sentences/description/)"
   ]
  },
  {
   "cell_type": "markdown",
   "id": "e8ec762a-ceaf-4119-9f0c-2f96bb933623",
   "metadata": {},
   "source": [
    "# Understanding the approach to find the highest number in array"
   ]
  },
  {
   "cell_type": "code",
   "execution_count": 1,
   "id": "025b2d2c-88d7-49e0-9a10-6edc0074f253",
   "metadata": {},
   "outputs": [
    {
     "name": "stdout",
     "output_type": "stream",
     "text": [
      "6\n",
      "8\n",
      "5\n",
      "10\n",
      "2\n"
     ]
    }
   ],
   "source": [
    "li = [6, 8, 5, 10, 2]\n",
    "\n",
    "for i in range(len(li)):\n",
    "    print(li[i])"
   ]
  },
  {
   "cell_type": "code",
   "execution_count": 2,
   "id": "02737872-f3ed-49e3-a020-2e37485fe56d",
   "metadata": {},
   "outputs": [
    {
     "name": "stdout",
     "output_type": "stream",
     "text": [
      "6\n",
      "8\n",
      "5\n",
      "10\n",
      "2\n"
     ]
    }
   ],
   "source": [
    "li = [6, 8, 5, 10, 2]\n",
    "\n",
    "for i in range(len(li)):\n",
    "    val = li[i]\n",
    "    print(val)"
   ]
  },
  {
   "cell_type": "code",
   "execution_count": 5,
   "id": "45a3ee45-0d6a-4c17-b3eb-0c7ec9ac6322",
   "metadata": {},
   "outputs": [
    {
     "name": "stdout",
     "output_type": "stream",
     "text": [
      "10\n"
     ]
    }
   ],
   "source": [
    "li = [6, 8, 5, 10, 2]\n",
    "ans = 0\n",
    "for i in range(len(li)):\n",
    "    val = li[i]\n",
    "    if val > ans:\n",
    "        ans = val\n",
    "print(ans)"
   ]
  },
  {
   "cell_type": "code",
   "execution_count": 6,
   "id": "e79aea35-92c0-4755-8263-75bb846fda71",
   "metadata": {},
   "outputs": [
    {
     "name": "stdout",
     "output_type": "stream",
     "text": [
      "80\n"
     ]
    }
   ],
   "source": [
    "li = [6, 80, 5, 10, 2]\n",
    "ans = 0\n",
    "for i in range(len(li)):\n",
    "    val = li[i]\n",
    "    if val > ans:\n",
    "        ans = val\n",
    "print(ans)"
   ]
  },
  {
   "cell_type": "markdown",
   "id": "2d7a7504-05e4-406b-af4b-71480168d12c",
   "metadata": {},
   "source": [
    "```\n",
    "DRY run:\n",
    "\n",
    "--> It means take any one test case and given as input to the code and understand the code execution\n",
    "```"
   ]
  },
  {
   "cell_type": "markdown",
   "id": "a64dab44-c767-4447-ad0f-2dc26fdc64a3",
   "metadata": {},
   "source": [
    "# Optimizing code little more"
   ]
  },
  {
   "cell_type": "code",
   "execution_count": 7,
   "id": "f02dd511-66c2-45aa-af4b-3ed4b7f35df4",
   "metadata": {},
   "outputs": [
    {
     "name": "stdout",
     "output_type": "stream",
     "text": [
      "80\n"
     ]
    }
   ],
   "source": [
    "li = [6, 80, 5, 10, 2]\n",
    "ans = 0\n",
    "for i in range(len(li)):\n",
    "    val = li[i]\n",
    "    ans = max(ans, val)\n",
    "print(ans)"
   ]
  },
  {
   "cell_type": "code",
   "execution_count": 8,
   "id": "2b243d1f-a69f-4b7c-8cdf-b4765a58d14f",
   "metadata": {},
   "outputs": [
    {
     "name": "stdout",
     "output_type": "stream",
     "text": [
      "8\n",
      "17\n"
     ]
    }
   ],
   "source": [
    "print(max(5, 8))\n",
    "print(max(5, 8, 17))"
   ]
  },
  {
   "cell_type": "code",
   "execution_count": 9,
   "id": "fe82d858-d874-4189-b3dd-655aa88d257d",
   "metadata": {},
   "outputs": [
    {
     "name": "stdout",
     "output_type": "stream",
     "text": [
      "5\n",
      "5\n"
     ]
    }
   ],
   "source": [
    "print(min(5, 8))\n",
    "print(min(5, 8, 17))"
   ]
  },
  {
   "cell_type": "markdown",
   "id": "a5ad1001-a23a-4da0-842e-d776a125eb5e",
   "metadata": {},
   "source": [
    "# Understanding the double for loop"
   ]
  },
  {
   "cell_type": "code",
   "execution_count": 10,
   "id": "eb64b943-01a9-4852-83b9-4e31eb56b283",
   "metadata": {},
   "outputs": [
    {
     "name": "stdout",
     "output_type": "stream",
     "text": [
      "0\n",
      "1\n",
      "2\n",
      "3\n",
      "4\n"
     ]
    }
   ],
   "source": [
    "for i in range(5):\n",
    "    print(i)"
   ]
  },
  {
   "cell_type": "code",
   "execution_count": 11,
   "id": "4bebcaf0-924c-432c-aaf0-5d0a67e06c6b",
   "metadata": {},
   "outputs": [
    {
     "name": "stdout",
     "output_type": "stream",
     "text": [
      "0 outside loop\n",
      "1 outside loop\n",
      "2 outside loop\n",
      "3 outside loop\n",
      "4 outside loop\n"
     ]
    }
   ],
   "source": [
    "for i in range(5):\n",
    "    print(i, \"outside loop\")"
   ]
  },
  {
   "cell_type": "code",
   "execution_count": 12,
   "id": "121b14de-1867-4832-ba06-72890d453175",
   "metadata": {},
   "outputs": [
    {
     "name": "stdout",
     "output_type": "stream",
     "text": [
      "0 outside loop\n",
      "lopala\n",
      "1 outside loop\n",
      "lopala\n",
      "2 outside loop\n",
      "lopala\n"
     ]
    }
   ],
   "source": [
    "for i in range(3):\n",
    "    print(i, \"outside loop\")\n",
    "    print(\"lopala\")"
   ]
  },
  {
   "cell_type": "code",
   "execution_count": 13,
   "id": "c4a6d9c2-b966-4d3f-b26e-9577e84260fc",
   "metadata": {},
   "outputs": [
    {
     "name": "stdout",
     "output_type": "stream",
     "text": [
      "Inside loop\n",
      "Inside loop\n"
     ]
    }
   ],
   "source": [
    "for j in range(2):\n",
    "    print(\"Inside loop\")"
   ]
  },
  {
   "cell_type": "code",
   "execution_count": 14,
   "id": "7a538f2b-6412-496f-acda-faeba2498168",
   "metadata": {},
   "outputs": [
    {
     "name": "stdout",
     "output_type": "stream",
     "text": [
      "0 outside loop\n",
      "Inside loop\n",
      "Inside loop\n",
      "1 outside loop\n",
      "Inside loop\n",
      "Inside loop\n",
      "2 outside loop\n",
      "Inside loop\n",
      "Inside loop\n"
     ]
    }
   ],
   "source": [
    "for i in range(3):\n",
    "    print(i, \"outside loop\")\n",
    "    for j in range(2):\n",
    "        print(\"Inside loop\")"
   ]
  },
  {
   "cell_type": "code",
   "execution_count": 15,
   "id": "8b9f3733-ff64-42db-89db-82f36c455538",
   "metadata": {},
   "outputs": [
    {
     "name": "stdout",
     "output_type": "stream",
     "text": [
      "0 outside loop\n",
      "Inside loop 0\n",
      "Inside loop 1\n",
      "1 outside loop\n",
      "Inside loop 0\n",
      "Inside loop 1\n",
      "2 outside loop\n",
      "Inside loop 0\n",
      "Inside loop 1\n"
     ]
    }
   ],
   "source": [
    "for i in range(3):\n",
    "    print(i, \"outside loop\")\n",
    "    for j in range(2):\n",
    "        print(\"Inside loop\", j)"
   ]
  },
  {
   "cell_type": "code",
   "execution_count": 16,
   "id": "726bc273-4c2d-4bc7-91a1-0f60b4d14ce7",
   "metadata": {},
   "outputs": [
    {
     "name": "stdout",
     "output_type": "stream",
     "text": [
      "0 outside loop\n",
      "Inside loop 0\n",
      "Inside loop 1\n",
      "0 outside exiting\n",
      "1 outside loop\n",
      "Inside loop 0\n",
      "Inside loop 1\n",
      "1 outside exiting\n",
      "2 outside loop\n",
      "Inside loop 0\n",
      "Inside loop 1\n",
      "2 outside exiting\n"
     ]
    }
   ],
   "source": [
    "for i in range(3):\n",
    "    print(i, \"outside loop\")\n",
    "    for j in range(2):\n",
    "        print(\"Inside loop\", j)\n",
    "    print(i, \"outside exiting\")"
   ]
  },
  {
   "cell_type": "markdown",
   "id": "26b58803-dca7-482e-9ed6-9740151c8b19",
   "metadata": {},
   "source": [
    "# Understanding how to find the number of words in a sentence"
   ]
  },
  {
   "cell_type": "code",
   "execution_count": 17,
   "id": "b5b2a7a4-72e8-4d2a-bb9f-a4fe8ee5cc24",
   "metadata": {},
   "outputs": [
    {
     "name": "stdout",
     "output_type": "stream",
     "text": [
      "17\n",
      "0\n",
      "1\n",
      "2\n",
      "3\n",
      "4\n",
      "5\n",
      "6\n",
      "7\n",
      "8\n",
      "9\n",
      "10\n",
      "11\n",
      "12\n",
      "13\n",
      "14\n",
      "15\n",
      "16\n"
     ]
    }
   ],
   "source": [
    "s = \"one problem a day\"\n",
    "print(len(s))\n",
    "for i in range(len(s)):\n",
    "    print(i)"
   ]
  },
  {
   "cell_type": "code",
   "execution_count": 19,
   "id": "ffc43852-0dad-462a-8ecc-a4e7721a0ed6",
   "metadata": {},
   "outputs": [
    {
     "name": "stdout",
     "output_type": "stream",
     "text": [
      "17\n",
      "o\n",
      "n\n",
      "e\n",
      " \n",
      "p\n",
      "r\n",
      "o\n",
      "b\n",
      "l\n",
      "e\n",
      "m\n",
      " \n",
      "a\n",
      " \n",
      "d\n",
      "a\n",
      "y\n"
     ]
    }
   ],
   "source": [
    "s = \"one problem a day\"\n",
    "print(len(s))\n",
    "for i in range(len(s)):\n",
    "    print(s[i])"
   ]
  },
  {
   "cell_type": "code",
   "execution_count": 18,
   "id": "012db8ea-4b8f-4ad1-96e7-f5fb53c1f90d",
   "metadata": {},
   "outputs": [
    {
     "name": "stdout",
     "output_type": "stream",
     "text": [
      "17\n",
      "o\n",
      "n\n",
      "e\n",
      " \n",
      "p\n",
      "r\n",
      "o\n",
      "b\n",
      "l\n",
      "e\n",
      "m\n",
      " \n",
      "a\n",
      " \n",
      "d\n",
      "a\n",
      "y\n"
     ]
    }
   ],
   "source": [
    "s = \"one problem a day\"\n",
    "print(len(s))\n",
    "for i in range(len(s)):\n",
    "    ch = s[i]\n",
    "    print(ch)"
   ]
  },
  {
   "cell_type": "code",
   "execution_count": 20,
   "id": "631cd749-0557-43a6-9619-091d1509149d",
   "metadata": {},
   "outputs": [
    {
     "name": "stdout",
     "output_type": "stream",
     "text": [
      "3\n"
     ]
    }
   ],
   "source": [
    "s = \"one problem a day\"\n",
    "temp = 0\n",
    "for i in range(len(s)):\n",
    "    ch = s[i]\n",
    "    if ch == \" \":\n",
    "        temp = temp + 1\n",
    "print(temp)"
   ]
  },
  {
   "cell_type": "code",
   "execution_count": 21,
   "id": "424485f4-1526-490c-ad7d-740f6fd95ece",
   "metadata": {},
   "outputs": [
    {
     "name": "stdout",
     "output_type": "stream",
     "text": [
      "4\n"
     ]
    }
   ],
   "source": [
    "s = \"one problem a day\"\n",
    "temp = 1\n",
    "for i in range(len(s)):\n",
    "    ch = s[i]\n",
    "    if ch == \" \":\n",
    "        temp = temp + 1\n",
    "print(temp)"
   ]
  },
  {
   "cell_type": "markdown",
   "id": "d17073a3-46bc-439b-aee8-c344b8582c5a",
   "metadata": {},
   "source": [
    "# Understanding how to find the maximum number of words in a list of sentences"
   ]
  },
  {
   "cell_type": "code",
   "execution_count": 23,
   "id": "294b8c66-8ee1-472f-acdb-6340895a6f32",
   "metadata": {},
   "outputs": [
    {
     "name": "stdout",
     "output_type": "stream",
     "text": [
      "hello good day\n",
      "bad\n",
      "great work\n"
     ]
    }
   ],
   "source": [
    "li = [\"hello good day\", \"bad\", \"great work\"]\n",
    "for j in range(len(li)):\n",
    "    print(li[j])"
   ]
  },
  {
   "cell_type": "code",
   "execution_count": 24,
   "id": "8bd217fa-944d-4f84-8a6b-2569d29382d4",
   "metadata": {},
   "outputs": [
    {
     "name": "stdout",
     "output_type": "stream",
     "text": [
      "hello good day\n",
      "bad\n",
      "great work\n"
     ]
    }
   ],
   "source": [
    "li = [\"hello good day\", \"bad\", \"great work\"]\n",
    "for j in range(len(li)):\n",
    "    s = li[j]\n",
    "    print(s)"
   ]
  },
  {
   "cell_type": "code",
   "execution_count": 26,
   "id": "cc4f0935-3f31-4c6c-ba83-57f50dc8337b",
   "metadata": {},
   "outputs": [
    {
     "name": "stdout",
     "output_type": "stream",
     "text": [
      "3\n",
      "1\n",
      "2\n"
     ]
    }
   ],
   "source": [
    "li = [\"hello good day\", \"bad\", \"great work\"]\n",
    "for j in range(len(li)):\n",
    "    s = li[j]\n",
    "    temp = 1\n",
    "    for i in range(len(s)):\n",
    "        ch = s[i]\n",
    "        if ch == \" \":\n",
    "            temp = temp + 1\n",
    "    print(temp)"
   ]
  },
  {
   "cell_type": "code",
   "execution_count": 27,
   "id": "7f996eeb-f654-4c16-ae28-f9cad4d203bc",
   "metadata": {},
   "outputs": [
    {
     "name": "stdout",
     "output_type": "stream",
     "text": [
      "3\n"
     ]
    }
   ],
   "source": [
    "li = [\"hello good day\", \"bad\", \"great work\"]\n",
    "ans = 0\n",
    "for j in range(len(li)):\n",
    "    s = li[j]\n",
    "    temp = 1\n",
    "    for i in range(len(s)):\n",
    "        ch = s[i]\n",
    "        if ch == \" \":\n",
    "            temp = temp + 1\n",
    "    ans = max(ans, temp)\n",
    "print(ans)"
   ]
  },
  {
   "cell_type": "code",
   "execution_count": 28,
   "id": "3bae48c6-3829-4fa2-8aa7-e2ea245e5fa7",
   "metadata": {},
   "outputs": [
    {
     "name": "stdout",
     "output_type": "stream",
     "text": [
      "3\n"
     ]
    }
   ],
   "source": [
    "li = [\"hello good day\", \"bad\", \"great work\"]\n",
    "ans = 0\n",
    "for s in range(len(li)):\n",
    "    temp = 1\n",
    "    for ch in range(len(li[s])):\n",
    "        if li[s][ch] == \" \":\n",
    "            temp = temp + 1\n",
    "    ans = max(ans, temp)\n",
    "print(ans)"
   ]
  },
  {
   "cell_type": "code",
   "execution_count": 29,
   "id": "aebf5de8-59ba-4e2f-886c-e29409e33a6f",
   "metadata": {},
   "outputs": [
    {
     "name": "stdout",
     "output_type": "stream",
     "text": [
      "3\n"
     ]
    }
   ],
   "source": [
    "li = [\"hello good day\", \"bad\", \"great work\"]\n",
    "ans = 0\n",
    "for s in li:\n",
    "    temp = 1\n",
    "    for ch in s:\n",
    "        if ch == \" \":\n",
    "            temp = temp + 1\n",
    "    ans = max(ans, temp)\n",
    "print(ans)"
   ]
  },
  {
   "cell_type": "markdown",
   "id": "4d1d9ebf-33bc-4f0d-b026-69d0b744d088",
   "metadata": {},
   "source": [
    "# Solving Leetcode problem\n",
    "```python\n",
    "class Solution:\n",
    "    def mostWordsFound(self, sentences: List[str]) -> int:\n",
    "        ans = 0\n",
    "        for j in range(len(sentences)):\n",
    "            s = sentences[j]\n",
    "            temp = 1\n",
    "            for i in range(len(s)):\n",
    "                ch = s[i]\n",
    "                if ch == \" \":\n",
    "                    temp = temp + 1\n",
    "            ans = max(ans, temp)\n",
    "        return ans\n",
    "```"
   ]
  },
  {
   "cell_type": "code",
   "execution_count": null,
   "id": "720e10f5-7102-4ae2-bd99-431a7d69dd54",
   "metadata": {},
   "outputs": [],
   "source": []
  }
 ],
 "metadata": {
  "kernelspec": {
   "display_name": "Python 3 (ipykernel)",
   "language": "python",
   "name": "python3"
  },
  "language_info": {
   "codemirror_mode": {
    "name": "ipython",
    "version": 3
   },
   "file_extension": ".py",
   "mimetype": "text/x-python",
   "name": "python",
   "nbconvert_exporter": "python",
   "pygments_lexer": "ipython3",
   "version": "3.11.7"
  }
 },
 "nbformat": 4,
 "nbformat_minor": 5
}
