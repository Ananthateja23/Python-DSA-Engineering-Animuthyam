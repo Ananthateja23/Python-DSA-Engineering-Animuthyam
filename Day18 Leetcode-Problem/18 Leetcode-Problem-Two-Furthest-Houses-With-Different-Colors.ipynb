{
 "cells": [
  {
   "cell_type": "markdown",
   "id": "12c51bde-495d-49f6-9c98-9e45aff11a6f",
   "metadata": {},
   "source": [
    "# Leetcode Problem : Two Furthest Houses With Different Colors\n",
    "\n",
    "- Click on the link to start solving the Leetcode Problem\n",
    "- [Leetcode-Problem](https://leetcode.com/problems/two-furthest-houses-with-different-colors/description/)"
   ]
  },
  {
   "cell_type": "markdown",
   "id": "b3d6ab8e-178e-4bb6-a1f1-432470fdc24d",
   "metadata": {},
   "source": [
    "# Understanding the problem to solve it in brute force approach"
   ]
  },
  {
   "cell_type": "code",
   "execution_count": 1,
   "id": "c07b4b38-2932-42a0-b5f1-e213f813b14a",
   "metadata": {},
   "outputs": [
    {
     "name": "stdout",
     "output_type": "stream",
     "text": [
      "0 1\n",
      "0 2\n",
      "0 3\n",
      "0 4\n",
      "1 2\n",
      "1 3\n",
      "1 4\n",
      "2 3\n",
      "2 4\n",
      "3 4\n"
     ]
    }
   ],
   "source": [
    "colors = [1,8,3,8,3]\n",
    "distance = 0\n",
    "n = len(colors)\n",
    "for i in range(n-1):\n",
    "    for j in range(i+1, n):\n",
    "        print(i, j)"
   ]
  },
  {
   "cell_type": "code",
   "execution_count": 2,
   "id": "fbc4fb25-a02f-418d-a930-2601ff7efb0e",
   "metadata": {},
   "outputs": [
    {
     "name": "stdout",
     "output_type": "stream",
     "text": [
      "1 8\n",
      "1 3\n",
      "1 8\n",
      "1 3\n",
      "8 3\n",
      "8 8\n",
      "8 3\n",
      "3 8\n",
      "3 3\n",
      "8 3\n"
     ]
    }
   ],
   "source": [
    "colors = [1,8,3,8,3]\n",
    "distance = 0\n",
    "n = len(colors)\n",
    "for i in range(n-1):\n",
    "    for j in range(i+1, n):\n",
    "        print(colors[i],  colors[j])"
   ]
  },
  {
   "cell_type": "code",
   "execution_count": 4,
   "id": "38e61821-08d0-49c4-8db4-916c9e89843b",
   "metadata": {},
   "outputs": [
    {
     "name": "stdout",
     "output_type": "stream",
     "text": [
      "1 8\n",
      "1 3\n",
      "1 8\n",
      "1 3\n",
      "8 3\n",
      "8 3\n",
      "3 8\n",
      "8 3\n"
     ]
    }
   ],
   "source": [
    "colors = [1,8,3,8,3]\n",
    "distance = 0\n",
    "n = len(colors)\n",
    "for i in range(n-1):\n",
    "    for j in range(i+1, n):\n",
    "    \tif colors[i] != colors[j]:\n",
    "        \tprint(colors[i],  colors[j])"
   ]
  },
  {
   "cell_type": "code",
   "execution_count": 7,
   "id": "0d9a86a9-e0d8-4539-9097-06af59b629fd",
   "metadata": {},
   "outputs": [
    {
     "name": "stdout",
     "output_type": "stream",
     "text": [
      "1\n",
      "2\n",
      "3\n",
      "4\n",
      "1\n",
      "3\n",
      "1\n",
      "1\n"
     ]
    }
   ],
   "source": [
    "colors = [1,8,3,8,3]\n",
    "distance = 0\n",
    "n = len(colors)\n",
    "for i in range(n-1):\n",
    "    for j in range(i+1, n):\n",
    "    \tif colors[i] != colors[j]:\n",
    "     \t\tprint(j-i)"
   ]
  },
  {
   "cell_type": "code",
   "execution_count": 9,
   "id": "ea7f3575-e8a0-475b-b18d-ab929bd6646b",
   "metadata": {},
   "outputs": [
    {
     "name": "stdout",
     "output_type": "stream",
     "text": [
      "4\n"
     ]
    }
   ],
   "source": [
    "colors = [1,8,3,8,3]\n",
    "ans = 0\n",
    "n = len(colors)\n",
    "for i in range(n-1):\n",
    "    for j in range(i+1, n):\n",
    "    \tif colors[i] != colors[j]:\n",
    "            temp = j-i\n",
    "            ans = max(ans, temp)\n",
    "print(ans)"
   ]
  },
  {
   "cell_type": "markdown",
   "id": "42c2d119-80e7-401b-b913-0e4a235add3d",
   "metadata": {},
   "source": [
    "# Solved with a brute force approach\n",
    "```python\n",
    "class Solution:\n",
    "    def maxDistance(self, colors: List[int]) -> int:\n",
    "        distance = 0\n",
    "        n = len(colors)\n",
    "        for i in range(n-1):\n",
    "            for j in range(i+1, n):\n",
    "                if colors[i] != colors[j]:\n",
    "                    temp = abs(i-j)\n",
    "                    distance = max(distance, temp)\n",
    "        return distance\n",
    "```"
   ]
  },
  {
   "cell_type": "markdown",
   "id": "1afc5fa7-5d39-44eb-9fa8-9a098e3e1b52",
   "metadata": {},
   "source": [
    "# Trying to solve with a single for loops\n",
    "- To do this, we have to create sample test cases for ourselves and write output for them, then understand the problem.\n",
    "```\n",
    "Sample test cases:\n",
    "\n",
    "(1) [1, 4, 1] ==> (0, 1) and (1, 2)\n",
    "\n",
    "(2) [1, 1, 3, 2] ==> (0, 3) \n",
    "\n",
    "(3) [4, 1, 3, 4, 5, 4] ==> (0, 4) and (1, 5)\n",
    "\n",
    "(4) [3, 4, 3, 4] ==> (0, 3)\n",
    "```\n",
    "- From the test cases, we can notice that either the starting index or the ending index positions are there in each test case\n",
    "- So, we should take the help of either the starting index or the ending index and solve the problem\n",
    "- Let's say we consider the starting index position, then we have to iterate the loop from last to first, and break the loop whenever we find it\n",
    "- example: [3, 3, 3, 2, 3]\n",
    "- Let's say we consider the ending index position, then we have to iterate the loop from first to last, and break the loop whenever we find it\n",
    "- example: [3, 2, 3, 3, 3]"
   ]
  },
  {
   "cell_type": "markdown",
   "id": "afa5a601-1d4b-4c10-a093-d4466fc7fb6c",
   "metadata": {},
   "source": [
    "# Solve with optimized approach\n",
    "```python\n",
    "class Solution:\n",
    "    def maxDistance(self, colors: List[int]) -> int:\n",
    "        total_dist = 0\n",
    "        n = len(colors)\n",
    "        for i in range(n-1, -1, -1):\n",
    "            if colors[i] != colors[0]:\n",
    "                house_dist = i\n",
    "                total_dist = max(total_dist, house_dist)\n",
    "                break\n",
    "        for i in range(n):\n",
    "            if colors[i] != colors[n-1]:\n",
    "                house_dist = n-1-i\n",
    "                total_dist = max(total_dist, house_dist)\n",
    "                break\n",
    "        return total_dist\n",
    "        # distance = 0\n",
    "        # n = len(colors)\n",
    "        # for i in range(n-1):\n",
    "        #     for j in range(i+1, n):\n",
    "        #         if colors[i] != colors[j]:\n",
    "        #             temp = abs(i-j)\n",
    "        #             distance = max(distance, temp)\n",
    "        # return distance\n",
    "```"
   ]
  },
  {
   "cell_type": "code",
   "execution_count": null,
   "id": "7eb13b4e-9b81-4c74-ae81-cc1997ad6bd6",
   "metadata": {},
   "outputs": [],
   "source": []
  }
 ],
 "metadata": {
  "kernelspec": {
   "display_name": "Python 3 (ipykernel)",
   "language": "python",
   "name": "python3"
  },
  "language_info": {
   "codemirror_mode": {
    "name": "ipython",
    "version": 3
   },
   "file_extension": ".py",
   "mimetype": "text/x-python",
   "name": "python",
   "nbconvert_exporter": "python",
   "pygments_lexer": "ipython3",
   "version": "3.11.7"
  }
 },
 "nbformat": 4,
 "nbformat_minor": 5
}
