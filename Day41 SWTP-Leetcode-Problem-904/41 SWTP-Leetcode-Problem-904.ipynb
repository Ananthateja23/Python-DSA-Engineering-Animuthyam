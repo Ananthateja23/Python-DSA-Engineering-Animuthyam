{
 "cells": [
  {
   "cell_type": "markdown",
   "id": "1e696481-190c-4d07-83e5-fe673b116528",
   "metadata": {},
   "source": [
    "# Leetcode Problem: `904 Fruit into Baskets`\n",
    "- Click on the link to start solve the problem\n",
    "- <a href=\"https://leetcode.com/problems/fruit-into-baskets/description/\">Leetcode-Problem</a>"
   ]
  },
  {
   "cell_type": "code",
   "execution_count": 3,
   "id": "4f6820af-85ac-4949-b519-ccb45a0ce17b",
   "metadata": {},
   "outputs": [
    {
     "name": "stdout",
     "output_type": "stream",
     "text": [
      "4\n"
     ]
    }
   ],
   "source": [
    "fruits = [1,2,3,2,2]\n",
    "ans = 0\n",
    "l = 0\n",
    "dici = {}\n",
    "k = 2\n",
    "for r in range(len(fruits)):\n",
    "    val = fruits[r]\n",
    "    if val not in dici:\n",
    "        dici[val] = 1\n",
    "    else:\n",
    "        dici[val] += 1\n",
    "    while len(dici) > k:\n",
    "        lval = fruits[l]\n",
    "        dici[lval] -= 1\n",
    "        if dici[lval] == 0:\n",
    "            dici.pop(lval)\n",
    "        l += 1\n",
    "    ans = max(ans, r-l+1)\n",
    "print(ans)        "
   ]
  },
  {
   "cell_type": "markdown",
   "id": "fa5f4ec1-19c5-4e42-aaf0-13c24d628f6c",
   "metadata": {},
   "source": [
    "```python\n",
    "class Solution:\n",
    "    def totalFruit(self, fruits: List[int]) -> int:\n",
    "        ans = 0\n",
    "        l = 0\n",
    "        dici = {}\n",
    "        k = 2\n",
    "        for r in range(len(fruits)):\n",
    "            val = fruits[r]\n",
    "            if val not in dici:\n",
    "                dici[val] = 1\n",
    "            else:\n",
    "                dici[val] += 1\n",
    "\n",
    "            while len(dici) > k:\n",
    "                lval = fruits[l]\n",
    "                dici[lval] -= 1\n",
    "                if dici[lval] == 0:\n",
    "                    dici.pop(lval)\n",
    "                l += 1\n",
    "            ans = max(ans, r-l+1)\n",
    "            \n",
    "        return ans\n",
    "```"
   ]
  },
  {
   "cell_type": "code",
   "execution_count": null,
   "id": "357eee5b-d383-4fc2-90c5-e9b57859309e",
   "metadata": {},
   "outputs": [],
   "source": []
  }
 ],
 "metadata": {
  "kernelspec": {
   "display_name": "Python 3 (ipykernel)",
   "language": "python",
   "name": "python3"
  },
  "language_info": {
   "codemirror_mode": {
    "name": "ipython",
    "version": 3
   },
   "file_extension": ".py",
   "mimetype": "text/x-python",
   "name": "python",
   "nbconvert_exporter": "python",
   "pygments_lexer": "ipython3",
   "version": "3.11.7"
  }
 },
 "nbformat": 4,
 "nbformat_minor": 5
}
