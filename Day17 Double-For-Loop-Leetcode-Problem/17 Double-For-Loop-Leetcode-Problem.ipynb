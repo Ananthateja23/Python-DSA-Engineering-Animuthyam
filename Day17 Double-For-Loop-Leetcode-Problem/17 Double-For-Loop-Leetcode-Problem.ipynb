{
 "cells": [
  {
   "cell_type": "markdown",
   "id": "221c818a-521c-444f-ab13-e510bf544dd1",
   "metadata": {},
   "source": [
    "# Leetcode Problem: Maximum Difference Between Increasing Elements\n",
    "\n",
    "- Click on the link to start solving the problem\n",
    "- [Leetcode-Problem](https://leetcode.com/problems/maximum-difference-between-increasing-elements/description/)"
   ]
  },
  {
   "cell_type": "markdown",
   "id": "50111de0-074f-4359-893c-79c95547ff08",
   "metadata": {},
   "source": [
    "# Solving the problem in the Optimized approach"
   ]
  },
  {
   "cell_type": "code",
   "execution_count": 1,
   "id": "f702ef7a-a630-45f4-ba2b-847fc7579c4d",
   "metadata": {},
   "outputs": [
    {
     "name": "stdout",
     "output_type": "stream",
     "text": [
      "-1\n"
     ]
    }
   ],
   "source": [
    "nums = [3, 2, 1]\n",
    "n = len(nums)\n",
    "ans = -1\n",
    "low = nums[0]\n",
    "\n",
    "for i in range(1, n):\n",
    "\tif low < nums[i]:\n",
    "\t\tdiff = nums[i] - low\n",
    "\t\tans = max(ans, diff)\n",
    "\tlow = min(low, nums[i])\n",
    "print(ans)"
   ]
  },
  {
   "cell_type": "code",
   "execution_count": 2,
   "id": "7d32278d-f1ff-4df1-8001-ee0a2192fddf",
   "metadata": {},
   "outputs": [
    {
     "name": "stdout",
     "output_type": "stream",
     "text": [
      "8\n"
     ]
    }
   ],
   "source": [
    "nums = [3, 2, 10]\n",
    "n = len(nums)\n",
    "ans = -1\n",
    "low = nums[0]\n",
    "\n",
    "for i in range(1, n):\n",
    "\tif low < nums[i]:\n",
    "\t\tdiff = nums[i] - low\n",
    "\t\tans = max(ans, diff)\n",
    "\tlow = min(low, nums[i])\n",
    "print(ans)"
   ]
  },
  {
   "cell_type": "markdown",
   "id": "8a6bd58a-5fed-4ae5-bff8-8847bbd5b9d3",
   "metadata": {},
   "source": [
    "```\n",
    "What is a DRY run?\n",
    "\n",
    "==> explaining the flow of execution of a program with an example test case\n",
    "```"
   ]
  },
  {
   "cell_type": "markdown",
   "id": "a10562e8-0d77-4ed3-9c2d-8ae95e664084",
   "metadata": {},
   "source": [
    "# Leetcode Problem\n",
    "```python\n",
    "class Solution:\n",
    "    def maximumDifference(self, nums: List[int]) -> int:\n",
    "        ans = -1\n",
    "        n = len(nums)\n",
    "        mini = nums[0]\n",
    "        for i in range(1, n):\n",
    "            if mini < nums[i]:\n",
    "                diff = nums[i] - mini\n",
    "                ans = max(ans, diff)\n",
    "            mini = min(mini, nums[i])\n",
    "        return ans\n",
    "```"
   ]
  },
  {
   "cell_type": "markdown",
   "id": "e550a6a1-655e-473f-8077-d0705e094670",
   "metadata": {},
   "source": [
    "# Leetcode Tricks"
   ]
  },
  {
   "cell_type": "code",
   "execution_count": 3,
   "id": "d4faed16-82a5-47e9-a81e-c12a2b4ea413",
   "metadata": {},
   "outputs": [
    {
     "name": "stdout",
     "output_type": "stream",
     "text": [
      "[4, 5, 7, 8]\n"
     ]
    }
   ],
   "source": [
    "li = [4, 5, 7, 8]\n",
    "print(li)"
   ]
  },
  {
   "cell_type": "code",
   "execution_count": 4,
   "id": "b6f79412-c69c-44ea-be2e-f6a0bf5e4058",
   "metadata": {},
   "outputs": [
    {
     "name": "stdout",
     "output_type": "stream",
     "text": [
      "4 5 7 8\n"
     ]
    }
   ],
   "source": [
    "print(*li)"
   ]
  },
  {
   "cell_type": "code",
   "execution_count": 5,
   "id": "71a1ae60-b52c-459a-a00b-d99a78537a87",
   "metadata": {},
   "outputs": [
    {
     "name": "stdout",
     "output_type": "stream",
     "text": [
      "[0, 1, 2, 3, 4]\n"
     ]
    }
   ],
   "source": [
    "n = 5\n",
    "li = []\n",
    "for i in range(n):\n",
    "\tli.append(i)\n",
    "print(li)"
   ]
  },
  {
   "cell_type": "code",
   "execution_count": 6,
   "id": "e455988d-cdde-44f8-9aaf-bb7dc2494123",
   "metadata": {},
   "outputs": [
    {
     "name": "stdout",
     "output_type": "stream",
     "text": [
      "[0, 1, 2, 3, 4]\n"
     ]
    }
   ],
   "source": [
    "n = 5\n",
    "li = [i for i in range(n)]\n",
    "print(li)"
   ]
  },
  {
   "cell_type": "code",
   "execution_count": 7,
   "id": "c14799d3-1604-4fa1-a070-ca03416995f0",
   "metadata": {},
   "outputs": [
    {
     "name": "stdout",
     "output_type": "stream",
     "text": [
      "['Teja', 'Teja', 'Teja', 'Teja', 'Teja']\n"
     ]
    }
   ],
   "source": [
    "n = 5\n",
    "li = []\n",
    "for i in range(n):\n",
    "\tli.append(\"Teja\")\n",
    "print(li)"
   ]
  },
  {
   "cell_type": "code",
   "execution_count": 8,
   "id": "46907e53-49da-4ce8-81fe-b2d1e0f84126",
   "metadata": {},
   "outputs": [
    {
     "name": "stdout",
     "output_type": "stream",
     "text": [
      "['Teja', 'Teja', 'Teja', 'Teja', 'Teja']\n"
     ]
    }
   ],
   "source": [
    "n = 5\n",
    "li = [\"Teja\" for i in range(n)]\n",
    "print(li)"
   ]
  },
  {
   "cell_type": "code",
   "execution_count": 9,
   "id": "839ee4eb-be29-4a41-8007-9bc347258542",
   "metadata": {},
   "outputs": [
    {
     "name": "stdout",
     "output_type": "stream",
     "text": [
      "[1, 2, 3, 4, 5]\n"
     ]
    }
   ],
   "source": [
    "n = 5\n",
    "li = []\n",
    "for i in range(n):\n",
    "\tli.append(i+1)\n",
    "print(li)"
   ]
  },
  {
   "cell_type": "code",
   "execution_count": 10,
   "id": "c56ceb18-7f8f-4800-ac2e-82d1f2da8861",
   "metadata": {},
   "outputs": [
    {
     "name": "stdout",
     "output_type": "stream",
     "text": [
      "[1, 2, 3, 4, 5]\n"
     ]
    }
   ],
   "source": [
    "n = 5\n",
    "li = [i+1 for i in range(n)]\n",
    "print(li)"
   ]
  },
  {
   "cell_type": "code",
   "execution_count": 11,
   "id": "f53e53e2-cb32-4c1c-b1e7-56a2b2c51a8e",
   "metadata": {},
   "outputs": [
    {
     "name": "stdout",
     "output_type": "stream",
     "text": [
      "[0, 2, 4, 6, 8]\n"
     ]
    }
   ],
   "source": [
    "n = 5\n",
    "li = []\n",
    "for i in range(n):\n",
    "\tli.append(i*2)\n",
    "print(li)"
   ]
  },
  {
   "cell_type": "code",
   "execution_count": 12,
   "id": "34510319-23ac-4c17-9387-56a4aa1487d0",
   "metadata": {},
   "outputs": [
    {
     "name": "stdout",
     "output_type": "stream",
     "text": [
      "[0, 2, 4, 6, 8]\n"
     ]
    }
   ],
   "source": [
    "n = 5\n",
    "li = [i*2 for i in range(n)]\n",
    "print(li)"
   ]
  },
  {
   "cell_type": "code",
   "execution_count": 13,
   "id": "87a62f6d-cbd6-4540-a7a3-5b89139f53f0",
   "metadata": {},
   "outputs": [
    {
     "name": "stdout",
     "output_type": "stream",
     "text": [
      "[0, 2, 4, 6, 8]\n"
     ]
    }
   ],
   "source": [
    "li = [i*2 for i in range(5)]\n",
    "print(li)"
   ]
  },
  {
   "cell_type": "code",
   "execution_count": 14,
   "id": "9d1d1693-1233-4f5e-b2f4-ace28dd97d38",
   "metadata": {},
   "outputs": [
    {
     "name": "stdout",
     "output_type": "stream",
     "text": [
      "[0, 2, 4, 6, 8]\n"
     ]
    }
   ],
   "source": [
    "print([i*2 for i in range(5)])"
   ]
  },
  {
   "cell_type": "code",
   "execution_count": 15,
   "id": "c177bc69-688f-40e0-bd79-a45f7012c23b",
   "metadata": {},
   "outputs": [
    {
     "name": "stdout",
     "output_type": "stream",
     "text": [
      "0 2 4 6 8\n"
     ]
    }
   ],
   "source": [
    "print(*[i*2 for i in range(5)])"
   ]
  },
  {
   "cell_type": "code",
   "execution_count": 16,
   "id": "bd3796b4-8fdf-4ab7-9c30-5869e7ffb8d1",
   "metadata": {},
   "outputs": [
    {
     "name": "stdout",
     "output_type": "stream",
     "text": [
      "0hai  2hai  4hai  6hai  8hai \n"
     ]
    }
   ],
   "source": [
    "print(*[str(i*2)+\"hai \" for i in range(5)])"
   ]
  },
  {
   "cell_type": "code",
   "execution_count": 17,
   "id": "b246d6b4-d4db-4897-9189-ef63d1523eeb",
   "metadata": {},
   "outputs": [
    {
     "name": "stdout",
     "output_type": "stream",
     "text": [
      "[1, 4, 3]\n"
     ]
    }
   ],
   "source": [
    "li = [3, 4, 1]\n",
    "print(li[::-1])"
   ]
  },
  {
   "cell_type": "code",
   "execution_count": null,
   "id": "3f03c966-184e-4e45-85b6-8f3e70b82c9f",
   "metadata": {},
   "outputs": [],
   "source": []
  }
 ],
 "metadata": {
  "kernelspec": {
   "display_name": "Python 3 (ipykernel)",
   "language": "python",
   "name": "python3"
  },
  "language_info": {
   "codemirror_mode": {
    "name": "ipython",
    "version": 3
   },
   "file_extension": ".py",
   "mimetype": "text/x-python",
   "name": "python",
   "nbconvert_exporter": "python",
   "pygments_lexer": "ipython3",
   "version": "3.11.7"
  }
 },
 "nbformat": 4,
 "nbformat_minor": 5
}
