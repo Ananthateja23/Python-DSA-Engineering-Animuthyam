{
 "cells": [
  {
   "cell_type": "markdown",
   "id": "8d8736fb-8693-4571-9589-a2ded037c46b",
   "metadata": {},
   "source": [
    "# Leetcode Problem : Decode the Message\n",
    "- Click on the link to start solving the problem\n",
    "- [Leetcode-Problem](https://leetcode.com/problems/decode-the-message/)"
   ]
  },
  {
   "cell_type": "markdown",
   "id": "08a42e28-8961-46da-8586-c940d9ab44e2",
   "metadata": {},
   "source": [
    "# Understanding the problem and exploring the approaches to solve it"
   ]
  },
  {
   "cell_type": "code",
   "execution_count": 1,
   "id": "d5c44e05-2f04-4bc3-8aae-7d52fd798087",
   "metadata": {},
   "outputs": [
    {
     "name": "stdout",
     "output_type": "stream",
     "text": [
      "{'t': 1, 'h': 2, 'e': 3, 'q': 4, 'u': 5, 'i': 6, 'c': 7, 'k': 8, 'b': 9, 'r': 10, 'o': 11, 'w': 12, 'n': 13, 'f': 14, 'x': 15, 'j': 16, 'm': 17, 'p': 18, 's': 19, 'v': 20, 'l': 21, 'a': 22, 'z': 23, 'y': 24, 'd': 25, 'g': 26}\n"
     ]
    }
   ],
   "source": [
    "key = \"the quick brown fox jumps over the lazy dog\"\n",
    "message = \"vkbs bs t suepuv\"\n",
    "dici = {}\n",
    "temp = 1\n",
    "for i in key:\n",
    "    if i not in dici and i!=' ':\n",
    "        dici[i] = temp\n",
    "        temp += 1\n",
    "print(dici)"
   ]
  },
  {
   "cell_type": "code",
   "execution_count": 2,
   "id": "76907021-838a-4673-a1e6-924b02eed07f",
   "metadata": {},
   "outputs": [
    {
     "name": "stdout",
     "output_type": "stream",
     "text": [
      "{'t': 97, 'h': 98, 'e': 99, 'q': 100, 'u': 101, 'i': 102, 'c': 103, 'k': 104, 'b': 105, 'r': 106, 'o': 107, 'w': 108, 'n': 109, 'f': 110, 'x': 111, 'j': 112, 'm': 113, 'p': 114, 's': 115, 'v': 116, 'l': 117, 'a': 118, 'z': 119, 'y': 120, 'd': 121, 'g': 122}\n"
     ]
    }
   ],
   "source": [
    "key = \"the quick brown fox jumps over the lazy dog\"\n",
    "message = \"vkbs bs t suepuv\"\n",
    "dici = {}\n",
    "temp = 97\n",
    "for i in key:\n",
    "    if i not in dici and i!=' ':\n",
    "        dici[i] = temp\n",
    "        temp += 1\n",
    "print(dici)"
   ]
  },
  {
   "cell_type": "code",
   "execution_count": 3,
   "id": "2b722731-e9f0-4e1e-b272-f53f1f3795d4",
   "metadata": {},
   "outputs": [
    {
     "name": "stdout",
     "output_type": "stream",
     "text": [
      "{'t': 'a', 'h': 'b', 'e': 'c', 'q': 'd', 'u': 'e', 'i': 'f', 'c': 'g', 'k': 'h', 'b': 'i', 'r': 'j', 'o': 'k', 'w': 'l', 'n': 'm', 'f': 'n', 'x': 'o', 'j': 'p', 'm': 'q', 'p': 'r', 's': 's', 'v': 't', 'l': 'u', 'a': 'v', 'z': 'w', 'y': 'x', 'd': 'y', 'g': 'z'}\n"
     ]
    }
   ],
   "source": [
    "key = \"the quick brown fox jumps over the lazy dog\"\n",
    "message = \"vkbs bs t suepuv\"\n",
    "dici = {}\n",
    "temp = 97\n",
    "for i in key:\n",
    "    if i not in dici and i!=' ':\n",
    "        dici[i] = chr(temp)\n",
    "        temp += 1\n",
    "print(dici)"
   ]
  },
  {
   "cell_type": "code",
   "execution_count": null,
   "id": "b1450242-df36-4ffd-9e27-d84b5a4cfc42",
   "metadata": {},
   "outputs": [
    {
     "name": "stdout",
     "output_type": "stream",
     "text": [
      "this is a secret\n"
     ]
    }
   ],
   "source": [
    "key = \"the quick brown fox jumps over the lazy dog\"\n",
    "message = \"vkbs bs t suepuv\"\n",
    "dici = {}\n",
    "temp = 97\n",
    "for i in key:\n",
    "    if i not in dici and i!=' ':\n",
    "        dici[i] = chr(temp)\n",
    "        temp += 1\n",
    "# print(dici)\n",
    "ans = \"\"\n",
    "for ch in message:\n",
    "    # if ch in dici:\n",
    "    #     ans += dici[ch]\n",
    "    # else:\n",
    "    #     ans += ch\n",
    "    if ch == \" \":\n",
    "        ans += ch\n",
    "    else:\n",
    "        ans += dici[ch]\n",
    "print(ans)"
   ]
  },
  {
   "cell_type": "markdown",
   "id": "7b92469e-db0c-4050-abfc-74cc0cd59060",
   "metadata": {},
   "source": [
    "# Leetcode Problem: Decode the Message\n",
    "```python\n",
    "class Solution:\n",
    "    def decodeMessage(self, key: str, message: str) -> str:\n",
    "        dici = {}\n",
    "        temp = 97\n",
    "        for k in key:\n",
    "            if ((k not in dici) and (k != \" \")):\n",
    "                dici[k] = chr(temp)\n",
    "                temp += 1\n",
    "        ans = \"\"\n",
    "        for char in message:\n",
    "            # if char in dici:\n",
    "            #     ans += dici[char]\n",
    "            # else:\n",
    "            #     ans += char\n",
    "            if ch == \" \":\n",
    "                ans += ch\n",
    "            else:\n",
    "                ans += dici[ch]\n",
    "        return ans\n",
    "```"
   ]
  },
  {
   "cell_type": "code",
   "execution_count": null,
   "id": "2f89158d-3a79-482d-9085-7e934b7bfd1c",
   "metadata": {},
   "outputs": [],
   "source": []
  }
 ],
 "metadata": {
  "kernelspec": {
   "display_name": "Python 3 (ipykernel)",
   "language": "python",
   "name": "python3"
  },
  "language_info": {
   "codemirror_mode": {
    "name": "ipython",
    "version": 3
   },
   "file_extension": ".py",
   "mimetype": "text/x-python",
   "name": "python",
   "nbconvert_exporter": "python",
   "pygments_lexer": "ipython3",
   "version": "3.11.7"
  }
 },
 "nbformat": 4,
 "nbformat_minor": 5
}
