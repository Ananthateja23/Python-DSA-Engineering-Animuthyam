{
 "cells": [
  {
   "cell_type": "markdown",
   "id": "01a0a1d9-a55d-4164-9cfb-7525edb7d2e9",
   "metadata": {},
   "source": [
    "# Leetcode Problem : Replace Elements with Greatest Element on Right Side\n",
    "\n",
    "- Click on the link to start solving the problem\n",
    "- [Leetcode-Problem](https://leetcode.com/problems/replace-elements-with-greatest-element-on-right-side/description/)"
   ]
  },
  {
   "cell_type": "markdown",
   "id": "97506905-d2cf-4d02-932b-af2820620917",
   "metadata": {},
   "source": [
    "# Understanding the problem to solve it in brute force approach"
   ]
  },
  {
   "cell_type": "code",
   "execution_count": 3,
   "id": "6b21ca93-016d-423e-8406-441ccc518f90",
   "metadata": {},
   "outputs": [
    {
     "name": "stdout",
     "output_type": "stream",
     "text": [
      "0 1\n",
      "0 2\n",
      "0 3\n",
      "0 4\n",
      "1 2\n",
      "1 3\n",
      "1 4\n",
      "2 3\n",
      "2 4\n",
      "3 4\n"
     ]
    }
   ],
   "source": [
    "arr = [5, 4, 3, 2, 1]\n",
    "n = len(arr)\n",
    "for i in range(n-1):\n",
    "\tfor j in range(i+1, n):\n",
    "\t\tprint(i, j)"
   ]
  },
  {
   "cell_type": "code",
   "execution_count": 4,
   "id": "fe85dbb5-e0df-4ca8-9a08-ac4ce0d6f3bf",
   "metadata": {},
   "outputs": [
    {
     "name": "stdout",
     "output_type": "stream",
     "text": [
      "4 3 2 1 \n",
      "3 2 1 \n",
      "2 1 \n",
      "1 \n"
     ]
    }
   ],
   "source": [
    "arr = [5, 4, 3, 2, 1]\n",
    "n = len(arr)\n",
    "for i in range(n-1):\n",
    "\tfor j in range(i+1, n):\n",
    "\t\tprint(arr[j], end=\" \")\n",
    "\tprint()"
   ]
  },
  {
   "cell_type": "code",
   "execution_count": 5,
   "id": "6ae6ce7e-bc7c-45d6-ba49-65b323e1700f",
   "metadata": {},
   "outputs": [
    {
     "name": "stdout",
     "output_type": "stream",
     "text": [
      "4\n",
      "3\n",
      "2\n",
      "1\n"
     ]
    }
   ],
   "source": [
    "arr = [5, 4, 3, 2, 1]\n",
    "n = len(arr)\n",
    "for i in range(n-1):\n",
    "\ttemp = 0 \n",
    "\tfor j in range(i+1, n):\n",
    "\t\ttemp = max(temp, arr[j])\n",
    "\tprint(temp)"
   ]
  },
  {
   "cell_type": "code",
   "execution_count": 6,
   "id": "37b28870-415b-4b0c-b991-18e5f479fc68",
   "metadata": {},
   "outputs": [
    {
     "name": "stdout",
     "output_type": "stream",
     "text": [
      "0\n",
      "0\n",
      "0\n",
      "0\n"
     ]
    }
   ],
   "source": [
    "arr = [5, -4, -3, -2, -1]\n",
    "n = len(arr)\n",
    "for i in range(n-1):\n",
    "\ttemp = 0 \n",
    "\tfor j in range(i+1, n):\n",
    "\t\ttemp = max(temp, arr[j])\n",
    "\tprint(temp)"
   ]
  },
  {
   "cell_type": "markdown",
   "id": "4982521d-7588-4dd4-a2b7-823740f3b048",
   "metadata": {},
   "source": [
    "```\n",
    "Note:\n",
    "\n",
    "==> To calculate the maximum value, always consider the very least number in a temporary variable\n",
    "\n",
    "```"
   ]
  },
  {
   "cell_type": "code",
   "execution_count": 7,
   "id": "e4dda208-e1ba-405a-b6ca-94cecb7d595f",
   "metadata": {},
   "outputs": [
    {
     "name": "stdout",
     "output_type": "stream",
     "text": [
      "-1\n",
      "-1\n",
      "-1\n",
      "-1\n"
     ]
    }
   ],
   "source": [
    "arr = [5, -4, -3, -2, -1]\n",
    "n = len(arr)\n",
    "for i in range(n-1):\n",
    "\ttemp = -999999999\n",
    "\tfor j in range(i+1, n):\n",
    "\t\ttemp = max(temp, arr[j])\n",
    "\tprint(temp)"
   ]
  },
  {
   "cell_type": "markdown",
   "id": "0e7f6da6-2844-4879-9797-00571b1a2693",
   "metadata": {},
   "source": [
    "***In some cases, the `-999999999` values is also not sufficient to calculate the maximum value***"
   ]
  },
  {
   "cell_type": "code",
   "execution_count": 8,
   "id": "021bf74a-403d-4102-a09e-3fbe1817c0af",
   "metadata": {},
   "outputs": [
    {
     "name": "stdout",
     "output_type": "stream",
     "text": [
      "-1\n",
      "-1\n",
      "-1\n",
      "-1\n"
     ]
    }
   ],
   "source": [
    "arr = [5, -4, -3, -2, -1]\n",
    "n = len(arr)\n",
    "for i in range(n-1):\n",
    "\ttemp = float(\"-inf\")\n",
    "\tfor j in range(i+1, n):\n",
    "\t\ttemp = max(temp, arr[j])\n",
    "\tprint(temp)"
   ]
  },
  {
   "cell_type": "markdown",
   "id": "b449be71-7388-4ba7-bb8f-f750f2f7e14b",
   "metadata": {},
   "source": [
    "```\n",
    "Note:\n",
    "\n",
    "float(\"inf\") ==> It gives very big number\n",
    "\n",
    "float(\"-inf\") ==> It gives very least number\n",
    "```"
   ]
  },
  {
   "cell_type": "code",
   "execution_count": 10,
   "id": "6802e678-c866-4f31-bcaa-3a2d64851848",
   "metadata": {},
   "outputs": [
    {
     "name": "stdout",
     "output_type": "stream",
     "text": [
      "[4, 3, 2, 1]\n"
     ]
    }
   ],
   "source": [
    "arr = [5, 4, 3, 2, 1]\n",
    "n = len(arr)\n",
    "ans = []\n",
    "for i in range(n-1):\n",
    "\ttemp = float(\"-inf\")\n",
    "\tfor j in range(i+1, n):\n",
    "\t\ttemp = max(temp, arr[j])\n",
    "\tans.append(temp)\n",
    "print(ans)"
   ]
  },
  {
   "cell_type": "code",
   "execution_count": 11,
   "id": "3e10c863-c07d-43df-a10c-d523ea64cbc9",
   "metadata": {},
   "outputs": [
    {
     "name": "stdout",
     "output_type": "stream",
     "text": [
      "[4, 3, 2, 1, -1]\n"
     ]
    }
   ],
   "source": [
    "arr = [5, 4, 3, 2, 1]\n",
    "n = len(arr)\n",
    "ans = []\n",
    "for i in range(n-1):\n",
    "\ttemp = float(\"-inf\")\n",
    "\tfor j in range(i+1, n):\n",
    "\t\ttemp = max(temp, arr[j])\n",
    "\tans.append(temp)\n",
    "ans.append(-1)\n",
    "print(ans)"
   ]
  },
  {
   "cell_type": "markdown",
   "id": "e97b7781-ade7-4414-9b67-0878d14ce635",
   "metadata": {},
   "source": [
    "# Solved with brute force approach\n",
    "```python\n",
    "class Solution:\n",
    "    def replaceElements(self, arr: List[int]) -> List[int]:\n",
    "        # Solved with brute force approach\n",
    "        n = len(arr)\n",
    "        new_list = []\n",
    "        for i in range(n-1):\n",
    "            temp = float(\"-inf\")\n",
    "            for j in range(i+1, n):\n",
    "                temp = max(temp, arr[j])\n",
    "            new_list.append(temp)\n",
    "        new_list.append(-1)\n",
    "        return new_list\n",
    "```\n",
    "- The logic of the program only works for few test cases\n",
    "- But, here the main problem is Time. It exceeds the time complexity and failed to pass the remaining test cases"
   ]
  },
  {
   "cell_type": "markdown",
   "id": "d41c6a47-0bd3-4101-9733-259ee9766c0b",
   "metadata": {},
   "source": [
    "# Understanding the problem to solve it in optimized approach"
   ]
  },
  {
   "cell_type": "code",
   "execution_count": 12,
   "id": "5e191bd2-e0c6-49fa-ae65-b9e034a0d409",
   "metadata": {},
   "outputs": [
    {
     "name": "stdout",
     "output_type": "stream",
     "text": [
      "[4, 3, 2, 1, 1]\n"
     ]
    }
   ],
   "source": [
    "arr = [5, 4, 3, 2, 1]\n",
    "rmax = arr[n-1]\n",
    "n = len(arr)\n",
    "for i in range(n-2, -1, -1):\n",
    "\ttemp = arr[i]\n",
    "\tarr[i] = rmax\n",
    "\trmax = max(rmax, temp)\n",
    "print(arr)"
   ]
  },
  {
   "cell_type": "markdown",
   "id": "b83a96d2-dbdf-4994-b72c-a584c5fb7f46",
   "metadata": {},
   "source": [
    "- However, it doesn't provide the required output here. There is a problem with the last index element"
   ]
  },
  {
   "cell_type": "code",
   "execution_count": 13,
   "id": "5562e533-f67b-46a7-962a-8ae1afb58a6d",
   "metadata": {},
   "outputs": [
    {
     "name": "stdout",
     "output_type": "stream",
     "text": [
      "[4, 3, 2, 1, -1]\n"
     ]
    }
   ],
   "source": [
    "arr = [5, 4, 3, 2, 1]\n",
    "n = len(arr)\n",
    "rmax = -1\n",
    "for i in range(n-1, -1, -1):\n",
    "    temp = arr[i]\n",
    "    arr[i] = rmax\n",
    "    rmax = max(rmax, temp)\n",
    "print(arr)"
   ]
  },
  {
   "cell_type": "markdown",
   "id": "0c985b40-67e1-4869-b7d7-06bef770d075",
   "metadata": {},
   "source": [
    "# Solved with Optimized approach\n",
    "```python\n",
    "class Solution:\n",
    "    def replaceElements(self, arr: List[int]) -> List[int]:\n",
    "        # Solved with Optimized approach\n",
    "        n = len(arr)\n",
    "        rmax = -1\n",
    "        for i in range(n-1, -1, -1):\n",
    "            temp = arr[i]\n",
    "            arr[i] = rmax\n",
    "            rmax = max(rmax, temp)\n",
    "        return arr\n",
    "```"
   ]
  },
  {
   "cell_type": "code",
   "execution_count": null,
   "id": "fbcb72e8-0c2f-41e1-b51a-bff640eb154f",
   "metadata": {},
   "outputs": [],
   "source": []
  }
 ],
 "metadata": {
  "kernelspec": {
   "display_name": "Python 3 (ipykernel)",
   "language": "python",
   "name": "python3"
  },
  "language_info": {
   "codemirror_mode": {
    "name": "ipython",
    "version": 3
   },
   "file_extension": ".py",
   "mimetype": "text/x-python",
   "name": "python",
   "nbconvert_exporter": "python",
   "pygments_lexer": "ipython3",
   "version": "3.11.7"
  }
 },
 "nbformat": 4,
 "nbformat_minor": 5
}
