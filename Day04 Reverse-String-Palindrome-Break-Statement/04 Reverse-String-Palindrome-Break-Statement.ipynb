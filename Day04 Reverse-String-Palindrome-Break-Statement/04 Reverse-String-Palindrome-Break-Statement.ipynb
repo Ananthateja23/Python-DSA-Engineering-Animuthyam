{
 "cells": [
  {
   "cell_type": "markdown",
   "id": "625e4074-5881-4e36-8c73-8fc9047fe2df",
   "metadata": {},
   "source": [
    "# Problem\n",
    "\n",
    "- Animuthyam has a new task: there are multiple words on the wall. Someone told him that if he reverses each word, they will pay him 1 lakh rupees"
   ]
  },
  {
   "cell_type": "markdown",
   "id": "cf582c2e-939a-4c23-b8c2-6b4919a08937",
   "metadata": {},
   "source": [
    "## Explanation\n",
    "\n",
    "```\n",
    "word: abcd\n",
    "\n",
    "reverse : dcba\n",
    "\n",
    "\n",
    "s = \"abcd\"\n",
    "s[1]\n",
    "s[2]\n",
    "```"
   ]
  },
  {
   "cell_type": "code",
   "execution_count": 1,
   "id": "5ebecc90-cf75-44ca-9b22-4bbb83ed7d80",
   "metadata": {},
   "outputs": [
    {
     "name": "stdout",
     "output_type": "stream",
     "text": [
      "b\n",
      "c\n"
     ]
    }
   ],
   "source": [
    "s = \"abcd\"\n",
    "\n",
    "print(s[1])\n",
    "print(s[2])"
   ]
  },
  {
   "cell_type": "code",
   "execution_count": 2,
   "id": "c94c87f0-b6e0-4f70-8f66-8a5779aa941a",
   "metadata": {},
   "outputs": [
    {
     "name": "stdout",
     "output_type": "stream",
     "text": [
      "4\n"
     ]
    }
   ],
   "source": [
    "# len: It provides the length of a string\n",
    "\n",
    "print(len(s))"
   ]
  },
  {
   "cell_type": "code",
   "execution_count": 3,
   "id": "de5cabcc-08ec-4c26-96c7-20ceea09e43e",
   "metadata": {},
   "outputs": [
    {
     "name": "stdout",
     "output_type": "stream",
     "text": [
      "5\n"
     ]
    }
   ],
   "source": [
    "li = [4, 7, 9, 1, 4]\n",
    "print(len(li))"
   ]
  },
  {
   "cell_type": "code",
   "execution_count": 4,
   "id": "32e82818-0f9e-4df4-b3f6-00e82541d8da",
   "metadata": {},
   "outputs": [
    {
     "name": "stdout",
     "output_type": "stream",
     "text": [
      "5\n"
     ]
    }
   ],
   "source": [
    "li = [4, 7, 9, 1, 4]\n",
    "n = len(li)\n",
    "print(n)"
   ]
  },
  {
   "cell_type": "code",
   "execution_count": 5,
   "id": "0279ca64-b5c1-4296-9681-c94ceb2a3533",
   "metadata": {},
   "outputs": [
    {
     "name": "stdout",
     "output_type": "stream",
     "text": [
      "0\n",
      "1\n",
      "2\n",
      "3\n",
      "4\n"
     ]
    }
   ],
   "source": [
    "# writing for loop\n",
    "\n",
    "for i in range(5):\n",
    "\tprint(i)"
   ]
  },
  {
   "cell_type": "code",
   "execution_count": 6,
   "id": "1c133265-dafa-4dcf-99c0-23b057612d38",
   "metadata": {},
   "outputs": [
    {
     "name": "stdout",
     "output_type": "stream",
     "text": [
      "0\n",
      "1\n",
      "2\n",
      "3\n",
      "4\n"
     ]
    }
   ],
   "source": [
    "for i in range(0, 5):\n",
    "    print(i)"
   ]
  },
  {
   "cell_type": "code",
   "execution_count": 7,
   "id": "3f6a2ebc-5e6d-47d0-b936-6a5fcf418178",
   "metadata": {},
   "outputs": [
    {
     "name": "stdout",
     "output_type": "stream",
     "text": [
      "0\n",
      "1\n",
      "2\n",
      "3\n",
      "4\n"
     ]
    }
   ],
   "source": [
    "for i in range(0, 5, 1):\n",
    "    print(i)"
   ]
  },
  {
   "cell_type": "code",
   "execution_count": 8,
   "id": "9fc7c850-e628-46d0-b1a5-38569dcf319d",
   "metadata": {},
   "outputs": [
    {
     "name": "stdout",
     "output_type": "stream",
     "text": [
      "3\n",
      "4\n"
     ]
    }
   ],
   "source": [
    "for i in range(3, 5, 1):\n",
    "    print(i)"
   ]
  },
  {
   "cell_type": "markdown",
   "id": "c426d657-2946-47bd-bfd5-495f557eb58c",
   "metadata": {},
   "source": [
    "# range Function\n",
    "```\n",
    "syntax: range(a, b, c)\n",
    "\n",
    "a ==> starting point\n",
    "b ==> ending - 1\n",
    "c ==> step value\n",
    "\n",
    "range(0, 5, 1)\n",
    "range(1, 5, 2)\n",
    "\n",
    "\n",
    "range(0, 5, 1)\n",
    "range(0, 5)\n",
    "range(5)\n",
    "\n",
    "```"
   ]
  },
  {
   "cell_type": "code",
   "execution_count": 9,
   "id": "20827fe4-602b-4a42-ac84-fa69db5e4935",
   "metadata": {},
   "outputs": [
    {
     "name": "stdout",
     "output_type": "stream",
     "text": [
      "[0, 1, 2, 3, 4]\n"
     ]
    }
   ],
   "source": [
    "print(list(range(0, 5, 1)))"
   ]
  },
  {
   "cell_type": "code",
   "execution_count": 10,
   "id": "5e238d1f-6dbf-4569-98b6-b78e18ad7dbd",
   "metadata": {},
   "outputs": [
    {
     "name": "stdout",
     "output_type": "stream",
     "text": [
      "[1, 3]\n"
     ]
    }
   ],
   "source": [
    "print(list(range(1, 5, 2)))"
   ]
  },
  {
   "cell_type": "code",
   "execution_count": 11,
   "id": "99bff516-1111-4418-8d73-5d9132c8d0d6",
   "metadata": {},
   "outputs": [
    {
     "name": "stdout",
     "output_type": "stream",
     "text": [
      "[0, 1, 2, 3, 4]\n"
     ]
    }
   ],
   "source": [
    "print(list(range(0, 5, 1)))"
   ]
  },
  {
   "cell_type": "code",
   "execution_count": 12,
   "id": "58a63121-0e3c-486e-a991-bfc3ba3b5d0d",
   "metadata": {},
   "outputs": [
    {
     "name": "stdout",
     "output_type": "stream",
     "text": [
      "[0, 1, 2, 3, 4]\n"
     ]
    }
   ],
   "source": [
    "print(list(range(0, 5)))"
   ]
  },
  {
   "cell_type": "code",
   "execution_count": 13,
   "id": "83361a58-db7a-45d2-a295-c01a5dba9116",
   "metadata": {},
   "outputs": [
    {
     "name": "stdout",
     "output_type": "stream",
     "text": [
      "[0, 1, 2, 3, 4]\n"
     ]
    }
   ],
   "source": [
    "print(list(range(5)))"
   ]
  },
  {
   "cell_type": "code",
   "execution_count": 14,
   "id": "aa772308-ff02-45ee-8c5c-dc0423991df1",
   "metadata": {},
   "outputs": [
    {
     "name": "stdout",
     "output_type": "stream",
     "text": [
      "range(5, 0, -1)\n",
      "[5, 4, 3, 2, 1]\n"
     ]
    }
   ],
   "source": [
    "# To reverse the numbers from 5 to 0\n",
    "\n",
    "print(range(5, 0, -1))\n",
    "print(list(range(5, 0, -1)))"
   ]
  },
  {
   "cell_type": "code",
   "execution_count": 15,
   "id": "42f4f388-3274-4b1a-bfe3-a71dea5c0513",
   "metadata": {},
   "outputs": [
    {
     "name": "stdout",
     "output_type": "stream",
     "text": [
      "d\n",
      "c\n",
      "b\n",
      "a\n"
     ]
    }
   ],
   "source": [
    "# Understanding how to reverse a string using indices\n",
    "\n",
    "s = \"abcd\"\n",
    "\n",
    "print(s[3])\n",
    "print(s[2])\n",
    "print(s[1])\n",
    "print(s[0])"
   ]
  },
  {
   "cell_type": "code",
   "execution_count": 16,
   "id": "de1cdc75-92ad-4821-bff8-b685089bc565",
   "metadata": {},
   "outputs": [
    {
     "name": "stdout",
     "output_type": "stream",
     "text": [
      "dcba\n"
     ]
    }
   ],
   "source": [
    "print(s[3] + s[2] + s[1] + s[0])"
   ]
  },
  {
   "cell_type": "code",
   "execution_count": 17,
   "id": "af0fb8f8-548e-42d9-81cc-297f42338039",
   "metadata": {},
   "outputs": [
    {
     "name": "stdout",
     "output_type": "stream",
     "text": [
      "[3, 2, 1]\n"
     ]
    }
   ],
   "source": [
    "# Understanding how to reverse a string using indices and a for loop\n",
    "\n",
    "\n",
    "print(list(range(3, 0, -1)))"
   ]
  },
  {
   "cell_type": "code",
   "execution_count": 18,
   "id": "3328effb-b560-42c0-93b3-98e8869e06ee",
   "metadata": {},
   "outputs": [
    {
     "name": "stdout",
     "output_type": "stream",
     "text": [
      "[3, 2, 1, 0]\n"
     ]
    }
   ],
   "source": [
    "print(list(range(3, -1, -1)))"
   ]
  },
  {
   "cell_type": "code",
   "execution_count": 19,
   "id": "0ff2f347-2195-4e13-9f90-939c50a90684",
   "metadata": {},
   "outputs": [
    {
     "name": "stdout",
     "output_type": "stream",
     "text": [
      "dcba\n"
     ]
    }
   ],
   "source": [
    "# Writing a program that reverses a string using indices\n",
    "\n",
    "s = \"abcd\"\n",
    "\n",
    "ans = \"\"\n",
    "\n",
    "ans = ans + s[3]\n",
    "ans = ans + s[2]\n",
    "ans = ans + s[1]\n",
    "ans = ans + s[0]\n",
    "\n",
    "print(ans)"
   ]
  },
  {
   "cell_type": "code",
   "execution_count": 20,
   "id": "53966940-5eb3-4670-a26e-6c7845e1ed90",
   "metadata": {},
   "outputs": [
    {
     "name": "stdout",
     "output_type": "stream",
     "text": [
      "dcba\n"
     ]
    }
   ],
   "source": [
    "# Writing a program that reverses a string using indices and a for loop\n",
    "\n",
    "s = \"abcd\"\n",
    "\n",
    "ans = \"\"\n",
    "\n",
    "for i in range(3, -1, -1):\n",
    "    ans = ans + s[i]\n",
    "\n",
    "\n",
    "print(ans)"
   ]
  },
  {
   "cell_type": "markdown",
   "id": "40c2c411-c66b-4bd8-98cc-20229f4e7273",
   "metadata": {},
   "source": [
    "##### - There is a problem with the range function that does not work for all types of input strings; we need to resolve it"
   ]
  },
  {
   "cell_type": "code",
   "execution_count": 21,
   "id": "d0869356-6a3e-4423-b6ad-77b39e145d8e",
   "metadata": {},
   "outputs": [
    {
     "name": "stdout",
     "output_type": "stream",
     "text": [
      "1\n",
      "9\n",
      "8\n",
      "5\n"
     ]
    }
   ],
   "source": [
    "# lets reverse a list\n",
    "\n",
    "li = [5, 8, 9, 1]\n",
    "\n",
    "for i in range(3, -1, -1):\n",
    "\tprint(li[i])"
   ]
  },
  {
   "cell_type": "code",
   "execution_count": 22,
   "id": "8fdba863-4b3e-4f99-8320-c658405cc33c",
   "metadata": {},
   "outputs": [
    {
     "name": "stdout",
     "output_type": "stream",
     "text": [
      "1\n",
      "9\n",
      "8\n",
      "5\n"
     ]
    }
   ],
   "source": [
    "li = [5, 8, 9, 1, 0]\n",
    "\n",
    "for i in range(3, -1, -1):\n",
    "\tprint(li[i])"
   ]
  },
  {
   "cell_type": "code",
   "execution_count": 23,
   "id": "187283c9-f651-4b8c-83bd-a0fc1d0dab73",
   "metadata": {},
   "outputs": [
    {
     "name": "stdout",
     "output_type": "stream",
     "text": [
      "0\n",
      "1\n",
      "9\n",
      "8\n",
      "5\n"
     ]
    }
   ],
   "source": [
    "li = [5, 8, 9, 1, 0]\n",
    "\n",
    "for i in range(4, -1, -1):\n",
    "\tprint(li[i])"
   ]
  },
  {
   "cell_type": "markdown",
   "id": "677cb020-2e76-48a1-b2f9-0559759b1480",
   "metadata": {},
   "source": [
    "##### - What if I add another number, 6? Do I need to change the range again? Let's look for a solution and figure it out"
   ]
  },
  {
   "cell_type": "code",
   "execution_count": 24,
   "id": "c40b92af-b72f-4b27-805f-94b2745cf928",
   "metadata": {},
   "outputs": [
    {
     "name": "stdout",
     "output_type": "stream",
     "text": [
      "0\n",
      "1\n",
      "9\n",
      "8\n",
      "5\n"
     ]
    }
   ],
   "source": [
    "li = [5, 8, 9, 1, 0, 6]\n",
    "\n",
    "for i in range(4, -1, -1):\n",
    "\tprint(li[i])"
   ]
  },
  {
   "cell_type": "code",
   "execution_count": 25,
   "id": "6620566c-ad27-41f3-bceb-818989468859",
   "metadata": {},
   "outputs": [
    {
     "name": "stdout",
     "output_type": "stream",
     "text": [
      "6\n",
      "0\n",
      "1\n",
      "9\n",
      "8\n",
      "5\n"
     ]
    }
   ],
   "source": [
    "li = [5, 8, 9, 1, 0, 6]\n",
    "\n",
    "n = len(li)\n",
    "\n",
    "for i in range(n-1, -1, -1):\n",
    "\tprint(li[i])"
   ]
  },
  {
   "cell_type": "code",
   "execution_count": 26,
   "id": "f68ee896-efa1-446e-9c37-3e1fbf7b8199",
   "metadata": {},
   "outputs": [
    {
     "name": "stdout",
     "output_type": "stream",
     "text": [
      "1\n",
      "5\n",
      "8\n",
      "6\n",
      "0\n",
      "1\n",
      "9\n",
      "8\n",
      "5\n"
     ]
    }
   ],
   "source": [
    "\n",
    "li = [5, 8, 9, 1, 0, 6, 8, 5, 1]\n",
    "\n",
    "n = len(li)\n",
    "\n",
    "for i in range(n-1, -1, -1):\n",
    "\tprint(li[i])"
   ]
  },
  {
   "cell_type": "code",
   "execution_count": 27,
   "id": "d8032572-cabc-4395-840a-9b6d1e751e73",
   "metadata": {},
   "outputs": [
    {
     "name": "stdout",
     "output_type": "stream",
     "text": [
      "dcba\n"
     ]
    }
   ],
   "source": [
    "# Writing an optimized version of a program that reverses a string using indices and a for loop\n",
    "\n",
    "s = \"abcd\"\n",
    "n = len(s)\n",
    "ans = \"\"\n",
    "\n",
    "for i in range(n-1, -1, -1):\n",
    "    ans = ans + s[i]\n",
    "\n",
    "\n",
    "print(ans)"
   ]
  },
  {
   "cell_type": "code",
   "execution_count": 28,
   "id": "0fdc66c8-5d27-486d-8d88-430ba66dff92",
   "metadata": {},
   "outputs": [
    {
     "name": "stdout",
     "output_type": "stream",
     "text": [
      "dsathtsaethshfdtshgaeacba\n"
     ]
    }
   ],
   "source": [
    "s = \"abcaeaghstdfhshteasthtasd\"\n",
    "\n",
    "ans = \"\"\n",
    "n = len(s)\n",
    "\n",
    "for i in range(n-1, -1, -1):\n",
    "\tans = ans + s[i]\n",
    "\t# print(ans)\n",
    "print(ans)"
   ]
  },
  {
   "cell_type": "code",
   "execution_count": 29,
   "id": "68979847-8f97-4874-9738-881f4682104d",
   "metadata": {},
   "outputs": [
    {
     "name": "stdout",
     "output_type": "stream",
     "text": [
      "dsathtsaethshfdtshgaeacba\n"
     ]
    }
   ],
   "source": [
    "# To reverse a string using slicing\n",
    "\n",
    "s = \"abcaeaghstdfhshteasthtasd\"\n",
    "print(s[::-1])"
   ]
  },
  {
   "cell_type": "markdown",
   "id": "645ad25e-382e-4b3b-9a71-12f0bbe2a875",
   "metadata": {},
   "source": [
    "----"
   ]
  },
  {
   "cell_type": "markdown",
   "id": "089c637f-329e-4784-a945-36f0f8e3ff7c",
   "metadata": {},
   "source": [
    "# Problem\n",
    "\n",
    "- Animuthyam faced a new challenge: there are several words on the wall. The Old Man asked Muthyam to determine if those words are palindromes\n"
   ]
  },
  {
   "cell_type": "markdown",
   "id": "a5efd24a-9e33-489b-a04c-96d354dbe98b",
   "metadata": {},
   "source": [
    "# Explanation\n",
    "\n",
    "```\n",
    "==> s1 = \"abc\"\n",
    "==> s2 = \"cba\"\n",
    "==> Here, s1 != s2, it is not palindrome\n",
    "\n",
    "\n",
    "==> s1 = \"aba\"\n",
    "==> s2 = \"aba\"\n",
    "==> Here, s1 == s2, it is palindrome\n",
    "\n",
    "==> s1 = \"abba\"\n",
    "==> s2 = \"abba\"\n",
    "==> Here, s1 == s2, it is palindrome\n",
    "\n",
    "==> s1 = \"abcddcba\"\n",
    "==> s2 = \"abcddcba\"\n",
    "==> Here, s1 == s2, it is palindrome\n",
    "```"
   ]
  },
  {
   "cell_type": "markdown",
   "id": "13ec7483-7b56-4059-8221-780b6b8c51ab",
   "metadata": {},
   "source": [
    "# Method01: \n",
    "\n",
    "##### - Write a code that determines whether a word is a palindrome or not"
   ]
  },
  {
   "cell_type": "code",
   "execution_count": 30,
   "id": "37575561-810d-4ff9-8d49-0319cd04772f",
   "metadata": {},
   "outputs": [
    {
     "name": "stdout",
     "output_type": "stream",
     "text": [
      "Yes, it is a palindrome\n"
     ]
    }
   ],
   "source": [
    "s = \"abba\"\n",
    "\n",
    "ans = \"\"\n",
    "\n",
    "for i in range(len(s)-1, -1, -1):\n",
    "    ans =  ans + s[i]\n",
    "\n",
    "if (ans == s):\n",
    "    print(\"Yes, it is a palindrome\")\n",
    "else:\n",
    "    print(\"No, it is not a palindrome\")"
   ]
  },
  {
   "cell_type": "markdown",
   "id": "5bfeaf50-f7df-4c8b-9e0c-b1f5f38d5bf4",
   "metadata": {},
   "source": [
    "### - Exploring an alternative method for solving palindromes"
   ]
  },
  {
   "cell_type": "code",
   "execution_count": 31,
   "id": "9b55c4dc-76e7-461e-a41b-537dfa7ec9bd",
   "metadata": {},
   "outputs": [],
   "source": [
    "a = False"
   ]
  },
  {
   "cell_type": "code",
   "execution_count": 32,
   "id": "39c86aaa-9b44-4d07-b4d1-600d23f74b89",
   "metadata": {},
   "outputs": [
    {
     "ename": "NameError",
     "evalue": "name 'hello' is not defined",
     "output_type": "error",
     "traceback": [
      "\u001b[1;31m---------------------------------------------------------------------------\u001b[0m",
      "\u001b[1;31mNameError\u001b[0m                                 Traceback (most recent call last)",
      "Cell \u001b[1;32mIn[32], line 1\u001b[0m\n\u001b[1;32m----> 1\u001b[0m a \u001b[38;5;241m=\u001b[39m hello\n",
      "\u001b[1;31mNameError\u001b[0m: name 'hello' is not defined"
     ]
    }
   ],
   "source": [
    "a = hello"
   ]
  },
  {
   "cell_type": "code",
   "execution_count": 33,
   "id": "668beec5-4e49-4123-944b-6b43ad612520",
   "metadata": {},
   "outputs": [],
   "source": [
    "a = False"
   ]
  },
  {
   "cell_type": "code",
   "execution_count": 34,
   "id": "316465c7-f10f-420e-9fe0-bdd7563092a3",
   "metadata": {},
   "outputs": [],
   "source": [
    "a = True"
   ]
  },
  {
   "cell_type": "code",
   "execution_count": 35,
   "id": "fd7673e3-a85b-4c39-8213-bd86dfb50b88",
   "metadata": {},
   "outputs": [
    {
     "ename": "NameError",
     "evalue": "name 'true' is not defined",
     "output_type": "error",
     "traceback": [
      "\u001b[1;31m---------------------------------------------------------------------------\u001b[0m",
      "\u001b[1;31mNameError\u001b[0m                                 Traceback (most recent call last)",
      "Cell \u001b[1;32mIn[35], line 1\u001b[0m\n\u001b[1;32m----> 1\u001b[0m a \u001b[38;5;241m=\u001b[39m true\n",
      "\u001b[1;31mNameError\u001b[0m: name 'true' is not defined"
     ]
    }
   ],
   "source": [
    "a = true"
   ]
  },
  {
   "cell_type": "code",
   "execution_count": 36,
   "id": "c0144588-fa28-48e9-83b9-ed2b72a84282",
   "metadata": {},
   "outputs": [],
   "source": [
    "a = True"
   ]
  },
  {
   "cell_type": "code",
   "execution_count": 37,
   "id": "892a8ea2-390e-458c-ac8b-98f808bfd9f7",
   "metadata": {},
   "outputs": [
    {
     "name": "stdout",
     "output_type": "stream",
     "text": [
      "Boom\n"
     ]
    }
   ],
   "source": [
    "# Using boolean values in various scenarios\n",
    "\n",
    "\n",
    "a = True\n",
    "\n",
    "if a:\n",
    "  print(\"Boom\")"
   ]
  },
  {
   "cell_type": "code",
   "execution_count": 38,
   "id": "ae40ef80-527d-47a3-8f26-dba879d91369",
   "metadata": {},
   "outputs": [],
   "source": [
    "a = False\n",
    "\n",
    "if a:\n",
    "    print(\"Boom\")"
   ]
  },
  {
   "cell_type": "code",
   "execution_count": 39,
   "id": "0b535cab-cd15-48bf-a4ef-85d442000da7",
   "metadata": {},
   "outputs": [
    {
     "name": "stdout",
     "output_type": "stream",
     "text": [
      "Boom\n"
     ]
    }
   ],
   "source": [
    "a = False\n",
    "\n",
    "if (3 + 4 == 7):\n",
    "    a = True\n",
    "\n",
    "if a:\n",
    "    print(\"Boom\")"
   ]
  },
  {
   "cell_type": "markdown",
   "id": "a9435ba5-b16a-4e97-94d8-e4d1c5ab769c",
   "metadata": {},
   "source": [
    "### - At this moment, take a pen and paper and try to provide indices for each character and link them with the code blocks below"
   ]
  },
  {
   "cell_type": "code",
   "execution_count": 40,
   "id": "c3a6f500-bb8f-46d1-8436-6c70d0c9a055",
   "metadata": {},
   "outputs": [
    {
     "name": "stdout",
     "output_type": "stream",
     "text": [
      "[0, 1, 2]\n"
     ]
    }
   ],
   "source": [
    "print(list(range(3)))"
   ]
  },
  {
   "cell_type": "code",
   "execution_count": 41,
   "id": "891cac4b-9081-4346-8154-d86990aeb061",
   "metadata": {},
   "outputs": [
    {
     "name": "stdout",
     "output_type": "stream",
     "text": [
      "0 2\n",
      "1 3\n",
      "2 4\n"
     ]
    }
   ],
   "source": [
    "for i in range(3):\n",
    "    print(i, i+2)"
   ]
  },
  {
   "cell_type": "code",
   "execution_count": 42,
   "id": "8aa983b5-9280-4504-be45-94dd9f1e6a5e",
   "metadata": {},
   "outputs": [
    {
     "name": "stdout",
     "output_type": "stream",
     "text": [
      "0 6\n",
      "1 6\n",
      "2 6\n"
     ]
    }
   ],
   "source": [
    "n = 3\n",
    "mul = n * 2\n",
    "\n",
    "for i in range(3):\n",
    "    print(i, mul)"
   ]
  },
  {
   "cell_type": "code",
   "execution_count": 43,
   "id": "9e9c2196-a24c-4497-9e84-d88b1116c863",
   "metadata": {},
   "outputs": [
    {
     "name": "stdout",
     "output_type": "stream",
     "text": [
      "0 5\n",
      "1 5\n",
      "2 5\n"
     ]
    }
   ],
   "source": [
    "n = 3\n",
    "mul = n * 2\n",
    "\n",
    "for i in range(3):\n",
    "    print(i, mul-1)"
   ]
  },
  {
   "cell_type": "code",
   "execution_count": 44,
   "id": "34e0ee8d-8d13-4de2-a4fc-7b552471657b",
   "metadata": {},
   "outputs": [
    {
     "name": "stdout",
     "output_type": "stream",
     "text": [
      "0 5\n",
      "1 4\n",
      "2 3\n"
     ]
    }
   ],
   "source": [
    "n = 3\n",
    "mul = n * 2\n",
    "\n",
    "for i in range(3):\n",
    "    print(i, mul-1-i)"
   ]
  },
  {
   "cell_type": "code",
   "execution_count": 45,
   "id": "f122e6f4-ad69-44a4-8356-ed0d53a14a81",
   "metadata": {},
   "outputs": [
    {
     "name": "stdout",
     "output_type": "stream",
     "text": [
      "0 5\n",
      "a a\n",
      "1 4\n",
      "b b\n",
      "2 3\n",
      "c c\n"
     ]
    }
   ],
   "source": [
    "s = \"abccba\"\n",
    "n = 3\n",
    "mul = n * 2\n",
    "\n",
    "for i in range(3):\n",
    "    print(i, mul-1-i)\n",
    "    print(s[i], s[mul-1-i])"
   ]
  },
  {
   "cell_type": "code",
   "execution_count": 46,
   "id": "56a6957c-a840-4ba6-8851-1f1450942cee",
   "metadata": {},
   "outputs": [
    {
     "name": "stdout",
     "output_type": "stream",
     "text": [
      "a a\n",
      "b b\n",
      "c c\n"
     ]
    }
   ],
   "source": [
    "s = \"abccba\"\n",
    "n = 3\n",
    "mul = n * 2\n",
    "\n",
    "for i in range(3):\n",
    "    left = s[i] \n",
    "    right= s[mul-1-i]\n",
    "    print(left, right)"
   ]
  },
  {
   "cell_type": "code",
   "execution_count": 47,
   "id": "35691ce9-597b-4c94-943c-89337d8c10f8",
   "metadata": {},
   "outputs": [
    {
     "name": "stdout",
     "output_type": "stream",
     "text": [
      "a f\n",
      "b e\n",
      "c d\n"
     ]
    }
   ],
   "source": [
    "s = \"abcdef\"\n",
    "n = 3\n",
    "mul = n * 2\n",
    "\n",
    "for i in range(3):\n",
    "    left = s[i] \n",
    "    right= s[mul-1-i]\n",
    "    print(left, right)"
   ]
  },
  {
   "cell_type": "code",
   "execution_count": 48,
   "id": "bcbff350-b56a-49ea-8c33-646de64103ff",
   "metadata": {},
   "outputs": [
    {
     "name": "stdout",
     "output_type": "stream",
     "text": [
      "a f\n",
      "b e\n",
      "c d\n",
      "No, it is not a palindrome\n"
     ]
    }
   ],
   "source": [
    "# Optimizing the code by using boolean values\n",
    "\n",
    "s = \"abcdef\"\n",
    "n = 3\n",
    "mul = n * 2\n",
    "valid = True\n",
    "for i in range(3):\n",
    "    left = s[i] \n",
    "    right= s[mul-1-i]\n",
    "    print(left, right)\n",
    "    if left != right:\n",
    "        valid = False\n",
    "\n",
    "if valid:\n",
    "    print(\"Yes, it is a palindrome\")\n",
    "else:\n",
    "    print(\"No, it is not a palindrome\")"
   ]
  },
  {
   "cell_type": "code",
   "execution_count": 49,
   "id": "f64f855e-913e-4c49-abb1-2526b450b2c3",
   "metadata": {},
   "outputs": [
    {
     "name": "stdout",
     "output_type": "stream",
     "text": [
      "a a\n",
      "b b\n",
      "c c\n",
      "Yes, it is a palindrome\n"
     ]
    }
   ],
   "source": [
    "s = \"abccba\"\n",
    "n = 3\n",
    "mul = n * 2\n",
    "valid = True\n",
    "for i in range(3):\n",
    "    left = s[i] \n",
    "    right= s[mul-1-i]\n",
    "    print(left, right)\n",
    "    if left != right:\n",
    "        valid = False\n",
    "\n",
    "if valid:\n",
    "    print(\"Yes, it is a palindrome\")\n",
    "else:\n",
    "    print(\"No, it is not a palindrome\")"
   ]
  },
  {
   "cell_type": "code",
   "execution_count": 50,
   "id": "dd7cdece-8a3c-45e5-b756-d605026e9bd2",
   "metadata": {},
   "outputs": [
    {
     "name": "stdout",
     "output_type": "stream",
     "text": [
      "a a\n",
      "b b\n",
      "d d\n",
      "Yes, it is a palindrome\n"
     ]
    }
   ],
   "source": [
    "s = \"abddba\"\n",
    "n = 3\n",
    "mul = n * 2\n",
    "valid = True\n",
    "for i in range(3):\n",
    "    left = s[i] \n",
    "    right= s[mul-1-i]\n",
    "    print(left, right)\n",
    "    if left != right:\n",
    "        valid = False\n",
    "\n",
    "if valid:\n",
    "    print(\"Yes, it is a palindrome\")\n",
    "else:\n",
    "    print(\"No, it is not a palindrome\")"
   ]
  },
  {
   "cell_type": "code",
   "execution_count": 51,
   "id": "7b322707-0bd2-4c83-a391-8f1b6e584007",
   "metadata": {},
   "outputs": [
    {
     "name": "stdout",
     "output_type": "stream",
     "text": [
      "a d\n",
      "b e\n",
      "d e\n",
      "No, it is not a palindrome\n"
     ]
    }
   ],
   "source": [
    "s = \"abdeedba\"\n",
    "n = 3\n",
    "mul = n * 2\n",
    "valid = True\n",
    "for i in range(3):\n",
    "    left = s[i] \n",
    "    right= s[mul-1-i]\n",
    "    print(left, right)\n",
    "    if left != right:\n",
    "        valid = False\n",
    "\n",
    "if valid:\n",
    "    print(\"Yes, it is a palindrome\")\n",
    "else:\n",
    "    print(\"No, it is not a palindrome\")"
   ]
  },
  {
   "cell_type": "markdown",
   "id": "e9d2094f-d2c8-4b9e-ab80-fd5aa6a2cf59",
   "metadata": {},
   "source": [
    "```\n",
    "Note:\n",
    "\n",
    "--> If you noticed, we set n = 3 and the length of s is 6; then the above code works properly; otherwise, it yields incorrect answers\n",
    "```"
   ]
  },
  {
   "cell_type": "code",
   "execution_count": 52,
   "id": "690c9e63-b066-41b7-8a39-897276735d01",
   "metadata": {},
   "outputs": [
    {
     "name": "stdout",
     "output_type": "stream",
     "text": [
      "a a\n",
      "b b\n",
      "d d\n",
      "e e\n",
      "Yes, it is a palindrome\n"
     ]
    }
   ],
   "source": [
    "# Let's refactor the code to ensure it works correctly\n",
    "\n",
    "s = \"abdeedba\"\n",
    "# n = 3\n",
    "# mul = n * 2\n",
    "\n",
    "n = len(s) // 2\n",
    "mul = len(s)\n",
    "\n",
    "valid = True\n",
    "for i in range(n):\n",
    "    left = s[i] \n",
    "    right= s[mul-1-i]\n",
    "    print(left, right)\n",
    "    if left != right:\n",
    "        valid = False\n",
    "\n",
    "if valid:\n",
    "    print(\"Yes, it is a palindrome\")\n",
    "else:\n",
    "    print(\"No, it is not a palindrome\")"
   ]
  },
  {
   "cell_type": "code",
   "execution_count": 53,
   "id": "76f88a05-de10-400b-8077-3bbd1698ab68",
   "metadata": {},
   "outputs": [
    {
     "name": "stdout",
     "output_type": "stream",
     "text": [
      "a a\n",
      "b b\n",
      "c c\n",
      "d d\n",
      "Yes, it is a palindrome\n"
     ]
    }
   ],
   "source": [
    "# Let's check the refactored code  for the other test case\n",
    "\n",
    "s = \"abcddcba\"\n",
    "# n = 3\n",
    "# mul = n * 2\n",
    "\n",
    "n = len(s) // 2\n",
    "mul = len(s)\n",
    "\n",
    "valid = True\n",
    "for i in range(n):\n",
    "    left = s[i] \n",
    "    right= s[mul-1-i]\n",
    "    print(left, right)\n",
    "    if left != right:\n",
    "        valid = False\n",
    "\n",
    "if valid:\n",
    "    print(\"Yes, it is a palindrome\")\n",
    "else:\n",
    "    print(\"No, it is not a palindrome\")"
   ]
  },
  {
   "cell_type": "code",
   "execution_count": 54,
   "id": "a5fe6cb3-ae5c-485d-aa75-7afd78fa186f",
   "metadata": {},
   "outputs": [
    {
     "name": "stdout",
     "output_type": "stream",
     "text": [
      "i i\n",
      "o a\n",
      "e o\n",
      "w g\n",
      "s w\n",
      "h i\n",
      "o a\n",
      "No, it is not a palindrome\n"
     ]
    }
   ],
   "source": [
    "s = \"ioewshopaiwgoai\"\n",
    "\n",
    "# n = 3\n",
    "# mul = n * 2\n",
    "\n",
    "n = len(s) // 2\n",
    "mul = len(s)\n",
    "\n",
    "valid = True\n",
    "for i in range(n):\n",
    "    left = s[i] \n",
    "    right= s[mul-1-i]\n",
    "    print(left, right)\n",
    "    if left != right:\n",
    "        valid = False\n",
    "\n",
    "if valid:\n",
    "    print(\"Yes, it is a palindrome\")\n",
    "else:\n",
    "    print(\"No, it is not a palindrome\")"
   ]
  },
  {
   "cell_type": "code",
   "execution_count": 55,
   "id": "57becfce-eba7-42b4-b1a6-582a2ce7ceed",
   "metadata": {},
   "outputs": [
    {
     "name": "stdout",
     "output_type": "stream",
     "text": [
      "h h\n",
      "u u\n",
      "f f\n",
      "Yes, it is a palindrome\n"
     ]
    }
   ],
   "source": [
    "s = \"huffuh\"\n",
    "\n",
    "# n = 3\n",
    "# mul = n * 2\n",
    "\n",
    "n = len(s) // 2\n",
    "mul = len(s)\n",
    "\n",
    "valid = True\n",
    "for i in range(n):\n",
    "    left = s[i] \n",
    "    right= s[mul-1-i]\n",
    "    print(left, right)\n",
    "    if left != right:\n",
    "        valid = False\n",
    "\n",
    "if valid:\n",
    "    print(\"Yes, it is a palindrome\")\n",
    "else:\n",
    "    print(\"No, it is not a palindrome\")"
   ]
  },
  {
   "cell_type": "code",
   "execution_count": 56,
   "id": "1191b4b1-d1e1-4a45-9495-66b75a34492a",
   "metadata": {},
   "outputs": [
    {
     "name": "stdout",
     "output_type": "stream",
     "text": [
      "2.0\n",
      "2.5\n"
     ]
    }
   ],
   "source": [
    "# Understanding the usage of (//) operator\n",
    "\n",
    "\n",
    "print(4 / 2)\n",
    "print(5 / 2)"
   ]
  },
  {
   "cell_type": "code",
   "execution_count": 57,
   "id": "ed40e953-d1fd-4fb3-9c42-f4209d6af5fa",
   "metadata": {},
   "outputs": [
    {
     "ename": "TypeError",
     "evalue": "'float' object cannot be interpreted as an integer",
     "output_type": "error",
     "traceback": [
      "\u001b[1;31m---------------------------------------------------------------------------\u001b[0m",
      "\u001b[1;31mTypeError\u001b[0m                                 Traceback (most recent call last)",
      "Cell \u001b[1;32mIn[57], line 2\u001b[0m\n\u001b[0;32m      1\u001b[0m n \u001b[38;5;241m=\u001b[39m \u001b[38;5;241m4\u001b[39m\u001b[38;5;241m/\u001b[39m\u001b[38;5;241m2\u001b[39m\n\u001b[1;32m----> 2\u001b[0m \u001b[38;5;28;01mfor\u001b[39;00m i \u001b[38;5;129;01min\u001b[39;00m \u001b[38;5;28mrange\u001b[39m(n):\n\u001b[0;32m      3\u001b[0m \t\u001b[38;5;28mprint\u001b[39m(i)\n",
      "\u001b[1;31mTypeError\u001b[0m: 'float' object cannot be interpreted as an integer"
     ]
    }
   ],
   "source": [
    "n = 4/2\n",
    "for i in range(n):\n",
    "\tprint(i)"
   ]
  },
  {
   "cell_type": "code",
   "execution_count": 58,
   "id": "62029cc5-a52a-46a1-9bbe-afb6c51b48f8",
   "metadata": {},
   "outputs": [
    {
     "name": "stdout",
     "output_type": "stream",
     "text": [
      "0\n",
      "1\n"
     ]
    }
   ],
   "source": [
    "n = 2 # 4/2 = 2 (maths)\n",
    "for i in range(n):\n",
    "\tprint(i)"
   ]
  },
  {
   "cell_type": "code",
   "execution_count": 59,
   "id": "434a09dc-19d7-43f8-94c4-4ed6b5b83d67",
   "metadata": {},
   "outputs": [
    {
     "name": "stdout",
     "output_type": "stream",
     "text": [
      "2.0\n",
      "2\n"
     ]
    }
   ],
   "source": [
    "n = 4/2 \n",
    "print(n)\n",
    "\n",
    "n = 4//2 \n",
    "print(n)"
   ]
  },
  {
   "cell_type": "code",
   "execution_count": 60,
   "id": "ecb4ac63-b801-4692-b8e4-9cad14410265",
   "metadata": {},
   "outputs": [
    {
     "name": "stdout",
     "output_type": "stream",
     "text": [
      "2.5\n",
      "2\n"
     ]
    }
   ],
   "source": [
    "n = 5/2 \n",
    "print(n)\n",
    "\n",
    "n = 5//2 \n",
    "print(n)"
   ]
  },
  {
   "cell_type": "code",
   "execution_count": 61,
   "id": "eb9ea474-2868-4c1c-9f1a-e85664361dd3",
   "metadata": {},
   "outputs": [
    {
     "name": "stdout",
     "output_type": "stream",
     "text": [
      "2\n"
     ]
    }
   ],
   "source": [
    "n = 5/2 \n",
    "print(int(n))"
   ]
  },
  {
   "cell_type": "code",
   "execution_count": 62,
   "id": "228c916a-6e29-4e8e-946d-156809e50669",
   "metadata": {},
   "outputs": [
    {
     "name": "stdout",
     "output_type": "stream",
     "text": [
      "h h\n",
      "u u\n",
      "f f\n",
      "Yes, it is a palindrome\n"
     ]
    }
   ],
   "source": [
    "s = \"huffuh\"\n",
    "\n",
    "# n = 3\n",
    "# mul = n * 2\n",
    "\n",
    "n = len(s) // 2\n",
    "mul = len(s)\n",
    "\n",
    "valid = True\n",
    "for i in range(n):\n",
    "    left = s[i] \n",
    "    right= s[mul-1-i]\n",
    "    print(left, right)\n",
    "    if left != right:\n",
    "        valid = False\n",
    "\n",
    "if valid:\n",
    "    print(\"Yes, it is a palindrome\")\n",
    "else:\n",
    "    print(\"No, it is not a palindrome\")"
   ]
  },
  {
   "cell_type": "code",
   "execution_count": 63,
   "id": "946a33af-2d2f-4ee6-ae38-b373900b9e85",
   "metadata": {},
   "outputs": [
    {
     "name": "stdout",
     "output_type": "stream",
     "text": [
      "h h\n",
      "u u\n",
      "f f\n",
      "Yes, it is a palindrome\n"
     ]
    }
   ],
   "source": [
    "# Optimizing the code again with the break statement\n",
    "\n",
    "s = \"huffuh\"\n",
    "\n",
    "# n = 3\n",
    "# mul = n * 2\n",
    "\n",
    "n = len(s) // 2\n",
    "mul = len(s)\n",
    "\n",
    "valid = True\n",
    "for i in range(n):\n",
    "    left = s[i] \n",
    "    right= s[mul-1-i]\n",
    "    print(left, right)\n",
    "    if left != right:\n",
    "        valid = False\n",
    "        break\n",
    "\n",
    "if valid:\n",
    "    print(\"Yes, it is a palindrome\")\n",
    "else:\n",
    "    print(\"No, it is not a palindrome\")"
   ]
  },
  {
   "cell_type": "code",
   "execution_count": 64,
   "id": "267405bc-4bef-4153-a359-3b73efc7e12a",
   "metadata": {},
   "outputs": [
    {
     "name": "stdout",
     "output_type": "stream",
     "text": [
      "a f\n",
      "No, it is not a palindrome\n"
     ]
    }
   ],
   "source": [
    "# Optimizing the code again with the break statement\n",
    "\n",
    "s = \"abcddcbf\"\n",
    "\n",
    "# n = 3\n",
    "# mul = n * 2\n",
    "\n",
    "n = len(s) // 2\n",
    "mul = len(s)\n",
    "\n",
    "valid = True\n",
    "for i in range(n):\n",
    "    left = s[i] \n",
    "    right= s[mul-1-i]\n",
    "    print(left, right)\n",
    "    if left != right:\n",
    "        valid = False\n",
    "        break\n",
    "    \n",
    "\n",
    "if valid:\n",
    "    print(\"Yes, it is a palindrome\")\n",
    "else:\n",
    "    print(\"No, it is not a palindrome\")"
   ]
  },
  {
   "cell_type": "code",
   "execution_count": 65,
   "id": "ae46bc09-067a-4f80-b46f-89f9d16dfbf8",
   "metadata": {},
   "outputs": [
    {
     "name": "stdout",
     "output_type": "stream",
     "text": [
      "a f\n",
      "No, it is not a palindrome\n"
     ]
    }
   ],
   "source": [
    "# Optimizing the code again with the break statement\n",
    "\n",
    "s = \"abcdecbf\"\n",
    "\n",
    "# n = 3\n",
    "# mul = n * 2\n",
    "\n",
    "n = len(s) // 2\n",
    "mul = len(s)\n",
    "\n",
    "valid = True\n",
    "for i in range(n):\n",
    "    left = s[i] \n",
    "    right= s[mul-1-i]\n",
    "    print(left, right)\n",
    "    if left != right:\n",
    "        valid = False\n",
    "        break\n",
    "    \n",
    "\n",
    "if valid:\n",
    "    print(\"Yes, it is a palindrome\")\n",
    "else:\n",
    "    print(\"No, it is not a palindrome\")"
   ]
  },
  {
   "cell_type": "markdown",
   "id": "3ba2446f-fdfc-496b-9ad0-542a801104e5",
   "metadata": {},
   "source": [
    "### Usage of break statement"
   ]
  },
  {
   "cell_type": "code",
   "execution_count": 66,
   "id": "e52972ef-9d76-4d5c-b59e-3fa975dd64c0",
   "metadata": {},
   "outputs": [
    {
     "name": "stdout",
     "output_type": "stream",
     "text": [
      "0\n",
      "1\n",
      "2\n",
      "3\n",
      "4\n"
     ]
    }
   ],
   "source": [
    "for i in range(5):\n",
    "\tprint(i)"
   ]
  },
  {
   "cell_type": "code",
   "execution_count": 67,
   "id": "5743df9b-d5a4-4381-8110-e6feaa7ddaf1",
   "metadata": {},
   "outputs": [
    {
     "name": "stdout",
     "output_type": "stream",
     "text": [
      "0\n",
      "1\n",
      "2\n",
      "3\n"
     ]
    }
   ],
   "source": [
    "for i in range(5):\n",
    "\tprint(i)\n",
    "\tif (i == 3):\n",
    "\t\tbreak"
   ]
  },
  {
   "cell_type": "code",
   "execution_count": 68,
   "id": "18b9b058-147f-4e9d-a740-9d5c9875d3cf",
   "metadata": {},
   "outputs": [
    {
     "name": "stdout",
     "output_type": "stream",
     "text": [
      "0\n"
     ]
    }
   ],
   "source": [
    "for i in range(5):\n",
    "\tprint(i)\n",
    "\tif (i == 0):\n",
    "\t\tbreak"
   ]
  },
  {
   "cell_type": "code",
   "execution_count": 69,
   "id": "b549ce78-85ac-4eae-9921-cfe114c9be53",
   "metadata": {},
   "outputs": [
    {
     "name": "stdout",
     "output_type": "stream",
     "text": [
      "0\n",
      "1\n",
      "2\n"
     ]
    }
   ],
   "source": [
    "for i in range(5):\n",
    "\tprint(i)\n",
    "\tif (i == 2):\n",
    "\t\tbreak"
   ]
  },
  {
   "cell_type": "code",
   "execution_count": 70,
   "id": "35623ee2-9558-4ef6-be46-2108420dd959",
   "metadata": {},
   "outputs": [
    {
     "name": "stdout",
     "output_type": "stream",
     "text": [
      "0\n",
      "1\n",
      "2\n",
      "3\n",
      "4\n"
     ]
    }
   ],
   "source": [
    "# Create your own `for` loop that includes a `break` statement.\n",
    "\n",
    "for i in range(5):\n",
    "\tprint(i)\n",
    "\tif (i == 4):\n",
    "\t\tbreak"
   ]
  },
  {
   "cell_type": "code",
   "execution_count": null,
   "id": "b67267e8-9709-417c-9c2a-373f3fc3a0fb",
   "metadata": {},
   "outputs": [],
   "source": []
  }
 ],
 "metadata": {
  "kernelspec": {
   "display_name": "Python 3 (ipykernel)",
   "language": "python",
   "name": "python3"
  },
  "language_info": {
   "codemirror_mode": {
    "name": "ipython",
    "version": 3
   },
   "file_extension": ".py",
   "mimetype": "text/x-python",
   "name": "python",
   "nbconvert_exporter": "python",
   "pygments_lexer": "ipython3",
   "version": "3.11.7"
  }
 },
 "nbformat": 4,
 "nbformat_minor": 5
}
