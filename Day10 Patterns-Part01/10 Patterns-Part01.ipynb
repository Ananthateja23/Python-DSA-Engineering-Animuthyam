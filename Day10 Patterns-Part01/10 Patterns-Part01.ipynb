{
 "cells": [
  {
   "cell_type": "markdown",
   "id": "17a282f5-e408-4068-b7ea-190aa5107c1a",
   "metadata": {},
   "source": [
    "# Understanding print statement"
   ]
  },
  {
   "cell_type": "code",
   "execution_count": 1,
   "id": "7ebf7ef7-d386-42ca-ae83-dfe6a29f6222",
   "metadata": {},
   "outputs": [
    {
     "name": "stdout",
     "output_type": "stream",
     "text": [
      "hello\n",
      "Ananth\n"
     ]
    }
   ],
   "source": [
    "print(\"hello\")\n",
    "print(\"Ananth\")"
   ]
  },
  {
   "cell_type": "code",
   "execution_count": 2,
   "id": "d5557aca-ab1c-46c5-b794-225a8b1b44ad",
   "metadata": {},
   "outputs": [
    {
     "name": "stdout",
     "output_type": "stream",
     "text": [
      "hello Ananth\n"
     ]
    }
   ],
   "source": [
    "print(\"hello\", end=\" \")\n",
    "print(\"Ananth\")"
   ]
  },
  {
   "cell_type": "code",
   "execution_count": 3,
   "id": "07c40602-0672-4194-a949-2626377887a2",
   "metadata": {},
   "outputs": [
    {
     "name": "stdout",
     "output_type": "stream",
     "text": [
      "hello\n",
      "Ananth\n"
     ]
    }
   ],
   "source": [
    "print(\"hello\", end=\"\\n\")\n",
    "print(\"Ananth\")"
   ]
  },
  {
   "cell_type": "code",
   "execution_count": 4,
   "id": "c607904a-eab8-4dc1-9009-11afaf16a1d7",
   "metadata": {},
   "outputs": [
    {
     "name": "stdout",
     "output_type": "stream",
     "text": [
      "hello1Ananth\n"
     ]
    }
   ],
   "source": [
    "print(\"hello\", end=\"1\")\n",
    "print(\"Ananth\")"
   ]
  },
  {
   "cell_type": "code",
   "execution_count": 5,
   "id": "29babc87-421f-4f1b-8761-97ed1a0a78a9",
   "metadata": {},
   "outputs": [
    {
     "name": "stdout",
     "output_type": "stream",
     "text": [
      "hello1Ananth\n",
      "BOOOM\n"
     ]
    }
   ],
   "source": [
    "print(\"hello\", end=\"1\")\n",
    "print(\"Ananth\")\n",
    "print(\"BOOOM\")"
   ]
  },
  {
   "cell_type": "code",
   "execution_count": 6,
   "id": "ef034cf0-4b23-4bba-8da5-7e375a4f12a4",
   "metadata": {},
   "outputs": [
    {
     "name": "stdout",
     "output_type": "stream",
     "text": [
      "hello1Ananth\n",
      "BOOOM5"
     ]
    }
   ],
   "source": [
    "print(\"hello\", end=\"1\")\n",
    "print(\"Ananth\")\n",
    "print(\"BOOOM\", end=\"5\")"
   ]
  },
  {
   "cell_type": "code",
   "execution_count": 7,
   "id": "2201bf68-a405-481b-82a6-4e100cfea02b",
   "metadata": {},
   "outputs": [
    {
     "name": "stdout",
     "output_type": "stream",
     "text": [
      "hello1Ananth8BOOOM5"
     ]
    }
   ],
   "source": [
    "print(\"hello\", end=\"1\")\n",
    "print(\"Ananth\", end=\"8\")\n",
    "print(\"BOOOM\", end=\"5\")"
   ]
  },
  {
   "cell_type": "code",
   "execution_count": 8,
   "id": "b0872a2f-5db5-42e2-ac5a-eac856705464",
   "metadata": {},
   "outputs": [
    {
     "name": "stdout",
     "output_type": "stream",
     "text": [
      "hello\n",
      "Ananth\n",
      "BOOOM\n"
     ]
    }
   ],
   "source": [
    "li = [\"hello\", \"Ananth\", \"BOOOM\"]\n",
    "\n",
    "for i in range(len(li)):\n",
    "    print(li[i])"
   ]
  },
  {
   "cell_type": "code",
   "execution_count": 9,
   "id": "17d859d7-d264-49ea-8f34-62de1440b7ab",
   "metadata": {},
   "outputs": [
    {
     "name": "stdout",
     "output_type": "stream",
     "text": [
      "helloAnanthBOOOM"
     ]
    }
   ],
   "source": [
    "li = [\"hello\", \"Ananth\", \"BOOOM\"]\n",
    "\n",
    "for i in range(len(li)):\n",
    "    print(li[i], end=\"\")"
   ]
  },
  {
   "cell_type": "code",
   "execution_count": 10,
   "id": "939c97f2-90fb-4395-989b-815815bcc9d3",
   "metadata": {},
   "outputs": [
    {
     "name": "stdout",
     "output_type": "stream",
     "text": [
      "hello Ananth BOOOM "
     ]
    }
   ],
   "source": [
    "li = [\"hello\", \"Ananth\", \"BOOOM\"]\n",
    "\n",
    "for i in range(len(li)):\n",
    "    print(li[i], end=\" \")"
   ]
  },
  {
   "cell_type": "code",
   "execution_count": 11,
   "id": "822ecc4f-3389-4cfb-a803-74502d42e318",
   "metadata": {},
   "outputs": [
    {
     "name": "stdout",
     "output_type": "stream",
     "text": [
      "hello,Ananth,BOOOM,"
     ]
    }
   ],
   "source": [
    "li = [\"hello\", \"Ananth\", \"BOOOM\"]\n",
    "\n",
    "for i in range(len(li)):\n",
    "    print(li[i], end=\",\")"
   ]
  },
  {
   "cell_type": "markdown",
   "id": "ad0243e7-a770-404d-8238-78de6bbc8e76",
   "metadata": {},
   "source": [
    "# Understanding patterns basics"
   ]
  },
  {
   "cell_type": "code",
   "execution_count": 12,
   "id": "a3e1ca81-d8da-4c32-91f7-3e9d9fb31abd",
   "metadata": {},
   "outputs": [
    {
     "name": "stdout",
     "output_type": "stream",
     "text": [
      "*\n",
      "*\n",
      "*\n",
      "*\n",
      "*\n",
      "*\n",
      "*\n",
      "*\n",
      "*\n"
     ]
    }
   ],
   "source": [
    "li = [[\"*\", \"*\", \"*\"], [\"*\", \"*\", \"*\"], [\"*\", \"*\", \"*\"]]\n",
    "\n",
    "r = len(li)\n",
    "c = len(li[0])\n",
    "\n",
    "for i in range(r):\n",
    "    for j in range(c):\n",
    "        print(li[i][j])"
   ]
  },
  {
   "cell_type": "code",
   "execution_count": 13,
   "id": "6354dea3-d64e-4283-b498-7a4621d9a199",
   "metadata": {},
   "outputs": [
    {
     "name": "stdout",
     "output_type": "stream",
     "text": [
      "* * * * * * * * * "
     ]
    }
   ],
   "source": [
    "li = [[\"*\", \"*\", \"*\"], [\"*\", \"*\", \"*\"], [\"*\", \"*\", \"*\"]]\n",
    "\n",
    "r = len(li)\n",
    "c = len(li[0])\n",
    "\n",
    "for i in range(r):\n",
    "    for j in range(c):\n",
    "        print(li[i][j], end=\" \")"
   ]
  },
  {
   "cell_type": "code",
   "execution_count": 14,
   "id": "b174e708-f7cf-4e76-89e9-332732dc0e3d",
   "metadata": {},
   "outputs": [
    {
     "name": "stdout",
     "output_type": "stream",
     "text": [
      "* * * Hai\n",
      "* * * Hai\n",
      "* * * Hai\n"
     ]
    }
   ],
   "source": [
    "li = [[\"*\", \"*\", \"*\"], [\"*\", \"*\", \"*\"], [\"*\", \"*\", \"*\"]]\n",
    "\n",
    "r = len(li)\n",
    "c = len(li[0])\n",
    "\n",
    "for i in range(r):\n",
    "    for j in range(c):\n",
    "        print(li[i][j], end=\" \")\n",
    "    print(\"Hai\")"
   ]
  },
  {
   "cell_type": "code",
   "execution_count": 15,
   "id": "eb812cc0-8a6a-46de-9c30-2b259afef5f4",
   "metadata": {},
   "outputs": [
    {
     "name": "stdout",
     "output_type": "stream",
     "text": [
      "* * * \n",
      "* * * \n",
      "* * * \n"
     ]
    }
   ],
   "source": [
    "li = [[\"*\", \"*\", \"*\"], [\"*\", \"*\", \"*\"], [\"*\", \"*\", \"*\"]]\n",
    "\n",
    "r = len(li)\n",
    "c = len(li[0])\n",
    "\n",
    "for i in range(r):\n",
    "    for j in range(c):\n",
    "        print(li[i][j], end=\" \")\n",
    "    print(\"\")"
   ]
  },
  {
   "cell_type": "code",
   "execution_count": 16,
   "id": "ade1b199-4ea9-4149-8ffd-a077f033edcf",
   "metadata": {},
   "outputs": [
    {
     "name": "stdout",
     "output_type": "stream",
     "text": [
      "* * * \n",
      "* * * \n",
      "* * * \n"
     ]
    }
   ],
   "source": [
    "li = [[\"*\", \"*\", \"*\"], [\"*\", \"*\", \"*\"], [\"*\", \"*\", \"*\"]]\n",
    "\n",
    "r = len(li)\n",
    "c = len(li[0])\n",
    "\n",
    "for i in range(r):\n",
    "    for j in range(c):\n",
    "        print(li[i][j], end=\" \")\n",
    "    print()"
   ]
  },
  {
   "cell_type": "code",
   "execution_count": 17,
   "id": "b49314c6-be83-476f-87c0-92ed172ef625",
   "metadata": {},
   "outputs": [
    {
     "name": "stdout",
     "output_type": "stream",
     "text": [
      "* * * \n",
      "* * * \n",
      "* * * \n"
     ]
    }
   ],
   "source": [
    "r = 3\n",
    "c = 3\n",
    "\n",
    "for i in range(r):\n",
    "    for j in range(c):\n",
    "        print(\"*\", end=\" \")\n",
    "    print()"
   ]
  },
  {
   "cell_type": "code",
   "execution_count": 18,
   "id": "263e9890-a6fd-4435-b042-a13c271d766a",
   "metadata": {},
   "outputs": [
    {
     "name": "stdout",
     "output_type": "stream",
     "text": [
      "*-*-*\n",
      "*-*-*\n",
      "*-*-*\n"
     ]
    }
   ],
   "source": [
    "# Optimizing the code to avoid space at the end\n",
    "\n",
    "r = 3\n",
    "c = 3\n",
    "\n",
    "for i in range(r):\n",
    "    for j in range(c):\n",
    "        print(\"*\", end = \"\")\n",
    "        if j != c-1:\n",
    "            print(\"-\", end = \"\")\n",
    "    print()"
   ]
  },
  {
   "cell_type": "code",
   "execution_count": 19,
   "id": "692436b1-e168-4b56-8aff-f5f646cc80e0",
   "metadata": {},
   "outputs": [
    {
     "name": "stdout",
     "output_type": "stream",
     "text": [
      "*-*-*-\n",
      "*-*-*-\n",
      "*-*-*-\n"
     ]
    }
   ],
   "source": [
    "r = 3\n",
    "c = 3\n",
    "\n",
    "for i in range(r):\n",
    "    for j in range(c):\n",
    "        print(\"*\", end=\"-\")\n",
    "    print()"
   ]
  },
  {
   "cell_type": "code",
   "execution_count": 20,
   "id": "78418ea9-7b3b-473e-8184-ba1e765cccb9",
   "metadata": {},
   "outputs": [
    {
     "name": "stdout",
     "output_type": "stream",
     "text": [
      "*-*-*\n",
      "*-*-*\n",
      "*-*-*\n"
     ]
    }
   ],
   "source": [
    "# Optimizing the code to avoid hypen at the end\n",
    "\n",
    "r = 3\n",
    "c = 3\n",
    "\n",
    "for i in range(r):\n",
    "    for j in range(c):\n",
    "        print(\"*\", end = \"\")\n",
    "        if j != c-1:\n",
    "            print(\"-\", end = \"\")\n",
    "    print()"
   ]
  },
  {
   "cell_type": "markdown",
   "id": "24fa2caf-a9ae-4f8d-9e7d-39921b20353e",
   "metadata": {},
   "source": [
    "# Pattern01: Dabba Mugu"
   ]
  },
  {
   "cell_type": "code",
   "execution_count": 21,
   "id": "f1921b2d-7a6b-402f-9b2e-91bdd9cd9ad7",
   "metadata": {},
   "outputs": [
    {
     "name": "stdout",
     "output_type": "stream",
     "text": [
      "* * *\n",
      "* * *\n",
      "* * *\n"
     ]
    }
   ],
   "source": [
    "# Optimizing the code to avoid space at the end\n",
    "\n",
    "r = 3\n",
    "c = 3\n",
    "\n",
    "for i in range(r):\n",
    "    for j in range(c):\n",
    "        print(\"*\", end = \"\")\n",
    "        if j != c-1:\n",
    "            print(\" \", end = \"\")\n",
    "    print()"
   ]
  },
  {
   "cell_type": "markdown",
   "id": "6864b4ce-6772-4663-ad9a-43888e43c746",
   "metadata": {},
   "source": [
    "# Pattern02: Dabba with pullalu mugu"
   ]
  },
  {
   "cell_type": "code",
   "execution_count": 22,
   "id": "d8cbf312-8e43-4950-9f90-f9d0a7b63292",
   "metadata": {},
   "outputs": [
    {
     "name": "stdout",
     "output_type": "stream",
     "text": [
      "*-*-*\n",
      "*-*-*\n",
      "*-*-*\n"
     ]
    }
   ],
   "source": [
    "# Optimizing the code to avoid hyphen at the end\n",
    "\n",
    "r = 3\n",
    "c = 3\n",
    "\n",
    "for i in range(r):\n",
    "    for j in range(c):\n",
    "        print(\"*\", end = \"\")\n",
    "        if j != c-1:\n",
    "            print(\"-\", end = \"\")\n",
    "    print()"
   ]
  },
  {
   "cell_type": "markdown",
   "id": "6bf9aebc-4d16-4ad4-bc1d-0f3c3d26c739",
   "metadata": {},
   "source": [
    "# Pattern03: Horizontal slept Mugu"
   ]
  },
  {
   "cell_type": "code",
   "execution_count": 23,
   "id": "bc6c27ee-993b-4f60-bea9-a1600c5c2922",
   "metadata": {},
   "outputs": [
    {
     "name": "stdout",
     "output_type": "stream",
     "text": [
      "* * * * * * * * * *\n",
      "* * * * * * * * * *\n",
      "* * * * * * * * * *\n"
     ]
    }
   ],
   "source": [
    "# Optimizing the code to avoid space at the end\n",
    "\n",
    "r = 3\n",
    "c = 10\n",
    "\n",
    "for i in range(r):\n",
    "    for j in range(c):\n",
    "        print(\"*\", end = \"\")\n",
    "        if j != c-1:\n",
    "            print(\" \", end = \"\")\n",
    "    print()"
   ]
  },
  {
   "cell_type": "markdown",
   "id": "2027700e-6f95-49a3-84b2-732c71d1bdff",
   "metadata": {},
   "source": [
    "# Pattern04: Vertical slept mugu"
   ]
  },
  {
   "cell_type": "code",
   "execution_count": 24,
   "id": "fcfa5d3c-6f8d-469d-ad93-4948dffdc6d6",
   "metadata": {},
   "outputs": [
    {
     "name": "stdout",
     "output_type": "stream",
     "text": [
      "* * *\n",
      "* * *\n",
      "* * *\n",
      "* * *\n",
      "* * *\n",
      "* * *\n",
      "* * *\n",
      "* * *\n",
      "* * *\n",
      "* * *\n"
     ]
    }
   ],
   "source": [
    "# Optimizing the code to avoid space at the end\n",
    "\n",
    "r = 10\n",
    "c = 3\n",
    "\n",
    "for i in range(r):\n",
    "    for j in range(c):\n",
    "        print(\"*\", end = \"\")\n",
    "        if j != c-1:\n",
    "            print(\" \", end = \"\")\n",
    "    print()"
   ]
  },
  {
   "cell_type": "code",
   "execution_count": null,
   "id": "4cd9ca05-73b4-40bc-996e-6d6c9be24918",
   "metadata": {},
   "outputs": [],
   "source": []
  }
 ],
 "metadata": {
  "kernelspec": {
   "display_name": "Python 3 (ipykernel)",
   "language": "python",
   "name": "python3"
  },
  "language_info": {
   "codemirror_mode": {
    "name": "ipython",
    "version": 3
   },
   "file_extension": ".py",
   "mimetype": "text/x-python",
   "name": "python",
   "nbconvert_exporter": "python",
   "pygments_lexer": "ipython3",
   "version": "3.11.7"
  }
 },
 "nbformat": 4,
 "nbformat_minor": 5
}
