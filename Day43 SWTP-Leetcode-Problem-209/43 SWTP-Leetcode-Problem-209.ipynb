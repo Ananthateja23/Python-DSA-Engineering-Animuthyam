{
 "cells": [
  {
   "cell_type": "markdown",
   "id": "bb9335d0-3aec-4b66-b95c-fa47484108c0",
   "metadata": {},
   "source": [
    "# Leetcode Problem : `209 Minimum Size Subarray Sum`\n",
    "- Click on the link to start solve the problem\n",
    "- <a href=\"https://leetcode.com/problems/minimum-size-subarray-sum/description/\">Leetcode-Problem</a>"
   ]
  },
  {
   "cell_type": "code",
   "execution_count": 1,
   "id": "5f6df502-99f2-4329-8655-8f9aae7d5a2f",
   "metadata": {},
   "outputs": [
    {
     "name": "stdout",
     "output_type": "stream",
     "text": [
      "1\n"
     ]
    }
   ],
   "source": [
    "nums = [1, 4, 4]\n",
    "target = 4\n",
    "l = 0\n",
    "ans = float(\"inf\")\n",
    "tsum = 0\n",
    "\n",
    "for r in range(len(nums)):\n",
    "    tsum += nums[r]\n",
    "    while tsum >= target:\n",
    "        ans = min(ans, r-l+1)\n",
    "        tsum -= nums[l]\n",
    "        l += 1\n",
    "if ans == float(\"inf\"):\n",
    "    print(0)\n",
    "print(ans)"
   ]
  },
  {
   "cell_type": "markdown",
   "id": "2a8cb426-261c-4baf-9310-94fce2b7ac2a",
   "metadata": {},
   "source": [
    "# Leetcode Problem Solved\n",
    "```python\n",
    "class Solution:\n",
    "    def minSubArrayLen(self, target: int, nums: List[int]) -> int:\n",
    "        ans = float(\"inf\")\n",
    "        l = 0\n",
    "        tsum = 0\n",
    "        n = len(nums)\n",
    "        for r in range(n):\n",
    "            tsum += nums[r]\n",
    "\n",
    "            while tsum >= target:\n",
    "                ans = min(ans, r-l+1)\n",
    "                tsum -= nums[l]\n",
    "                l += 1\n",
    "        if ans == float(\"inf\"):\n",
    "            return 0\n",
    "        return ans\n",
    "```"
   ]
  },
  {
   "cell_type": "code",
   "execution_count": null,
   "id": "7eee5b9a-d7ce-41a1-86e1-78c72286a801",
   "metadata": {},
   "outputs": [],
   "source": []
  }
 ],
 "metadata": {
  "kernelspec": {
   "display_name": "Python 3 (ipykernel)",
   "language": "python",
   "name": "python3"
  },
  "language_info": {
   "codemirror_mode": {
    "name": "ipython",
    "version": 3
   },
   "file_extension": ".py",
   "mimetype": "text/x-python",
   "name": "python",
   "nbconvert_exporter": "python",
   "pygments_lexer": "ipython3",
   "version": "3.11.7"
  }
 },
 "nbformat": 4,
 "nbformat_minor": 5
}
