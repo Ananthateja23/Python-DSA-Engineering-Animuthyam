{
 "cells": [
  {
   "cell_type": "markdown",
   "id": "e3d12a2f-1cdf-4039-a8e8-ee963ea8df2f",
   "metadata": {},
   "source": [
    "# Finding a number from group of number"
   ]
  },
  {
   "cell_type": "code",
   "execution_count": 1,
   "id": "0c8fcdf1-2c6a-491f-b7aa-ad85fbd39a9f",
   "metadata": {},
   "outputs": [
    {
     "name": "stdout",
     "output_type": "stream",
     "text": [
      "Yes\n"
     ]
    }
   ],
   "source": [
    "li = [1, 5, 8, 9, 3]\n",
    "\n",
    "if 5 in li:\n",
    "    print(\"Yes\")\n",
    "else:\n",
    "    print(\"No\")"
   ]
  },
  {
   "cell_type": "code",
   "execution_count": 2,
   "id": "a1c259a6-0b72-484a-82be-7717d13279b4",
   "metadata": {},
   "outputs": [
    {
     "name": "stdout",
     "output_type": "stream",
     "text": [
      "No\n"
     ]
    }
   ],
   "source": [
    "li = [1, 5, 8, 9, 3]\n",
    "\n",
    "if 50 in li:\n",
    "    print(\"Yes\")\n",
    "else:\n",
    "    print(\"No\")"
   ]
  },
  {
   "cell_type": "code",
   "execution_count": 3,
   "id": "88e62ad6-6a27-4bd5-9b02-9ca699d7ebb6",
   "metadata": {},
   "outputs": [
    {
     "name": "stdout",
     "output_type": "stream",
     "text": [
      "Yes\n"
     ]
    }
   ],
   "source": [
    "li = [1, 5, 8, 9, 3]\n",
    "found = False\n",
    "\n",
    "for i in range(len(li)):\n",
    "    if li[i] == 5:\n",
    "        found = True\n",
    "        \n",
    "if found:\n",
    "    print(\"Yes\")\n",
    "else:\n",
    "    print(\"No\")"
   ]
  },
  {
   "cell_type": "code",
   "execution_count": 4,
   "id": "7a49cdad-d4de-405d-8d6b-7909b1b0ff55",
   "metadata": {},
   "outputs": [
    {
     "name": "stdout",
     "output_type": "stream",
     "text": [
      "Yes\n",
      "No\n"
     ]
    }
   ],
   "source": [
    "# code that search for 5 in list\n",
    "li = [1, 5, 8, 9, 3]\n",
    "found = False\n",
    "\n",
    "for i in range(len(li)):\n",
    "    if li[i] == 5:\n",
    "        found = True\n",
    "        \n",
    "if found:\n",
    "    print(\"Yes\")\n",
    "else:\n",
    "    print(\"No\")\n",
    "\n",
    "# code that search for 10 in list\n",
    "li = [1, 5, 8, 9, 3]\n",
    "found = False\n",
    "\n",
    "for i in range(len(li)):\n",
    "    if li[i] == 10:\n",
    "        found = True\n",
    "        \n",
    "if found:\n",
    "    print(\"Yes\")\n",
    "else:\n",
    "    print(\"No\")"
   ]
  },
  {
   "cell_type": "code",
   "execution_count": 5,
   "id": "c3fbe000-b048-4325-97de-e18a1e546838",
   "metadata": {},
   "outputs": [
    {
     "name": "stdout",
     "output_type": "stream",
     "text": [
      "Yes\n",
      "No\n",
      "Yes\n"
     ]
    }
   ],
   "source": [
    "# code that search for 5 in list\n",
    "li = [1, 5, 8, 9, 3]\n",
    "found = False\n",
    "\n",
    "for i in range(len(li)):\n",
    "    if li[i] == 5:\n",
    "        found = True\n",
    "        \n",
    "if found:\n",
    "    print(\"Yes\")\n",
    "else:\n",
    "    print(\"No\")\n",
    "\n",
    "# code that search for 10 in list\n",
    "li = [1, 5, 8, 9, 3]\n",
    "found = False\n",
    "\n",
    "for i in range(len(li)):\n",
    "    if li[i] == 10:\n",
    "        found = True\n",
    "        \n",
    "if found:\n",
    "    print(\"Yes\")\n",
    "else:\n",
    "    print(\"No\")\n",
    "\n",
    "\n",
    "# code that search for 9 in list\n",
    "li = [1, 5, 8, 9, 3]\n",
    "found = False\n",
    "\n",
    "for i in range(len(li)):\n",
    "    if li[i] == 9:\n",
    "        found = True\n",
    "        \n",
    "if found:\n",
    "    print(\"Yes\")\n",
    "else:\n",
    "    print(\"No\")"
   ]
  },
  {
   "cell_type": "markdown",
   "id": "b9fb3f93-c812-43a2-9606-ffc2e2a1d019",
   "metadata": {},
   "source": [
    "**Note:**\n",
    "\n",
    "- Here, we can notice that after observing closely. If we increase search of elements one after the other, the time complexity will sequentially adding up.\n",
    "- So, We are looking for a solution that can solve the time complexity and also able to find it in O(1)"
   ]
  },
  {
   "cell_type": "code",
   "execution_count": 6,
   "id": "ccae0f0e-2922-4d33-ad2a-a3ec1ce573e3",
   "metadata": {},
   "outputs": [
    {
     "name": "stdout",
     "output_type": "stream",
     "text": [
      "Yes\n"
     ]
    }
   ],
   "source": [
    "li = {1, 5, 8, 9, 3}\n",
    "\n",
    "# time complexity: O(1)\n",
    "if 5 in li:\n",
    "    print(\"Yes\")\n",
    "else:\n",
    "    print(\"No\")"
   ]
  },
  {
   "cell_type": "code",
   "execution_count": 7,
   "id": "7b9b5c02-40fd-4637-9a37-69ab82409ecb",
   "metadata": {},
   "outputs": [
    {
     "name": "stdout",
     "output_type": "stream",
     "text": [
      "Yes\n",
      "No\n",
      "Yes\n"
     ]
    }
   ],
   "source": [
    "li = {1, 5, 8, 9, 3}\n",
    "\n",
    "# time complexity: O(1)\n",
    "if 5 in li:\n",
    "    print(\"Yes\")\n",
    "else:\n",
    "    print(\"No\")\n",
    "\n",
    "\n",
    "# time complexity: O(1)\n",
    "if 15 in li:\n",
    "    print(\"Yes\")\n",
    "else:\n",
    "    print(\"No\")\n",
    "\n",
    "\n",
    "# time complexity: O(1)\n",
    "if 9 in li:\n",
    "    print(\"Yes\")\n",
    "else:\n",
    "    print(\"No\")\n",
    "\n",
    "\n"
   ]
  },
  {
   "cell_type": "markdown",
   "id": "eba92d86-c4ec-49aa-a53b-3cbd799c031d",
   "metadata": {},
   "source": [
    "**Note:**\n",
    "\n",
    "- total time complexity is O(1) + O(1) + O(1) = O(3) i.e equal to O(1)\n",
    "- Accessing any element of set takes O(1)"
   ]
  },
  {
   "cell_type": "code",
   "execution_count": 8,
   "id": "98df1ca5-9eb1-4329-87ed-ed1fe2684556",
   "metadata": {},
   "outputs": [
    {
     "name": "stdout",
     "output_type": "stream",
     "text": [
      "set()\n",
      "<class 'set'>\n"
     ]
    }
   ],
   "source": [
    "# create a set\n",
    "s = set()\n",
    "print(s)\n",
    "print(type(s))"
   ]
  },
  {
   "cell_type": "code",
   "execution_count": 9,
   "id": "f64fa1f4-a7b5-417e-bc1a-59b640253d60",
   "metadata": {},
   "outputs": [
    {
     "name": "stdout",
     "output_type": "stream",
     "text": [
      "{}\n",
      "<class 'dict'>\n"
     ]
    }
   ],
   "source": [
    "# create a set\n",
    "s = {}\n",
    "print(s)\n",
    "print(type(s))"
   ]
  },
  {
   "cell_type": "code",
   "execution_count": 10,
   "id": "1725fe1c-575d-474a-9e05-dc2b1c89b5a4",
   "metadata": {},
   "outputs": [
    {
     "name": "stdout",
     "output_type": "stream",
     "text": [
      "{4, 5}\n",
      "<class 'set'>\n"
     ]
    }
   ],
   "source": [
    "# create a set\n",
    "s = {4, 5}\n",
    "print(s)\n",
    "print(type(s))"
   ]
  },
  {
   "cell_type": "code",
   "execution_count": 11,
   "id": "01ada741-4985-40dc-90cc-e13b081950d9",
   "metadata": {},
   "outputs": [
    {
     "name": "stdout",
     "output_type": "stream",
     "text": [
      "{5, 6}\n"
     ]
    }
   ],
   "source": [
    "# add elements to set\n",
    "s = set()\n",
    "s.add(5)\n",
    "s.add(6)\n",
    "print(s)"
   ]
  },
  {
   "cell_type": "code",
   "execution_count": 12,
   "id": "6e494a7d-e748-4ee8-893d-9cfa9622608c",
   "metadata": {},
   "outputs": [
    {
     "name": "stdout",
     "output_type": "stream",
     "text": [
      "{5, 6}\n"
     ]
    }
   ],
   "source": [
    "# add elements to set\n",
    "s = set()\n",
    "s.add(5)\n",
    "s.add(6)\n",
    "# duplicates not allowed in set\n",
    "s.add(5)\n",
    "print(s)"
   ]
  },
  {
   "cell_type": "code",
   "execution_count": 13,
   "id": "ac7f886d-1f5e-4468-85b2-faa6c5abdf06",
   "metadata": {},
   "outputs": [
    {
     "name": "stdout",
     "output_type": "stream",
     "text": [
      "{5, 6}\n"
     ]
    }
   ],
   "source": [
    "# add elements to set\n",
    "s = set()\n",
    "s.add(5)\n",
    "s.add(6)\n",
    "# duplicates not allowed in set\n",
    "s.add(5)\n",
    "s.add(6)\n",
    "print(s)"
   ]
  },
  {
   "cell_type": "code",
   "execution_count": 14,
   "id": "0da10049-1b90-4c82-bb16-38b10a295329",
   "metadata": {},
   "outputs": [
    {
     "name": "stdout",
     "output_type": "stream",
     "text": [
      "{5, 6, 7}\n"
     ]
    }
   ],
   "source": [
    "# add elements to set\n",
    "s = set()\n",
    "s.add(5)\n",
    "s.add(6)\n",
    "# duplicates not allowed in set\n",
    "s.add(5)\n",
    "s.add(7)\n",
    "print(s)"
   ]
  },
  {
   "cell_type": "code",
   "execution_count": 15,
   "id": "ee9c20ba-86f7-426e-930b-6fc93758755b",
   "metadata": {},
   "outputs": [
    {
     "name": "stdout",
     "output_type": "stream",
     "text": [
      "{5, 6}\n",
      "{5}\n"
     ]
    }
   ],
   "source": [
    "# remove element of set: \n",
    "# remove of element takes time complexity is O(1)\n",
    "s = set()\n",
    "s.add(5)\n",
    "s.add(6)\n",
    "print(s)\n",
    "s.add(5)\n",
    "s.remove(6)\n",
    "print(s)"
   ]
  },
  {
   "cell_type": "code",
   "execution_count": 16,
   "id": "74cc32f5-9eff-4b2a-a48c-55215ec34560",
   "metadata": {},
   "outputs": [
    {
     "name": "stdout",
     "output_type": "stream",
     "text": [
      "{5, 6}\n",
      "{5}\n",
      "yes\n"
     ]
    }
   ],
   "source": [
    "s = set()\n",
    "s.add(5)\n",
    "s.add(6)\n",
    "print(s)\n",
    "s.add(5)\n",
    "s.remove(6)\n",
    "print(s)\n",
    "\n",
    "if 5 in s:\n",
    "    print(\"yes\")"
   ]
  },
  {
   "cell_type": "code",
   "execution_count": 17,
   "id": "3f48e003-eb22-46bd-ba7f-3e2175adef5d",
   "metadata": {},
   "outputs": [
    {
     "name": "stdout",
     "output_type": "stream",
     "text": [
      "{5, 6}\n",
      "{5, 7}\n",
      "yes\n",
      "5\n",
      "7\n"
     ]
    }
   ],
   "source": [
    "s = set()\n",
    "s.add(5)\n",
    "s.add(6)\n",
    "print(s)\n",
    "s.add(5)\n",
    "s.remove(6)\n",
    "s.add(7)\n",
    "print(s)\n",
    "\n",
    "if 5 in s:\n",
    "    print(\"yes\")\n",
    "\n",
    "for i in s:\n",
    "    print(i)"
   ]
  },
  {
   "cell_type": "code",
   "execution_count": 18,
   "id": "e0505e76-4e7e-4fe5-a9e5-c7ca310c6f5b",
   "metadata": {},
   "outputs": [
    {
     "name": "stdout",
     "output_type": "stream",
     "text": [
      "{8, 5, 6, 7}\n"
     ]
    }
   ],
   "source": [
    "# convert list to set\n",
    "\n",
    "li = [5, 6, 7, 8]\n",
    "s  = set(li)\n",
    "print(s)"
   ]
  },
  {
   "cell_type": "markdown",
   "id": "28eb0aa2-aec0-43ef-b1ae-63a71fb6ba44",
   "metadata": {},
   "source": [
    "# Leetcode Problem : Set Mismatch\n",
    "- Click on the link to start solving the problem\n",
    "- [Leetcode-Problem](https://leetcode.com/problems/set-mismatch/description/)"
   ]
  },
  {
   "cell_type": "markdown",
   "id": "8ad4f8dd-3b9b-483e-a09f-4ce3ec0fc462",
   "metadata": {},
   "source": [
    "```python\n",
    "class Solution:\n",
    "    def findErrorNums(self, nums: List[int]) -> List[int]:\n",
    "        n = len(nums)\n",
    "        duplicate = -1\n",
    "        missing = -1\n",
    "        s = set()\n",
    "        for i in range(n):\n",
    "            val = nums[i]\n",
    "            if val not in s:\n",
    "                s.add(val)\n",
    "            else:\n",
    "                duplicate = val\n",
    "        for i in range(1, n+1):\n",
    "            if i not in s:\n",
    "                missing = i\n",
    "        return [duplicate, missing]\n",
    "```"
   ]
  },
  {
   "cell_type": "code",
   "execution_count": 19,
   "id": "bf926216-6277-4637-93b5-24e789e5c26f",
   "metadata": {},
   "outputs": [
    {
     "name": "stdout",
     "output_type": "stream",
     "text": [
      "[2, 3]\n"
     ]
    }
   ],
   "source": [
    "nums = [1, 2, 2, 4]\n",
    "n = len(nums)\n",
    "duplicate = -1\n",
    "missing = -1\n",
    "s = set()\n",
    "for i in range(n):\n",
    "    val = nums[i]\n",
    "    if val not in s:\n",
    "        s.add(val)\n",
    "    else:\n",
    "        duplicate = val\n",
    "for i in range(1, n+1):\n",
    "    if i not in s:\n",
    "        missing = i\n",
    "print([duplicate, missing])"
   ]
  },
  {
   "cell_type": "code",
   "execution_count": 20,
   "id": "81dfbaf0-a6fa-49af-9f72-6cffaaef1b89",
   "metadata": {},
   "outputs": [
    {
     "name": "stdout",
     "output_type": "stream",
     "text": [
      "[1, 2]\n"
     ]
    }
   ],
   "source": [
    "nums = [1, 1]\n",
    "n = len(nums)\n",
    "duplicate = -1\n",
    "missing = -1\n",
    "s = set()\n",
    "for i in range(n):\n",
    "    val = nums[i]\n",
    "    if val not in s:\n",
    "        s.add(val)\n",
    "    else:\n",
    "        duplicate = val\n",
    "for i in range(1, n+1):\n",
    "    if i not in s:\n",
    "        missing = i\n",
    "print([duplicate, missing])"
   ]
  },
  {
   "cell_type": "code",
   "execution_count": null,
   "id": "6242f779-6541-4df6-98fe-87e0bc2fc713",
   "metadata": {},
   "outputs": [],
   "source": []
  }
 ],
 "metadata": {
  "kernelspec": {
   "display_name": "Python 3 (ipykernel)",
   "language": "python",
   "name": "python3"
  },
  "language_info": {
   "codemirror_mode": {
    "name": "ipython",
    "version": 3
   },
   "file_extension": ".py",
   "mimetype": "text/x-python",
   "name": "python",
   "nbconvert_exporter": "python",
   "pygments_lexer": "ipython3",
   "version": "3.11.7"
  }
 },
 "nbformat": 4,
 "nbformat_minor": 5
}
