{
 "cells": [
  {
   "cell_type": "code",
   "execution_count": 1,
   "id": "adecf37f-9a97-4d98-8eb9-aa1cb3bad91b",
   "metadata": {},
   "outputs": [
    {
     "name": "stdout",
     "output_type": "stream",
     "text": [
      "My name is  Ananth\n"
     ]
    }
   ],
   "source": [
    "name = \"Ananth\"\n",
    "print(\"My name is \", name)"
   ]
  },
  {
   "cell_type": "code",
   "execution_count": 2,
   "id": "65338186-3174-4540-8be1-464d4cb02870",
   "metadata": {},
   "outputs": [
    {
     "name": "stdin",
     "output_type": "stream",
     "text": [
      " Ananth\n"
     ]
    },
    {
     "name": "stdout",
     "output_type": "stream",
     "text": [
      "My name is  Ananth\n"
     ]
    }
   ],
   "source": [
    "name = input()\n",
    "print(\"My name is \", name)"
   ]
  },
  {
   "cell_type": "code",
   "execution_count": 3,
   "id": "271e0d58-c331-4a29-9e45-4b91b2af9ade",
   "metadata": {},
   "outputs": [
    {
     "name": "stdin",
     "output_type": "stream",
     "text": [
      " Ananth\n",
      " Andhra Pradesh\n"
     ]
    },
    {
     "name": "stdout",
     "output_type": "stream",
     "text": [
      "My name is  Ananth\n",
      "I am from Andhra Pradesh\n"
     ]
    }
   ],
   "source": [
    "name = input()\n",
    "place = input()\n",
    "\n",
    "print(\"My name is \", name)\n",
    "print(\"I am from\", place)"
   ]
  },
  {
   "cell_type": "code",
   "execution_count": 4,
   "id": "6d1d0d53-ad8f-41b3-9693-d2f45999fd11",
   "metadata": {},
   "outputs": [
    {
     "name": "stdin",
     "output_type": "stream",
     "text": [
      "Enter your name :  Ananth\n",
      "Enter your place :  Andhra Pradesh\n"
     ]
    },
    {
     "name": "stdout",
     "output_type": "stream",
     "text": [
      "My name is  Ananth\n",
      "I am from Andhra Pradesh\n"
     ]
    }
   ],
   "source": [
    "name = input(\"Enter your name : \")\n",
    "place = input(\"Enter your place : \")\n",
    "\n",
    "print(\"My name is \", name)\n",
    "print(\"I am from\", place)"
   ]
  },
  {
   "cell_type": "markdown",
   "id": "932f5b09-a558-4cbb-8917-0497da00df5e",
   "metadata": {},
   "source": [
    "# Learning type() function"
   ]
  },
  {
   "cell_type": "code",
   "execution_count": 5,
   "id": "b791cb99-2bea-4274-b333-6b490f2cd15c",
   "metadata": {},
   "outputs": [
    {
     "name": "stdout",
     "output_type": "stream",
     "text": [
      "<class 'str'>\n",
      "Ananth\n"
     ]
    }
   ],
   "source": [
    "s = \"Ananth\"\n",
    "print(type(s))\n",
    "print(s)"
   ]
  },
  {
   "cell_type": "code",
   "execution_count": 6,
   "id": "551ceb9d-bd3c-4c26-a9f6-09835c16d97a",
   "metadata": {},
   "outputs": [
    {
     "name": "stdout",
     "output_type": "stream",
     "text": [
      "<class 'int'>\n",
      "4\n"
     ]
    }
   ],
   "source": [
    "n = 4\n",
    "print(type(n))\n",
    "print(n)"
   ]
  },
  {
   "cell_type": "code",
   "execution_count": 7,
   "id": "7e663c14-bbce-4b7b-abe4-ae1c2f5df011",
   "metadata": {},
   "outputs": [
    {
     "name": "stdout",
     "output_type": "stream",
     "text": [
      "<class 'str'>\n",
      "4\n"
     ]
    }
   ],
   "source": [
    "n = \"4\"\n",
    "print(type(n))\n",
    "print(n)"
   ]
  },
  {
   "cell_type": "markdown",
   "id": "c5fd4b93-1f4e-4e08-807f-959bb9074b9c",
   "metadata": {},
   "source": [
    "# Coming back to inputs in python"
   ]
  },
  {
   "cell_type": "code",
   "execution_count": 8,
   "id": "58e935f5-d37d-4085-a5ac-4b01a7c28966",
   "metadata": {},
   "outputs": [
    {
     "name": "stdin",
     "output_type": "stream",
     "text": [
      "Enter number :  5\n"
     ]
    },
    {
     "name": "stdout",
     "output_type": "stream",
     "text": [
      "<class 'str'>\n",
      "5\n"
     ]
    }
   ],
   "source": [
    "n = input(\"Enter number : \")\n",
    "print(type(n))\n",
    "print(n)"
   ]
  },
  {
   "cell_type": "code",
   "execution_count": 9,
   "id": "75db059f-9a75-4740-9992-7822c36def38",
   "metadata": {},
   "outputs": [
    {
     "name": "stdin",
     "output_type": "stream",
     "text": [
      "Enter number :  4\n"
     ]
    },
    {
     "name": "stdout",
     "output_type": "stream",
     "text": [
      "<class 'str'>\n"
     ]
    },
    {
     "ename": "TypeError",
     "evalue": "can only concatenate str (not \"int\") to str",
     "output_type": "error",
     "traceback": [
      "\u001b[1;31m---------------------------------------------------------------------------\u001b[0m",
      "\u001b[1;31mTypeError\u001b[0m                                 Traceback (most recent call last)",
      "Cell \u001b[1;32mIn[9], line 3\u001b[0m\n\u001b[0;32m      1\u001b[0m n \u001b[38;5;241m=\u001b[39m \u001b[38;5;28minput\u001b[39m(\u001b[38;5;124m\"\u001b[39m\u001b[38;5;124mEnter number : \u001b[39m\u001b[38;5;124m\"\u001b[39m)\n\u001b[0;32m      2\u001b[0m \u001b[38;5;28mprint\u001b[39m(\u001b[38;5;28mtype\u001b[39m(n))\n\u001b[1;32m----> 3\u001b[0m \u001b[38;5;28mprint\u001b[39m(n\u001b[38;5;241m+\u001b[39m\u001b[38;5;241m3\u001b[39m)\n",
      "\u001b[1;31mTypeError\u001b[0m: can only concatenate str (not \"int\") to str"
     ]
    }
   ],
   "source": [
    "n = input(\"Enter number : \")\n",
    "print(type(n))\n",
    "print(n+3)"
   ]
  },
  {
   "cell_type": "code",
   "execution_count": 10,
   "id": "4ab7c68e-4bfa-4bac-a040-321ba925bc47",
   "metadata": {},
   "outputs": [
    {
     "name": "stdin",
     "output_type": "stream",
     "text": [
      "Enter number :  4\n"
     ]
    },
    {
     "name": "stdout",
     "output_type": "stream",
     "text": [
      "<class 'int'>\n",
      "7\n"
     ]
    }
   ],
   "source": [
    "n = int(input(\"Enter number : \"))\n",
    "print(type(n))\n",
    "print(n+3)"
   ]
  },
  {
   "cell_type": "code",
   "execution_count": 11,
   "id": "3f2ee03e-e7fc-43e3-898c-1a69c1ecf460",
   "metadata": {},
   "outputs": [
    {
     "name": "stdin",
     "output_type": "stream",
     "text": [
      "Enter your name :  Ananth\n",
      "Enter your age :  25\n"
     ]
    },
    {
     "name": "stdout",
     "output_type": "stream",
     "text": [
      "My name is  Ananth\n",
      "My age is  25\n"
     ]
    }
   ],
   "source": [
    "name = input(\"Enter your name : \")\n",
    "age = int(input(\"Enter your age : \"))\n",
    "\n",
    "print(\"My name is \", name)\n",
    "print(\"My age is \", age)"
   ]
  },
  {
   "cell_type": "code",
   "execution_count": 12,
   "id": "689d79ec-43c3-4029-9e55-a913312f1d80",
   "metadata": {},
   "outputs": [
    {
     "name": "stdin",
     "output_type": "stream",
     "text": [
      "Enter your name :  Ananth\n",
      "Enter your age :  25\n"
     ]
    },
    {
     "name": "stdout",
     "output_type": "stream",
     "text": [
      "My name is  Ananth\n",
      "My age is  125\n"
     ]
    }
   ],
   "source": [
    "name = input(\"Enter your name : \")\n",
    "age = int(input(\"Enter your age : \"))\n",
    "\n",
    "print(\"My name is \", name)\n",
    "print(\"My age is \", age+100)"
   ]
  },
  {
   "cell_type": "markdown",
   "id": "508e68c6-c2fb-41e0-99e3-f67deb659c5b",
   "metadata": {},
   "source": [
    "# Taking array input in python"
   ]
  },
  {
   "cell_type": "code",
   "execution_count": 13,
   "id": "b4259077-2e02-453a-a975-3d7bdb8d40d8",
   "metadata": {},
   "outputs": [
    {
     "name": "stdin",
     "output_type": "stream",
     "text": [
      "Enter number : 1\n",
      "Enter number : 4\n",
      "Enter number : 1\n"
     ]
    },
    {
     "name": "stdout",
     "output_type": "stream",
     "text": [
      "['1', '4', '1']\n"
     ]
    }
   ],
   "source": [
    "li = []\n",
    "n = 3\n",
    "for i in range(n):\n",
    "    temp = input(\"Enter number :\")\n",
    "    li.append(temp)\n",
    "print(li)"
   ]
  },
  {
   "cell_type": "code",
   "execution_count": 15,
   "id": "666e13ad-6750-4110-8422-11b903d8ca80",
   "metadata": {},
   "outputs": [
    {
     "name": "stdin",
     "output_type": "stream",
     "text": [
      "Enter number :  4\n",
      "Enter number :  6\n",
      "Enter number :  8\n"
     ]
    },
    {
     "name": "stdout",
     "output_type": "stream",
     "text": [
      "[4, 6, 8]\n"
     ]
    }
   ],
   "source": [
    "li = []\n",
    "n = 3\n",
    "for i in range(n):\n",
    "    temp = int(input(\"Enter number : \"))\n",
    "    li.append(temp)\n",
    "print(li)"
   ]
  },
  {
   "cell_type": "code",
   "execution_count": 16,
   "id": "eb955d6f-7320-4394-b596-e15170d7282c",
   "metadata": {},
   "outputs": [
    {
     "name": "stdin",
     "output_type": "stream",
     "text": [
      "Enter the values:  1 4 1\n"
     ]
    },
    {
     "name": "stdout",
     "output_type": "stream",
     "text": [
      "1 4 1\n"
     ]
    }
   ],
   "source": [
    "s = input(\"Enter the values: \")\n",
    "print(s)"
   ]
  },
  {
   "cell_type": "markdown",
   "id": "95560e5b-de1b-48cf-920f-3bb78d998ed3",
   "metadata": {},
   "source": [
    "# Understanding the split() function"
   ]
  },
  {
   "cell_type": "code",
   "execution_count": 17,
   "id": "03b7c024-13a3-4423-8afb-e1ea25aa86c8",
   "metadata": {},
   "outputs": [
    {
     "name": "stdin",
     "output_type": "stream",
     "text": [
      "Enter the values :  1 4 1\n"
     ]
    },
    {
     "name": "stdout",
     "output_type": "stream",
     "text": [
      "['1', '4', '1']\n"
     ]
    }
   ],
   "source": [
    "s = input(\"Enter the values : \")\n",
    "print(s.split())"
   ]
  },
  {
   "cell_type": "code",
   "execution_count": 18,
   "id": "ad8553a4-401d-448c-b496-473c4151bd7e",
   "metadata": {},
   "outputs": [
    {
     "name": "stdin",
     "output_type": "stream",
     "text": [
      "Enter the values :  1 4 6\n"
     ]
    },
    {
     "name": "stdout",
     "output_type": "stream",
     "text": [
      "['1', '4', '6']\n"
     ]
    }
   ],
   "source": [
    "s = input(\"Enter the values : \")\n",
    "temp = s.split()\n",
    "print(temp)"
   ]
  },
  {
   "cell_type": "code",
   "execution_count": 19,
   "id": "fa2c844b-de2d-41d9-b4b7-3f4b6fd43a51",
   "metadata": {},
   "outputs": [
    {
     "name": "stdin",
     "output_type": "stream",
     "text": [
      "Enter the values :  1,4,6\n"
     ]
    },
    {
     "name": "stdout",
     "output_type": "stream",
     "text": [
      "['1', '4', '6']\n"
     ]
    }
   ],
   "source": [
    "s = input(\"Enter the values : \")\n",
    "temp = s.split(\",\")\n",
    "print(temp)"
   ]
  },
  {
   "cell_type": "code",
   "execution_count": 20,
   "id": "ed6bdd71-1132-4efa-b44d-dc2b292f28f9",
   "metadata": {},
   "outputs": [
    {
     "name": "stdin",
     "output_type": "stream",
     "text": [
      "Enter the values :  1 4 6\n"
     ]
    },
    {
     "name": "stdout",
     "output_type": "stream",
     "text": [
      "['1 4 6']\n"
     ]
    }
   ],
   "source": [
    "s = input(\"Enter the values : \")\n",
    "temp = s.split(\",\")\n",
    "print(temp)"
   ]
  },
  {
   "cell_type": "markdown",
   "id": "25b50728-ccea-4d2b-ab91-7cb00d625278",
   "metadata": {},
   "source": [
    "# Coming back to array input"
   ]
  },
  {
   "cell_type": "code",
   "execution_count": 21,
   "id": "f615310a-d9d3-4096-864a-482a9a18c59b",
   "metadata": {},
   "outputs": [
    {
     "name": "stdout",
     "output_type": "stream",
     "text": [
      "['1', '4', '6']\n"
     ]
    }
   ],
   "source": [
    "li = []\n",
    "s = \"1 4 6\"\n",
    "temp = s.split()\n",
    "for i in range(len(temp)):\n",
    "    val = temp[i]\n",
    "    li.append(val)\n",
    "print(li)"
   ]
  },
  {
   "cell_type": "code",
   "execution_count": 22,
   "id": "9f8d20c6-6a2e-4b8e-9994-2161283a9245",
   "metadata": {},
   "outputs": [
    {
     "name": "stdout",
     "output_type": "stream",
     "text": [
      "[1, 4, 6]\n"
     ]
    }
   ],
   "source": [
    "li = []\n",
    "s = \"1 4 6\"\n",
    "temp = s.split()\n",
    "for i in range(len(temp)):\n",
    "    val = int(temp[i])\n",
    "    li.append(val)\n",
    "print(li)"
   ]
  },
  {
   "cell_type": "code",
   "execution_count": 24,
   "id": "30b86f6a-e7b3-4021-af78-5dbc5fb69ead",
   "metadata": {},
   "outputs": [
    {
     "name": "stdin",
     "output_type": "stream",
     "text": [
      " 1 4 6\n"
     ]
    },
    {
     "name": "stdout",
     "output_type": "stream",
     "text": [
      "[1, 4, 6]\n"
     ]
    }
   ],
   "source": [
    "li = []\n",
    "s = input()\n",
    "temp = s.split()\n",
    "for i in range(len(temp)):\n",
    "    val = int(temp[i])\n",
    "    li.append(val)\n",
    "print(li)"
   ]
  },
  {
   "cell_type": "markdown",
   "id": "44969fde-45db-4b6d-96de-2e10857230bb",
   "metadata": {},
   "source": [
    "# Understanding the best way to take array input"
   ]
  },
  {
   "cell_type": "code",
   "execution_count": 25,
   "id": "9c386c1e-10e1-4524-9606-091b71f36ef9",
   "metadata": {},
   "outputs": [
    {
     "name": "stdin",
     "output_type": "stream",
     "text": [
      " 9 6 3\n"
     ]
    },
    {
     "name": "stdout",
     "output_type": "stream",
     "text": [
      "[9, 6, 3]\n"
     ]
    }
   ],
   "source": [
    "li = list(map(int, input().split()))\n",
    "print(li)"
   ]
  },
  {
   "cell_type": "markdown",
   "id": "88e07d96-df95-4806-9010-a3650b06ed9d",
   "metadata": {},
   "source": [
    "# Explanation"
   ]
  },
  {
   "cell_type": "code",
   "execution_count": 26,
   "id": "dafdbb67-ada9-421e-8c3f-98c35c0576dd",
   "metadata": {},
   "outputs": [
    {
     "name": "stdout",
     "output_type": "stream",
     "text": [
      "['9', '6', '3']\n"
     ]
    }
   ],
   "source": [
    "temp = \"9 6 3\".split()\n",
    "print(temp)"
   ]
  },
  {
   "cell_type": "code",
   "execution_count": 27,
   "id": "6689a494-0c99-4ef0-998f-a1d726bfcc7e",
   "metadata": {},
   "outputs": [
    {
     "name": "stdout",
     "output_type": "stream",
     "text": [
      "['9', '6', '3']\n",
      "<map object at 0x00000225367A2380>\n"
     ]
    }
   ],
   "source": [
    "temp = \"9 6 3\".split()\n",
    "print(temp)\n",
    "li = map(int, temp)\n",
    "print(li)"
   ]
  },
  {
   "cell_type": "code",
   "execution_count": 28,
   "id": "93375387-c2a2-450b-81c5-6cd6ac447872",
   "metadata": {},
   "outputs": [
    {
     "name": "stdout",
     "output_type": "stream",
     "text": [
      "['9', '6', '3']\n",
      "[9, 6, 3]\n"
     ]
    }
   ],
   "source": [
    "temp = \"9 6 3\".split()\n",
    "print(temp)\n",
    "li = list(map(int, temp))\n",
    "print(li)"
   ]
  },
  {
   "cell_type": "code",
   "execution_count": 29,
   "id": "c4e094ce-c5f7-4964-b4eb-165db9e88349",
   "metadata": {},
   "outputs": [
    {
     "name": "stdout",
     "output_type": "stream",
     "text": [
      "[9, 6, 3]\n"
     ]
    }
   ],
   "source": [
    "li = list(map(int, \"9 6 3\".split()))\n",
    "print(li)"
   ]
  },
  {
   "cell_type": "code",
   "execution_count": 30,
   "id": "7f7fbedb-2066-470c-ab83-66ae0bbda764",
   "metadata": {},
   "outputs": [
    {
     "name": "stdin",
     "output_type": "stream",
     "text": [
      " 9 6 3\n"
     ]
    },
    {
     "name": "stdout",
     "output_type": "stream",
     "text": [
      "[9, 6, 3]\n"
     ]
    }
   ],
   "source": [
    "li = list(map(int, input().split()))\n",
    "print(li)"
   ]
  },
  {
   "cell_type": "code",
   "execution_count": null,
   "id": "70f09531-a17e-4dda-bcd8-562531644bfc",
   "metadata": {},
   "outputs": [],
   "source": []
  }
 ],
 "metadata": {
  "kernelspec": {
   "display_name": "Python 3 (ipykernel)",
   "language": "python",
   "name": "python3"
  },
  "language_info": {
   "codemirror_mode": {
    "name": "ipython",
    "version": 3
   },
   "file_extension": ".py",
   "mimetype": "text/x-python",
   "name": "python",
   "nbconvert_exporter": "python",
   "pygments_lexer": "ipython3",
   "version": "3.11.7"
  }
 },
 "nbformat": 4,
 "nbformat_minor": 5
}
