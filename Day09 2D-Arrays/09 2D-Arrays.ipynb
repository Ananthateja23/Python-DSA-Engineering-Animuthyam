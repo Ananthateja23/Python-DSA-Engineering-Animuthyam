{
 "cells": [
  {
   "cell_type": "markdown",
   "id": "54badaff-bf0e-43d8-9b4f-fe3a2a5eebfd",
   "metadata": {},
   "source": [
    "# Understanding 2D arrays"
   ]
  },
  {
   "cell_type": "code",
   "execution_count": 1,
   "id": "d5516faa-9d00-4e7a-990a-96370475b1d1",
   "metadata": {},
   "outputs": [
    {
     "name": "stdout",
     "output_type": "stream",
     "text": [
      "[[1, 4, 5], [2, 0, 8]]\n"
     ]
    }
   ],
   "source": [
    "li = [[1, 4, 5], [2, 0, 8]]\n",
    "print(li)"
   ]
  },
  {
   "cell_type": "code",
   "execution_count": 2,
   "id": "08aa384a-1418-4460-8cd1-833e3fa3fb83",
   "metadata": {},
   "outputs": [
    {
     "name": "stdout",
     "output_type": "stream",
     "text": [
      "[[3, 4, 5], [6, 7, 8], [9, 10, 11]]\n"
     ]
    }
   ],
   "source": [
    "mat = [[3, 4, 5], [6, 7, 8], [9, 10, 11]]\n",
    "print(mat)"
   ]
  },
  {
   "cell_type": "markdown",
   "id": "637e4e3d-ba57-463d-b316-ac255297286a",
   "metadata": {},
   "source": [
    "# Understanding how to access the elements of 2D array"
   ]
  },
  {
   "cell_type": "code",
   "execution_count": 3,
   "id": "abd4b497-84c5-4c5a-a929-7f2246163ef8",
   "metadata": {},
   "outputs": [
    {
     "name": "stdout",
     "output_type": "stream",
     "text": [
      "4\n",
      "5\n",
      "6\n"
     ]
    }
   ],
   "source": [
    "li = [4, 5, 6]\n",
    "\n",
    "for i in range(3):\n",
    "    print(li[i])"
   ]
  },
  {
   "cell_type": "code",
   "execution_count": 4,
   "id": "09f7b893-e6a1-4fc6-a1d9-410690e6905e",
   "metadata": {},
   "outputs": [
    {
     "name": "stdout",
     "output_type": "stream",
     "text": [
      "[[3, 4, 5], [6, 7, 8], [9, 10, 11]]\n"
     ]
    }
   ],
   "source": [
    "mat = [[3, 4, 5], [6, 7, 8], [9, 10, 11]]\n",
    "print(mat)"
   ]
  },
  {
   "cell_type": "code",
   "execution_count": 5,
   "id": "1cc1397a-aa1c-4bd1-be37-98211575408c",
   "metadata": {},
   "outputs": [
    {
     "name": "stdout",
     "output_type": "stream",
     "text": [
      "[3, 4, 5]\n",
      "3\n",
      "5\n",
      "11\n",
      "7\n",
      "8\n"
     ]
    }
   ],
   "source": [
    "print(mat[0])\n",
    "print(mat[0][0])\n",
    "print(mat[0][2])\n",
    "print(mat[2][2])\n",
    "print(mat[1][1])\n",
    "print(mat[1][2])"
   ]
  },
  {
   "cell_type": "code",
   "execution_count": 6,
   "id": "e7223b9f-424b-4564-a585-a50b306ec1cb",
   "metadata": {},
   "outputs": [
    {
     "name": "stdout",
     "output_type": "stream",
     "text": [
      "[3, 4, 5]\n",
      "[6, 7, 8]\n",
      "[9, 10, 11]\n"
     ]
    }
   ],
   "source": [
    "mat = [[3, 4, 5], [6, 7, 8], [9, 10, 11]]\n",
    "\n",
    "for i in range(3):\n",
    "    print(mat[i])"
   ]
  },
  {
   "cell_type": "code",
   "execution_count": 7,
   "id": "232c5f37-ceea-4acd-8890-a078101d0111",
   "metadata": {},
   "outputs": [
    {
     "name": "stdout",
     "output_type": "stream",
     "text": [
      "3\n",
      "4\n",
      "5\n"
     ]
    }
   ],
   "source": [
    "li = [3, 4, 5]\n",
    "\n",
    "for j in range(3):\n",
    "    print(li[j])"
   ]
  },
  {
   "cell_type": "code",
   "execution_count": 8,
   "id": "11b56c1a-38f9-4d49-a9b4-c6e3917370a4",
   "metadata": {},
   "outputs": [
    {
     "name": "stdout",
     "output_type": "stream",
     "text": [
      "3\n",
      "4\n",
      "5\n",
      "6\n",
      "7\n",
      "8\n",
      "9\n",
      "10\n",
      "11\n"
     ]
    }
   ],
   "source": [
    "mat = [[3, 4, 5], [6, 7, 8], [9, 10, 11]]\n",
    "\n",
    "for i in range(3):\n",
    "    for j in range(3):\n",
    "        print(mat[i][j])"
   ]
  },
  {
   "cell_type": "code",
   "execution_count": 9,
   "id": "7dfb46dc-cd10-4eb0-8c2d-82ced90c6c17",
   "metadata": {},
   "outputs": [
    {
     "name": "stdout",
     "output_type": "stream",
     "text": [
      "0 0\n",
      "0 1\n",
      "0 2\n",
      "1 0\n",
      "1 1\n",
      "1 2\n",
      "2 0\n",
      "2 1\n",
      "2 2\n"
     ]
    }
   ],
   "source": [
    "for i in range(3):\n",
    "    for j in range(3):\n",
    "        print(i, j)"
   ]
  },
  {
   "cell_type": "code",
   "execution_count": 11,
   "id": "72a77e60-352a-45cc-87b9-2b8aa34ec6a9",
   "metadata": {},
   "outputs": [
    {
     "name": "stdout",
     "output_type": "stream",
     "text": [
      "3\n",
      "4\n",
      "5\n",
      "6\n",
      "7\n",
      "8\n",
      "9\n",
      "10\n",
      "11\n"
     ]
    }
   ],
   "source": [
    "mat = [[3, 4, 5], [6, 7, 8], [9, 10, 11], [5, 6, 8]]\n",
    "\n",
    "for i in range(3):\n",
    "\tfor j in range(3):\n",
    "\t\tprint(mat[i][j])"
   ]
  },
  {
   "cell_type": "code",
   "execution_count": 12,
   "id": "c7c2f616-011d-4c24-82e3-ccdcfaeb10df",
   "metadata": {},
   "outputs": [
    {
     "name": "stdout",
     "output_type": "stream",
     "text": [
      "3\n",
      "4\n",
      "5\n",
      "6\n",
      "7\n",
      "8\n",
      "9\n",
      "10\n",
      "11\n",
      "5\n",
      "6\n",
      "8\n"
     ]
    }
   ],
   "source": [
    "mat = [[3, 4, 5], [6, 7, 8], [9, 10, 11], [5, 6, 8]]\n",
    "\n",
    "for i in range(4):\n",
    "\tfor j in range(3):\n",
    "\t\tprint(mat[i][j])"
   ]
  },
  {
   "cell_type": "markdown",
   "id": "5ecc388a-fc0c-47a8-86ac-23f21b113e88",
   "metadata": {},
   "source": [
    "# Understanding rows and columns"
   ]
  },
  {
   "cell_type": "code",
   "execution_count": 13,
   "id": "4fc3cc2e-ff3e-4848-b974-54fff00768d8",
   "metadata": {},
   "outputs": [
    {
     "name": "stdout",
     "output_type": "stream",
     "text": [
      "4\n"
     ]
    }
   ],
   "source": [
    "mat = [[3, 4, 5], [6, 7, 8], [9, 10, 11], [5, 6, 8]]\n",
    "\n",
    "r = len(mat)\n",
    "print(r)"
   ]
  },
  {
   "cell_type": "code",
   "execution_count": 14,
   "id": "2b0059dc-0f11-4e97-a61a-db8175b2fdc1",
   "metadata": {},
   "outputs": [
    {
     "name": "stdout",
     "output_type": "stream",
     "text": [
      "3\n"
     ]
    }
   ],
   "source": [
    "c = len(mat[0])\n",
    "print(c)"
   ]
  },
  {
   "cell_type": "markdown",
   "id": "fe1435ef-74bd-462f-b20b-380b707ffa0a",
   "metadata": {},
   "source": [
    "# Understanding how to run for loop using rows and columns"
   ]
  },
  {
   "cell_type": "code",
   "execution_count": 15,
   "id": "46634a0f-a53e-4881-a138-14e3f6686c94",
   "metadata": {},
   "outputs": [
    {
     "name": "stdout",
     "output_type": "stream",
     "text": [
      "3\n",
      "4\n",
      "5\n",
      "6\n",
      "7\n",
      "8\n",
      "9\n",
      "10\n",
      "11\n",
      "5\n",
      "6\n",
      "8\n"
     ]
    }
   ],
   "source": [
    "mat = [[3, 4, 5], [6, 7, 8], [9, 10, 11], [5, 6, 8]]\n",
    "\n",
    "r = len(mat)\n",
    "c = len(mat[0])\n",
    "\n",
    "for i in range(r):\n",
    "    for j in range(c):\n",
    "        print(mat[i][j])"
   ]
  },
  {
   "cell_type": "code",
   "execution_count": 16,
   "id": "1092bb71-5f50-496f-988f-42ff935c11db",
   "metadata": {},
   "outputs": [
    {
     "name": "stdout",
     "output_type": "stream",
     "text": [
      "1\n",
      "2\n",
      "5\n",
      "6\n"
     ]
    }
   ],
   "source": [
    "mat = [[1, 2], [5, 6]]\n",
    "\n",
    "r = len(mat)\n",
    "c = len(mat[0])\n",
    "\n",
    "for i in range(r):\n",
    "    for j in range(c):\n",
    "        print(mat[i][j])"
   ]
  },
  {
   "cell_type": "code",
   "execution_count": 17,
   "id": "a951902a-4e97-4521-83f3-33ce1b125b83",
   "metadata": {},
   "outputs": [
    {
     "name": "stdout",
     "output_type": "stream",
     "text": [
      "1\n",
      "2\n",
      "5\n",
      "6\n",
      "7\n",
      "8\n"
     ]
    }
   ],
   "source": [
    "mat = [[1, 2], [5, 6], [7, 8]]\n",
    "\n",
    "r = len(mat)\n",
    "c = len(mat[0])\n",
    "\n",
    "for i in range(r):\n",
    "    for j in range(c):\n",
    "        print(mat[i][j])"
   ]
  },
  {
   "cell_type": "markdown",
   "id": "400d230f-6d00-4b92-a0ee-70c35adc7c13",
   "metadata": {},
   "source": [
    "# Understanding how to print each row seperately"
   ]
  },
  {
   "cell_type": "code",
   "execution_count": 18,
   "id": "3a305d6e-fc8b-40f7-a323-f5aa65fef0e2",
   "metadata": {},
   "outputs": [
    {
     "name": "stdout",
     "output_type": "stream",
     "text": [
      "1\n",
      "2\n",
      "3\n",
      "4\n"
     ]
    }
   ],
   "source": [
    "mat = [[1, 2, 3, 4], [5, 6, 7, 8]]\n",
    "\n",
    "r = len(mat)\n",
    "c = len(mat[0])\n",
    "\n",
    "for j in range(c):\n",
    "    print(mat[0][j])"
   ]
  },
  {
   "cell_type": "code",
   "execution_count": 20,
   "id": "1e2f048d-929c-43f2-b1af-bc9433f7c187",
   "metadata": {},
   "outputs": [
    {
     "name": "stdout",
     "output_type": "stream",
     "text": [
      "5\n",
      "6\n",
      "7\n",
      "8\n"
     ]
    }
   ],
   "source": [
    "mat = [[1, 2, 3, 4], [5, 6, 7, 8]]\n",
    "\n",
    "r = len(mat)\n",
    "c = len(mat[0])\n",
    "\n",
    "for j in range(c):\n",
    "    print(mat[1][j])"
   ]
  },
  {
   "cell_type": "markdown",
   "id": "c32bfa6b-b22d-436f-b19e-b60a7cdc5bea",
   "metadata": {},
   "source": [
    "# Understanding how to print each column seperately"
   ]
  },
  {
   "cell_type": "code",
   "execution_count": 21,
   "id": "8f2db781-df83-4018-8616-b36fb267d13d",
   "metadata": {},
   "outputs": [
    {
     "name": "stdout",
     "output_type": "stream",
     "text": [
      "1\n",
      "5\n"
     ]
    }
   ],
   "source": [
    "mat = [[1, 2, 3, 4], [5, 6, 7, 8]]\n",
    "\n",
    "r = len(mat)\n",
    "c = len(mat[0])\n",
    "\n",
    "for i in range(r):\n",
    "    print(mat[i][0])"
   ]
  },
  {
   "cell_type": "code",
   "execution_count": 22,
   "id": "618e8697-105f-43fd-887b-8394c322e117",
   "metadata": {},
   "outputs": [
    {
     "name": "stdout",
     "output_type": "stream",
     "text": [
      "1\n",
      "5\n",
      "18\n"
     ]
    }
   ],
   "source": [
    "mat = [[1, 2, 3, 4], [5, 6, 7, 8], [18, 2, 3, 4]]\n",
    "\n",
    "\n",
    "r = len(mat)\n",
    "c = len(mat[0])\n",
    "\n",
    "for i in range(r):\n",
    "    print(mat[i][0])"
   ]
  },
  {
   "cell_type": "code",
   "execution_count": 23,
   "id": "f602d90c-ec14-4f00-9963-09f898d00ef3",
   "metadata": {},
   "outputs": [
    {
     "name": "stdout",
     "output_type": "stream",
     "text": [
      "2\n",
      "6\n",
      "2\n"
     ]
    }
   ],
   "source": [
    "mat = [[1, 2, 3, 4], [5, 6, 7, 8], [18, 2, 3, 4]]\n",
    "\n",
    "\n",
    "r = len(mat)\n",
    "c = len(mat[0])\n",
    "\n",
    "for i in range(r):\n",
    "    print(mat[i][1])"
   ]
  },
  {
   "cell_type": "code",
   "execution_count": 24,
   "id": "42a5ac28-a362-4281-b3fe-c8bfd2816ff2",
   "metadata": {},
   "outputs": [
    {
     "name": "stdout",
     "output_type": "stream",
     "text": [
      "3\n",
      "7\n",
      "3\n"
     ]
    }
   ],
   "source": [
    "mat = [[1, 2, 3, 4], [5, 6, 7, 8], [18, 2, 3, 4]]\n",
    "\n",
    "\n",
    "r = len(mat)\n",
    "c = len(mat[0])\n",
    "\n",
    "for i in range(r):\n",
    "    print(mat[i][2])"
   ]
  },
  {
   "cell_type": "code",
   "execution_count": 25,
   "id": "560fb0ba-861b-44ce-b8eb-76c6c218493e",
   "metadata": {},
   "outputs": [
    {
     "name": "stdout",
     "output_type": "stream",
     "text": [
      "4\n",
      "8\n",
      "4\n"
     ]
    }
   ],
   "source": [
    "mat = [[1, 2, 3, 4], [5, 6, 7, 8], [18, 2, 3, 4]]\n",
    "\n",
    "\n",
    "r = len(mat)\n",
    "c = len(mat[0])\n",
    "\n",
    "for i in range(r):\n",
    "    print(mat[i][3])"
   ]
  },
  {
   "cell_type": "code",
   "execution_count": null,
   "id": "c70a8fdd-693b-4a00-ab1e-b0e773b7d00e",
   "metadata": {},
   "outputs": [],
   "source": []
  }
 ],
 "metadata": {
  "kernelspec": {
   "display_name": "Python 3 (ipykernel)",
   "language": "python",
   "name": "python3"
  },
  "language_info": {
   "codemirror_mode": {
    "name": "ipython",
    "version": 3
   },
   "file_extension": ".py",
   "mimetype": "text/x-python",
   "name": "python",
   "nbconvert_exporter": "python",
   "pygments_lexer": "ipython3",
   "version": "3.11.7"
  }
 },
 "nbformat": 4,
 "nbformat_minor": 5
}
