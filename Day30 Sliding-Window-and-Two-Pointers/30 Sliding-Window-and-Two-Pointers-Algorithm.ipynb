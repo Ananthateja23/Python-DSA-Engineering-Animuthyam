{
 "cells": [
  {
   "cell_type": "markdown",
   "id": "779770d1-8305-4ed6-b390-3cf73ee02abf",
   "metadata": {},
   "source": [
    "# Find the highest sum of subarray of length 3 in below array\n",
    "- arr : [5, 9, 1, 8, 7]"
   ]
  },
  {
   "cell_type": "code",
   "execution_count": 1,
   "id": "e523fc38-6b0d-42b2-849f-6828537cb31e",
   "metadata": {},
   "outputs": [
    {
     "name": "stdout",
     "output_type": "stream",
     "text": [
      "[5]\n",
      "[5, 9]\n",
      "[5, 9, 1]\n",
      "[5, 9, 1, 8]\n",
      "[5, 9, 1, 8, 7]\n",
      "[9]\n",
      "[9, 1]\n",
      "[9, 1, 8]\n",
      "[9, 1, 8, 7]\n",
      "[1]\n",
      "[1, 8]\n",
      "[1, 8, 7]\n",
      "[8]\n",
      "[8, 7]\n",
      "[7]\n"
     ]
    }
   ],
   "source": [
    "arr = [5, 9, 1, 8, 7]\n",
    "\n",
    "n = len(arr)\n",
    "\n",
    "for i in range(n):\n",
    "    for j in range(i, n):\n",
    "        temp = []\n",
    "        for k in range(i, j+1):\n",
    "            temp.append(arr[k])\n",
    "        print(temp)"
   ]
  },
  {
   "cell_type": "code",
   "execution_count": 2,
   "id": "ca6bdcb2-9bf2-41fc-836f-872bbb9dff79",
   "metadata": {},
   "outputs": [
    {
     "name": "stdout",
     "output_type": "stream",
     "text": [
      "[5]\n",
      "[5, 9]\n",
      "[5, 9, 1]\n",
      "[5, 9, 1]\n",
      "[5, 9, 1]\n",
      "[9]\n",
      "[9, 1]\n",
      "[9, 1, 8]\n",
      "[9, 1, 8]\n",
      "[1]\n",
      "[1, 8]\n",
      "[1, 8, 7]\n",
      "[8]\n",
      "[8, 7]\n",
      "[7]\n"
     ]
    }
   ],
   "source": [
    "arr = [5, 9, 1, 8, 7]\n",
    "\n",
    "n = len(arr)\n",
    "\n",
    "for i in range(n):\n",
    "    for j in range(i, n):\n",
    "        temp = []\n",
    "        for k in range(i, j+1):\n",
    "            temp.append(arr[k])\n",
    "            if len(temp) == 3:\n",
    "                break\n",
    "        print(temp)"
   ]
  },
  {
   "cell_type": "code",
   "execution_count": 3,
   "id": "fe9fcace-a6e4-41cc-bba3-6ecfcd8ae212",
   "metadata": {},
   "outputs": [
    {
     "name": "stdout",
     "output_type": "stream",
     "text": [
      "18\n"
     ]
    }
   ],
   "source": [
    "arr = [5, 9, 1, 8, 7]\n",
    "\n",
    "n = len(arr)\n",
    "ans = -999999999\n",
    "for i in range(n):\n",
    "    for j in range(i, n):\n",
    "        temp = []\n",
    "        for k in range(i, j+1):\n",
    "            temp.append(arr[k])\n",
    "            if len(temp) == 3:\n",
    "                break\n",
    "        if len(temp) == 3:\n",
    "            ans = max(ans, sum(temp))\n",
    "            break\n",
    "print(ans)    "
   ]
  },
  {
   "cell_type": "code",
   "execution_count": 4,
   "id": "bf7c0800-6def-46d6-8cde-dbddb7a1309d",
   "metadata": {},
   "outputs": [
    {
     "name": "stdout",
     "output_type": "stream",
     "text": [
      "18\n"
     ]
    }
   ],
   "source": [
    "arr = [5, 9, 1, 8, 7]\n",
    "\n",
    "n = len(arr)\n",
    "ans = -999999999\n",
    "for i in range(n):\n",
    "    for j in range(i, n):\n",
    "        temp = []\n",
    "        for k in range(i, j+1):\n",
    "            temp.append(arr[k])\n",
    "        if len(temp) == 3:\n",
    "            ans = max(ans, sum(temp))\n",
    "print(ans)    "
   ]
  },
  {
   "cell_type": "markdown",
   "id": "f79b1450-49c3-4fee-8786-f2b4e5247175",
   "metadata": {},
   "source": [
    "# Animuthyam Brute force approach\n",
    "```python\n",
    "\n",
    "arr = [5, 9, 1, 8, 7]\n",
    "arr_len = len(arr)\n",
    "sub_arr_len = 3\n",
    "for i in range(arr_len):\n",
    "    for j in range(i, arr_len):\n",
    "        temp = []\n",
    "        tsum = 0\n",
    "        for k in range(i, j+1):\n",
    "            temp.append(arr[k])\n",
    "            tsum += arr[k]\n",
    "        if len(temp) == sub_arr_len:\n",
    "            print(temp, tsum)\n",
    "            ans = max(ans, tsum)\n",
    "print(ans)\n",
    "```\n",
    "**Time Complexity is O(n^3)**"
   ]
  },
  {
   "cell_type": "markdown",
   "id": "aceae979-f1e2-4699-8b64-dc05f53a7278",
   "metadata": {},
   "source": [
    "# Solving with `Sliding window and Two Pointers approach`"
   ]
  },
  {
   "cell_type": "code",
   "execution_count": 5,
   "id": "3c179df9-e4e6-4c89-9e82-24c36bf89b91",
   "metadata": {},
   "outputs": [
    {
     "name": "stdout",
     "output_type": "stream",
     "text": [
      "5\n",
      "14\n",
      "15\n",
      "23\n",
      "30\n"
     ]
    }
   ],
   "source": [
    "arr = [5, 9, 1, 8, 7]\n",
    "n = len(arr)\n",
    "left = 0\n",
    "tsum = 0\n",
    "for r in range(n):\n",
    "    tsum += arr[r]\n",
    "    print(tsum)"
   ]
  },
  {
   "cell_type": "code",
   "execution_count": 6,
   "id": "cea7b6a3-ef8c-4cc7-9fc7-4e950fe1807d",
   "metadata": {},
   "outputs": [
    {
     "name": "stdout",
     "output_type": "stream",
     "text": [
      "5\n",
      "14\n",
      "15\n",
      "18\n",
      "16\n"
     ]
    }
   ],
   "source": [
    "arr = [5, 9, 1, 8, 7]\n",
    "n = len(arr)\n",
    "l = 0\n",
    "tsum = 0\n",
    "for r in range(n):\n",
    "    tsum += arr[r]\n",
    "\n",
    "    if (r-l == 3):\n",
    "        tsum -= arr[l]\n",
    "        l += 1\n",
    "        \n",
    "    print(tsum)"
   ]
  },
  {
   "cell_type": "code",
   "execution_count": 7,
   "id": "0df7d9b1-5107-41ab-aecf-8f459b881b7c",
   "metadata": {},
   "outputs": [
    {
     "name": "stdout",
     "output_type": "stream",
     "text": [
      "15\n",
      "18\n",
      "16\n"
     ]
    }
   ],
   "source": [
    "arr = [5, 9, 1, 8, 7]\n",
    "n = len(arr)\n",
    "l = 0\n",
    "tsum = 0\n",
    "for r in range(n):\n",
    "    tsum += arr[r]\n",
    "\n",
    "    if (r-l == 3):\n",
    "        tsum -= arr[l]\n",
    "        l += 1\n",
    "    if (r-l+1 == 3):\n",
    "        print(tsum)"
   ]
  },
  {
   "cell_type": "code",
   "execution_count": 8,
   "id": "ba2d944e-e852-403c-bd2c-18662bfdafa6",
   "metadata": {},
   "outputs": [
    {
     "name": "stdout",
     "output_type": "stream",
     "text": [
      "15\n",
      "18\n",
      "16\n"
     ]
    }
   ],
   "source": [
    "arr = [5, 9, 1, 8, 7]\n",
    "n = len(arr)\n",
    "l = 0\n",
    "tsum = 0\n",
    "k = 3\n",
    "for r in range(n):\n",
    "    tsum += arr[r]\n",
    "\n",
    "    if (r-l == k):\n",
    "        tsum -= arr[l]\n",
    "        l += 1\n",
    "    if (r-l+1 == k):\n",
    "        print(tsum)"
   ]
  },
  {
   "cell_type": "code",
   "execution_count": 9,
   "id": "701a7186-69a6-4e7d-8d12-78bef6780b43",
   "metadata": {},
   "outputs": [
    {
     "name": "stdout",
     "output_type": "stream",
     "text": [
      "15\n",
      "18\n",
      "16\n",
      "18\n"
     ]
    }
   ],
   "source": [
    "arr = [5, 9, 1, 8, 7]\n",
    "n = len(arr)\n",
    "l = 0\n",
    "tsum = 0\n",
    "k = 3\n",
    "ans = 0\n",
    "for r in range(n):\n",
    "    tsum += arr[r]\n",
    "\n",
    "    if (r-l == k):\n",
    "        tsum -= arr[l]\n",
    "        l += 1\n",
    "    if (r-l+1 == k):\n",
    "        print(tsum)\n",
    "        ans = max(ans, tsum)\n",
    "print(ans)"
   ]
  },
  {
   "cell_type": "code",
   "execution_count": 10,
   "id": "7b17d985-1178-42c6-b2fe-21e4818850b8",
   "metadata": {},
   "outputs": [
    {
     "name": "stdout",
     "output_type": "stream",
     "text": [
      "18\n"
     ]
    }
   ],
   "source": [
    "arr = [5, 9, 1, 8, 7]\n",
    "n = len(arr)\n",
    "l = 0\n",
    "tsum = 0\n",
    "k = 3\n",
    "ans = 0\n",
    "for r in range(n):\n",
    "    tsum += arr[r]\n",
    "\n",
    "    if (r-l == k):\n",
    "        tsum -= arr[l]\n",
    "        l += 1\n",
    "    if (r-l+1 == k):\n",
    "        # print(tsum)\n",
    "        ans = max(ans, tsum)\n",
    "print(ans)"
   ]
  },
  {
   "cell_type": "markdown",
   "id": "b6e44c66-349b-4e8a-97f5-e6b6e71dd474",
   "metadata": {},
   "source": [
    "```python\n",
    "# Solved with sliding window and two pointers\n",
    "arr = [5, 9, 1, 8, 7]\n",
    "n = len(arr)\n",
    "l = 0\n",
    "tsum = 0\n",
    "k = 3\n",
    "ans = 0\n",
    "for r in range(n):\n",
    "    tsum += arr[r]\n",
    "\n",
    "    if (r-l == k):\n",
    "        tsum -= arr[l]\n",
    "        l += 1\n",
    "        \n",
    "    if (r-l+1 == k):\n",
    "        ans = max(ans, tsum)\n",
    "print(ans)\n",
    "```\n",
    "**Time Complexity is O(n)**"
   ]
  },
  {
   "cell_type": "code",
   "execution_count": null,
   "id": "ec54ee6e-97ed-4aa6-af69-34c4335d4d5f",
   "metadata": {},
   "outputs": [],
   "source": []
  }
 ],
 "metadata": {
  "kernelspec": {
   "display_name": "Python 3 (ipykernel)",
   "language": "python",
   "name": "python3"
  },
  "language_info": {
   "codemirror_mode": {
    "name": "ipython",
    "version": 3
   },
   "file_extension": ".py",
   "mimetype": "text/x-python",
   "name": "python",
   "nbconvert_exporter": "python",
   "pygments_lexer": "ipython3",
   "version": "3.11.7"
  }
 },
 "nbformat": 4,
 "nbformat_minor": 5
}
