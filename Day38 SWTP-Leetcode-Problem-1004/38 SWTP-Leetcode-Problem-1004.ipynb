{
 "cells": [
  {
   "cell_type": "markdown",
   "id": "44ca480b-0604-45fa-9198-4f1527d5d918",
   "metadata": {},
   "source": [
    "# Leetcode Problem : `1004. Max Consecutive Ones III`\n",
    "- Click on the link to start solve the problem\n",
    "- <a href=\"https://leetcode.com/problems/max-consecutive-ones-iii/description/\">Leetcode-Problem</a>"
   ]
  },
  {
   "cell_type": "code",
   "execution_count": 1,
   "id": "650807f5-f98e-4bd0-bcfc-3961a16c1ccf",
   "metadata": {},
   "outputs": [
    {
     "name": "stdout",
     "output_type": "stream",
     "text": [
      "[1] 1\n",
      "[1, 1] 2\n",
      "[1, 1, 1] 3\n",
      "[1, 1, 1, 0] 4\n",
      "[1, 1, 1, 0, 0] 5\n",
      "[0] 1\n",
      "[0, 1] 2\n",
      "[0, 1, 1] 3\n",
      "[0, 1, 1, 1] 4\n",
      "[0, 1, 1, 1, 1] 5\n",
      "[0, 1, 1, 1, 1, 0] 6\n",
      "6\n"
     ]
    }
   ],
   "source": [
    "# nums = [1, 0, 0, 0, 0, 1, 1]\n",
    "# This code works only for this input test case\n",
    "nums = [1, 1, 1, 0, 0, 0, 1, 1, 1, 1, 0]\n",
    "ans = float(\"-inf\")\n",
    "k = 2\n",
    "n = len(nums)\n",
    "l = 0\n",
    "temp = 0\n",
    "\n",
    "for r in range(n):\n",
    "    if nums[r] == 0:\n",
    "        temp += 1\n",
    "        \n",
    "    while temp > k:\n",
    "        temp = 1\n",
    "        l = r\n",
    "    print(nums[l: r+1], r-l+1)\n",
    "    ans = max(ans, r-l+1)\n",
    "print(ans)"
   ]
  },
  {
   "cell_type": "code",
   "execution_count": 2,
   "id": "7d663bff-6487-46e1-b9ac-28a6acdc8cd2",
   "metadata": {},
   "outputs": [
    {
     "name": "stdout",
     "output_type": "stream",
     "text": [
      "[1] 1\n",
      "[1, 1] 2\n",
      "[1, 1, 1] 3\n",
      "[1, 1, 1, 0] 4\n",
      "[1, 1, 1, 0, 0] 5\n",
      "[0, 0] 2\n",
      "[0, 0, 1] 3\n",
      "[0, 0, 1, 1] 4\n",
      "[0, 0, 1, 1, 1] 5\n",
      "[0, 0, 1, 1, 1, 1] 6\n",
      "[0, 1, 1, 1, 1, 0] 6\n",
      "6\n"
     ]
    }
   ],
   "source": [
    "# nums = [1, 0, 0, 0, 0, 1, 1]\n",
    "# It works for all the test cases\n",
    "nums = [1, 1, 1, 0, 0, 0, 1, 1, 1, 1, 0]\n",
    "ans = float(\"-inf\")\n",
    "k = 2\n",
    "n = len(nums)\n",
    "l = 0\n",
    "temp = 0\n",
    "\n",
    "for r in range(n):\n",
    "    if nums[r] == 0:\n",
    "        temp += 1\n",
    "        \n",
    "    while temp > k:\n",
    "        if nums[l] == 0:\n",
    "            temp -= 1\n",
    "        l += 1\n",
    "    print(nums[l: r+1], r-l+1)\n",
    "    ans = max(ans, r-l+1)\n",
    "print(ans)"
   ]
  },
  {
   "cell_type": "markdown",
   "id": "01b65f29-21ca-453b-ba5f-5411f146f53b",
   "metadata": {},
   "source": [
    "```python\n",
    "class Solution:\n",
    "    def longestOnes(self, nums: List[int], k: int) -> int:\n",
    "        n = len(nums)\n",
    "        l = 0\n",
    "        temp = 0\n",
    "        ans = 0\n",
    "        for r in range(n):\n",
    "            if (nums[r] == 0):\n",
    "                temp += 1\n",
    "            while (temp > k):\n",
    "                if (nums[l] == 0):\n",
    "                    temp -= 1\n",
    "                l += 1\n",
    "            ans = max(ans, r-l+1)    \n",
    "        return ans\n",
    "```"
   ]
  },
  {
   "cell_type": "code",
   "execution_count": null,
   "id": "52778364-299f-4fa7-804b-ab85796816ca",
   "metadata": {},
   "outputs": [],
   "source": []
  }
 ],
 "metadata": {
  "kernelspec": {
   "display_name": "Python 3 (ipykernel)",
   "language": "python",
   "name": "python3"
  },
  "language_info": {
   "codemirror_mode": {
    "name": "ipython",
    "version": 3
   },
   "file_extension": ".py",
   "mimetype": "text/x-python",
   "name": "python",
   "nbconvert_exporter": "python",
   "pygments_lexer": "ipython3",
   "version": "3.11.7"
  }
 },
 "nbformat": 4,
 "nbformat_minor": 5
}
