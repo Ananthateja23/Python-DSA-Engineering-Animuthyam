{
 "cells": [
  {
   "cell_type": "markdown",
   "id": "ae5d9f88-3b75-40b3-8086-189c9f21d086",
   "metadata": {},
   "source": [
    "# Problem\n",
    "\n",
    "- Animuthyam has a new task: he has a number and a name, and he wants to print the name a specified number of times"
   ]
  },
  {
   "cell_type": "code",
   "execution_count": 1,
   "id": "de4c3ad1-ca60-4e5c-becf-fe9948111ce1",
   "metadata": {},
   "outputs": [
    {
     "name": "stdout",
     "output_type": "stream",
     "text": [
      "Ananth\n",
      "Ananth\n",
      "Ananth\n"
     ]
    }
   ],
   "source": [
    "n = 3\n",
    "s = \"Ananth\"\n",
    "\n",
    "for i in range(n):\n",
    "    print(s)"
   ]
  },
  {
   "cell_type": "code",
   "execution_count": 2,
   "id": "75613c5d-a5b1-44b7-a37a-1aede2e9e7d8",
   "metadata": {},
   "outputs": [
    {
     "name": "stdout",
     "output_type": "stream",
     "text": [
      "Boom\n",
      "Boom\n",
      "Boom\n",
      "Boom\n"
     ]
    }
   ],
   "source": [
    "n1 = 4\n",
    "s1 = \"Boom\"\n",
    "\n",
    "for i in range(n1):\n",
    "    print(s1)"
   ]
  },
  {
   "cell_type": "code",
   "execution_count": 3,
   "id": "2a5cff51-e396-41f5-99d7-f34ad9bb1ce4",
   "metadata": {},
   "outputs": [
    {
     "name": "stdout",
     "output_type": "stream",
     "text": [
      "Macha\n",
      "Macha\n",
      "Macha\n",
      "Macha\n",
      "Macha\n"
     ]
    }
   ],
   "source": [
    "n2 = 5\n",
    "s2 = \"Macha\"\n",
    "\n",
    "for i in range(n2):\n",
    "    print(s2)"
   ]
  },
  {
   "cell_type": "markdown",
   "id": "abfabe9d-a871-429b-ab61-99bc59d81280",
   "metadata": {},
   "source": [
    "```\n",
    "Note:\n",
    "\n",
    "--> If we observe closely, we change the name and number each time, but the rest of the code remains the same\n",
    "\n",
    "--> Here, we are using reusable code, so In Python, we should use functions to avoid writing multiple times\n",
    "```"
   ]
  },
  {
   "cell_type": "markdown",
   "id": "a8238f49-90e3-471c-95bd-6ad6a937f03e",
   "metadata": {},
   "source": [
    "# Exploring the ways to solve the task"
   ]
  },
  {
   "cell_type": "markdown",
   "id": "5f7dacd1-4055-45f7-92e7-283943daa5a9",
   "metadata": {},
   "source": [
    "### 01 Understanding a function"
   ]
  },
  {
   "cell_type": "code",
   "execution_count": 4,
   "id": "f2faf09d-f2b6-4430-a934-c1a33077942e",
   "metadata": {},
   "outputs": [
    {
     "name": "stdout",
     "output_type": "stream",
     "text": [
      "Mr boom\n"
     ]
    }
   ],
   "source": [
    "def kabali():\n",
    "    print(\"kabali raa\")\n",
    "    print(\"Urra mass\")\n",
    "\n",
    "print(\"Mr boom\")"
   ]
  },
  {
   "cell_type": "markdown",
   "id": "5423beb8-23c7-4b0c-b02e-1b94fb102520",
   "metadata": {},
   "source": [
    "```\n",
    "Note:\n",
    "\n",
    "--> here, fun is not executed, because we didn't call it\n",
    "```"
   ]
  },
  {
   "cell_type": "code",
   "execution_count": 5,
   "id": "420c76f7-e836-4a28-970f-5659f10189bb",
   "metadata": {},
   "outputs": [
    {
     "name": "stdout",
     "output_type": "stream",
     "text": [
      "Mr boom\n",
      "kabali raa\n",
      "Urra mass\n"
     ]
    }
   ],
   "source": [
    "def kabali():\n",
    "    print(\"kabali raa\")\n",
    "    print(\"Urra mass\")\n",
    "\n",
    "print(\"Mr boom\")\n",
    "kabali()"
   ]
  },
  {
   "cell_type": "code",
   "execution_count": 6,
   "id": "f6a8a096-b385-4a06-8436-1c96a9a635d7",
   "metadata": {},
   "outputs": [
    {
     "name": "stdout",
     "output_type": "stream",
     "text": [
      "kabali raa\n",
      "Urra mass\n",
      "Mr boom\n"
     ]
    }
   ],
   "source": [
    "def kabali():\n",
    "    print(\"kabali raa\")\n",
    "    print(\"Urra mass\")\n",
    "\n",
    "kabali()\n",
    "print(\"Mr boom\")"
   ]
  },
  {
   "cell_type": "code",
   "execution_count": 7,
   "id": "4bf24682-8bf5-46ea-baeb-6918b9e92aae",
   "metadata": {},
   "outputs": [
    {
     "name": "stdout",
     "output_type": "stream",
     "text": [
      "kabali raa\n",
      "Urra mass\n"
     ]
    }
   ],
   "source": [
    "def kabali():\n",
    "    print(\"kabali raa\")\n",
    "    print(\"Urra mass\")\n",
    "\n",
    "kabali()"
   ]
  },
  {
   "cell_type": "markdown",
   "id": "125a9da5-7f38-4433-9a8f-b07c2608876a",
   "metadata": {},
   "source": [
    "### 02 Including for loop inside a function"
   ]
  },
  {
   "cell_type": "code",
   "execution_count": 8,
   "id": "e89494b2-5ce4-4d31-bbe4-095b8f521675",
   "metadata": {},
   "outputs": [
    {
     "name": "stdout",
     "output_type": "stream",
     "text": [
      "kabali raa\n",
      "BOOOOOOOOM\n",
      "BOOOOOOOOM\n",
      "BOOOOOOOOM\n",
      "Urra mass\n"
     ]
    }
   ],
   "source": [
    "def kabali():\n",
    "    print(\"kabali raa\")\n",
    "    for i in range(3):\n",
    "        print(\"BOOOOOOOOM\")\n",
    "    print(\"Urra mass\")\n",
    "\n",
    "kabali()"
   ]
  },
  {
   "cell_type": "code",
   "execution_count": 9,
   "id": "7cf26cfd-0863-4e65-86d9-407cbb1da4cf",
   "metadata": {},
   "outputs": [
    {
     "name": "stdout",
     "output_type": "stream",
     "text": [
      "kabali raa\n",
      "BOOOOOOOOM\n",
      "BOOOOOOOOM\n",
      "BOOOOOOOOM\n",
      "Urra mass\n",
      "kabali raa\n",
      "BOOOOOOOOM\n",
      "BOOOOOOOOM\n",
      "BOOOOOOOOM\n",
      "Urra mass\n"
     ]
    }
   ],
   "source": [
    "def kabali():\n",
    "    print(\"kabali raa\")\n",
    "    for i in range(3):\n",
    "        print(\"BOOOOOOOOM\")\n",
    "    print(\"Urra mass\")\n",
    "\n",
    "kabali()\n",
    "kabali()"
   ]
  },
  {
   "cell_type": "code",
   "execution_count": 10,
   "id": "582b114e-e0d9-4664-94cd-4508e5c94e22",
   "metadata": {},
   "outputs": [
    {
     "name": "stdout",
     "output_type": "stream",
     "text": [
      "kabali raa\n",
      "BOOOOOOOOM\n",
      "BOOOOOOOOM\n",
      "BOOOOOOOOM\n",
      "Urra mass\n",
      "kabali raa\n",
      "BOOOOOOOOM\n",
      "BOOOOOOOOM\n",
      "BOOOOOOOOM\n",
      "Urra mass\n",
      "kabali raa\n",
      "BOOOOOOOOM\n",
      "BOOOOOOOOM\n",
      "BOOOOOOOOM\n",
      "Urra mass\n"
     ]
    }
   ],
   "source": [
    "def kabali():\n",
    "    print(\"kabali raa\")\n",
    "    for i in range(3):\n",
    "        print(\"BOOOOOOOOM\")\n",
    "    print(\"Urra mass\")\n",
    "\n",
    "kabali()\n",
    "kabali()\n",
    "kabali()"
   ]
  },
  {
   "cell_type": "code",
   "execution_count": 11,
   "id": "f4951271-863e-46f2-8353-48ef283076fe",
   "metadata": {},
   "outputs": [
    {
     "name": "stdout",
     "output_type": "stream",
     "text": [
      "kabali raa\n",
      "BOOOOOOOOM\n",
      "BOOOOOOOOM\n",
      "Urra mass\n",
      "kabali raa\n",
      "BOOOOOOOOM\n",
      "BOOOOOOOOM\n",
      "BOOOOOOOOM\n",
      "BOOOOOOOOM\n",
      "Urra mass\n",
      "kabali raa\n",
      "BOOOOOOOOM\n",
      "BOOOOOOOOM\n",
      "BOOOOOOOOM\n",
      "Urra mass\n"
     ]
    }
   ],
   "source": [
    "def kabali(n):\n",
    "    print(\"kabali raa\")\n",
    "    for i in range(n):\n",
    "        print(\"BOOOOOOOOM\")\n",
    "    print(\"Urra mass\")\n",
    "\n",
    "kabali(2)\n",
    "kabali(4)\n",
    "kabali(3)"
   ]
  },
  {
   "cell_type": "code",
   "execution_count": 12,
   "id": "e1acb8d1-2ee9-4148-9134-8dd6c8eab323",
   "metadata": {},
   "outputs": [
    {
     "name": "stdout",
     "output_type": "stream",
     "text": [
      "2\n",
      "4\n",
      "3\n"
     ]
    }
   ],
   "source": [
    "def kabali(n):\n",
    "    print(n)\n",
    "\n",
    "kabali(2)\n",
    "kabali(4)\n",
    "kabali(3)"
   ]
  },
  {
   "cell_type": "code",
   "execution_count": 13,
   "id": "fc18a266-c55f-468e-ab88-663619f4d9c8",
   "metadata": {},
   "outputs": [
    {
     "name": "stdout",
     "output_type": "stream",
     "text": [
      "hello macha\n",
      "4\n",
      "3\n"
     ]
    }
   ],
   "source": [
    "def kabali(n):\n",
    "    print(n)\n",
    "\n",
    "kabali(\"hello macha\")\n",
    "kabali(4)\n",
    "kabali(3)"
   ]
  },
  {
   "cell_type": "code",
   "execution_count": 14,
   "id": "70dc857e-f4f9-42f0-8bb1-38f5d49bbdfa",
   "metadata": {},
   "outputs": [
    {
     "name": "stdout",
     "output_type": "stream",
     "text": [
      "5\n",
      "Ananth\n",
      "4\n",
      "Macha\n",
      "3\n",
      "Animuthyam\n"
     ]
    }
   ],
   "source": [
    "def kabali(n, s):\n",
    "    print(n)\n",
    "    print(s)\n",
    "\n",
    "kabali(5, \"Ananth\")\n",
    "kabali(4, \"Macha\")\n",
    "kabali(3, \"Animuthyam\")"
   ]
  },
  {
   "cell_type": "code",
   "execution_count": 15,
   "id": "05582719-3342-4372-ab15-464549c805e6",
   "metadata": {},
   "outputs": [
    {
     "name": "stdout",
     "output_type": "stream",
     "text": [
      "Ananth\n",
      "Ananth\n",
      "Ananth\n",
      "Ananth\n",
      "Ananth\n",
      "Macha\n",
      "Macha\n",
      "Macha\n",
      "Macha\n",
      "Animuthyam\n",
      "Animuthyam\n",
      "Animuthyam\n"
     ]
    }
   ],
   "source": [
    "def kabali(n, s):\n",
    "    for i in range(n):\n",
    "        print(s)\n",
    "\n",
    "kabali(5, \"Ananth\")\n",
    "kabali(4, \"Macha\")\n",
    "kabali(3, \"Animuthyam\")"
   ]
  },
  {
   "cell_type": "code",
   "execution_count": 16,
   "id": "2ab65438-338b-4561-b1a9-96248bf1c5fd",
   "metadata": {},
   "outputs": [
    {
     "name": "stdout",
     "output_type": "stream",
     "text": [
      "Ananth\n",
      "Ananth\n",
      "Ananth\n",
      "Ananth\n",
      "Ananth\n",
      "Macha\n",
      "Macha\n",
      "Macha\n",
      "Macha\n",
      "Animuthyam\n",
      "Animuthyam\n",
      "Animuthyam\n",
      "Booom\n"
     ]
    }
   ],
   "source": [
    "def kabali(n, s):\n",
    "    for i in range(n):\n",
    "        print(s)\n",
    "\n",
    "kabali(5, \"Ananth\")\n",
    "kabali(4, \"Macha\")\n",
    "kabali(3, \"Animuthyam\")\n",
    "kabali(1, \"Booom\")"
   ]
  },
  {
   "cell_type": "markdown",
   "id": "008a65ee-0e07-4a65-b109-09729f6b1bc6",
   "metadata": {},
   "source": [
    "<hr>"
   ]
  },
  {
   "cell_type": "markdown",
   "id": "00168186-0950-4a3f-8c01-3742d653a750",
   "metadata": {},
   "source": [
    "# Understanding the execution flow"
   ]
  },
  {
   "cell_type": "code",
   "execution_count": 17,
   "id": "614fdb57-cbdf-4f60-a694-3462bfed14f5",
   "metadata": {},
   "outputs": [
    {
     "name": "stdout",
     "output_type": "stream",
     "text": [
      "Code started\n",
      "Hello In function\n",
      "Code ended\n"
     ]
    }
   ],
   "source": [
    "def fun():\n",
    "    print(\"Hello In function\")\n",
    "\n",
    "print(\"Code started\")\n",
    "fun()\n",
    "print(\"Code ended\")"
   ]
  },
  {
   "cell_type": "code",
   "execution_count": 18,
   "id": "98608681-0400-4089-abdb-9906d4968fac",
   "metadata": {},
   "outputs": [
    {
     "name": "stdout",
     "output_type": "stream",
     "text": [
      "Code started\n",
      "Hello In function\n",
      "Code ended\n",
      "Hello In function\n"
     ]
    }
   ],
   "source": [
    "def fun():\n",
    "    print(\"Hello In function\")\n",
    "\n",
    "print(\"Code started\")\n",
    "fun()\n",
    "print(\"Code ended\")\n",
    "fun()"
   ]
  },
  {
   "cell_type": "code",
   "execution_count": 19,
   "id": "d428b42d-6bfd-4f7d-85e5-56d73818a4eb",
   "metadata": {},
   "outputs": [
    {
     "name": "stdout",
     "output_type": "stream",
     "text": [
      "I am Ironman\n",
      "I am Dr. DOOM\n",
      "I am Avenger\n"
     ]
    }
   ],
   "source": [
    "# creating own practice example\n",
    "\n",
    "def Marvel(name):\n",
    "\tprint(\"I am\", name)\n",
    "\n",
    "Marvel(\"Ironman\")\n",
    "Marvel(\"Dr. DOOM\")\n",
    "Marvel(\"Avenger\")"
   ]
  },
  {
   "cell_type": "markdown",
   "id": "8b80de8e-a0d4-43b0-bd6b-6c0b37412fd1",
   "metadata": {},
   "source": [
    "# Understanding return statement"
   ]
  },
  {
   "cell_type": "code",
   "execution_count": 20,
   "id": "c6fcaf03-d1da-4232-9ccd-8b3c9b294665",
   "metadata": {},
   "outputs": [
    {
     "name": "stdout",
     "output_type": "stream",
     "text": [
      "Hello in function\n"
     ]
    }
   ],
   "source": [
    "def fun():\n",
    "    print(\"Hello in function\")\n",
    "    return 8\n",
    "\n",
    "macha = fun()"
   ]
  },
  {
   "cell_type": "code",
   "execution_count": 21,
   "id": "b4ca9931-5b70-4308-b84e-8ce2538c0e3e",
   "metadata": {},
   "outputs": [
    {
     "name": "stdout",
     "output_type": "stream",
     "text": [
      "Hello in function\n",
      "8\n"
     ]
    }
   ],
   "source": [
    "def fun():\n",
    "    print(\"Hello in function\")\n",
    "    return 8\n",
    "\n",
    "macha = fun()\n",
    "print(macha)"
   ]
  },
  {
   "cell_type": "code",
   "execution_count": 22,
   "id": "e83e007e-bba6-44f6-b11c-d22f27107154",
   "metadata": {},
   "outputs": [
    {
     "name": "stdout",
     "output_type": "stream",
     "text": [
      "Hello in function\n",
      "enti macha idhi\n"
     ]
    }
   ],
   "source": [
    "def fun():\n",
    "    print(\"Hello in function\")\n",
    "    return \"enti macha idhi\"\n",
    "\n",
    "macha = fun()\n",
    "print(macha)"
   ]
  },
  {
   "cell_type": "code",
   "execution_count": 23,
   "id": "7c018e70-6695-4b0c-bdf0-693b76aeac49",
   "metadata": {},
   "outputs": [
    {
     "name": "stdout",
     "output_type": "stream",
     "text": [
      "Hello in function\n",
      "10\n"
     ]
    }
   ],
   "source": [
    "def fun(n):\n",
    "    print(\"Hello in function\")\n",
    "    return n + 2\n",
    "\n",
    "macha = fun(8)\n",
    "print(macha)"
   ]
  },
  {
   "cell_type": "code",
   "execution_count": 24,
   "id": "61386c57-f97c-4afb-8b1c-24e37ca96768",
   "metadata": {},
   "outputs": [
    {
     "name": "stdout",
     "output_type": "stream",
     "text": [
      "Hello in function\n",
      "10\n"
     ]
    }
   ],
   "source": [
    "def fun(n):\n",
    "    print(\"Hello in function\")\n",
    "    return n + 2\n",
    "\n",
    "print(fun(8))"
   ]
  },
  {
   "cell_type": "code",
   "execution_count": 25,
   "id": "77a2bc38-aa0a-4b0a-a651-cc6f5f748898",
   "metadata": {},
   "outputs": [
    {
     "name": "stdout",
     "output_type": "stream",
     "text": [
      "Hello in function\n",
      "10\n",
      "Hello in function\n",
      "13\n"
     ]
    }
   ],
   "source": [
    "def fun(n):\n",
    "    print(\"Hello in function\")\n",
    "    return n + 2\n",
    "\n",
    "print(fun(8))\n",
    "print(fun(11))"
   ]
  },
  {
   "cell_type": "code",
   "execution_count": 26,
   "id": "e18eb648-7035-4be0-9ec0-21ce38cab595",
   "metadata": {},
   "outputs": [
    {
     "name": "stdout",
     "output_type": "stream",
     "text": [
      "Hello in function\n",
      "17\n",
      "Hello in function\n",
      "30\n"
     ]
    }
   ],
   "source": [
    "def fun(n, m):\n",
    "    print(\"Hello in function\")\n",
    "    return n + m\n",
    "\n",
    "print(fun(8, 9))\n",
    "print(fun(11, 19))"
   ]
  },
  {
   "cell_type": "code",
   "execution_count": 27,
   "id": "90b84e3d-5e17-4f9e-9e6b-e20d1b615b69",
   "metadata": {},
   "outputs": [
    {
     "name": "stdout",
     "output_type": "stream",
     "text": [
      "Hello in function\n",
      "72\n",
      "Hello in function\n",
      "209\n"
     ]
    }
   ],
   "source": [
    "def fun(n, m):\n",
    "    print(\"Hello in function\")\n",
    "    return n * m\n",
    "\n",
    "print(fun(8, 9))\n",
    "print(fun(11, 19))"
   ]
  },
  {
   "cell_type": "code",
   "execution_count": 28,
   "id": "ac674c2b-eae0-4920-b604-f6d1d036fa22",
   "metadata": {},
   "outputs": [
    {
     "name": "stdout",
     "output_type": "stream",
     "text": [
      "You are crazy\n",
      "You are mad\n"
     ]
    }
   ],
   "source": [
    "# creating own practice example with return\n",
    "\n",
    "def fun(name):\n",
    "\treturn f\"You are {name}\"\n",
    "\n",
    "print(fun(\"crazy\"))\n",
    "print(fun(\"mad\"))"
   ]
  },
  {
   "cell_type": "code",
   "execution_count": 29,
   "id": "23700c11-28ea-48ab-b489-19d47f4f2ee2",
   "metadata": {},
   "outputs": [
    {
     "name": "stdout",
     "output_type": "stream",
     "text": [
      "5 X 1 = 5\n",
      "5 X 2 = 10\n",
      "5 X 3 = 15\n",
      "5 X 4 = 20\n",
      "5 X 5 = 25\n",
      "5 X 6 = 30\n",
      "5 X 7 = 35\n",
      "5 X 8 = 40\n",
      "5 X 9 = 45\n",
      "5 X 10 = 50\n"
     ]
    }
   ],
   "source": [
    "# Write a code to print a table using a function\n",
    "# comment: ctrl + /\n",
    "\n",
    "def print_table(n):\n",
    "\tfor i in range(1, 11):\n",
    "\t\tprint(n, \"X\", i, \"=\", i*n)\n",
    "\n",
    "print_table(5) # 8, 9"
   ]
  },
  {
   "cell_type": "code",
   "execution_count": 30,
   "id": "770e01d5-7849-4ae0-8a9b-f8a2fb1b3643",
   "metadata": {},
   "outputs": [
    {
     "name": "stdout",
     "output_type": "stream",
     "text": [
      "5 X 1 = 5\n",
      "5 X 2 = 10\n",
      "5 X 3 = 15\n",
      "5 X 4 = 20\n",
      "5 X 5 = 25\n",
      "5 X 6 = 30\n",
      "5 X 7 = 35\n",
      "5 X 8 = 40\n",
      "5 X 9 = 45\n",
      "5 X 10 = 50\n"
     ]
    }
   ],
   "source": [
    "def print_table(n):\n",
    "\tfor i in range(1, 11):\n",
    "\t\tprint(str(n)+\" X \"+str(i)+\" = \"+str(n*i))\n",
    "\n",
    "print_table(5)"
   ]
  },
  {
   "cell_type": "code",
   "execution_count": 31,
   "id": "a494489c-fd18-4da6-96b2-d11ff247718a",
   "metadata": {},
   "outputs": [
    {
     "name": "stdout",
     "output_type": "stream",
     "text": [
      "5 * 1 = 5\n",
      "5 * 2 = 10\n",
      "5 * 3 = 15\n",
      "5 * 4 = 20\n",
      "5 * 5 = 25\n",
      "5 * 6 = 30\n",
      "5 * 7 = 35\n",
      "5 * 8 = 40\n",
      "5 * 9 = 45\n",
      "5 * 10 = 50\n"
     ]
    }
   ],
   "source": [
    "def print_table(n):\n",
    "\tfor i in range(1, 11):\n",
    "\t\tprint(f\"{n} * {i} = {n*i}\")\n",
    "\n",
    "print_table(5)"
   ]
  },
  {
   "cell_type": "code",
   "execution_count": null,
   "id": "dc822806-08b5-4674-8178-0e4be5ce4049",
   "metadata": {},
   "outputs": [],
   "source": []
  }
 ],
 "metadata": {
  "kernelspec": {
   "display_name": "Python 3 (ipykernel)",
   "language": "python",
   "name": "python3"
  },
  "language_info": {
   "codemirror_mode": {
    "name": "ipython",
    "version": 3
   },
   "file_extension": ".py",
   "mimetype": "text/x-python",
   "name": "python",
   "nbconvert_exporter": "python",
   "pygments_lexer": "ipython3",
   "version": "3.11.7"
  }
 },
 "nbformat": 4,
 "nbformat_minor": 5
}
