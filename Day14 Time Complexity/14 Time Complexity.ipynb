{
 "cells": [
  {
   "cell_type": "markdown",
   "id": "9cb7078f-3be1-488c-8d11-4a34a3585b7a",
   "metadata": {},
   "source": [
    "##### Solving a problem to understand why should we learn Time Complexity"
   ]
  },
  {
   "cell_type": "code",
   "execution_count": 1,
   "id": "0244680a-e98a-4ae2-985d-c2b6af69e03b",
   "metadata": {},
   "outputs": [
    {
     "name": "stdout",
     "output_type": "stream",
     "text": [
      "5\n"
     ]
    }
   ],
   "source": [
    "li = [7, 1, 5, 6, 3, 4]\n",
    "n = len(li)\n",
    "ans = 0\n",
    "for i in range(n-1):\n",
    "    for j in range(i+1, n):\n",
    "        diff = li[j] - li[i]\n",
    "        ans = max(ans, diff)\n",
    "print(ans)"
   ]
  },
  {
   "cell_type": "markdown",
   "id": "c02bcdcb-11d6-4453-85c9-474f9ff9613e",
   "metadata": {},
   "source": [
    "**It fails for larger input values because of the Time Complexity**"
   ]
  },
  {
   "cell_type": "markdown",
   "id": "02366965-368e-470b-9196-902b9f97f5d0",
   "metadata": {},
   "source": [
    "**Time Complexity:**\n",
    "```\n",
    "(1) O(1)\n",
    "--> let's say kattapa tried to kill bahubhali and failed. kattapa ran away and join his 99 cousins then total is 100 kattapas\n",
    "--> from a group of 100 same kattapa, the original kattapa says directly himself\n",
    "\n",
    "(2) O(n)\n",
    "--> let's say kattapa tried to kill bahubhali and failed. kattapa ran away and join his 99 cousins then total is 100 kattapas\n",
    "--> from a group of 100 same kattapa, if we go to each and every kattpa and asking are you original kattapa\n",
    "\n",
    "(3) O(logn)\n",
    "--> let's say kattapa tried to kill bahubhali and failed. kattapa ran away and join his 99 cousins then total is 100 kattapas\n",
    "--> from a group of 100 same kattapa, if we divide the 100 group to 50 left side and 50 right side, then now split the left side 50 to 25 and 25, the process continues and asking are you original kattapa\n",
    "\n",
    "(4) O(n**2)\n",
    "--> let's say kattapa tried to kill bahubhali and failed. kattapa ran away and join his 99 cousins then total is 100 kattapas\n",
    "--> from a group of 100 same kattapa, if we go to each one and asking rest of others are original kattapa\n",
    "```"
   ]
  },
  {
   "cell_type": "markdown",
   "id": "bdcbff06-a0ba-463b-8fe1-a0b7820dbd1e",
   "metadata": {},
   "source": [
    "**Order of Time Complexity**\n",
    "\n",
    "**O(n^2) > O(n) > O(logn) > O(1)**\n",
    "\n",
    "```\n",
    "Examples:\n",
    "\n",
    "(1) single for loop is O(n)\n",
    "\n",
    "(2) Double for loop is O(n**2)\n",
    "\n",
    "(3) maths, conditional statements, variables are O(1)\n",
    "```"
   ]
  },
  {
   "cell_type": "code",
   "execution_count": null,
   "id": "79fbd115-032e-47e3-bbe9-169e1284f0a4",
   "metadata": {},
   "outputs": [],
   "source": []
  }
 ],
 "metadata": {
  "kernelspec": {
   "display_name": "Python 3 (ipykernel)",
   "language": "python",
   "name": "python3"
  },
  "language_info": {
   "codemirror_mode": {
    "name": "ipython",
    "version": 3
   },
   "file_extension": ".py",
   "mimetype": "text/x-python",
   "name": "python",
   "nbconvert_exporter": "python",
   "pygments_lexer": "ipython3",
   "version": "3.11.7"
  }
 },
 "nbformat": 4,
 "nbformat_minor": 5
}
