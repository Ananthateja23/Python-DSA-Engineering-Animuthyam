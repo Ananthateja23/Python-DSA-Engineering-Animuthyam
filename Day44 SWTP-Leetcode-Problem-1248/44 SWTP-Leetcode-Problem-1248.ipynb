{
 "cells": [
  {
   "cell_type": "markdown",
   "id": "ead7b462-45a4-451b-a837-715e443985e1",
   "metadata": {},
   "source": [
    "# Leetcode Problem : `1248 Count Number of Nice Subarrays`\n",
    "- Click on the link to start solve the problem\n",
    "- <a href=\"https://leetcode.com/problems/count-number-of-nice-subarrays/description/\">Leetcode-Problem</a>"
   ]
  },
  {
   "cell_type": "markdown",
   "id": "3541ed77-429d-4048-9bcc-b43db6fbc61a",
   "metadata": {},
   "source": [
    "# Before solving the Leetcode Problem let's learn some helpful concepts"
   ]
  },
  {
   "cell_type": "markdown",
   "id": "feff7066-5ce6-421f-8d82-aab97f4ca4e9",
   "metadata": {},
   "source": [
    "### (1) return length of the longest subarray with atmost k odd numbers\n",
    "```python\n",
    "arr = [1, 3, 4, 5, 7]\n",
    "ans = float(\"-inf\")\n",
    "l = 0\n",
    "k = 2\n",
    "isodd = 0\n",
    "for r in range(len(arr)):\n",
    "    if (arr[r] % 2 == 1):\n",
    "        isodd += 1\n",
    "    while isodd > k:\n",
    "        if arr[l] % 2 == 1:\n",
    "            isodd -= 1\n",
    "        l += 1\n",
    "    print(r-l+1, arr[l:r+1])\n",
    "    ans = max(ans, r-l+1)\n",
    "print(ans)\n",
    "```"
   ]
  },
  {
   "cell_type": "code",
   "execution_count": 1,
   "id": "b10094fa-5b8d-4026-887c-7f32a27f811b",
   "metadata": {},
   "outputs": [
    {
     "name": "stdout",
     "output_type": "stream",
     "text": [
      "1 [1]\n",
      "2 [1, 3]\n",
      "3 [1, 3, 4]\n",
      "3 [3, 4, 5]\n",
      "3 [4, 5, 7]\n",
      "3\n"
     ]
    }
   ],
   "source": [
    "arr = [1, 3, 4, 5, 7]\n",
    "ans = float(\"-inf\")\n",
    "l = 0\n",
    "k = 2\n",
    "isodd = 0\n",
    "for r in range(len(arr)):\n",
    "    if (arr[r] % 2 == 1):\n",
    "        isodd += 1\n",
    "    while isodd > k:\n",
    "        if arr[l] % 2 == 1:\n",
    "            isodd -= 1\n",
    "        l += 1\n",
    "    print(r-l+1, arr[l:r+1])\n",
    "    ans = max(ans, r-l+1)\n",
    "print(ans)"
   ]
  },
  {
   "cell_type": "markdown",
   "id": "54c31c35-3822-4e13-8151-dbcabc8f5e35",
   "metadata": {},
   "source": [
    "### (2) return number of subarrays with atmost k odd number\n",
    "```python\n",
    "arr = [1, 3, 4, 5, 7]\n",
    "ans = 0\n",
    "l = 0\n",
    "k = 2\n",
    "isodd = 0\n",
    "for r in range(len(arr)):\n",
    "    if (arr[r] % 2 == 1):\n",
    "        isodd += 1\n",
    "    while isodd > k:\n",
    "        if arr[l] % 2 == 1:\n",
    "            isodd -= 1\n",
    "        l += 1\n",
    "    print(arr[l:r+1], r-l+1)\n",
    "    ans += (r-l+1)  \n",
    "print(ans)\n",
    "```"
   ]
  },
  {
   "cell_type": "code",
   "execution_count": 2,
   "id": "763d42cb-d680-4a37-8736-2468a7e44d6c",
   "metadata": {},
   "outputs": [
    {
     "name": "stdout",
     "output_type": "stream",
     "text": [
      "[1] 1\n",
      "[1, 3] 2\n",
      "[1, 3, 4] 3\n",
      "[3, 4, 5] 3\n",
      "[4, 5, 7] 3\n",
      "12\n"
     ]
    }
   ],
   "source": [
    "arr = [1, 3, 4, 5, 7]\n",
    "ans = 0\n",
    "l = 0\n",
    "k = 2\n",
    "isodd = 0\n",
    "for r in range(len(arr)):\n",
    "    if (arr[r] % 2 == 1):\n",
    "        isodd += 1\n",
    "    while isodd > k:\n",
    "        if arr[l] % 2 == 1:\n",
    "            isodd -= 1\n",
    "        l += 1\n",
    "    print(arr[l:r+1], r-l+1)\n",
    "    ans += (r-l+1)  \n",
    "print(ans)"
   ]
  },
  {
   "cell_type": "code",
   "execution_count": 3,
   "id": "da7734a5-7271-4957-898e-76634f7652c2",
   "metadata": {},
   "outputs": [
    {
     "name": "stdout",
     "output_type": "stream",
     "text": [
      "12\n"
     ]
    }
   ],
   "source": [
    "def atMostK(arr, k):\n",
    "    ans = 0\n",
    "    l = 0\n",
    "    isodd = 0\n",
    "    for r in range(len(arr)):\n",
    "        if (arr[r] % 2 == 1):\n",
    "            isodd += 1\n",
    "        while isodd > k:\n",
    "            if (arr[l] % 2 == 1):\n",
    "                isodd -= 1\n",
    "            l += 1\n",
    "        ans += (r-l+1)  \n",
    "    return ans\n",
    "\n",
    "arr = [1, 3, 4, 5, 7]\n",
    "k = 2\n",
    "print(atMostK(arr, k))"
   ]
  },
  {
   "cell_type": "markdown",
   "id": "f6d2bded-38b1-403a-a3a6-5bb912008e83",
   "metadata": {},
   "source": [
    "# The code works only for the following two test cases; it fails for all others.\n",
    "```python\n",
    "Test case 01:\n",
    "\n",
    "arr = [1, 1, 2, 1, 1]\n",
    "ans = 0\n",
    "l = 0\n",
    "k = 3\n",
    "isodd = 0\n",
    "for r in range(len(arr)):\n",
    "    if (arr[r] % 2 == 1):\n",
    "        isodd += 1\n",
    "    while isodd > k:\n",
    "        if arr[l] % 2 == 1:\n",
    "            isodd -= 1\n",
    "        l += 1\n",
    "    print(arr[l:r+1], r-l+1)\n",
    "    if isodd == k:\n",
    "        ans += 1\n",
    "\n",
    "if isodd == 0:\n",
    "    print(0)\n",
    "else:\n",
    "    print(ans)\n",
    "    \n",
    "Test case 02:\n",
    "\n",
    "arr = [2, 4, 6]\n",
    "ans = 0\n",
    "l = 0\n",
    "k = 1\n",
    "isodd = 0\n",
    "for r in range(len(arr)):\n",
    "    if (arr[r] % 2 == 1):\n",
    "        isodd += 1\n",
    "    while isodd > k:\n",
    "        if arr[l] % 2 == 1:\n",
    "            isodd -= 1\n",
    "        l += 1\n",
    "    print(arr[l:r+1], r-l+1)\n",
    "    if isodd == k:\n",
    "        ans += 1\n",
    "\n",
    "if isodd == 0:\n",
    "    print(0)\n",
    "else:\n",
    "    print(ans)\n",
    "```"
   ]
  },
  {
   "cell_type": "code",
   "execution_count": 4,
   "id": "ca7c0524-7d0a-4cb9-8b51-2866385c9fdd",
   "metadata": {},
   "outputs": [
    {
     "name": "stdout",
     "output_type": "stream",
     "text": [
      "[1] 1\n",
      "[1, 1] 2\n",
      "[1, 1, 2] 3\n",
      "[1, 1, 2, 1] 4\n",
      "[1, 2, 1, 1] 4\n",
      "2\n"
     ]
    }
   ],
   "source": [
    "arr = [1, 1, 2, 1, 1]\n",
    "ans = 0\n",
    "l = 0\n",
    "k = 3\n",
    "isodd = 0\n",
    "for r in range(len(arr)):\n",
    "    if (arr[r] % 2 == 1):\n",
    "        isodd += 1\n",
    "    while isodd > k:\n",
    "        if arr[l] % 2 == 1:\n",
    "            isodd -= 1\n",
    "        l += 1\n",
    "    print(arr[l:r+1], r-l+1)\n",
    "    if isodd == k:\n",
    "        ans += 1\n",
    "\n",
    "if isodd == 0:\n",
    "    print(0)\n",
    "else:\n",
    "    print(ans)"
   ]
  },
  {
   "cell_type": "code",
   "execution_count": 5,
   "id": "53c648d0-a658-48b1-a0c1-6adda98ec422",
   "metadata": {},
   "outputs": [
    {
     "name": "stdout",
     "output_type": "stream",
     "text": [
      "[2] 1\n",
      "[2, 4] 2\n",
      "[2, 4, 6] 3\n",
      "0\n"
     ]
    }
   ],
   "source": [
    "arr = [2, 4, 6]\n",
    "ans = 0\n",
    "l = 0\n",
    "k = 1\n",
    "isodd = 0\n",
    "for r in range(len(arr)):\n",
    "    if (arr[r] % 2 == 1):\n",
    "        isodd += 1\n",
    "    while isodd > k:\n",
    "        if arr[l] % 2 == 1:\n",
    "            isodd -= 1\n",
    "        l += 1\n",
    "    print(arr[l:r+1], r-l+1)\n",
    "    if isodd == k:\n",
    "        ans += 1\n",
    "\n",
    "if isodd == 0:\n",
    "    print(0)\n",
    "else:\n",
    "    print(ans)"
   ]
  },
  {
   "cell_type": "code",
   "execution_count": 6,
   "id": "d12d6860-44ba-4d98-8215-e9baaeaa80f2",
   "metadata": {},
   "outputs": [
    {
     "name": "stdout",
     "output_type": "stream",
     "text": [
      "2\n"
     ]
    }
   ],
   "source": [
    "def atMostK(arr, k):\n",
    "    ans = 0\n",
    "    l = 0\n",
    "    isodd = 0\n",
    "    for r in range(len(arr)):\n",
    "        if (arr[r] % 2 == 1):\n",
    "            isodd += 1\n",
    "        while isodd > k:\n",
    "            if (arr[l] % 2 == 1):\n",
    "                isodd -= 1\n",
    "            l += 1\n",
    "        ans += (r-l+1)  \n",
    "    return ans\n",
    "\n",
    "arr = [1, 1, 2, 1, 1]\n",
    "k = 3\n",
    "print(atMostK(arr, k) - atMostK(arr, k-1))"
   ]
  },
  {
   "cell_type": "markdown",
   "id": "ae00a927-0274-4341-a6de-f511827967c7",
   "metadata": {},
   "source": [
    "**Note:**\n",
    "\n",
    "- Atmost(2) = Excatly(1) + Excatly(2)\n",
    "  \n",
    "- Atmost(1) = Exactly(1)\n",
    "\n",
    "- Exactly(2) = Atmost(2) - Atmost(1)"
   ]
  },
  {
   "cell_type": "markdown",
   "id": "d72362a2-fe43-4502-a8ca-e0d47f43d1cf",
   "metadata": {},
   "source": [
    "# Leetcode Problem Solved\n",
    "```python\n",
    "class Solution:\n",
    "    def numberOfSubarrays(self, nums: List[int], k: int) -> int:\n",
    "        def atMostK(nums, k):\n",
    "            n = len(nums)\n",
    "            l = 0\n",
    "            ans = 0\n",
    "            isodd = 0\n",
    "            for r in range(n):\n",
    "                if (nums[r] % 2 == 1):\n",
    "                    isodd += 1\n",
    "                while isodd > k:\n",
    "                    if (nums[l] % 2 == 1):\n",
    "                        isodd -= 1\n",
    "                    l += 1\n",
    "                ans += (r-l+1)\n",
    "            return ans\n",
    "        a = atMostK(nums, k)\n",
    "        b = atMostK(nums, k-1)\n",
    "        ans = a - b\n",
    "        return ans\n",
    "```"
   ]
  },
  {
   "cell_type": "code",
   "execution_count": null,
   "id": "c4c8221e-4f39-44c5-b955-825acf70e18f",
   "metadata": {},
   "outputs": [],
   "source": []
  }
 ],
 "metadata": {
  "kernelspec": {
   "display_name": "Python 3 (ipykernel)",
   "language": "python",
   "name": "python3"
  },
  "language_info": {
   "codemirror_mode": {
    "name": "ipython",
    "version": 3
   },
   "file_extension": ".py",
   "mimetype": "text/x-python",
   "name": "python",
   "nbconvert_exporter": "python",
   "pygments_lexer": "ipython3",
   "version": "3.11.7"
  }
 },
 "nbformat": 4,
 "nbformat_minor": 5
}
