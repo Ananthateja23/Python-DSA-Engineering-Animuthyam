{
 "cells": [
  {
   "cell_type": "markdown",
   "id": "4008c8f0-164c-4394-b75b-241d4415ee23",
   "metadata": {},
   "source": [
    "# Uses of DSA\n",
    "\n",
    "- It improves logical thinking\n",
    "- It's helpful to solve any complex problems\n",
    "- This is helpful when developing complex backend logic"
   ]
  },
  {
   "cell_type": "markdown",
   "id": "da800d80-ebf9-488a-800d-397274f72c33",
   "metadata": {},
   "source": [
    "# Print Statement\n",
    "\n",
    "- It displays the output"
   ]
  },
  {
   "cell_type": "code",
   "execution_count": 1,
   "id": "a51c98c5-2cd1-423d-88cc-3c71265fbc14",
   "metadata": {},
   "outputs": [
    {
     "name": "stdout",
     "output_type": "stream",
     "text": [
      "Ananth\n"
     ]
    }
   ],
   "source": [
    "print(\"Ananth\")"
   ]
  },
  {
   "cell_type": "code",
   "execution_count": 2,
   "id": "67752828-0ec0-44bd-935e-f555a79400c6",
   "metadata": {},
   "outputs": [
    {
     "name": "stdout",
     "output_type": "stream",
     "text": [
      "Ananth I am a good boy\n"
     ]
    }
   ],
   "source": [
    "print(\"Ananth I am a good boy\")"
   ]
  },
  {
   "cell_type": "code",
   "execution_count": 3,
   "id": "b75648be-3f81-43ef-8c89-59652183532a",
   "metadata": {},
   "outputs": [
    {
     "name": "stdout",
     "output_type": "stream",
     "text": [
      "Macha\n"
     ]
    }
   ],
   "source": [
    "print(\"Macha\")"
   ]
  },
  {
   "cell_type": "code",
   "execution_count": 4,
   "id": "3c90c2cd-fed3-4ccb-9329-cac35e1fe627",
   "metadata": {},
   "outputs": [
    {
     "name": "stdout",
     "output_type": "stream",
     "text": [
      "Macha I am a good boy\n"
     ]
    }
   ],
   "source": [
    "print(\"Macha I am a good boy\")"
   ]
  },
  {
   "cell_type": "code",
   "execution_count": 5,
   "id": "075a6515-ccb2-42e9-b178-14b278de6d95",
   "metadata": {},
   "outputs": [
    {
     "name": "stdout",
     "output_type": "stream",
     "text": [
      "143\n"
     ]
    }
   ],
   "source": [
    "print(\"143\")"
   ]
  },
  {
   "cell_type": "markdown",
   "id": "d9f4c3ed-d8d1-46ee-805a-4f865ad260c6",
   "metadata": {},
   "source": [
    "# Variables\n",
    "\n",
    "- Assigning names to various things"
   ]
  },
  {
   "cell_type": "code",
   "execution_count": 6,
   "id": "1ae153d7-f6f8-42b3-a170-bd751d297cc3",
   "metadata": {},
   "outputs": [
    {
     "name": "stdout",
     "output_type": "stream",
     "text": [
      "Mahesh babu\n"
     ]
    }
   ],
   "source": [
    "print(\"Mahesh babu\")"
   ]
  },
  {
   "cell_type": "code",
   "execution_count": 7,
   "id": "76d5bd9f-c39a-4ccc-bb14-b39a193dd101",
   "metadata": {},
   "outputs": [
    {
     "name": "stdout",
     "output_type": "stream",
     "text": [
      "Mahesh babu\n"
     ]
    }
   ],
   "source": [
    "jai_babu = \"Mahesh babu\"\n",
    "print(jai_babu)"
   ]
  },
  {
   "cell_type": "code",
   "execution_count": 8,
   "id": "7825d5f2-09a4-41cd-85e7-3c36df10e231",
   "metadata": {},
   "outputs": [
    {
     "name": "stdout",
     "output_type": "stream",
     "text": [
      "Pawan kalyan\n"
     ]
    }
   ],
   "source": [
    "power_star = \"Pawan kalyan\"\n",
    "print(power_star)"
   ]
  },
  {
   "cell_type": "markdown",
   "id": "7b41d2fd-064a-40b9-ac73-b24005eb925f",
   "metadata": {},
   "source": [
    "```\n",
    "Note:\n",
    "\n",
    "--> Always remember to write any names or specific words in double quotes\n",
    "```"
   ]
  },
  {
   "cell_type": "code",
   "execution_count": 9,
   "id": "6a27214f-b7f5-4b1d-a2fd-70f7ad7bdece",
   "metadata": {},
   "outputs": [
    {
     "name": "stdout",
     "output_type": "stream",
     "text": [
      "1\n"
     ]
    }
   ],
   "source": [
    "Alluarjun = 1\n",
    "print(Alluarjun)"
   ]
  },
  {
   "cell_type": "code",
   "execution_count": 10,
   "id": "3f954dc1-44b1-4693-93d0-2b2948ca2d45",
   "metadata": {},
   "outputs": [
    {
     "name": "stdout",
     "output_type": "stream",
     "text": [
      "1\n"
     ]
    }
   ],
   "source": [
    "Alluarjun = \"1\"\n",
    "print(Alluarjun)"
   ]
  },
  {
   "cell_type": "code",
   "execution_count": 11,
   "id": "057cc04a-9669-4cfa-a95b-8d270906a4d1",
   "metadata": {},
   "outputs": [
    {
     "name": "stdout",
     "output_type": "stream",
     "text": [
      "3\n"
     ]
    }
   ],
   "source": [
    "Alluarjun = 1\n",
    "print(Alluarjun + 2)"
   ]
  },
  {
   "cell_type": "code",
   "execution_count": 12,
   "id": "b248153c-cfb5-4be2-bd71-38543ea63f7b",
   "metadata": {},
   "outputs": [
    {
     "ename": "TypeError",
     "evalue": "can only concatenate str (not \"int\") to str",
     "output_type": "error",
     "traceback": [
      "\u001b[1;31m---------------------------------------------------------------------------\u001b[0m",
      "\u001b[1;31mTypeError\u001b[0m                                 Traceback (most recent call last)",
      "Cell \u001b[1;32mIn[12], line 2\u001b[0m\n\u001b[0;32m      1\u001b[0m Alluarjun \u001b[38;5;241m=\u001b[39m \u001b[38;5;124m\"\u001b[39m\u001b[38;5;124m1\u001b[39m\u001b[38;5;124m\"\u001b[39m\n\u001b[1;32m----> 2\u001b[0m \u001b[38;5;28mprint\u001b[39m(Alluarjun \u001b[38;5;241m+\u001b[39m \u001b[38;5;241m2\u001b[39m)\n",
      "\u001b[1;31mTypeError\u001b[0m: can only concatenate str (not \"int\") to str"
     ]
    }
   ],
   "source": [
    "Alluarjun = \"1\"\n",
    "print(Alluarjun + 2)"
   ]
  },
  {
   "cell_type": "markdown",
   "id": "72104263-b32c-4e9b-bea0-d2adda466290",
   "metadata": {},
   "source": [
    "```\n",
    "Note:\n",
    "\n",
    "--> Data refers to information, while a data type is the category of data stored in a variable\n",
    "--> In this section, we store string data in power_star and integer data in Alluarjun\n",
    "```"
   ]
  },
  {
   "cell_type": "markdown",
   "id": "bb7958e9-af56-4256-a3da-5ee5c438a568",
   "metadata": {},
   "source": [
    "# If-Else Statement\n",
    "\n",
    "- First, it checks the condition; if the result is true, it goes to the if-block, otherwise, it goes to the else-block\n"
   ]
  },
  {
   "cell_type": "code",
   "execution_count": 13,
   "id": "822c0671-ba77-4441-86c8-4825ad248965",
   "metadata": {},
   "outputs": [
    {
     "name": "stdout",
     "output_type": "stream",
     "text": [
      "Mahesh\n"
     ]
    }
   ],
   "source": [
    "if 1 + 2 == 3:\n",
    "    print(\"Mahesh\")\n",
    "else:\n",
    "    print(\"Prabhas\")"
   ]
  },
  {
   "cell_type": "code",
   "execution_count": 14,
   "id": "721bba37-885b-46de-93ec-b3fb42100ea0",
   "metadata": {},
   "outputs": [
    {
     "name": "stdout",
     "output_type": "stream",
     "text": [
      "Prabhas\n"
     ]
    }
   ],
   "source": [
    "if 1 + 4 == 3:\n",
    "    print(\"Mahesh\")\n",
    "else:\n",
    "    print(\"Prabhas\")"
   ]
  },
  {
   "cell_type": "markdown",
   "id": "d9a9eeed-c6f6-4c8a-8c29-44a315f93f3b",
   "metadata": {},
   "source": [
    "```\n",
    "Note:\n",
    "\n",
    "--> Indentation: It is a space before every Python statement within an if-else block\n",
    "```"
   ]
  },
  {
   "cell_type": "code",
   "execution_count": 15,
   "id": "2a70e52e-8b01-4982-89f7-669d938bb7b1",
   "metadata": {},
   "outputs": [
    {
     "ename": "IndentationError",
     "evalue": "expected an indented block after 'if' statement on line 1 (3947502490.py, line 2)",
     "output_type": "error",
     "traceback": [
      "\u001b[1;36m  Cell \u001b[1;32mIn[15], line 2\u001b[1;36m\u001b[0m\n\u001b[1;33m    print(\"Mahesh\")\u001b[0m\n\u001b[1;37m    ^\u001b[0m\n\u001b[1;31mIndentationError\u001b[0m\u001b[1;31m:\u001b[0m expected an indented block after 'if' statement on line 1\n"
     ]
    }
   ],
   "source": [
    "if 1 + 2 == 3:\n",
    "print(\"Mahesh\")\n",
    "else:\n",
    "    print(\"Prabhas\")"
   ]
  },
  {
   "cell_type": "code",
   "execution_count": 16,
   "id": "7d88b466-d1a2-41c6-a305-838ba15d2718",
   "metadata": {},
   "outputs": [
    {
     "name": "stdout",
     "output_type": "stream",
     "text": [
      "Mahesh\n"
     ]
    }
   ],
   "source": [
    "if 1 + 2 == 3:\n",
    "    print(\"Mahesh\")\n",
    "else:\n",
    "    print(\"Prabhas\")"
   ]
  },
  {
   "cell_type": "code",
   "execution_count": 17,
   "id": "72ff9771-93f3-43b1-9264-acbfeefef01b",
   "metadata": {},
   "outputs": [],
   "source": [
    "if 1 + 4 == 3:\n",
    "    print(\"Mahesh\")"
   ]
  },
  {
   "cell_type": "code",
   "execution_count": 18,
   "id": "397f364f-61a2-4cc8-bc74-65c103945eee",
   "metadata": {},
   "outputs": [
    {
     "name": "stdout",
     "output_type": "stream",
     "text": [
      "Ananth\n",
      "Macha\n"
     ]
    }
   ],
   "source": [
    "if 1 + 2 == 3:\n",
    "    print(\"Ananth\")\n",
    "    print(\"Macha\")"
   ]
  },
  {
   "cell_type": "markdown",
   "id": "270b142a-dfe4-4eaa-93e3-371d4f0b3ea3",
   "metadata": {},
   "source": [
    "```\n",
    "Note:\n",
    "\n",
    "--> at least one space before Python statements is considered as indentation\n",
    "```"
   ]
  },
  {
   "cell_type": "code",
   "execution_count": 25,
   "id": "9e248c04-6535-4c52-8bc5-7372e993bb52",
   "metadata": {},
   "outputs": [
    {
     "name": "stdout",
     "output_type": "stream",
     "text": [
      "Ananth\n",
      "Macha\n",
      "Muthyam\n"
     ]
    }
   ],
   "source": [
    "if 1 + 2 == 3:\n",
    " print(\"Ananth\")\n",
    " print(\"Macha\")\n",
    "\n",
    "print(\"Muthyam\")"
   ]
  },
  {
   "cell_type": "code",
   "execution_count": 20,
   "id": "771b780e-6a89-4af3-8b3b-90978dade702",
   "metadata": {},
   "outputs": [
    {
     "name": "stdout",
     "output_type": "stream",
     "text": [
      "Ananth\n",
      "Macha\n",
      "Muthyam\n"
     ]
    }
   ],
   "source": [
    "if 1 + 2 == 3:\n",
    "    print(\"Ananth\")\n",
    "print(\"Macha\")\n",
    "\n",
    "print(\"Muthyam\")"
   ]
  },
  {
   "cell_type": "code",
   "execution_count": 21,
   "id": "6f0f2599-28a9-4382-ad13-e85db72d15ba",
   "metadata": {},
   "outputs": [
    {
     "name": "stdout",
     "output_type": "stream",
     "text": [
      "Macha\n",
      "Muthyam\n"
     ]
    }
   ],
   "source": [
    "if 1 + 4 == 3:\n",
    "    print(\"Ananth\")\n",
    "print(\"Macha\")\n",
    "print(\"Muthyam\")"
   ]
  },
  {
   "cell_type": "code",
   "execution_count": 22,
   "id": "6afaf8c2-91f5-4a17-9adf-3b3cb002bbb4",
   "metadata": {},
   "outputs": [
    {
     "name": "stdout",
     "output_type": "stream",
     "text": [
      "Muthyam\n"
     ]
    }
   ],
   "source": [
    "if 1 + 4 == 3:\n",
    "    print(\"Ananth\")\n",
    "    print(\"Macha\")\n",
    "print(\"Muthyam\")"
   ]
  },
  {
   "cell_type": "code",
   "execution_count": 23,
   "id": "19e085d8-7bbb-45a6-9e9e-698507738315",
   "metadata": {},
   "outputs": [
    {
     "name": "stdout",
     "output_type": "stream",
     "text": [
      "Muthyam\n"
     ]
    }
   ],
   "source": [
    "if 1 + 4 == 3:\n",
    "    print(\"Ananth\")\n",
    "    \n",
    "    print(\"Macha\")\n",
    "print(\"Muthyam\")"
   ]
  },
  {
   "cell_type": "code",
   "execution_count": 24,
   "id": "b5072788-5a40-41b7-805f-a0035cfdd4c0",
   "metadata": {},
   "outputs": [],
   "source": [
    "if 1 + 4 == 3:\n",
    "    print(\"Ananth\")\n",
    "    \n",
    "    print(\"Macha\")\n",
    "    \n",
    "    print(\"Muthyam\")"
   ]
  },
  {
   "cell_type": "code",
   "execution_count": 26,
   "id": "1fadfd18-6ea8-4a24-9ec4-5474aef25554",
   "metadata": {},
   "outputs": [
    {
     "ename": "IndentationError",
     "evalue": "unexpected indent (3549671092.py, line 8)",
     "output_type": "error",
     "traceback": [
      "\u001b[1;36m  Cell \u001b[1;32mIn[26], line 8\u001b[1;36m\u001b[0m\n\u001b[1;33m    print(\"Thop\") # outside if block\u001b[0m\n\u001b[1;37m    ^\u001b[0m\n\u001b[1;31mIndentationError\u001b[0m\u001b[1;31m:\u001b[0m unexpected indent\n"
     ]
    }
   ],
   "source": [
    "if 1 + 4 == 3:\n",
    " print(\"vignesh\") # inside if block\n",
    "\n",
    " print(\"Macha\") # inside if block\n",
    "\n",
    "print(\"Muthyam\") # outside if block\n",
    "\n",
    " print(\"Thop\") # outside if block"
   ]
  },
  {
   "cell_type": "code",
   "execution_count": 27,
   "id": "504d4315-6b59-43bd-a465-017edd0f6644",
   "metadata": {},
   "outputs": [
    {
     "name": "stdout",
     "output_type": "stream",
     "text": [
      "Muthyam\n"
     ]
    }
   ],
   "source": [
    "if 1 + 4 == 3:\n",
    " print(\"vignesh\") # inside if block\n",
    "\n",
    " print(\"Macha\") # inside if block\n",
    "\n",
    "print(\"Muthyam\") # outside if block"
   ]
  },
  {
   "cell_type": "code",
   "execution_count": 28,
   "id": "ec1a3ecb-5cfa-4bc4-baae-2a40680bd56f",
   "metadata": {},
   "outputs": [
    {
     "name": "stdout",
     "output_type": "stream",
     "text": [
      "Muthyam\n",
      "Thop\n",
      "Juice\n"
     ]
    }
   ],
   "source": [
    "if 1 + 4 == 3:\n",
    " print(\"vignesh\") # inside if block\n",
    "\n",
    " print(\"Macha\") # inside if block\n",
    "\n",
    "print(\"Muthyam\") # outside if block\n",
    "\n",
    "\n",
    "if 2 + 3 == 5:\n",
    " print(\"Thop\") # Inside if block\n",
    " print(\"Juice\") # Inside if block"
   ]
  },
  {
   "cell_type": "code",
   "execution_count": 29,
   "id": "6b59d8b6-1b32-495a-a5a9-13b95a028532",
   "metadata": {},
   "outputs": [
    {
     "name": "stdout",
     "output_type": "stream",
     "text": [
      "Dinesh\n",
      "Muthyam\n"
     ]
    }
   ],
   "source": [
    "alluarjun = 1\n",
    "if alluarjun + 4 == 3:\n",
    " \tprint(\"vignesh\")\n",
    "else:\n",
    "\tprint(\"Dinesh\")\n",
    "\tprint(\"Muthyam\")"
   ]
  },
  {
   "cell_type": "markdown",
   "id": "9dad1ca3-a457-4849-81b6-5dda9a673380",
   "metadata": {},
   "source": [
    "```\n",
    "Note:\n",
    "\n",
    "--> We use the equal sign (=) to assign values to variables\n",
    "--> We use the equality operator (==) to compare two values\n",
    "\n",
    "```"
   ]
  },
  {
   "cell_type": "markdown",
   "id": "da07e66d-becb-4fca-8444-76a285973752",
   "metadata": {},
   "source": [
    "## Program: \n",
    "- Let's create a program to find paths for males and females. Choose left if there is a male and right if there is a female"
   ]
  },
  {
   "cell_type": "code",
   "execution_count": 30,
   "id": "8513bbcc-4f1a-4664-b224-9e791bca315d",
   "metadata": {},
   "outputs": [
    {
     "name": "stdout",
     "output_type": "stream",
     "text": [
      "left\n"
     ]
    }
   ],
   "source": [
    "gender = \"male\"\n",
    "\n",
    "if gender == \"male\":\n",
    "    print(\"left\")\n",
    "else:\n",
    "    print(\"right\")"
   ]
  },
  {
   "cell_type": "code",
   "execution_count": 31,
   "id": "c4fc4217-c9fa-4eb0-9602-87f70488d6a8",
   "metadata": {},
   "outputs": [
    {
     "name": "stdout",
     "output_type": "stream",
     "text": [
      "right\n"
     ]
    }
   ],
   "source": [
    "gender = \"female\"\n",
    "\n",
    "if gender == \"male\":\n",
    "    print(\"left\")\n",
    "else:\n",
    "    print(\"right\")"
   ]
  },
  {
   "cell_type": "code",
   "execution_count": 32,
   "id": "ebdb7591-223c-44d4-ab7e-27d402db0073",
   "metadata": {},
   "outputs": [
    {
     "name": "stdout",
     "output_type": "stream",
     "text": [
      "right\n"
     ]
    }
   ],
   "source": [
    "gender = \"toy\"\n",
    "\n",
    "if gender == \"male\":\n",
    "    print(\"left\")\n",
    "else:\n",
    "    print(\"right\")"
   ]
  },
  {
   "cell_type": "markdown",
   "id": "1e76ef76-317c-46a9-a708-b96667adb732",
   "metadata": {},
   "source": [
    "```\n",
    "Note:\n",
    "\n",
    "--> In our code, there is a small logic issue. It correctly identifies the block whether the input is a boy or a girl, but when the input is “toy,” it selects the else block, which was not intended in our design \n",
    "--> So, we need to rethink our approach and come up with a new logic to address this problem\n",
    "```"
   ]
  },
  {
   "cell_type": "code",
   "execution_count": 33,
   "id": "85f153d8-3835-472d-900b-952e6b8ade5f",
   "metadata": {},
   "outputs": [],
   "source": [
    "gender = \"toy\"\n",
    "\n",
    "if gender == \"male\":\n",
    "    print(\"left\")\n",
    "    \n",
    "if gender == \"female\":\n",
    "    print(\"right\")"
   ]
  },
  {
   "cell_type": "code",
   "execution_count": 34,
   "id": "35bbe07f-0ade-46a8-a01c-a084bbd73d2d",
   "metadata": {},
   "outputs": [
    {
     "name": "stdout",
     "output_type": "stream",
     "text": [
      "left\n"
     ]
    }
   ],
   "source": [
    "gender = \"male\"\n",
    "\n",
    "if gender == \"male\":\n",
    "    print(\"left\")\n",
    "    \n",
    "if gender == \"female\":\n",
    "    print(\"right\")"
   ]
  },
  {
   "cell_type": "code",
   "execution_count": 35,
   "id": "84677a95-eb4c-446e-99af-412015f8632b",
   "metadata": {},
   "outputs": [
    {
     "name": "stdout",
     "output_type": "stream",
     "text": [
      "right\n"
     ]
    }
   ],
   "source": [
    "gender = \"female\"\n",
    "\n",
    "if gender == \"male\":\n",
    "    print(\"left\")\n",
    "    \n",
    "if gender == \"female\":\n",
    "    print(\"right\")"
   ]
  },
  {
   "cell_type": "code",
   "execution_count": null,
   "id": "0461d92f-077f-48cd-945c-701082a4be8e",
   "metadata": {},
   "outputs": [],
   "source": []
  }
 ],
 "metadata": {
  "kernelspec": {
   "display_name": "Python 3 (ipykernel)",
   "language": "python",
   "name": "python3"
  },
  "language_info": {
   "codemirror_mode": {
    "name": "ipython",
    "version": 3
   },
   "file_extension": ".py",
   "mimetype": "text/x-python",
   "name": "python",
   "nbconvert_exporter": "python",
   "pygments_lexer": "ipython3",
   "version": "3.11.7"
  }
 },
 "nbformat": 4,
 "nbformat_minor": 5
}
