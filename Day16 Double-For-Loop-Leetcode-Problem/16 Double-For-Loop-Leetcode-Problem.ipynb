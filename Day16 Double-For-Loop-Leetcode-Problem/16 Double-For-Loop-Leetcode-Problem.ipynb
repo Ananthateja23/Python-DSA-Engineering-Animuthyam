{
 "cells": [
  {
   "cell_type": "markdown",
   "id": "22307b11-02d9-438d-8110-d968ae82d031",
   "metadata": {},
   "source": [
    "# Leetcode problem Maximum Difference Between Increasing Elements\n",
    "\n",
    "- Click on the link to start solving the problem\n",
    "- [Leetcode-Problem](https://leetcode.com/problems/maximum-difference-between-increasing-elements/description/)"
   ]
  },
  {
   "cell_type": "markdown",
   "id": "92677f00-872f-4ee8-b6fd-737279c9dc01",
   "metadata": {},
   "source": [
    "# Understanding the approaches to solving the problem in brute force"
   ]
  },
  {
   "cell_type": "code",
   "execution_count": 1,
   "id": "8d156d59-3ec6-4ce7-b4a0-c6d8b9034eaf",
   "metadata": {},
   "outputs": [
    {
     "name": "stdout",
     "output_type": "stream",
     "text": [
      "0 1\n",
      "0 2\n",
      "0 3\n",
      "1 2\n",
      "1 3\n",
      "2 3\n"
     ]
    }
   ],
   "source": [
    "li = [7, 1, 5, 4]\n",
    "n = len(li)\n",
    "for i in range(n-1):\n",
    "\tfor j in range(i+1, n):\n",
    "\t\tprint(i,  j)"
   ]
  },
  {
   "cell_type": "code",
   "execution_count": 2,
   "id": "11399931-3d22-4f98-975a-08664f385d68",
   "metadata": {},
   "outputs": [
    {
     "name": "stdout",
     "output_type": "stream",
     "text": [
      "7 1\n",
      "7 5\n",
      "7 4\n",
      "1 5\n",
      "1 4\n",
      "5 4\n"
     ]
    }
   ],
   "source": [
    "li = [7, 1, 5, 4]\n",
    "n = len(li)\n",
    "for i in range(n-1):\n",
    "\tfor j in range(i+1, n):\n",
    "\t\tprint(li[i],  li[j])"
   ]
  },
  {
   "cell_type": "code",
   "execution_count": 4,
   "id": "54cdf63a-a9c8-49d3-bc6a-654e8e13bab8",
   "metadata": {},
   "outputs": [
    {
     "name": "stdout",
     "output_type": "stream",
     "text": [
      "1 5\n",
      "1 4\n"
     ]
    }
   ],
   "source": [
    "li = [7, 1, 5, 4]\n",
    "n = len(li)\n",
    "for i in range(n-1):\n",
    "    for j in range(i+1, n):\n",
    "        if li[i] < li[j]:\n",
    "            print(li[i],  li[j])"
   ]
  },
  {
   "cell_type": "code",
   "execution_count": 5,
   "id": "712cd0bf-eec6-40aa-b8a5-03ddb114c09d",
   "metadata": {},
   "outputs": [
    {
     "name": "stdout",
     "output_type": "stream",
     "text": [
      "4\n",
      "3\n"
     ]
    }
   ],
   "source": [
    "li = [7, 1, 5, 4]\n",
    "n = len(li)\n",
    "for i in range(n-1):\n",
    "    for j in range(i+1, n):\n",
    "        if li[i] < li[j]:\n",
    "            print(li[j]-li[i])"
   ]
  },
  {
   "cell_type": "code",
   "execution_count": 6,
   "id": "ad4d402b-043a-49d7-a28d-2ff0baa278aa",
   "metadata": {},
   "outputs": [
    {
     "name": "stdout",
     "output_type": "stream",
     "text": [
      "4\n"
     ]
    }
   ],
   "source": [
    "li = [7, 1, 5, 4]\n",
    "n = len(li)\n",
    "ans = 0\n",
    "for i in range(n-1):\n",
    "    for j in range(i+1, n):\n",
    "        if li[i] < li[j]:\n",
    "            temp = li[j]-li[i]\n",
    "            ans = max(ans, temp)\n",
    "print(ans)"
   ]
  },
  {
   "cell_type": "markdown",
   "id": "ca810b4b-05df-49d9-a0ea-123a174c8f17",
   "metadata": {},
   "source": [
    "```python\n",
    "# Solved using brute force\n",
    "class Solution:\n",
    "    def maximumDifference(self, nums: List[int]) -> int:\n",
    "        ans = -1\n",
    "        n = len(nums)\n",
    "        for i in range(n-1):\n",
    "            for j in range(i+1, n):\n",
    "                if nums[i] < nums[j]:\n",
    "                    diff = nums[j]-nums[i]\n",
    "                    ans = max(ans, diff)\n",
    "        return ans\n",
    "```"
   ]
  },
  {
   "cell_type": "code",
   "execution_count": null,
   "id": "b9774dbd-6853-4f23-b5a7-a6906a7ed789",
   "metadata": {},
   "outputs": [],
   "source": []
  }
 ],
 "metadata": {
  "kernelspec": {
   "display_name": "Python 3 (ipykernel)",
   "language": "python",
   "name": "python3"
  },
  "language_info": {
   "codemirror_mode": {
    "name": "ipython",
    "version": 3
   },
   "file_extension": ".py",
   "mimetype": "text/x-python",
   "name": "python",
   "nbconvert_exporter": "python",
   "pygments_lexer": "ipython3",
   "version": "3.11.7"
  }
 },
 "nbformat": 4,
 "nbformat_minor": 5
}
