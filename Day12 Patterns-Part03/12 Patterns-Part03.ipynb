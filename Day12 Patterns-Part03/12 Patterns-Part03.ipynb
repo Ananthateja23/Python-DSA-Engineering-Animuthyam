{
 "cells": [
  {
   "cell_type": "markdown",
   "id": "cde75233-5747-47de-bfd3-3cdc46f3ee58",
   "metadata": {},
   "source": [
    "# Pattern08: Konda Muggu"
   ]
  },
  {
   "cell_type": "markdown",
   "id": "a653d2e7-8c9e-4600-bba4-fdede2b5484e",
   "metadata": {},
   "source": [
    "##### Understanding how to print konda muggu"
   ]
  },
  {
   "cell_type": "code",
   "execution_count": 9,
   "id": "42a0e28d-8fc9-4be3-a5bf-53abca18d83d",
   "metadata": {},
   "outputs": [
    {
     "name": "stdout",
     "output_type": "stream",
     "text": [
      "0 0\n",
      "0 1\n",
      "0 2\n",
      "1 0\n",
      "1 1\n",
      "1 2\n",
      "2 0\n",
      "2 1\n",
      "2 2\n"
     ]
    }
   ],
   "source": [
    "n = 3\n",
    "for i in range(n):\n",
    "\tfor j in range(n):\n",
    "\t\tprint(i, j)"
   ]
  },
  {
   "cell_type": "code",
   "execution_count": 10,
   "id": "511105b8-5187-4e92-867f-2219cf3202b6",
   "metadata": {},
   "outputs": [
    {
     "name": "stdout",
     "output_type": "stream",
     "text": [
      "0\n",
      "012\n",
      "1\n",
      "012\n",
      "2\n",
      "012\n"
     ]
    }
   ],
   "source": [
    "n = 3\n",
    "for i in range(n):\n",
    "\tprint(i)\n",
    "\tfor j in range(n):\n",
    "\t\tprint(j, end=\"\")\n",
    "\tprint()"
   ]
  },
  {
   "cell_type": "code",
   "execution_count": 11,
   "id": "76fbf652-8475-4827-b4ce-94d9b79d0e5f",
   "metadata": {},
   "outputs": [
    {
     "name": "stdout",
     "output_type": "stream",
     "text": [
      "0\n",
      "012\n",
      "1\n",
      "01\n",
      "2\n",
      "0\n"
     ]
    }
   ],
   "source": [
    "n = 3\n",
    "for i in range(n):\n",
    "\tprint(i)\n",
    "\tfor j in range(n-i):\n",
    "\t\tprint(j, end=\"\")\n",
    "\tprint()"
   ]
  },
  {
   "cell_type": "code",
   "execution_count": 12,
   "id": "581e5182-2b79-4b1c-9ae1-4df50e01660d",
   "metadata": {},
   "outputs": [
    {
     "name": "stdout",
     "output_type": "stream",
     "text": [
      "012\n",
      "01\n",
      "0\n"
     ]
    }
   ],
   "source": [
    "n = 3\n",
    "for i in range(n):\n",
    "\tfor j in range(n-i):\n",
    "\t\tprint(j, end=\"\")\n",
    "\tprint()"
   ]
  },
  {
   "cell_type": "code",
   "execution_count": 13,
   "id": "598f4040-131e-4e97-b3c5-d934b26efc43",
   "metadata": {},
   "outputs": [
    {
     "name": "stdout",
     "output_type": "stream",
     "text": [
      "---\n",
      "--\n",
      "-\n"
     ]
    }
   ],
   "source": [
    "n = 3\n",
    "for i in range(n):\n",
    "\tfor j in range(n-i):\n",
    "\t\tprint(\"-\", end=\"\")\n",
    "\tprint()"
   ]
  },
  {
   "cell_type": "code",
   "execution_count": 28,
   "id": "da048389-b08b-4da5-85de-0e43688800a4",
   "metadata": {},
   "outputs": [
    {
     "name": "stdout",
     "output_type": "stream",
     "text": [
      "--\n",
      "-\n",
      "\n"
     ]
    }
   ],
   "source": [
    "r = 3\n",
    "n = r-1\n",
    "for i in range(r):\n",
    "    for j in range(n-i):\n",
    "        print(\"-\", end=\"\")\n",
    "    print()"
   ]
  },
  {
   "cell_type": "code",
   "execution_count": 26,
   "id": "0a726928-65b5-483c-be6c-311d21e727df",
   "metadata": {},
   "outputs": [
    {
     "name": "stdout",
     "output_type": "stream",
     "text": [
      "--Hello\n",
      "-Hello\n",
      "Hello\n"
     ]
    }
   ],
   "source": [
    "r = 3\n",
    "n = r-1\n",
    "for i in range(r):\n",
    "    for j in range(n-i):\n",
    "        print(\"-\", end=\"\")\n",
    "    print(\"Hello\", end=\"\")\n",
    "    print()"
   ]
  },
  {
   "cell_type": "code",
   "execution_count": 27,
   "id": "e644714a-5610-4d8d-91ac-dcdec5daf895",
   "metadata": {},
   "outputs": [
    {
     "name": "stdout",
     "output_type": "stream",
     "text": [
      "--1\n",
      "-3\n",
      "5\n"
     ]
    }
   ],
   "source": [
    "r = 3\n",
    "n = r-1\n",
    "for i in range(r):\n",
    "    for j in range(n-i):\n",
    "        print(\"-\", end=\"\")\n",
    "    temp = i * 2 + 1\n",
    "    print(temp, end=\"\")\n",
    "    print()"
   ]
  },
  {
   "cell_type": "code",
   "execution_count": 29,
   "id": "604556ef-08b8-45e7-ba86-934a8b4d8060",
   "metadata": {},
   "outputs": [
    {
     "name": "stdout",
     "output_type": "stream",
     "text": [
      "--*\n",
      "-***\n",
      "*****\n"
     ]
    }
   ],
   "source": [
    "r = 3\n",
    "n = r-1\n",
    "for i in range(r):\n",
    "    for j in range(n-i):\n",
    "        print(\"-\", end=\"\")\n",
    "    temp = i * 2 + 1\n",
    "    for k in range(temp):\n",
    "        print(\"*\", end=\"\")\n",
    "    print()"
   ]
  },
  {
   "cell_type": "code",
   "execution_count": 30,
   "id": "72228ece-88d5-45fc-82fa-333535620129",
   "metadata": {},
   "outputs": [
    {
     "name": "stdout",
     "output_type": "stream",
     "text": [
      "  *\n",
      " ***\n",
      "*****\n"
     ]
    }
   ],
   "source": [
    "r = 3\n",
    "n = r-1\n",
    "for i in range(r):\n",
    "    for j in range(n-i):\n",
    "        print(\" \", end=\"\")\n",
    "    temp = i * 2 + 1\n",
    "    for k in range(temp):\n",
    "        print(\"*\", end=\"\")\n",
    "    print()"
   ]
  },
  {
   "cell_type": "code",
   "execution_count": 31,
   "id": "d09f9195-fbde-4595-95b5-bbe987ce82c9",
   "metadata": {},
   "outputs": [
    {
     "name": "stdout",
     "output_type": "stream",
     "text": [
      "    *\n",
      "   ***\n",
      "  *****\n",
      " *******\n",
      "*********\n"
     ]
    }
   ],
   "source": [
    "r = 5\n",
    "n = r-1\n",
    "for i in range(r):\n",
    "    for j in range(n-i):\n",
    "        print(\" \", end=\"\")\n",
    "    temp = i * 2 + 1\n",
    "    for k in range(temp):\n",
    "        print(\"*\", end=\"\")\n",
    "    print()"
   ]
  },
  {
   "cell_type": "code",
   "execution_count": 32,
   "id": "4fea071f-a221-4c1e-9018-954fa452fc28",
   "metadata": {},
   "outputs": [
    {
     "name": "stdout",
     "output_type": "stream",
     "text": [
      "         *\n",
      "        ***\n",
      "       *****\n",
      "      *******\n",
      "     *********\n",
      "    ***********\n",
      "   *************\n",
      "  ***************\n",
      " *****************\n",
      "*******************\n"
     ]
    }
   ],
   "source": [
    "r = 10\n",
    "n = r-1\n",
    "for i in range(r):\n",
    "    for j in range(n-i):\n",
    "        print(\" \", end=\"\")\n",
    "    temp = i * 2 + 1\n",
    "    for k in range(temp):\n",
    "        print(\"*\", end=\"\")\n",
    "    print()"
   ]
  },
  {
   "cell_type": "markdown",
   "id": "1fcf3c79-0b66-493f-bd62-c7aff8bcd47e",
   "metadata": {},
   "source": [
    "# Pattern09: Reverse konda Muggu"
   ]
  },
  {
   "cell_type": "code",
   "execution_count": 33,
   "id": "103385da-3be0-45ef-b397-df9914fb3091",
   "metadata": {},
   "outputs": [
    {
     "name": "stdout",
     "output_type": "stream",
     "text": [
      "*******************\n",
      " *****************\n",
      "  ***************\n",
      "   *************\n",
      "    ***********\n",
      "     *********\n",
      "      *******\n",
      "       *****\n",
      "        ***\n",
      "         *\n"
     ]
    }
   ],
   "source": [
    "r = 10\n",
    "\n",
    "for i in range(r):\n",
    "    for j in range(i):\n",
    "        print(\" \", end=\"\")\n",
    "    for k in range(2*(r-i)-1):\n",
    "        print(\"*\", end=\"\")\n",
    "    print()"
   ]
  },
  {
   "cell_type": "code",
   "execution_count": 34,
   "id": "0cc58ba7-9326-4a12-8a97-f173ede86a13",
   "metadata": {},
   "outputs": [
    {
     "name": "stdout",
     "output_type": "stream",
     "text": [
      "*******************\n",
      " *****************\n",
      "  ***************\n",
      "   *************\n",
      "    ***********\n",
      "     *********\n",
      "      *******\n",
      "       *****\n",
      "        ***\n",
      "         *\n"
     ]
    }
   ],
   "source": [
    "r = 10\n",
    "n = r-1\n",
    "for i in range(r-1, -1, -1):\n",
    "    for j in range(n-i):\n",
    "        print(\" \", end=\"\")\n",
    "    temp = i * 2 + 1\n",
    "    for k in range(temp):\n",
    "        print(\"*\", end=\"\")\n",
    "    print()"
   ]
  },
  {
   "cell_type": "markdown",
   "id": "988bef1b-5018-4b98-be33-23b050cb0f91",
   "metadata": {},
   "source": [
    "# Pattern10: Reverse konda midha straight konda"
   ]
  },
  {
   "cell_type": "code",
   "execution_count": 36,
   "id": "bc6e50bb-c4ba-4f54-ac61-a8c300355dd5",
   "metadata": {},
   "outputs": [
    {
     "name": "stdout",
     "output_type": "stream",
     "text": [
      "  *\n",
      " ***\n",
      "*****\n",
      "*****\n",
      " ***\n",
      "  *\n"
     ]
    }
   ],
   "source": [
    "r = 3\n",
    "n = r-1\n",
    "\n",
    "for i in range(r):\n",
    "    for j in range(n-i):\n",
    "        print(\" \", end=\"\")\n",
    "    for k in range(2*i+1):\n",
    "        print(\"*\", end=\"\")\n",
    "    print()\n",
    "\n",
    "for i in range(r-1, -1, -1):\n",
    "    for j in range(n-i):\n",
    "        print(\" \", end=\"\")\n",
    "    for k in range(2*i+1):\n",
    "        print(\"*\", end=\"\")\n",
    "    print()"
   ]
  },
  {
   "cell_type": "code",
   "execution_count": 37,
   "id": "38ffeb28-42db-4037-a375-8c14b307d860",
   "metadata": {},
   "outputs": [
    {
     "name": "stdout",
     "output_type": "stream",
     "text": [
      "  *\n",
      " ***\n",
      "*****\n",
      " ***\n",
      "  *\n"
     ]
    }
   ],
   "source": [
    "r = 3\n",
    "n = r-1\n",
    "\n",
    "for i in range(r-1):\n",
    "    for j in range(n-i):\n",
    "        print(\" \", end=\"\")\n",
    "    for k in range(2*i+1):\n",
    "        print(\"*\", end=\"\")\n",
    "    print()\n",
    "\n",
    "for i in range(r-1, -1, -1):\n",
    "    for j in range(n-i):\n",
    "        print(\" \", end=\"\")\n",
    "    for k in range(2*i+1):\n",
    "        print(\"*\", end=\"\")\n",
    "    print()"
   ]
  },
  {
   "cell_type": "code",
   "execution_count": 38,
   "id": "c26b61f1-35ad-4bd9-8554-2231c4929d37",
   "metadata": {},
   "outputs": [
    {
     "name": "stdout",
     "output_type": "stream",
     "text": [
      "        *\n",
      "       ***\n",
      "      *****\n",
      "     *******\n",
      "    *********\n",
      "   ***********\n",
      "  *************\n",
      " ***************\n",
      "*****************\n",
      " ***************\n",
      "  *************\n",
      "   ***********\n",
      "    *********\n",
      "     *******\n",
      "      *****\n",
      "       ***\n",
      "        *\n"
     ]
    }
   ],
   "source": [
    "r = 9\n",
    "n = r-1\n",
    "\n",
    "for i in range(r-1):\n",
    "    for j in range(n-i):\n",
    "        print(\" \", end=\"\")\n",
    "    for k in range(2*i+1):\n",
    "        print(\"*\", end=\"\")\n",
    "    print()\n",
    "\n",
    "for i in range(r-1, -1, -1):\n",
    "    for j in range(n-i):\n",
    "        print(\" \", end=\"\")\n",
    "    for k in range(2*i+1):\n",
    "        print(\"*\", end=\"\")\n",
    "    print()"
   ]
  },
  {
   "cell_type": "markdown",
   "id": "7ded0f92-3d21-4ce0-94ac-38937ef8e641",
   "metadata": {},
   "source": [
    "# Pattern11: Ben10 Watch"
   ]
  },
  {
   "cell_type": "code",
   "execution_count": 40,
   "id": "9a1b91de-4d83-46ea-b53a-f716d764ad1b",
   "metadata": {},
   "outputs": [
    {
     "name": "stdout",
     "output_type": "stream",
     "text": [
      "*****\n",
      " ***\n",
      "  *\n",
      "  *\n",
      " ***\n",
      "*****\n"
     ]
    }
   ],
   "source": [
    "r = 3\n",
    "\n",
    "for i in range(r):\n",
    "    for j in range(i):\n",
    "        print(\" \", end=\"\")\n",
    "    for k in range(2*(r-i)-1):\n",
    "        print(\"*\", end=\"\")\n",
    "    print()\n",
    "\n",
    "for i in range(r):\n",
    "    for j in range(r-i-1):\n",
    "        print(\" \", end=\"\")\n",
    "    for k in range(2*i+1):\n",
    "        print(\"*\", end=\"\")\n",
    "    print()"
   ]
  },
  {
   "cell_type": "code",
   "execution_count": 41,
   "id": "e631f55b-fb2f-4166-845b-cf8358a8f6ea",
   "metadata": {},
   "outputs": [
    {
     "name": "stdout",
     "output_type": "stream",
     "text": [
      "*****************\n",
      " ***************\n",
      "  *************\n",
      "   ***********\n",
      "    *********\n",
      "     *******\n",
      "      *****\n",
      "       ***\n",
      "        *\n",
      "        *\n",
      "       ***\n",
      "      *****\n",
      "     *******\n",
      "    *********\n",
      "   ***********\n",
      "  *************\n",
      " ***************\n",
      "*****************\n"
     ]
    }
   ],
   "source": [
    "r = 9\n",
    "n = r-1\n",
    "for i in range(r-1, -1, -1):\n",
    "    for j in range(n-i):\n",
    "        print(\" \", end=\"\")\n",
    "    for k in range(2*i+1):\n",
    "        print(\"*\", end=\"\")\n",
    "    print()\n",
    "\n",
    "for i in range(r):\n",
    "    for j in range(n-i):\n",
    "        print(\" \", end=\"\")\n",
    "    for k in range(i*2+1):\n",
    "        print(\"*\", end=\"\")\n",
    "    print()"
   ]
  },
  {
   "cell_type": "code",
   "execution_count": 42,
   "id": "af276744-ac24-4643-85eb-cb7ccee09bab",
   "metadata": {},
   "outputs": [
    {
     "name": "stdout",
     "output_type": "stream",
     "text": [
      "*****************\n",
      " ***************\n",
      "  *************\n",
      "   ***********\n",
      "    *********\n",
      "     *******\n",
      "      *****\n",
      "       ***\n",
      "        *\n",
      "       ***\n",
      "      *****\n",
      "     *******\n",
      "    *********\n",
      "   ***********\n",
      "  *************\n",
      " ***************\n",
      "*****************\n"
     ]
    }
   ],
   "source": [
    "r = 9\n",
    "n = r-1\n",
    "for i in range(r-1, -1, -1):\n",
    "    for j in range(n-i):\n",
    "        print(\" \", end=\"\")\n",
    "    for k in range(2*i+1):\n",
    "        print(\"*\", end=\"\")\n",
    "    print()\n",
    "\n",
    "for i in range(1, r):\n",
    "    for j in range(n-i):\n",
    "        print(\" \", end=\"\")\n",
    "    for k in range(i*2+1):\n",
    "        print(\"*\", end=\"\")\n",
    "    print()"
   ]
  },
  {
   "cell_type": "code",
   "execution_count": null,
   "id": "8be3ac7c-e676-463c-83f5-9bcc5c345151",
   "metadata": {},
   "outputs": [],
   "source": []
  }
 ],
 "metadata": {
  "kernelspec": {
   "display_name": "Python 3 (ipykernel)",
   "language": "python",
   "name": "python3"
  },
  "language_info": {
   "codemirror_mode": {
    "name": "ipython",
    "version": 3
   },
   "file_extension": ".py",
   "mimetype": "text/x-python",
   "name": "python",
   "nbconvert_exporter": "python",
   "pygments_lexer": "ipython3",
   "version": "3.11.7"
  }
 },
 "nbformat": 4,
 "nbformat_minor": 5
}
