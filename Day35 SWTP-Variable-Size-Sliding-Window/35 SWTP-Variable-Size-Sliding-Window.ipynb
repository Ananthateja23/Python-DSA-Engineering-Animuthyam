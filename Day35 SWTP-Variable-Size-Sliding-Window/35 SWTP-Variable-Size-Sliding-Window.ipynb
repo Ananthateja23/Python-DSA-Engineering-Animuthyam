{
 "cells": [
  {
   "cell_type": "markdown",
   "id": "d876580d-7126-44c7-891f-ded28093859b",
   "metadata": {},
   "source": [
    "# Variable Size Sliding Window\n",
    "- Bus has front door and back door\n",
    "  \n",
    "- People are in line will enter from front door, exit from back door\n",
    "\n",
    "\n",
    "# Understanding the differences:\n",
    "\n",
    "- Fixed Size Sliding Window. If it can only have 3 people what will be the maximum weight it will have\n",
    "  \n",
    "- Variable Size Sliding Window. If it can accomdated 10 kg max weight, what is maximum number of people it can have"
   ]
  },
  {
   "cell_type": "markdown",
   "id": "f9bd0f1d-fd80-4a23-8eef-952c08f9055b",
   "metadata": {},
   "source": [
    "# Implementing Fixed Size Sliding Window"
   ]
  },
  {
   "cell_type": "code",
   "execution_count": 1,
   "id": "63dc58db-b6a1-44b9-bee7-aa4704bace51",
   "metadata": {},
   "outputs": [
    {
     "name": "stdout",
     "output_type": "stream",
     "text": [
      "16\n"
     ]
    }
   ],
   "source": [
    "arr = [9, 3, 4, 8, 1]\n",
    "ans = float(\"-inf\")\n",
    "tsum= 0\n",
    "l = 0\n",
    "k = 3\n",
    "\n",
    "for r in range(len(arr)):\n",
    "    tsum += arr[r]\n",
    "\n",
    "    if (r-l == k):\n",
    "        tsum -= arr[l]\n",
    "        l += 1\n",
    "    if (r-l+1 == k):\n",
    "        ans = max(ans, tsum)\n",
    "\n",
    "print(ans)"
   ]
  },
  {
   "cell_type": "markdown",
   "id": "c8edb062-6f2c-4ad5-ba33-3837a6c59d57",
   "metadata": {},
   "source": [
    "# Implementing Variable Size Sliding Window"
   ]
  },
  {
   "cell_type": "code",
   "execution_count": 2,
   "id": "99ff1859-f9bc-4737-b684-9f1e45d1b34b",
   "metadata": {},
   "outputs": [
    {
     "name": "stdout",
     "output_type": "stream",
     "text": [
      "2\n"
     ]
    }
   ],
   "source": [
    "arr = [9, 3, 4, 8, 1]\n",
    "ans = float(\"-inf\")\n",
    "tsum= 0\n",
    "l = 0\n",
    "k = 10\n",
    "\n",
    "for r in range(len(arr)):\n",
    "    tsum += arr[r]\n",
    "\n",
    "    while (tsum > k):\n",
    "        tsum -= arr[l]\n",
    "        l += 1\n",
    "    \n",
    "    ans = max(ans, r-l+1)\n",
    "\n",
    "print(ans)"
   ]
  },
  {
   "cell_type": "code",
   "execution_count": null,
   "id": "7d83aed0-7403-402b-b624-2091fbf3a472",
   "metadata": {},
   "outputs": [],
   "source": []
  }
 ],
 "metadata": {
  "kernelspec": {
   "display_name": "Python 3 (ipykernel)",
   "language": "python",
   "name": "python3"
  },
  "language_info": {
   "codemirror_mode": {
    "name": "ipython",
    "version": 3
   },
   "file_extension": ".py",
   "mimetype": "text/x-python",
   "name": "python",
   "nbconvert_exporter": "python",
   "pygments_lexer": "ipython3",
   "version": "3.11.7"
  }
 },
 "nbformat": 4,
 "nbformat_minor": 5
}
