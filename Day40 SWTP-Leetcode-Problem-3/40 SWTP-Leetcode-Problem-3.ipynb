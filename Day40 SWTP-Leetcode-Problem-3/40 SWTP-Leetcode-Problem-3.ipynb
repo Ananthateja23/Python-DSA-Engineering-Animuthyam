{
 "cells": [
  {
   "cell_type": "markdown",
   "id": "6d1f7709-a55f-4cdd-a7c6-7685ebb953cf",
   "metadata": {},
   "source": [
    "# Leetcode Problem : `3 Longest Substring Without Repeating Characters`\n",
    "- Click on the link to start solve the problem\n",
    "- <a href=\"https://leetcode.com/problems/longest-substring-without-repeating-characters/description/\">Leetcode-Problem</a>"
   ]
  },
  {
   "cell_type": "code",
   "execution_count": 1,
   "id": "ce9d9dcb-e322-4672-8975-951409eadcad",
   "metadata": {},
   "outputs": [
    {
     "name": "stdout",
     "output_type": "stream",
     "text": [
      "3\n"
     ]
    }
   ],
   "source": [
    "s = \"abcbaa\"\n",
    "uniset = set()\n",
    "n = len(s)\n",
    "l = 0\n",
    "ans = 0\n",
    "\n",
    "for r in range(n):\n",
    "    ch = s[r]\n",
    "    if ch not in uniset:\n",
    "        uniset.add(ch)\n",
    "    else:\n",
    "        while ch in uniset:\n",
    "            uniset.remove(s[l])\n",
    "            l += 1\n",
    "        uniset.add(ch)\n",
    "    ans = max(ans, r-l+1)\n",
    "\n",
    "print(ans)"
   ]
  },
  {
   "cell_type": "markdown",
   "id": "3fec5a69-e3dd-4e74-b3ed-0baa5ee0e113",
   "metadata": {},
   "source": [
    "```python\n",
    "class Solution:\n",
    "    def lengthOfLongestSubstring(self, s: str) -> int:\n",
    "        n = len(s)\n",
    "        uniset = set()\n",
    "        l = 0\n",
    "        ans = 0\n",
    "\n",
    "        for r in range(n):\n",
    "            ch = s[r]\n",
    "            \n",
    "            if ch not in uniset:\n",
    "                uniset.add(ch)\n",
    "            else:\n",
    "                while ch in uniset:\n",
    "                    uniset.remove(s[l])\n",
    "                    l += 1\n",
    "                uniset.add(ch)\n",
    "            ans = max(ans, r-l+1)\n",
    "\n",
    "        return ans\n",
    "```"
   ]
  },
  {
   "cell_type": "code",
   "execution_count": null,
   "id": "1c9c48f6-e3c4-4488-8781-11f0bafe8621",
   "metadata": {},
   "outputs": [],
   "source": []
  }
 ],
 "metadata": {
  "kernelspec": {
   "display_name": "Python 3 (ipykernel)",
   "language": "python",
   "name": "python3"
  },
  "language_info": {
   "codemirror_mode": {
    "name": "ipython",
    "version": 3
   },
   "file_extension": ".py",
   "mimetype": "text/x-python",
   "name": "python",
   "nbconvert_exporter": "python",
   "pygments_lexer": "ipython3",
   "version": "3.11.7"
  }
 },
 "nbformat": 4,
 "nbformat_minor": 5
}
