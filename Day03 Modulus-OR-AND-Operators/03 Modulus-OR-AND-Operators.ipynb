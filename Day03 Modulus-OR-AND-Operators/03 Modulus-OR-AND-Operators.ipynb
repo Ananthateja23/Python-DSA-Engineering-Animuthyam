{
 "cells": [
  {
   "cell_type": "markdown",
   "id": "17dbb8c3-8d92-441e-872d-e483e5829f3e",
   "metadata": {},
   "source": [
    "# Problem\n",
    "\n",
    "- Let’s say a merchant asked his employee to count the total number of Amazon delivery boxes that contained the number 1 inside, as the merchant promised to give money."
   ]
  },
  {
   "cell_type": "code",
   "execution_count": 1,
   "id": "6f0fcd8c-207f-4b07-ac57-6f9e55d9a1c4",
   "metadata": {},
   "outputs": [
    {
     "name": "stdout",
     "output_type": "stream",
     "text": [
      "3\n"
     ]
    }
   ],
   "source": [
    "li = [1, 5, 1, 7, 1]\n",
    "ans = 0\n",
    "for i in li:\n",
    "\tif i == 1:\n",
    "\t\tans = ans + 1\n",
    "print(ans)"
   ]
  },
  {
   "cell_type": "code",
   "execution_count": 2,
   "id": "8a10b060-a6bf-44e4-a171-6cd6e5809930",
   "metadata": {},
   "outputs": [
    {
     "name": "stdout",
     "output_type": "stream",
     "text": [
      "3\n"
     ]
    }
   ],
   "source": [
    "li = [1, 5, 1, 7, 1]\n",
    "ans = 0\n",
    "for i in range(5):\n",
    "\tif li[i] == 1:\n",
    "\t\tans = ans + 1\n",
    "print(ans)"
   ]
  },
  {
   "cell_type": "code",
   "execution_count": 3,
   "id": "56fd2562-a510-4e32-b530-c4290d23abcb",
   "metadata": {},
   "outputs": [
    {
     "name": "stdout",
     "output_type": "stream",
     "text": [
      "3\n"
     ]
    }
   ],
   "source": [
    "li = [1, 5, 1, 7, 1, 1]\n",
    "ans = 0\n",
    "for i in range(5):\n",
    "\tif li[i] == 1:\n",
    "\t\tans = ans + 1\n",
    "print(ans) "
   ]
  },
  {
   "cell_type": "code",
   "execution_count": 4,
   "id": "526c3124-2d46-435d-9a2f-7d1467ab686a",
   "metadata": {},
   "outputs": [
    {
     "name": "stdout",
     "output_type": "stream",
     "text": [
      "2\n"
     ]
    }
   ],
   "source": [
    "li = [1, 5, 1, 7, 1, 1]\n",
    "ans = 0\n",
    "for i in range(3):\n",
    "\tif li[i] == 1:\n",
    "\t\tans = ans + 1\n",
    "print(ans) "
   ]
  },
  {
   "cell_type": "code",
   "execution_count": 5,
   "id": "1db8457f-f22f-4823-821b-03f95610e17c",
   "metadata": {},
   "outputs": [
    {
     "ename": "IndexError",
     "evalue": "list index out of range",
     "output_type": "error",
     "traceback": [
      "\u001b[1;31m---------------------------------------------------------------------------\u001b[0m",
      "\u001b[1;31mIndexError\u001b[0m                                Traceback (most recent call last)",
      "Cell \u001b[1;32mIn[5], line 4\u001b[0m\n\u001b[0;32m      2\u001b[0m ans \u001b[38;5;241m=\u001b[39m \u001b[38;5;241m0\u001b[39m\n\u001b[0;32m      3\u001b[0m \u001b[38;5;28;01mfor\u001b[39;00m i \u001b[38;5;129;01min\u001b[39;00m \u001b[38;5;28mrange\u001b[39m(\u001b[38;5;241m7\u001b[39m):\n\u001b[1;32m----> 4\u001b[0m \t\u001b[38;5;28;01mif\u001b[39;00m li[i] \u001b[38;5;241m==\u001b[39m \u001b[38;5;241m1\u001b[39m:\n\u001b[0;32m      5\u001b[0m \t\tans \u001b[38;5;241m=\u001b[39m ans \u001b[38;5;241m+\u001b[39m \u001b[38;5;241m1\u001b[39m\n\u001b[0;32m      6\u001b[0m \u001b[38;5;28mprint\u001b[39m(ans)\n",
      "\u001b[1;31mIndexError\u001b[0m: list index out of range"
     ]
    }
   ],
   "source": [
    "li = [1, 5, 1, 7, 1, 1]\n",
    "ans = 0\n",
    "for i in range(7):\n",
    "\tif li[i] == 1:\n",
    "\t\tans = ans + 1\n",
    "print(ans)"
   ]
  },
  {
   "cell_type": "code",
   "execution_count": 6,
   "id": "fb23cc13-cca2-41d9-94a3-c1667cf19d4d",
   "metadata": {},
   "outputs": [
    {
     "name": "stdout",
     "output_type": "stream",
     "text": [
      "0\n",
      "5\n"
     ]
    }
   ],
   "source": [
    "li = [0, 5]\n",
    "\n",
    "print(li[0])\n",
    "print(li[1])"
   ]
  },
  {
   "cell_type": "code",
   "execution_count": 7,
   "id": "b84b8471-5c74-498d-a660-edb502213b4a",
   "metadata": {},
   "outputs": [
    {
     "name": "stdout",
     "output_type": "stream",
     "text": [
      "0\n",
      "5\n"
     ]
    },
    {
     "ename": "IndexError",
     "evalue": "list index out of range",
     "output_type": "error",
     "traceback": [
      "\u001b[1;31m---------------------------------------------------------------------------\u001b[0m",
      "\u001b[1;31mIndexError\u001b[0m                                Traceback (most recent call last)",
      "Cell \u001b[1;32mIn[7], line 5\u001b[0m\n\u001b[0;32m      3\u001b[0m \u001b[38;5;28mprint\u001b[39m(li[\u001b[38;5;241m0\u001b[39m])\n\u001b[0;32m      4\u001b[0m \u001b[38;5;28mprint\u001b[39m(li[\u001b[38;5;241m1\u001b[39m])\n\u001b[1;32m----> 5\u001b[0m \u001b[38;5;28mprint\u001b[39m(li[\u001b[38;5;241m2\u001b[39m])\n",
      "\u001b[1;31mIndexError\u001b[0m: list index out of range"
     ]
    }
   ],
   "source": [
    "li = [0, 5]\n",
    "\n",
    "print(li[0])\n",
    "print(li[1])\n",
    "print(li[2])"
   ]
  },
  {
   "cell_type": "code",
   "execution_count": 8,
   "id": "55b9d672-40a2-4e84-b2d6-90b0899294c9",
   "metadata": {},
   "outputs": [
    {
     "name": "stdout",
     "output_type": "stream",
     "text": [
      "4\n"
     ]
    }
   ],
   "source": [
    "li = [1, 5, 1, 7, 1, 1]\n",
    "ans = 0\n",
    "for i in range(6):\n",
    "\tif li[i] == 1:\n",
    "\t\tans = ans + 1\n",
    "print(ans)"
   ]
  },
  {
   "cell_type": "markdown",
   "id": "daabc064-aa53-4b2e-9f7f-65f98a6a93bc",
   "metadata": {},
   "source": [
    "# len\n",
    "\n",
    "- It provides the length of any iterable object"
   ]
  },
  {
   "cell_type": "code",
   "execution_count": 9,
   "id": "09818692-529a-4af5-90e0-ec26e703e666",
   "metadata": {},
   "outputs": [
    {
     "name": "stdout",
     "output_type": "stream",
     "text": [
      "6\n"
     ]
    }
   ],
   "source": [
    "li = [1, 5, 1, 7, 1, 1]\n",
    "print(len(li))"
   ]
  },
  {
   "cell_type": "code",
   "execution_count": 10,
   "id": "313b6acc-e363-44ed-bb75-b91867a7b790",
   "metadata": {},
   "outputs": [
    {
     "name": "stdout",
     "output_type": "stream",
     "text": [
      "4\n"
     ]
    }
   ],
   "source": [
    "li = [1, 5, 1, 7, 1, 1]\n",
    "ans = 0\n",
    "for i in range(len(li)):\n",
    "\tif li[i] == 1:\n",
    "\t\tans = ans + 1\n",
    "print(ans)"
   ]
  },
  {
   "cell_type": "code",
   "execution_count": 11,
   "id": "0233e92f-847e-450f-b988-c1dc986517a4",
   "metadata": {},
   "outputs": [
    {
     "name": "stdout",
     "output_type": "stream",
     "text": [
      "6\n"
     ]
    }
   ],
   "source": [
    "li = [1, 5, 1, 7, 1, 1, 1, 1]\n",
    "ans = 0\n",
    "for i in range(len(li)):\n",
    "\tif li[i] == 1:\n",
    "\t\tans = ans + 1\n",
    "print(ans)"
   ]
  },
  {
   "cell_type": "markdown",
   "id": "6eedd113-d297-40be-940a-9fb141eab223",
   "metadata": {},
   "source": [
    "# Problem\n",
    "\n",
    "- Let’s say a merchant asked his employee to count the total number of Amazon delivery boxes that contained the number exactly divisible by 3"
   ]
  },
  {
   "cell_type": "markdown",
   "id": "e9a4e4d5-224f-4791-813b-e91a37fa366a",
   "metadata": {},
   "source": [
    "- To solve the problem mentioned above, it is important to have an understanding of the modulus operator."
   ]
  },
  {
   "cell_type": "markdown",
   "id": "5cc460eb-fb44-46ae-8ab7-6fa45edda490",
   "metadata": {},
   "source": [
    "# Modulus Operator\n",
    "\n",
    "- 5 % 3 is 2\r",
    "- 6 % 3 is 0\n",
    "- 7 % 3 is 1\n",
    "- 8 % 5 is 3"
   ]
  },
  {
   "cell_type": "code",
   "execution_count": 12,
   "id": "9ddf9996-93b2-48a5-a194-483af3d32fad",
   "metadata": {},
   "outputs": [
    {
     "name": "stdout",
     "output_type": "stream",
     "text": [
      "0\n",
      "0\n"
     ]
    }
   ],
   "source": [
    "print(6 % 3)\n",
    "print(35 % 5)"
   ]
  },
  {
   "cell_type": "code",
   "execution_count": 13,
   "id": "ba575a83-ddaf-4cca-a2b2-4cc28931b9c1",
   "metadata": {},
   "outputs": [
    {
     "name": "stdout",
     "output_type": "stream",
     "text": [
      "3\n"
     ]
    }
   ],
   "source": [
    "li = [3, 6, 8, 7, 9]\n",
    "\n",
    "ans = 0\n",
    "\n",
    "for i in li:\n",
    "\tif i % 3 == 0:\n",
    "\t\tans = ans + 1\n",
    "print(ans)"
   ]
  },
  {
   "cell_type": "code",
   "execution_count": 14,
   "id": "f970e016-ef71-4167-9a0b-bc659b64c759",
   "metadata": {},
   "outputs": [
    {
     "name": "stdout",
     "output_type": "stream",
     "text": [
      "5\n"
     ]
    }
   ],
   "source": [
    "li = [3, 6, 8, 7, 9, 15, 12]\n",
    "\n",
    "ans = 0\n",
    "\n",
    "for i in li:\n",
    "\tif i % 3 == 0:\n",
    "\t\tans = ans + 1\n",
    "print(ans)"
   ]
  },
  {
   "cell_type": "code",
   "execution_count": 15,
   "id": "7e1f4c86-1e10-4cbd-8c57-5b0e617150d1",
   "metadata": {},
   "outputs": [
    {
     "name": "stdout",
     "output_type": "stream",
     "text": [
      "3\n"
     ]
    }
   ],
   "source": [
    "li = [3, 6, 8, 7, 9, 15, 12]\n",
    "\n",
    "ans = 0\n",
    "\n",
    "for i in li:\n",
    "\tif i % 2 == 0:\n",
    "\t\tans = ans + 1\n",
    "print(ans)"
   ]
  },
  {
   "cell_type": "code",
   "execution_count": 16,
   "id": "50b24e9c-14a0-4ede-8c7e-32ed0139e3c2",
   "metadata": {},
   "outputs": [
    {
     "name": "stdout",
     "output_type": "stream",
     "text": [
      "1\n"
     ]
    }
   ],
   "source": [
    "li = [3, 6, 8, 7, 9, 15, 12]\n",
    "\n",
    "ans = 0\n",
    "\n",
    "for i in li:\n",
    "\tif i % 5 == 0:\n",
    "\t\tans = ans + 1\n",
    "print(ans)"
   ]
  },
  {
   "cell_type": "markdown",
   "id": "e823024c-8b43-4a08-835a-622c4a052b60",
   "metadata": {},
   "source": [
    "# Or, And Operators\n",
    "\n",
    "- and: If both conditions are true, it returns true; otherwise, it returns false\n",
    "- or: If either of the conditions is true, it returns true; otherwise, it returns false"
   ]
  },
  {
   "cell_type": "code",
   "execution_count": 17,
   "id": "fa0bdeac-1500-4ca8-8f33-179ed6a9be35",
   "metadata": {},
   "outputs": [
    {
     "name": "stdout",
     "output_type": "stream",
     "text": [
      "Booooom\n"
     ]
    }
   ],
   "source": [
    "if (1 + 2 == 3):\n",
    "\tprint(\"Booooom\")\n",
    "else:\n",
    "\tprint(\"chapri\")"
   ]
  },
  {
   "cell_type": "code",
   "execution_count": 18,
   "id": "1d338e75-ef3c-40f8-9bee-20fe6be5a98d",
   "metadata": {},
   "outputs": [
    {
     "name": "stdout",
     "output_type": "stream",
     "text": [
      "Booooom\n"
     ]
    }
   ],
   "source": [
    "if (1 + 2 == 3) and (2 + 3 == 5):\n",
    "\tprint(\"Booooom\")\n",
    "else:\n",
    "\tprint(\"chapri\")"
   ]
  },
  {
   "cell_type": "code",
   "execution_count": 19,
   "id": "ef5fa7b6-9bdd-4aa3-bc56-283cdf3d6be1",
   "metadata": {},
   "outputs": [
    {
     "name": "stdout",
     "output_type": "stream",
     "text": [
      "Booooom\n"
     ]
    }
   ],
   "source": [
    "if (1 + 2 == 3) or (2 + 3 == 5):\n",
    "\tprint(\"Booooom\")\n",
    "else:\n",
    "\tprint(\"chapri\")"
   ]
  },
  {
   "cell_type": "code",
   "execution_count": 20,
   "id": "2f3ebcb5-eae6-4adc-9a67-1503a0fd5f6c",
   "metadata": {},
   "outputs": [
    {
     "name": "stdout",
     "output_type": "stream",
     "text": [
      "Booooom\n"
     ]
    }
   ],
   "source": [
    "if (1 + 2 == 3) or (2 + 4 == 5):\n",
    "\tprint(\"Booooom\")\n",
    "else:\n",
    "\tprint(\"chapri\")"
   ]
  },
  {
   "cell_type": "markdown",
   "id": "65ace5c3-5d9a-48c2-ba63-a2703b115e0f",
   "metadata": {},
   "source": [
    "# Problem\n",
    "\n",
    "- Let’s say a merchant asked his employee to count the total number of Amazon delivery boxes that contained a number exactly divisible by 2 and 3"
   ]
  },
  {
   "cell_type": "code",
   "execution_count": 21,
   "id": "4f97ca20-4261-4b43-8f91-244c285ed504",
   "metadata": {},
   "outputs": [
    {
     "name": "stdout",
     "output_type": "stream",
     "text": [
      "3\n"
     ]
    }
   ],
   "source": [
    "li = [12, 3, 4, 2, 18, 6]\n",
    "\n",
    "ans = 0\n",
    "\n",
    "for i in li:\n",
    "\tif ((i % 3 == 0) and (i % 2 == 0)):\n",
    "\t\tans = ans + 1\n",
    "print(ans)"
   ]
  },
  {
   "cell_type": "markdown",
   "id": "37dc2e9c-8c72-4db5-98b4-d79226486319",
   "metadata": {},
   "source": [
    "# Problem\n",
    "\n",
    "- Let’s say a merchant asked his employee to count the total number of Amazon delivery boxes that contained a number exactly divisible by 2 or 3"
   ]
  },
  {
   "cell_type": "code",
   "execution_count": 22,
   "id": "496ee26a-ae97-4959-af50-2763ed0cc730",
   "metadata": {},
   "outputs": [
    {
     "name": "stdout",
     "output_type": "stream",
     "text": [
      "6\n"
     ]
    }
   ],
   "source": [
    "li = [12, 3, 4, 2, 18, 6]\n",
    "\n",
    "ans = 0\n",
    "\n",
    "for i in li:\n",
    "\tif ((i % 3 == 0) or (i % 2 == 0)):\n",
    "\t\tans = ans + 1\n",
    "print(ans)"
   ]
  },
  {
   "cell_type": "code",
   "execution_count": 23,
   "id": "f3acc0e9-22c7-43cc-83d6-b35cb447e930",
   "metadata": {},
   "outputs": [
    {
     "name": "stdout",
     "output_type": "stream",
     "text": [
      "6\n"
     ]
    }
   ],
   "source": [
    "li = [12, 3, 4, 2, 18, 6, 5]\n",
    "\n",
    "ans = 0\n",
    "\n",
    "for i in li:\n",
    "\tif ((i % 3 == 0) or (i % 2 == 0)):\n",
    "\t\tans = ans + 1\n",
    "print(ans)"
   ]
  },
  {
   "cell_type": "code",
   "execution_count": null,
   "id": "fac6459f-59e6-4688-8c1b-9236687bd019",
   "metadata": {},
   "outputs": [],
   "source": []
  }
 ],
 "metadata": {
  "kernelspec": {
   "display_name": "Python 3 (ipykernel)",
   "language": "python",
   "name": "python3"
  },
  "language_info": {
   "codemirror_mode": {
    "name": "ipython",
    "version": 3
   },
   "file_extension": ".py",
   "mimetype": "text/x-python",
   "name": "python",
   "nbconvert_exporter": "python",
   "pygments_lexer": "ipython3",
   "version": "3.11.7"
  }
 },
 "nbformat": 4,
 "nbformat_minor": 5
}
