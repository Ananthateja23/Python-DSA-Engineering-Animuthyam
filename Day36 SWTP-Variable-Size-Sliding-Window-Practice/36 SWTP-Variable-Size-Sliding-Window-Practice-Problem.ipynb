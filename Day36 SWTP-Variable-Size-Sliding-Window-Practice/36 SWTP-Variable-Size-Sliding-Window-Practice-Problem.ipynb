{
 "cells": [
  {
   "cell_type": "markdown",
   "id": "bec2d6c0-d656-4c7f-bd7f-8a94661a3999",
   "metadata": {},
   "source": [
    "# Variable Size Sliding Window\n",
    "- You are given an array and you should find the maximum length of the subarray which has atmost k ones\n",
    "- arr : [0, 1, 3, 1, 1, 6, 7, 1, 0, 1] and k = 2\n",
    "- output is 5\n",
    "\n",
    "# Hints to sense the problem type\n",
    "\n",
    "- Subarray : Sliding Window\n",
    "- atmost   : Variable Size Sliding Window"
   ]
  },
  {
   "cell_type": "code",
   "execution_count": 1,
   "id": "dced94ec-8fff-41a8-a812-0056ded25f95",
   "metadata": {},
   "outputs": [
    {
     "name": "stdout",
     "output_type": "stream",
     "text": [
      "1 [0]\n",
      "2 [0, 1]\n",
      "3 [0, 1, 3]\n",
      "4 [0, 1, 3, 1]\n",
      "3 [3, 1, 1]\n",
      "4 [3, 1, 1, 6]\n",
      "5 [3, 1, 1, 6, 7]\n",
      "4 [1, 6, 7, 1]\n",
      "5 [1, 6, 7, 1, 0]\n",
      "5 [6, 7, 1, 0, 1]\n"
     ]
    }
   ],
   "source": [
    "arr = [0, 1, 3, 1, 1, 6, 7, 1, 0, 1]\n",
    "ans = float(\"-inf\")\n",
    "l = 0\n",
    "tsum = 0\n",
    "k = 2\n",
    "for r in range(len(arr)):\n",
    "    if arr[r] == 1:\n",
    "        tsum += 1\n",
    "    while tsum > k:\n",
    "        if arr[l]==1:\n",
    "            tsum -= 1\n",
    "        l += 1\n",
    "    print(r-l+1, arr[l:r+1])"
   ]
  },
  {
   "cell_type": "code",
   "execution_count": 2,
   "id": "6f8b988c-935d-4f9a-b7e0-8a32cda76939",
   "metadata": {},
   "outputs": [
    {
     "name": "stdout",
     "output_type": "stream",
     "text": [
      "5\n"
     ]
    }
   ],
   "source": [
    "arr = [0, 1, 3, 1, 1, 6, 7, 1, 0, 1]\n",
    "ans = float(\"-inf\")\n",
    "l = 0\n",
    "tsum = 0\n",
    "k = 2\n",
    "for r in range(len(arr)):\n",
    "    if (arr[r] == 1):\n",
    "        tsum += 1\n",
    "        \n",
    "    while (tsum > k):\n",
    "        if (arr[l] == 1):\n",
    "            tsum -= 1\n",
    "        l += 1\n",
    "        \n",
    "    ans = max(ans, r-l+1)\n",
    "\n",
    "print(ans)"
   ]
  },
  {
   "cell_type": "code",
   "execution_count": null,
   "id": "d0004831-830c-4df6-a609-3e3e7b32e4ef",
   "metadata": {},
   "outputs": [],
   "source": []
  }
 ],
 "metadata": {
  "kernelspec": {
   "display_name": "Python 3 (ipykernel)",
   "language": "python",
   "name": "python3"
  },
  "language_info": {
   "codemirror_mode": {
    "name": "ipython",
    "version": 3
   },
   "file_extension": ".py",
   "mimetype": "text/x-python",
   "name": "python",
   "nbconvert_exporter": "python",
   "pygments_lexer": "ipython3",
   "version": "3.11.7"
  }
 },
 "nbformat": 4,
 "nbformat_minor": 5
}
