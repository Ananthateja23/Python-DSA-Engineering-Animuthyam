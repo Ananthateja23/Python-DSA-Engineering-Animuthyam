{
 "cells": [
  {
   "cell_type": "markdown",
   "id": "15d3d64b-96f2-430b-b795-b3995308b480",
   "metadata": {},
   "source": [
    "# Variable Size Sliding Window Time Complexity\n",
    "- You are given an array and you should find the maimum length of the subarray which has atmost k odd numbers\n",
    "\n",
    "- arr: [12, 1, 3, 1, 1, 6, 7, 1, 8, 1] and k= 2\n",
    "\n",
    "- output is 4"
   ]
  },
  {
   "cell_type": "code",
   "execution_count": 1,
   "id": "a296b6b2-1ac6-4442-852e-da38749a5442",
   "metadata": {},
   "outputs": [
    {
     "name": "stdout",
     "output_type": "stream",
     "text": [
      "[12] 1\n",
      "[12, 1] 2\n",
      "[12, 1, 3] 3\n",
      "[3, 1] 2\n",
      "[1, 1] 2\n",
      "[1, 1, 6] 3\n",
      "[1, 6, 7] 3\n",
      "[6, 7, 1] 3\n",
      "[6, 7, 1, 8] 4\n",
      "[1, 8, 1] 3\n"
     ]
    }
   ],
   "source": [
    "arr = [12, 1, 3, 1, 1, 6, 7, 1, 8, 1]\n",
    "ans = float(\"-inf\")\n",
    "l = 0\n",
    "temp = 0\n",
    "k = 2\n",
    "for r in range(len(arr)):\n",
    "    if (arr[r] % 2 != 0):\n",
    "        temp += 1\n",
    "    while temp > k:\n",
    "        if (arr[l] % 2 != 0):\n",
    "            temp -= 1\n",
    "        l += 1\n",
    "    print(arr[l: r+1], r-l+1)"
   ]
  },
  {
   "cell_type": "code",
   "execution_count": 2,
   "id": "643ef323-5ab1-4dcb-8cc7-604706f7ebd4",
   "metadata": {},
   "outputs": [
    {
     "name": "stdout",
     "output_type": "stream",
     "text": [
      "4\n"
     ]
    }
   ],
   "source": [
    "arr = [12, 1, 3, 1, 1, 6, 7, 1, 8, 1]\n",
    "ans = float(\"-inf\")\n",
    "l = 0\n",
    "temp = 0\n",
    "k = 2\n",
    "for r in range(len(arr)):\n",
    "    if (arr[r] % 2 != 0):\n",
    "        temp += 1\n",
    "    while temp > k:\n",
    "        if (arr[l] % 2 != 0):\n",
    "            temp -= 1\n",
    "        l += 1\n",
    "    ans = max(ans, r-l+1)\n",
    "\n",
    "print(ans)"
   ]
  },
  {
   "cell_type": "markdown",
   "id": "f582c45f-1360-455d-a4d2-f4a96603af3f",
   "metadata": {},
   "source": [
    "# Time Complexity\n",
    "\n",
    "- Over all Time Complexity = Time Complexity of for loop + Time Complexity of while loop (It runs less number of time so we are adding here, but in general cases we used to do multiplication over here)\n",
    "\n",
    "- Over all Time Complexity = O(n) + O(n)\n",
    "\n",
    "- Over all Time Complexity = O(2n) i.e equivalent to O(n)"
   ]
  },
  {
   "cell_type": "code",
   "execution_count": null,
   "id": "cc4465a9-0c87-42c6-afac-46605dd25860",
   "metadata": {},
   "outputs": [],
   "source": []
  }
 ],
 "metadata": {
  "kernelspec": {
   "display_name": "Python 3 (ipykernel)",
   "language": "python",
   "name": "python3"
  },
  "language_info": {
   "codemirror_mode": {
    "name": "ipython",
    "version": 3
   },
   "file_extension": ".py",
   "mimetype": "text/x-python",
   "name": "python",
   "nbconvert_exporter": "python",
   "pygments_lexer": "ipython3",
   "version": "3.11.7"
  }
 },
 "nbformat": 4,
 "nbformat_minor": 5
}
