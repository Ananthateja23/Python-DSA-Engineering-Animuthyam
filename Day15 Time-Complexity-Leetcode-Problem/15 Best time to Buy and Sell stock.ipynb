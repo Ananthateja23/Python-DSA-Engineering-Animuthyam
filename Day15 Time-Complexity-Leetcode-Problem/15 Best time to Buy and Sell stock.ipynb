{
 "cells": [
  {
   "cell_type": "markdown",
   "id": "0c2a220d-5d36-4f9e-a6ce-c5a9d5630318",
   "metadata": {},
   "source": [
    "# Understanding time complexity with examples"
   ]
  },
  {
   "cell_type": "code",
   "execution_count": 1,
   "id": "392a3276-ed73-4aac-9585-b53ca3695576",
   "metadata": {},
   "outputs": [
    {
     "name": "stdout",
     "output_type": "stream",
     "text": [
      "vignesh\n"
     ]
    }
   ],
   "source": [
    "print(\"vignesh\") # ==> O(1)"
   ]
  },
  {
   "cell_type": "code",
   "execution_count": 2,
   "id": "ff2c011d-055a-4b84-8bea-47693e546ff9",
   "metadata": {},
   "outputs": [
    {
     "name": "stdout",
     "output_type": "stream",
     "text": [
      "Vignesh\n"
     ]
    }
   ],
   "source": [
    "a = 1\n",
    "if (a == 1): # ==> O(1)\n",
    "\tprint(\"Vignesh\")\n",
    "else:\n",
    "\tprint(\"Dinesh\")"
   ]
  },
  {
   "cell_type": "code",
   "execution_count": 4,
   "id": "23c9eeb2-35a5-450a-b2ef-d89f7d04e982",
   "metadata": {},
   "outputs": [
    {
     "name": "stdout",
     "output_type": "stream",
     "text": [
      "Boom\n",
      "Anvi\n",
      "nikhil\n",
      "ram\n"
     ]
    }
   ],
   "source": [
    "names = [\"Boom\", \"Anvi\", \"nikhil\", \"ram\"] # ==> n items\n",
    "for i in range(4): # ==> O(n)\n",
    "\tprint(names[i])"
   ]
  },
  {
   "cell_type": "code",
   "execution_count": 6,
   "id": "827a1da0-01f1-4b12-a4cb-127071d575f4",
   "metadata": {},
   "outputs": [
    {
     "name": "stdout",
     "output_type": "stream",
     "text": [
      "Boom\n",
      "Anvi\n",
      "nikhil\n",
      "ram\n"
     ]
    }
   ],
   "source": [
    "for val in names: # ==> O(n)\n",
    "\tprint(val)"
   ]
  },
  {
   "cell_type": "markdown",
   "id": "ca371ec8-84da-4e89-a8b3-9203b16a6983",
   "metadata": {},
   "source": [
    "**Understanding time complexity when loop and if statement was side by side**"
   ]
  },
  {
   "cell_type": "code",
   "execution_count": 7,
   "id": "bda36847-cc36-4c52-8d5e-5f311a8f98d3",
   "metadata": {},
   "outputs": [
    {
     "name": "stdout",
     "output_type": "stream",
     "text": [
      "No it is not a palindrome\n"
     ]
    }
   ],
   "source": [
    "s = \"bangaram\"\n",
    "ans = \"\"\n",
    "\n",
    "for i in range(len(s)-1,-1, -1):\n",
    "\tans = ans + s[i]\n",
    "\n",
    "if ans == s:\n",
    "\tprint(\"Yes, it is a palindrome\")\n",
    "else:\n",
    "\tprint(\"No it is not a palindrome\")"
   ]
  },
  {
   "cell_type": "markdown",
   "id": "1070b17a-af51-4e19-aefd-05448cfe2294",
   "metadata": {},
   "source": [
    "```\n",
    "for loop     ==> O(n)\n",
    "if statement ==> O(1)\n",
    "\n",
    "Time complexity: O(n) + O(1) = O(n) (consider the big one)\n",
    "\n",
    "example: O(n^2) + O(n) = O(n^2) (consider the big one)\n",
    "```"
   ]
  },
  {
   "cell_type": "markdown",
   "id": "41268863-dc83-4438-9d01-eef9deec177b",
   "metadata": {
    "jp-MarkdownHeadingCollapsed": true
   },
   "source": [
    "**Understanding time complexity when a function was called multiple times**"
   ]
  },
  {
   "cell_type": "code",
   "execution_count": 8,
   "id": "f6b46514-8607-4ad4-9dac-fd4548c306a2",
   "metadata": {},
   "outputs": [
    {
     "name": "stdout",
     "output_type": "stream",
     "text": [
      "vignesh\n",
      "vignesh\n",
      "vignesh\n",
      "vignesh\n",
      "vignesh\n",
      "Boom\n",
      "Boom\n",
      "Boom\n",
      "Boom\n"
     ]
    }
   ],
   "source": [
    "def fun(s, n):\n",
    "\tfor i in range(n):\n",
    "\t\tprint(s)\n",
    "\n",
    "fun(\"vignesh\", 5) # ==> O(n)\n",
    "fun(\"Boom\", 4)    # ==> O(n)"
   ]
  },
  {
   "cell_type": "markdown",
   "id": "faee3a3e-bad0-4e97-b2c4-13f138059364",
   "metadata": {},
   "source": [
    "```\n",
    "Time complexity : O(n) + O(n) = O(n)\n",
    "```"
   ]
  },
  {
   "cell_type": "markdown",
   "id": "7ed52136-7161-49f1-8848-1173e4861b4b",
   "metadata": {},
   "source": [
    "**Understand the time complexity when we have double for loop**\n",
    "```python\n",
    "for i in stones: --> runs n times\n",
    "\tfor j in jewels: --> runs k times\n",
    "\t\tif j == i:\n",
    "\t\t\tans += 1\n",
    "\t\t\tbreak\n",
    "\n",
    "# time complexity: O(n)*O(k)\n",
    "```"
   ]
  },
  {
   "cell_type": "markdown",
   "id": "18536fa7-736e-4cc0-93f0-06f66eb8034a",
   "metadata": {},
   "source": [
    "**finding minimum value in array**"
   ]
  },
  {
   "cell_type": "code",
   "execution_count": 10,
   "id": "895ebf21-c941-4bc8-aa5c-0d5f242304b0",
   "metadata": {},
   "outputs": [
    {
     "name": "stdout",
     "output_type": "stream",
     "text": [
      "3\n"
     ]
    }
   ],
   "source": [
    "arr = [3, 5, 6, 8, 9]\n",
    "\n",
    "mini = arr[0]\n",
    "\n",
    "for i in range(1, len(arr)):\n",
    "    if mini > arr[i]:\n",
    "        mini = arr[i]\n",
    "print(mini)"
   ]
  },
  {
   "cell_type": "code",
   "execution_count": 11,
   "id": "5d2ace96-49c7-4848-bf38-befef10cc93d",
   "metadata": {},
   "outputs": [
    {
     "name": "stdout",
     "output_type": "stream",
     "text": [
      "3\n"
     ]
    }
   ],
   "source": [
    "arr = [3, 5, 6, 8, 9]\n",
    "\n",
    "mini = arr[0]\n",
    "\n",
    "for i in range(1, len(arr)):\n",
    "    mini = min(mini, arr[i])\n",
    "print(mini)"
   ]
  },
  {
   "cell_type": "markdown",
   "id": "0d686488-0412-40a3-b92a-3eb963e32cb2",
   "metadata": {},
   "source": [
    "# Leetcode problem best time to buy and sell stock\n",
    "- Click on the link to start solving Leetcode problem\n",
    "- [Leetcode-Problem](https://leetcode.com/problems/best-time-to-buy-and-sell-stock/)"
   ]
  },
  {
   "cell_type": "markdown",
   "id": "ae3acbde-3369-458c-bfc5-f6386f715dc3",
   "metadata": {},
   "source": [
    "```python\n",
    "class Solution:\n",
    "    def maxProfit(self, prices: List[int]) -> int:\n",
    "        ans = 0\n",
    "        mini = prices[0]\n",
    "        for i in range(1, len(prices)):\n",
    "            ans  = max(ans, (prices[i]-mini))\n",
    "            mini = min(mini, prices[i])\n",
    "        return ans\n",
    "```"
   ]
  },
  {
   "cell_type": "code",
   "execution_count": null,
   "id": "1442ec8a-24bd-4d49-97f0-41d2a4295e54",
   "metadata": {},
   "outputs": [],
   "source": []
  }
 ],
 "metadata": {
  "kernelspec": {
   "display_name": "Python 3 (ipykernel)",
   "language": "python",
   "name": "python3"
  },
  "language_info": {
   "codemirror_mode": {
    "name": "ipython",
    "version": 3
   },
   "file_extension": ".py",
   "mimetype": "text/x-python",
   "name": "python",
   "nbconvert_exporter": "python",
   "pygments_lexer": "ipython3",
   "version": "3.11.7"
  }
 },
 "nbformat": 4,
 "nbformat_minor": 5
}
