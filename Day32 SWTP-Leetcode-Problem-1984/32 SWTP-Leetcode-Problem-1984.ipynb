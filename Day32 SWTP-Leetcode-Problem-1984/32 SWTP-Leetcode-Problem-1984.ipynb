{
 "cells": [
  {
   "cell_type": "markdown",
   "id": "a0f4f0dc-07f3-436b-a19d-1de44e299ae0",
   "metadata": {},
   "source": [
    "# Learn `float(\"inf\")` and `float(\"-inf\")`:\n",
    "- `float(\"inf\")`: It gives very big number\n",
    "  \n",
    "- `float(\"-inf\")`: It gives very small number\n",
    "\n",
    "### Points to remember\n",
    "- To find the minimum value, the temporary variable should be `float(\"inf\")`\n",
    "  \n",
    "- To find the maximum value, the temporary variable should be `float(\"-inf\")`"
   ]
  },
  {
   "cell_type": "code",
   "execution_count": 1,
   "id": "6a73016a-0e3a-46ec-8533-863b47e7a2d5",
   "metadata": {},
   "outputs": [
    {
     "name": "stdout",
     "output_type": "stream",
     "text": [
      "-10\n"
     ]
    }
   ],
   "source": [
    "# finding lowest number in arr\n",
    "\n",
    "ans = float(\"inf\")\n",
    "num = [-5, -8, 0, 5, 7, -10]\n",
    "for i in num:\n",
    "    ans = min(ans, i)\n",
    "print(ans)"
   ]
  },
  {
   "cell_type": "code",
   "execution_count": 2,
   "id": "f31a6486-1f26-45b3-b29c-5f0f6cb78fb4",
   "metadata": {},
   "outputs": [
    {
     "name": "stdout",
     "output_type": "stream",
     "text": [
      "7\n"
     ]
    }
   ],
   "source": [
    "# finding highest number in arr\n",
    "\n",
    "ans = float(\"-inf\")\n",
    "num = [-5, -8, 0, 5, 7, -10]\n",
    "for i in num:\n",
    "    ans = max(ans, i)\n",
    "print(ans)"
   ]
  },
  {
   "cell_type": "markdown",
   "id": "55b304b9-f8c0-48b5-8a6a-d1767404cb98",
   "metadata": {},
   "source": [
    "**If i, j indices are given then number of elements in a window is `j-i+1`**"
   ]
  },
  {
   "cell_type": "markdown",
   "id": "50a97fa9-6319-4548-83dc-804a89d4a19f",
   "metadata": {},
   "source": [
    "# Leetcode Problem : `1984. Minimum Difference Between Highest and Lowest of K Scores`\n",
    "- Click on the link to start solving the problem\n",
    "- [Leetcode-Problem](https://leetcode.com/problems/minimum-difference-between-highest-and-lowest-of-k-scores/description/)"
   ]
  },
  {
   "cell_type": "markdown",
   "id": "103f8262-f57b-4304-a0fb-244d94d72fcb",
   "metadata": {},
   "source": [
    "# Method01: Brute force approach"
   ]
  },
  {
   "cell_type": "code",
   "execution_count": 3,
   "id": "f6998b12-d7f0-4961-bc95-b372c101fe0b",
   "metadata": {},
   "outputs": [
    {
     "name": "stdout",
     "output_type": "stream",
     "text": [
      "[1, 3, 4, 5, 8]\n"
     ]
    }
   ],
   "source": [
    "nums = [3, 4, 1, 8, 5]\n",
    "nums.sort()\n",
    "print(nums)"
   ]
  },
  {
   "cell_type": "code",
   "execution_count": 4,
   "id": "2fbee45c-ba3d-429c-8abd-e8c304d1c6d7",
   "metadata": {},
   "outputs": [
    {
     "name": "stdout",
     "output_type": "stream",
     "text": [
      "[1]\n",
      "[1, 3]\n",
      "[1, 3, 4]\n",
      "[1, 3, 4, 5]\n",
      "[1, 3, 4, 5, 8]\n",
      "[3]\n",
      "[3, 4]\n",
      "[3, 4, 5]\n",
      "[3, 4, 5, 8]\n",
      "[4]\n",
      "[4, 5]\n",
      "[4, 5, 8]\n",
      "[5]\n",
      "[5, 8]\n",
      "[8]\n"
     ]
    }
   ],
   "source": [
    "nums = [3, 4, 1, 8, 5]\n",
    "nums.sort()\n",
    "# print(nums)\n",
    "n = len(nums)\n",
    "for i in range(n):\n",
    "    for j in range(i, n):\n",
    "        temp = []\n",
    "        for m in range(i, j+1):\n",
    "            temp.append(nums[m])\n",
    "        print(temp)"
   ]
  },
  {
   "cell_type": "code",
   "execution_count": 5,
   "id": "ee67fd4e-ffeb-4b74-b196-1fe65e639f33",
   "metadata": {},
   "outputs": [
    {
     "name": "stdout",
     "output_type": "stream",
     "text": [
      "[1, 3, 4]\n",
      "[3, 4, 5]\n",
      "[4, 5, 8]\n"
     ]
    }
   ],
   "source": [
    "nums = [3, 4, 1, 8, 5]\n",
    "nums.sort()\n",
    "# print(nums)\n",
    "n = len(nums)\n",
    "k = 3\n",
    "for i in range(n):\n",
    "    for j in range(i, n):\n",
    "        temp = []\n",
    "        for m in range(i, j+1):\n",
    "            temp.append(nums[m])\n",
    "        if len(temp) == k:\n",
    "            print(temp)"
   ]
  },
  {
   "cell_type": "code",
   "execution_count": 6,
   "id": "972681c8-8ef5-4352-962b-bcc96f4014b3",
   "metadata": {},
   "outputs": [
    {
     "name": "stdout",
     "output_type": "stream",
     "text": [
      "2\n"
     ]
    }
   ],
   "source": [
    "nums = [3, 4, 1, 8, 5]\n",
    "nums.sort()\n",
    "# print(nums)\n",
    "n = len(nums)\n",
    "k = 3\n",
    "ans = float(\"inf\")\n",
    "for i in range(n):\n",
    "    for j in range(i, n):\n",
    "        temp = []\n",
    "        for m in range(i, j+1):\n",
    "            temp.append(nums[m])\n",
    "        if len(temp) == k:\n",
    "            last = temp[-1]\n",
    "            first = temp[0]\n",
    "            ans = min(ans, last-first)\n",
    "print(ans)"
   ]
  },
  {
   "cell_type": "markdown",
   "id": "13ff643c-0fe8-4e0a-8f59-7062383419b9",
   "metadata": {},
   "source": [
    "```python\n",
    "class Solution:\n",
    "    def minimumDifference(self, nums: List[int], k: int) -> int:\n",
    "        # Method01: Brute force approach\n",
    "        nums.sort()\n",
    "        ans = float(\"inf\")\n",
    "        n = len(nums)\n",
    "        for i in range(n):\n",
    "            for j in range(i, n):\n",
    "                temp = []\n",
    "                for m in range(i, j+1):\n",
    "                    temp.append(nums[m])\n",
    "                if len(temp) == k:\n",
    "                    first = temp[-1]\n",
    "                    last = temp[0]\n",
    "                    ans = min(ans, first-last)\n",
    "        return ans      \n",
    "```"
   ]
  },
  {
   "cell_type": "markdown",
   "id": "681d2c7e-2c50-4561-8341-b3b4d3301ee4",
   "metadata": {},
   "source": [
    "```\n",
    "==> Time Complexity for sorting is O(nlogn)\n",
    "\n",
    "==> Time Complexity of loops is O(n^3)\n",
    "\n",
    "==> Overall Time Complexity is O(n^3)\n",
    "```"
   ]
  },
  {
   "cell_type": "markdown",
   "id": "a0bd1365-cec2-4d70-aa7d-041f5d73a0df",
   "metadata": {},
   "source": [
    "# Method02 : Sliding Window and Two Pointers Algorithm\n",
    "\n",
    "- step1: window valid ani chepey variable increment chestham\n",
    "- step2: L value ni increment chestham\n",
    "- step3: answer ni update chestham"
   ]
  },
  {
   "cell_type": "code",
   "execution_count": 7,
   "id": "523629ba-9c4a-4a7c-ac57-0b0e0d9b5bcc",
   "metadata": {},
   "outputs": [
    {
     "name": "stdout",
     "output_type": "stream",
     "text": [
      "[]\n",
      "[1]\n",
      "[1, 3]\n",
      "[3, 4]\n",
      "[4, 5]\n"
     ]
    }
   ],
   "source": [
    "nums = [3, 4, 8, 1, 5]\n",
    "nums.sort()\n",
    "n = len(nums)\n",
    "k = 3\n",
    "l = 0\n",
    "ans = float(\"inf\")\n",
    "\n",
    "for r in range(n):\n",
    "    if (r-l == k):\n",
    "        l += 1\n",
    "    print(nums[l:r])"
   ]
  },
  {
   "cell_type": "code",
   "execution_count": 8,
   "id": "04b734f4-7d18-4b94-aa34-c2c57ecde05d",
   "metadata": {},
   "outputs": [
    {
     "name": "stdout",
     "output_type": "stream",
     "text": [
      "[1]\n",
      "[1, 3]\n",
      "[1, 3, 4]\n",
      "[3, 4, 5]\n",
      "[4, 5, 8]\n"
     ]
    }
   ],
   "source": [
    "nums = [3, 4, 8, 1, 5]\n",
    "nums.sort()\n",
    "n = len(nums)\n",
    "k = 3\n",
    "l = 0\n",
    "ans = float(\"inf\")\n",
    "\n",
    "for r in range(n):\n",
    "    if (r-l == k):\n",
    "        l += 1\n",
    "    print(nums[l:r+1])"
   ]
  },
  {
   "cell_type": "code",
   "execution_count": 9,
   "id": "e7da3a91-b210-4618-93c7-5d23149281aa",
   "metadata": {},
   "outputs": [
    {
     "name": "stdout",
     "output_type": "stream",
     "text": [
      "[1, 3, 4]\n",
      "[3, 4, 5]\n",
      "[4, 5, 8]\n"
     ]
    }
   ],
   "source": [
    "nums = [3, 4, 8, 1, 5]\n",
    "nums.sort()\n",
    "n = len(nums)\n",
    "k = 3\n",
    "l = 0\n",
    "ans = float(\"inf\")\n",
    "\n",
    "for r in range(n):\n",
    "    if (r-l == k):\n",
    "        l += 1\n",
    "    if (r-l+1 == k):\n",
    "        print(nums[l:r+1])"
   ]
  },
  {
   "cell_type": "code",
   "execution_count": 10,
   "id": "2f30ae65-3fa9-464e-9fd3-c4f9daa89772",
   "metadata": {},
   "outputs": [
    {
     "name": "stdout",
     "output_type": "stream",
     "text": [
      "2\n"
     ]
    }
   ],
   "source": [
    "nums = [3, 4, 8, 1, 5]\n",
    "nums.sort()\n",
    "n = len(nums)\n",
    "k = 3\n",
    "l = 0\n",
    "ans = float(\"inf\")\n",
    "\n",
    "for r in range(n):\n",
    "    if (r-l == k):\n",
    "        l += 1\n",
    "    if (r-l+1 == k):\n",
    "        ans = min(ans, nums[r]-nums[l])\n",
    "print(ans)"
   ]
  },
  {
   "cell_type": "markdown",
   "id": "897e5885-93ba-4e01-a9b0-636f78acc8a3",
   "metadata": {},
   "source": [
    "```python\n",
    "class Solution:\n",
    "    def minimumDifference(self, nums: List[int], k: int) -> int:\n",
    "        # Method02: Sliding window and two pointers Algorithm\n",
    "        nums.sort()\n",
    "        n = len(nums)\n",
    "        ans = float(\"inf\")\n",
    "        l = 0\n",
    "        for r in range(n):\n",
    "            # step1: window var increment\n",
    "            # not required here\n",
    "\n",
    "            # step2: l value increment\n",
    "            if (r-l == k):\n",
    "                l += 1\n",
    "\n",
    "            # step3:  answer update\n",
    "            if (r-l+1 == k):\n",
    "                ans = min(ans, nums[r]-nums[l])\n",
    "                \n",
    "        return ans\n",
    "```"
   ]
  },
  {
   "cell_type": "markdown",
   "id": "e49b1fa8-5757-4411-b68a-358cf8e9ebe6",
   "metadata": {},
   "source": [
    "```\n",
    "==> Over all Time Complexity = Time Complexity of Sorting + Time Complexity of loops\n",
    "\n",
    "==> Over all Time Complexity = O(nlogn) + O(n)\n",
    "\n",
    "==> Over all Time Complexity = O(nlogn)\n",
    "```"
   ]
  },
  {
   "cell_type": "code",
   "execution_count": null,
   "id": "28743fbe-5e14-4276-84b9-e6b41c216eda",
   "metadata": {},
   "outputs": [],
   "source": []
  }
 ],
 "metadata": {
  "kernelspec": {
   "display_name": "Python 3 (ipykernel)",
   "language": "python",
   "name": "python3"
  },
  "language_info": {
   "codemirror_mode": {
    "name": "ipython",
    "version": 3
   },
   "file_extension": ".py",
   "mimetype": "text/x-python",
   "name": "python",
   "nbconvert_exporter": "python",
   "pygments_lexer": "ipython3",
   "version": "3.11.7"
  }
 },
 "nbformat": 4,
 "nbformat_minor": 5
}
