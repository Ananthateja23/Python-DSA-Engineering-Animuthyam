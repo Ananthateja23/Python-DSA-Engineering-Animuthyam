{
 "cells": [
  {
   "cell_type": "markdown",
   "id": "f5628ca0-73e4-445c-8c1c-9032e92df3ab",
   "metadata": {},
   "source": [
    "# Learning swapping in python"
   ]
  },
  {
   "cell_type": "markdown",
   "id": "a069c57f-ea0e-412e-9791-41573ee09599",
   "metadata": {},
   "source": [
    "### Method01"
   ]
  },
  {
   "cell_type": "code",
   "execution_count": 3,
   "id": "8c27bb99-97d0-4167-8d04-9122fb741ca0",
   "metadata": {},
   "outputs": [
    {
     "name": "stdout",
     "output_type": "stream",
     "text": [
      "Before Swapping : 3 , 5\n",
      "After Swapping  : 5 , 3\n"
     ]
    }
   ],
   "source": [
    "a = 3\n",
    "b = 5\n",
    "print(\"Before Swapping :\", a, \",\", b)\n",
    "\n",
    "temp = a\n",
    "a = b\n",
    "b = temp\n",
    "\n",
    "print(\"After Swapping  :\", a, \",\", b)"
   ]
  },
  {
   "cell_type": "markdown",
   "id": "93e18d30-4210-41d7-8fbf-24efa7f0bbeb",
   "metadata": {},
   "source": [
    "### Method02:"
   ]
  },
  {
   "cell_type": "code",
   "execution_count": 4,
   "id": "4871583d-db39-451e-bc67-31505bb292d5",
   "metadata": {},
   "outputs": [
    {
     "name": "stdout",
     "output_type": "stream",
     "text": [
      "Before Swapping : 3 , 5\n",
      "After Swapping  : 5 , 3\n"
     ]
    }
   ],
   "source": [
    "a = 3\n",
    "b = 5\n",
    "print(\"Before Swapping :\", a, \",\", b)\n",
    "\n",
    "a, b = b, a\n",
    "\n",
    "print(\"After Swapping  :\", a, \",\", b)"
   ]
  },
  {
   "cell_type": "markdown",
   "id": "8b024fc6-5087-4617-aadb-9d2f07de5933",
   "metadata": {},
   "source": [
    "# Learning swapping the elements in list"
   ]
  },
  {
   "cell_type": "code",
   "execution_count": 5,
   "id": "e22be486-f9e1-4105-b36c-2eb77fa65dc2",
   "metadata": {},
   "outputs": [
    {
     "name": "stdout",
     "output_type": "stream",
     "text": [
      "[2, 1]\n"
     ]
    }
   ],
   "source": [
    "li = [1, 2]\n",
    "li[0], li[1] = li[1], li[0]\n",
    "print(li)"
   ]
  },
  {
   "cell_type": "code",
   "execution_count": 6,
   "id": "cb44b094-1f19-40f6-8800-58fa0dab722e",
   "metadata": {},
   "outputs": [
    {
     "name": "stdout",
     "output_type": "stream",
     "text": [
      "[2, 1, 3, 4]\n"
     ]
    }
   ],
   "source": [
    "li = [1, 2, 3, 4]\n",
    "li[0], li[1] = li[1], li[0]\n",
    "print(li)"
   ]
  },
  {
   "cell_type": "markdown",
   "id": "5173273c-2ae2-45c2-beb6-012a8a6f2fcc",
   "metadata": {},
   "source": [
    "****Let's use a variable to store the indices of list****"
   ]
  },
  {
   "cell_type": "code",
   "execution_count": 7,
   "id": "cba3e4c3-e014-4106-966a-ee0c4fface6f",
   "metadata": {},
   "outputs": [
    {
     "name": "stdout",
     "output_type": "stream",
     "text": [
      "[2, 1, 3, 4]\n"
     ]
    }
   ],
   "source": [
    "li = [1, 2, 3, 4]\n",
    "j = 0\n",
    "li[j], li[j+1] = li[j+1], li[j]\n",
    "print(li)"
   ]
  },
  {
   "cell_type": "code",
   "execution_count": 8,
   "id": "8d77d41f-1dee-445d-a3c2-56db41285434",
   "metadata": {},
   "outputs": [
    {
     "name": "stdout",
     "output_type": "stream",
     "text": [
      "[1, 3, 2, 4]\n"
     ]
    }
   ],
   "source": [
    "li = [1, 2, 3, 4]\n",
    "j = 1\n",
    "li[j], li[j+1] = li[j+1], li[j]\n",
    "print(li)"
   ]
  },
  {
   "cell_type": "code",
   "execution_count": 9,
   "id": "a1a2e31f-e65a-4f4e-8ee8-c010dc26eed1",
   "metadata": {},
   "outputs": [
    {
     "name": "stdout",
     "output_type": "stream",
     "text": [
      "[1, 2, 4, 3]\n"
     ]
    }
   ],
   "source": [
    "li = [1, 2, 3, 4]\n",
    "j = 2\n",
    "li[j], li[j+1] = li[j+1], li[j]\n",
    "print(li)"
   ]
  },
  {
   "cell_type": "code",
   "execution_count": 10,
   "id": "7247faed-673f-4160-a328-bf6e9c45be0d",
   "metadata": {},
   "outputs": [
    {
     "ename": "IndexError",
     "evalue": "list index out of range",
     "output_type": "error",
     "traceback": [
      "\u001b[1;31m---------------------------------------------------------------------------\u001b[0m",
      "\u001b[1;31mIndexError\u001b[0m                                Traceback (most recent call last)",
      "Cell \u001b[1;32mIn[10], line 3\u001b[0m\n\u001b[0;32m      1\u001b[0m li \u001b[38;5;241m=\u001b[39m [\u001b[38;5;241m1\u001b[39m, \u001b[38;5;241m2\u001b[39m, \u001b[38;5;241m3\u001b[39m, \u001b[38;5;241m4\u001b[39m]\n\u001b[0;32m      2\u001b[0m j \u001b[38;5;241m=\u001b[39m \u001b[38;5;241m3\u001b[39m\n\u001b[1;32m----> 3\u001b[0m li[j], li[j\u001b[38;5;241m+\u001b[39m\u001b[38;5;241m1\u001b[39m] \u001b[38;5;241m=\u001b[39m li[j\u001b[38;5;241m+\u001b[39m\u001b[38;5;241m1\u001b[39m], li[j]\n\u001b[0;32m      4\u001b[0m \u001b[38;5;28mprint\u001b[39m(li)\n",
      "\u001b[1;31mIndexError\u001b[0m: list index out of range"
     ]
    }
   ],
   "source": [
    "li = [1, 2, 3, 4]\n",
    "j = 3\n",
    "li[j], li[j+1] = li[j+1], li[j]\n",
    "print(li)"
   ]
  },
  {
   "cell_type": "markdown",
   "id": "da6df8ed-b15b-405c-96fb-fef0be322f46",
   "metadata": {},
   "source": [
    "### What is sorting???\n",
    "- Arrange the elements or items in a list either ascending or descending order\n",
    "```\n",
    "Examples:\n",
    "\n",
    "li = [5, 3, 6, 2]\n",
    "\n",
    "li : [2, 3, 5, 6] --> Ascending order\n",
    "\n",
    "li : [6, 5, 3, 2] --> Descending order\n",
    "```"
   ]
  },
  {
   "cell_type": "markdown",
   "id": "cf35b292-72e1-42fe-8ce6-ee4488f84b95",
   "metadata": {},
   "source": [
    "# Bubble Sort\n",
    "- time complexity : O(n^2)\n",
    "```python\n",
    "\n",
    "# Bubble sort : Sorting in ascending order\n",
    "li = [2, 6, 1, 5, 0]\n",
    "n = len(li)\n",
    "for i in range(n-1):\n",
    "    for j in range(n-i-1):\n",
    "        if li[j] > li[j+1]:\n",
    "            li[j], li[j+1] = li[j+1], li[j]\n",
    "print(li)\n",
    "\n",
    "\n",
    "# Bubble sort : Sorting in descending order\n",
    "li = [2, 6, 1, 5, 0]\n",
    "n = len(li)\n",
    "for i in range(n-1):\n",
    "    for j in range(n-i-1):\n",
    "        if li[j] < li[j+1]:\n",
    "            li[j], li[j+1] = li[j+1], li[j]\n",
    "print(li)\n",
    "```"
   ]
  },
  {
   "cell_type": "markdown",
   "id": "c26973ff-c951-4540-92f9-340d65568b71",
   "metadata": {},
   "source": [
    "# Understanding the execution flow with a DRY run"
   ]
  },
  {
   "cell_type": "code",
   "execution_count": 26,
   "id": "87d70b1a-72df-4a90-b602-2cecd736e526",
   "metadata": {},
   "outputs": [
    {
     "name": "stdout",
     "output_type": "stream",
     "text": [
      "5 4\n",
      "[4, 5, 3, 2, 1]\n",
      "5 3\n",
      "[4, 3, 5, 2, 1]\n",
      "5 2\n",
      "[4, 3, 2, 5, 1]\n",
      "5 1\n",
      "[4, 3, 2, 1, 5]\n",
      "********************\n",
      "4 3\n",
      "[3, 4, 2, 1, 5]\n",
      "4 2\n",
      "[3, 2, 4, 1, 5]\n",
      "4 1\n",
      "[3, 2, 1, 4, 5]\n",
      "********************\n",
      "3 2\n",
      "[2, 3, 1, 4, 5]\n",
      "3 1\n",
      "[2, 1, 3, 4, 5]\n",
      "********************\n",
      "2 1\n",
      "[1, 2, 3, 4, 5]\n",
      "********************\n"
     ]
    }
   ],
   "source": [
    "# li = [2, 6, 1, 5, 0]\n",
    "li = [5, 4, 3, 2, 1]\n",
    "n = len(li)\n",
    "\n",
    "for i in range(n-1):\n",
    "    for j in range(n-1-i):\n",
    "        print(li[j], li[j+1])\n",
    "        if li[j] > li[j+1]:\n",
    "            li[j], li[j+1] = li[j+1], li[j]\n",
    "        print(li)\n",
    "    print(\"*\"*20)"
   ]
  },
  {
   "cell_type": "markdown",
   "id": "68e8bce6-6111-4e62-9671-67bb33380a53",
   "metadata": {},
   "source": [
    "# Let's breakdown the bubble sort and understand it better"
   ]
  },
  {
   "cell_type": "code",
   "execution_count": 25,
   "id": "c4d87697-586d-4bcc-a92c-08c271121b33",
   "metadata": {},
   "outputs": [
    {
     "name": "stdout",
     "output_type": "stream",
     "text": [
      "0\n",
      "1\n",
      "2\n",
      "3\n"
     ]
    }
   ],
   "source": [
    "li = [2, 6, 1, 5, 0]\n",
    "n = len(li)\n",
    "for i in range(n-1):\n",
    "    print(i)"
   ]
  },
  {
   "cell_type": "code",
   "execution_count": 27,
   "id": "e8e49318-f170-4d68-bb5f-1dc26bafec9b",
   "metadata": {},
   "outputs": [
    {
     "name": "stdout",
     "output_type": "stream",
     "text": [
      "0 0\n",
      "0 1\n",
      "0 2\n",
      "0 3\n",
      "1 0\n",
      "1 1\n",
      "1 2\n",
      "2 0\n",
      "2 1\n",
      "3 0\n"
     ]
    }
   ],
   "source": [
    "li = [2, 6, 1, 5, 0]\n",
    "n = len(li)\n",
    "for i in range(n-1):\n",
    "    for j in range(n-1-i):\n",
    "        print(i, j)"
   ]
  },
  {
   "cell_type": "code",
   "execution_count": 28,
   "id": "f7b1519a-146e-49cf-a167-47054b8a3e1e",
   "metadata": {},
   "outputs": [
    {
     "name": "stdout",
     "output_type": "stream",
     "text": [
      "2 2\n",
      "2 6\n",
      "2 1\n",
      "2 5\n",
      "6 2\n",
      "6 6\n",
      "6 1\n",
      "1 2\n",
      "1 6\n",
      "5 2\n"
     ]
    }
   ],
   "source": [
    "li = [2, 6, 1, 5, 0]\n",
    "n = len(li)\n",
    "for i in range(n-1):\n",
    "    for j in range(n-1-i):\n",
    "        print(li[i], li[j])"
   ]
  },
  {
   "cell_type": "code",
   "execution_count": 45,
   "id": "e5dc3fc8-cedc-4a33-afd1-9a0c53149ad0",
   "metadata": {},
   "outputs": [
    {
     "name": "stdout",
     "output_type": "stream",
     "text": [
      "0 1\n",
      "1 2\n",
      "2 3\n",
      "3 4\n",
      "----\n",
      "0 1\n",
      "1 2\n",
      "2 3\n",
      "----\n",
      "0 1\n",
      "1 2\n",
      "----\n",
      "0 1\n",
      "----\n"
     ]
    }
   ],
   "source": [
    "li = [2, 6, 1, 5, 0]\n",
    "n = len(li)\n",
    "for i in range(n-1):\n",
    "    for j in range(n-1-i):\n",
    "        print(j, j+1)\n",
    "    print(\"-\"*4)"
   ]
  },
  {
   "cell_type": "code",
   "execution_count": 29,
   "id": "b1c7b45e-5f22-49fb-b2cb-3ae2c21996cb",
   "metadata": {},
   "outputs": [
    {
     "name": "stdout",
     "output_type": "stream",
     "text": [
      "2 6\n",
      "6 1\n",
      "1 5\n",
      "5 0\n",
      "2 6\n",
      "6 1\n",
      "1 5\n",
      "2 6\n",
      "6 1\n",
      "2 6\n"
     ]
    }
   ],
   "source": [
    "li = [2, 6, 1, 5, 0]\n",
    "n = len(li)\n",
    "for i in range(n-1):\n",
    "    for j in range(n-1-i):\n",
    "        print(li[j], li[j+1])"
   ]
  },
  {
   "cell_type": "code",
   "execution_count": 31,
   "id": "d28b3c7e-8c85-4276-8c1a-cb54a674f577",
   "metadata": {},
   "outputs": [
    {
     "name": "stdout",
     "output_type": "stream",
     "text": [
      "[0, 1, 2, 5, 6]\n"
     ]
    }
   ],
   "source": [
    "li = [2, 6, 1, 5, 0]\n",
    "n = len(li)\n",
    "for i in range(n-1):\n",
    "    for j in range(n-1-i):\n",
    "        if li[j] > li[j+1]:\n",
    "            li[j], li[j+1] = li[j+1], li[j]\n",
    "print(li)"
   ]
  },
  {
   "cell_type": "code",
   "execution_count": 32,
   "id": "0e5a0e2b-79a1-45fc-b26f-973868a27540",
   "metadata": {},
   "outputs": [
    {
     "name": "stdout",
     "output_type": "stream",
     "text": [
      "[2, 1, 5, 0, 6]\n",
      "[1, 2, 0, 5, 6]\n",
      "[1, 0, 2, 5, 6]\n",
      "[0, 1, 2, 5, 6]\n",
      "[0, 1, 2, 5, 6]\n"
     ]
    }
   ],
   "source": [
    "li = [2, 6, 1, 5, 0]\n",
    "n = len(li)\n",
    "for i in range(n-1):\n",
    "    for j in range(n-1-i):\n",
    "        if li[j] > li[j+1]:\n",
    "            li[j], li[j+1] = li[j+1], li[j]\n",
    "    print(li)\n",
    "print(li)"
   ]
  },
  {
   "cell_type": "markdown",
   "id": "e32c41e6-608a-452e-a66a-e55cc28aba2e",
   "metadata": {},
   "source": [
    "# Optimized Bubble sort"
   ]
  },
  {
   "cell_type": "code",
   "execution_count": 33,
   "id": "71aeca48-7a85-42e0-b24f-a4b8142f4102",
   "metadata": {},
   "outputs": [
    {
     "name": "stdout",
     "output_type": "stream",
     "text": [
      "[1, 2, 3, 4, 5, 6, 7]\n",
      "[1, 2, 3, 4, 5, 6, 7]\n",
      "[1, 2, 3, 4, 5, 6, 7]\n"
     ]
    }
   ],
   "source": [
    "li = [7, 1, 2, 3, 4, 5, 6]\n",
    "n = len(li)\n",
    "for i in range(n-1):\n",
    "    did_swapped = False\n",
    "    for j in range(n-1-i):\n",
    "        if li[j] > li[j+1]:\n",
    "            li[j], li[j+1] = li[j+1], li[j]\n",
    "            did_swapped = True\n",
    "    print(li)\n",
    "    if (did_swapped == False):\n",
    "        break\n",
    "print(li)"
   ]
  },
  {
   "cell_type": "markdown",
   "id": "eb380254-f1b7-44b8-a291-9a8b9599ec00",
   "metadata": {},
   "source": [
    "# Understand the sorting a list with inbuilt functions"
   ]
  },
  {
   "cell_type": "code",
   "execution_count": 34,
   "id": "55aa62b3-387d-4996-ab8f-91b439e6b805",
   "metadata": {},
   "outputs": [
    {
     "name": "stdout",
     "output_type": "stream",
     "text": [
      "[1, 2, 3, 4, 5, 7]\n"
     ]
    }
   ],
   "source": [
    "li = [4, 5, 7, 1, 3, 2]\n",
    "li.sort()\n",
    "print(li)"
   ]
  },
  {
   "cell_type": "code",
   "execution_count": 35,
   "id": "3bc6117d-8c83-4f34-92ed-6fa497148318",
   "metadata": {},
   "outputs": [
    {
     "name": "stdout",
     "output_type": "stream",
     "text": [
      "None\n",
      "[1, 2, 3, 4, 5, 7]\n"
     ]
    }
   ],
   "source": [
    "li = [4, 5, 7, 1, 3, 2]\n",
    "print(li.sort())\n",
    "print(li)"
   ]
  },
  {
   "cell_type": "code",
   "execution_count": 36,
   "id": "5d63a21d-ec39-4b19-aedb-dd880f2fa6c8",
   "metadata": {},
   "outputs": [
    {
     "name": "stdout",
     "output_type": "stream",
     "text": [
      "[1, 2, 3, 4, 5, 7]\n",
      "[4, 5, 7, 1, 3, 2]\n"
     ]
    }
   ],
   "source": [
    "li = [4, 5, 7, 1, 3, 2]\n",
    "print(sorted(li))\n",
    "print(li)"
   ]
  },
  {
   "cell_type": "code",
   "execution_count": 37,
   "id": "5c837edb-9400-4465-9c48-b063d3efd374",
   "metadata": {},
   "outputs": [
    {
     "name": "stdout",
     "output_type": "stream",
     "text": [
      "[1, 2, 3, 4, 5, 7]\n",
      "[4, 5, 7, 1, 3, 2]\n"
     ]
    }
   ],
   "source": [
    "li = [4, 5, 7, 1, 3, 2]\n",
    "temp = sorted(li)\n",
    "print(temp)\n",
    "print(li)"
   ]
  },
  {
   "cell_type": "markdown",
   "id": "eae69a86-abb4-46ce-9684-8ceffe2348b8",
   "metadata": {},
   "source": [
    "```\n",
    "Task:\n",
    "\n",
    "--> use bubble sort to sort them in descending order\n",
    "--> use sort and sorted to sort them in descending order\n",
    "```"
   ]
  },
  {
   "cell_type": "code",
   "execution_count": 38,
   "id": "534b8b42-6488-45a4-9dde-f616d3ccf9c7",
   "metadata": {},
   "outputs": [
    {
     "name": "stdout",
     "output_type": "stream",
     "text": [
      "[7, 5, 4, 3, 2, 1]\n"
     ]
    }
   ],
   "source": [
    "li = [4, 5, 7, 1, 3, 2]\n",
    "li.sort(reverse = True)\n",
    "print(li)"
   ]
  },
  {
   "cell_type": "code",
   "execution_count": 39,
   "id": "efa28124-7127-4f0a-b928-76c54fda2891",
   "metadata": {},
   "outputs": [
    {
     "name": "stdout",
     "output_type": "stream",
     "text": [
      "[7, 5, 4, 3, 2, 1]\n",
      "[4, 5, 7, 1, 3, 2]\n"
     ]
    }
   ],
   "source": [
    "li = [4, 5, 7, 1, 3, 2]\n",
    "temp = sorted(li, reverse = True)\n",
    "print(temp)\n",
    "print(li)"
   ]
  },
  {
   "cell_type": "code",
   "execution_count": null,
   "id": "5969b2dc-976b-4258-aee1-6c9dee45200e",
   "metadata": {},
   "outputs": [],
   "source": []
  }
 ],
 "metadata": {
  "kernelspec": {
   "display_name": "Python 3 (ipykernel)",
   "language": "python",
   "name": "python3"
  },
  "language_info": {
   "codemirror_mode": {
    "name": "ipython",
    "version": 3
   },
   "file_extension": ".py",
   "mimetype": "text/x-python",
   "name": "python",
   "nbconvert_exporter": "python",
   "pygments_lexer": "ipython3",
   "version": "3.11.7"
  }
 },
 "nbformat": 4,
 "nbformat_minor": 5
}
