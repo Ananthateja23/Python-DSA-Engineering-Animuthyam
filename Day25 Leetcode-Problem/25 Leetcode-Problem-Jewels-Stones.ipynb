{
 "cells": [
  {
   "cell_type": "markdown",
   "id": "ce09a711-53c7-4adf-9554-d53b46d16485",
   "metadata": {},
   "source": [
    "# Problem: jewels and stones\n",
    "- Click on the link to start solving the problem\n",
    "- [Leetcode-Problem](https://leetcode.com/problems/jewels-and-stones/description/)\n",
    "- we solved this problem earlier. but, now are trying to solve with HashMap"
   ]
  },
  {
   "cell_type": "markdown",
   "id": "769979c8-ea6d-448c-bef7-da680456107e",
   "metadata": {},
   "source": [
    "# Solved problem with HashMap"
   ]
  },
  {
   "cell_type": "code",
   "execution_count": 2,
   "id": "3e1d2948-3215-425e-8b22-cca90f6ae90a",
   "metadata": {},
   "outputs": [
    {
     "name": "stdout",
     "output_type": "stream",
     "text": [
      "3\n"
     ]
    }
   ],
   "source": [
    "stones = 'aAAbbbb'\n",
    "jewels = 'aA'\n",
    "\n",
    "dici = {}\n",
    "for i in stones:\n",
    "    if i in dici:\n",
    "        dici[i] += 1\n",
    "    else:\n",
    "        dici[i] = 1\n",
    "ans = 0\n",
    "for j in range(len(jewels)):\n",
    "    ch = jewels[j]\n",
    "    if ch in dici:\n",
    "        ans += dici[ch]\n",
    "print(ans)"
   ]
  },
  {
   "cell_type": "markdown",
   "id": "792adc6f-989c-4242-a680-c23f1b5fdfaa",
   "metadata": {},
   "source": [
    "# Time Complexity\n",
    "```\n",
    "where\n",
    "\n",
    "N = jewels.length\n",
    "K = stones.length\n",
    "\n",
    "==> O(N) + O(K)\n",
    "==> O(N + K)\n",
    "==> O(n)\n",
    "```"
   ]
  },
  {
   "cell_type": "markdown",
   "id": "3faa4dfa-3d5a-49f1-a310-c8dff52f2190",
   "metadata": {},
   "source": [
    "# Constraints\n",
    "\n",
    "- These are the rules that Particularly designed for the given problem statement\n",
    "- After some time, going forward by seeing constraints we will decide which algorithm should we use for this problem\n"
   ]
  },
  {
   "cell_type": "markdown",
   "id": "cb4aa09a-a819-4196-b45f-4836e8dbeea7",
   "metadata": {},
   "source": [
    "# How to approach the problem?\n",
    "\n",
    "- read the problem statement\n",
    "- read the examples\n",
    "- read the constraints\n"
   ]
  },
  {
   "cell_type": "markdown",
   "id": "93ef9ef2-cefe-48fc-97a8-29e63d96916f",
   "metadata": {},
   "source": [
    "# contests:\n",
    "\n",
    "- Helps to improve coding logic in time bound environment\n"
   ]
  },
  {
   "cell_type": "code",
   "execution_count": null,
   "id": "5df4fc45-d227-4ee6-b582-0bc9d50fac67",
   "metadata": {},
   "outputs": [],
   "source": []
  }
 ],
 "metadata": {
  "kernelspec": {
   "display_name": "Python 3 (ipykernel)",
   "language": "python",
   "name": "python3"
  },
  "language_info": {
   "codemirror_mode": {
    "name": "ipython",
    "version": 3
   },
   "file_extension": ".py",
   "mimetype": "text/x-python",
   "name": "python",
   "nbconvert_exporter": "python",
   "pygments_lexer": "ipython3",
   "version": "3.11.7"
  }
 },
 "nbformat": 4,
 "nbformat_minor": 5
}
