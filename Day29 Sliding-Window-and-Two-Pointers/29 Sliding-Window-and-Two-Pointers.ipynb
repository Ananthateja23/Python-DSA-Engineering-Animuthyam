{
 "cells": [
  {
   "cell_type": "markdown",
   "id": "6ae46bab-2300-4407-9b47-52cca855aca2",
   "metadata": {},
   "source": [
    "# Topics covered:\n",
    "- SubArray\n",
    "- SubString\n",
    "- SubSequence"
   ]
  },
  {
   "cell_type": "markdown",
   "id": "94df63ca-63d5-4419-b740-5a2449d860c4",
   "metadata": {},
   "source": [
    "## SubArray\n",
    "\n",
    "### Array\n",
    "\n",
    "- nums = [1, 8, 9]\n",
    "\n",
    "### SubArray\n",
    "- All subarrays of given array `nums` are:\n",
    "- [1]\n",
    "- [1, 8]\n",
    "- [1, 8, 9]\n",
    "- [8]\n",
    "- [8, 9]\n",
    "- [9]"
   ]
  },
  {
   "cell_type": "code",
   "execution_count": 1,
   "id": "da28f268-25c5-428d-8c13-63d0507ee7de",
   "metadata": {},
   "outputs": [
    {
     "name": "stdout",
     "output_type": "stream",
     "text": [
      "0 0\n",
      "0 1\n",
      "0 2\n",
      "1 1\n",
      "1 2\n",
      "2 2\n"
     ]
    }
   ],
   "source": [
    "# write a program that gives indices of subarray\n",
    "nums = [1, 8, 9]\n",
    "n = len(nums)\n",
    "\n",
    "for i in range(n):\n",
    "    for j in range(i, n):\n",
    "        print(i, j)"
   ]
  },
  {
   "cell_type": "code",
   "execution_count": 2,
   "id": "bda264bb-7c40-41ea-a143-d43ecc9b0535",
   "metadata": {},
   "outputs": [
    {
     "name": "stdout",
     "output_type": "stream",
     "text": [
      "1 \n",
      "1 8 \n",
      "1 8 9 \n",
      "8 \n",
      "8 9 \n",
      "9 \n"
     ]
    }
   ],
   "source": [
    "# write a program that gives all the subarray of array\n",
    "nums = [1, 8, 9]\n",
    "n = len(nums)\n",
    "\n",
    "for i in range(n):\n",
    "    for j in range(i, n):\n",
    "        for k in range(i, j+1):\n",
    "            print(nums[k], end = \" \")\n",
    "        print()"
   ]
  },
  {
   "cell_type": "code",
   "execution_count": 3,
   "id": "61cf1d9a-49a7-4fcd-9415-ad2751224400",
   "metadata": {},
   "outputs": [
    {
     "name": "stdout",
     "output_type": "stream",
     "text": [
      "[1]\n",
      "[1, 8]\n",
      "[1, 8, 9]\n",
      "[8]\n",
      "[8, 9]\n",
      "[9]\n"
     ]
    }
   ],
   "source": [
    "# write a program that gives all the subarray of array\n",
    "nums = [1, 8, 9]\n",
    "n = len(nums)\n",
    "\n",
    "for i in range(n):\n",
    "    for j in range(i, n):\n",
    "        temp = []\n",
    "        for k in range(i, j+1):\n",
    "            # print(nums[k], end = \" \" )\n",
    "            temp.append(nums[k])\n",
    "        print(temp)"
   ]
  },
  {
   "cell_type": "code",
   "execution_count": 4,
   "id": "091fea38-84f5-4459-aff7-bdfb0ac5e640",
   "metadata": {},
   "outputs": [
    {
     "name": "stdout",
     "output_type": "stream",
     "text": [
      "[[1], [1, 8], [1, 8, 9], [8], [8, 9], [9]]\n"
     ]
    }
   ],
   "source": [
    "# write a program that gives all the subarray of array\n",
    "nums = [1, 8, 9]\n",
    "n = len(nums)\n",
    "ans = []\n",
    "for i in range(n):\n",
    "    for j in range(i, n):\n",
    "        temp = []\n",
    "        for k in range(i, j+1):\n",
    "            # print(nums[k], end = \" \")\n",
    "            temp.append(nums[k])\n",
    "        # print(temp)\n",
    "        ans.append(temp)\n",
    "print(ans)"
   ]
  },
  {
   "cell_type": "code",
   "execution_count": 5,
   "id": "766ecb44-92a4-4b2e-9894-06bf20e81bf4",
   "metadata": {},
   "outputs": [
    {
     "name": "stdout",
     "output_type": "stream",
     "text": [
      "[[1], [1, 8], [1, 8, 9], [8], [8, 9], [9]]\n",
      "[1]\n",
      "[1, 8]\n",
      "[1, 8, 9]\n",
      "[8]\n",
      "[8, 9]\n",
      "[9]\n"
     ]
    }
   ],
   "source": [
    "# write a program that gives all the subarray of array\n",
    "nums = [1, 8, 9]\n",
    "n = len(nums)\n",
    "ans = []\n",
    "for i in range(n):\n",
    "    for j in range(i, n):\n",
    "        temp = []\n",
    "        for k in range(i, j+1):\n",
    "            # print(nums[k], end = \" \")\n",
    "            temp.append(nums[k])\n",
    "        # print(temp)\n",
    "        ans.append(temp)\n",
    "print(ans)\n",
    "for i in ans:\n",
    "    print(i)"
   ]
  },
  {
   "cell_type": "code",
   "execution_count": 6,
   "id": "a32baa8b-5d76-4a55-b967-50b279683073",
   "metadata": {},
   "outputs": [
    {
     "name": "stdout",
     "output_type": "stream",
     "text": [
      "[[1], [1, 8], [1, 8, 9], [8], [8, 9], [9]]\n",
      "[1]\n",
      "[1, 8]\n",
      "[1, 8, 9]\n",
      "[8]\n",
      "[8, 9]\n",
      "[9]\n"
     ]
    }
   ],
   "source": [
    "# write a program that gives all the subarray of array\n",
    "nums = [1, 8, 9]\n",
    "n = len(nums)\n",
    "ans = []\n",
    "for i in range(n):\n",
    "    for j in range(i, n):\n",
    "        temp = []\n",
    "        for k in range(i, j+1):\n",
    "            # print(nums[k], end = \" \")\n",
    "            temp.append(nums[k])\n",
    "        # print(temp)\n",
    "        ans.append(temp)\n",
    "print(ans)\n",
    "print(ans[0])\n",
    "print(ans[1])\n",
    "print(ans[2])\n",
    "print(ans[3])\n",
    "print(ans[4])\n",
    "print(ans[5])"
   ]
  },
  {
   "cell_type": "code",
   "execution_count": 7,
   "id": "f78a9981-df5b-415b-b39c-fc9ed4fe53de",
   "metadata": {},
   "outputs": [
    {
     "name": "stdout",
     "output_type": "stream",
     "text": [
      "[[1], [1, 8], [1, 8, 9], [1, 8, 9, 5], [1, 8, 9, 5, 6], [1, 8, 9, 5, 6, 1], [1, 8, 9, 5, 6, 1, 4], [1, 8, 9, 5, 6, 1, 4, 5], [1, 8, 9, 5, 6, 1, 4, 5, 1], [1, 8, 9, 5, 6, 1, 4, 5, 1, 4], [1, 8, 9, 5, 6, 1, 4, 5, 1, 4, 6], [8], [8, 9], [8, 9, 5], [8, 9, 5, 6], [8, 9, 5, 6, 1], [8, 9, 5, 6, 1, 4], [8, 9, 5, 6, 1, 4, 5], [8, 9, 5, 6, 1, 4, 5, 1], [8, 9, 5, 6, 1, 4, 5, 1, 4], [8, 9, 5, 6, 1, 4, 5, 1, 4, 6], [9], [9, 5], [9, 5, 6], [9, 5, 6, 1], [9, 5, 6, 1, 4], [9, 5, 6, 1, 4, 5], [9, 5, 6, 1, 4, 5, 1], [9, 5, 6, 1, 4, 5, 1, 4], [9, 5, 6, 1, 4, 5, 1, 4, 6], [5], [5, 6], [5, 6, 1], [5, 6, 1, 4], [5, 6, 1, 4, 5], [5, 6, 1, 4, 5, 1], [5, 6, 1, 4, 5, 1, 4], [5, 6, 1, 4, 5, 1, 4, 6], [6], [6, 1], [6, 1, 4], [6, 1, 4, 5], [6, 1, 4, 5, 1], [6, 1, 4, 5, 1, 4], [6, 1, 4, 5, 1, 4, 6], [1], [1, 4], [1, 4, 5], [1, 4, 5, 1], [1, 4, 5, 1, 4], [1, 4, 5, 1, 4, 6], [4], [4, 5], [4, 5, 1], [4, 5, 1, 4], [4, 5, 1, 4, 6], [5], [5, 1], [5, 1, 4], [5, 1, 4, 6], [1], [1, 4], [1, 4, 6], [4], [4, 6], [6]]\n"
     ]
    }
   ],
   "source": [
    "# write a program that gives all the subarray of array\n",
    "nums = [1, 8, 9, 5, 6, 1, 4, 5, 1, 4, 6]\n",
    "n = len(nums)\n",
    "ans = []\n",
    "for i in range(n):\n",
    "    for j in range(i, n):\n",
    "        temp = []\n",
    "        for k in range(i, j+1):\n",
    "            # print(nums[k], end = \" \")\n",
    "            temp.append(nums[k])\n",
    "        # print(temp)\n",
    "        ans.append(temp)\n",
    "print(ans)"
   ]
  },
  {
   "cell_type": "markdown",
   "id": "c99fb034-ca43-4407-80bf-9eb1d3b543cc",
   "metadata": {},
   "source": [
    "# Note\n",
    "- Time complexity to generate a SubArray and SubString is O(n^3)"
   ]
  },
  {
   "cell_type": "markdown",
   "id": "158aaf8f-7152-4cf4-9159-fbf4ffd69844",
   "metadata": {},
   "source": [
    "## SubString"
   ]
  },
  {
   "cell_type": "code",
   "execution_count": 8,
   "id": "644a4974-c55d-43db-9964-5dbee561c6f5",
   "metadata": {},
   "outputs": [
    {
     "name": "stdout",
     "output_type": "stream",
     "text": [
      "A\n",
      "An\n",
      "Ana\n",
      "Anan\n",
      "Anant\n",
      "Ananth\n",
      "n\n",
      "na\n",
      "nan\n",
      "nant\n",
      "nanth\n",
      "a\n",
      "an\n",
      "ant\n",
      "anth\n",
      "n\n",
      "nt\n",
      "nth\n",
      "t\n",
      "th\n",
      "h\n"
     ]
    }
   ],
   "source": [
    "# write a program that gives all the substrings of given string\n",
    "name = \"Ananth\"\n",
    "n = len(name)\n",
    "\n",
    "for i in range(n):\n",
    "    for j in range(i, n):\n",
    "        for k in range(i, j+1):\n",
    "            print(name[k], end=\"\")\n",
    "        print()"
   ]
  },
  {
   "cell_type": "code",
   "execution_count": 9,
   "id": "15030765-66ae-4c14-a084-d5c25009f7ce",
   "metadata": {},
   "outputs": [
    {
     "name": "stdout",
     "output_type": "stream",
     "text": [
      "A\n",
      "An\n",
      "Ana\n",
      "Anan\n",
      "Anant\n",
      "Ananth\n",
      "n\n",
      "na\n",
      "nan\n",
      "nant\n",
      "nanth\n",
      "a\n",
      "an\n",
      "ant\n",
      "anth\n",
      "n\n",
      "nt\n",
      "nth\n",
      "t\n",
      "th\n",
      "h\n"
     ]
    }
   ],
   "source": [
    "# write a program that gives all the substrings of given string\n",
    "name = \"Ananth\"\n",
    "n = len(name)\n",
    "\n",
    "for i in range(n):\n",
    "    for j in range(i, n):\n",
    "        temp = \"\"\n",
    "        for k in range(i, j+1):\n",
    "            temp += name[k]\n",
    "        print(temp)"
   ]
  },
  {
   "cell_type": "markdown",
   "id": "5dc3d0a9-92bf-4253-a9a0-e51d510d2d93",
   "metadata": {},
   "source": [
    "## SubSequence:\n",
    "\n",
    "### Array\n",
    "- nums = [5, 6, 9, 2]\n",
    "\n",
    "### SubSequence\n",
    "- All SubArray will come under Subsequence\n",
    "- It can be taken in anyway but the selection of second number or other numbers should be present in any position after the first number in the array\n",
    "- SubSequence of Array are\n",
    "- [5, 9]\n",
    "- [6, 2]\n",
    "- [5, 6, 9]\n",
    "- [5, 9, 2]\n"
   ]
  },
  {
   "cell_type": "code",
   "execution_count": null,
   "id": "2a3970d9-0e39-402a-85de-d328b62dd9aa",
   "metadata": {},
   "outputs": [],
   "source": []
  }
 ],
 "metadata": {
  "kernelspec": {
   "display_name": "Python 3 (ipykernel)",
   "language": "python",
   "name": "python3"
  },
  "language_info": {
   "codemirror_mode": {
    "name": "ipython",
    "version": 3
   },
   "file_extension": ".py",
   "mimetype": "text/x-python",
   "name": "python",
   "nbconvert_exporter": "python",
   "pygments_lexer": "ipython3",
   "version": "3.11.7"
  }
 },
 "nbformat": 4,
 "nbformat_minor": 5
}
