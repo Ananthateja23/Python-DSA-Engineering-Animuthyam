{
 "cells": [
  {
   "cell_type": "markdown",
   "id": "dbb3894d-5b9b-4bbf-be15-50b1eece469d",
   "metadata": {},
   "source": [
    "# Addition and Subtraction in Python"
   ]
  },
  {
   "cell_type": "code",
   "execution_count": 1,
   "id": "1f4da59b-ce26-4009-b0e4-e8ee3c138243",
   "metadata": {},
   "outputs": [
    {
     "name": "stdout",
     "output_type": "stream",
     "text": [
      "13\n"
     ]
    }
   ],
   "source": [
    "first = 5\n",
    "print(first + 8)"
   ]
  },
  {
   "cell_type": "code",
   "execution_count": 2,
   "id": "4acb80a7-ba82-4916-84fa-de21165f5732",
   "metadata": {},
   "outputs": [
    {
     "name": "stdout",
     "output_type": "stream",
     "text": [
      "15\n"
     ]
    }
   ],
   "source": [
    "first = 5\n",
    "second = 10\n",
    "print(first + second)"
   ]
  },
  {
   "cell_type": "code",
   "execution_count": 3,
   "id": "f1fba8a3-9784-4a98-b9b1-07028e10b72f",
   "metadata": {},
   "outputs": [
    {
     "name": "stdout",
     "output_type": "stream",
     "text": [
      "15\n"
     ]
    }
   ],
   "source": [
    "first = 5\n",
    "second = 10\n",
    "third = first + second\n",
    "print(third)"
   ]
  },
  {
   "cell_type": "code",
   "execution_count": 4,
   "id": "54b81e54-c766-4f1d-8994-c80ac502d511",
   "metadata": {},
   "outputs": [
    {
     "name": "stdout",
     "output_type": "stream",
     "text": [
      "-5\n"
     ]
    }
   ],
   "source": [
    "first = 5\n",
    "second = 10\n",
    "third = first - second\n",
    "print(third)"
   ]
  },
  {
   "cell_type": "code",
   "execution_count": 5,
   "id": "58d22355-8189-4c1a-897f-9861c2a29c8f",
   "metadata": {},
   "outputs": [
    {
     "name": "stdout",
     "output_type": "stream",
     "text": [
      "6\n"
     ]
    }
   ],
   "source": [
    "first = 5\n",
    "second = first + 1\n",
    "print(second)"
   ]
  },
  {
   "cell_type": "code",
   "execution_count": 6,
   "id": "a28d0dc9-98a0-40c1-83e3-951ca654d6e7",
   "metadata": {},
   "outputs": [
    {
     "name": "stdout",
     "output_type": "stream",
     "text": [
      "6\n"
     ]
    }
   ],
   "source": [
    "first = 5\n",
    "first = first + 1\n",
    "print(first)"
   ]
  },
  {
   "cell_type": "code",
   "execution_count": 7,
   "id": "da9d08af-917f-4765-b680-d470dd51c3ed",
   "metadata": {},
   "outputs": [
    {
     "name": "stdout",
     "output_type": "stream",
     "text": [
      "7\n"
     ]
    }
   ],
   "source": [
    "first = 5\n",
    "first = first + 1\n",
    "first = first + 1\n",
    "print(first)"
   ]
  },
  {
   "cell_type": "code",
   "execution_count": 8,
   "id": "d85fe84c-cde5-44fa-adad-6174982326a7",
   "metadata": {},
   "outputs": [
    {
     "name": "stdout",
     "output_type": "stream",
     "text": [
      "3\n"
     ]
    }
   ],
   "source": [
    "first = 5\n",
    "first = first - 1\n",
    "first = first - 1\n",
    "print(first)"
   ]
  },
  {
   "cell_type": "markdown",
   "id": "a37f74f1-4deb-4fb8-b727-a74485c802d8",
   "metadata": {},
   "source": [
    "# Arrays"
   ]
  },
  {
   "cell_type": "code",
   "execution_count": 9,
   "id": "2561ce0d-ac97-4e08-b3ce-620b889dc6cf",
   "metadata": {},
   "outputs": [
    {
     "name": "stdout",
     "output_type": "stream",
     "text": [
      "5\n",
      "7\n",
      "4\n",
      "3\n",
      "9\n"
     ]
    }
   ],
   "source": [
    "a1 = 5\n",
    "a2 = 7\n",
    "a3 = 4\n",
    "a4 = 3\n",
    "a5 = 9\n",
    "\n",
    "print(a1)\n",
    "print(a2)\n",
    "print(a3)\n",
    "print(a4)\n",
    "print(a5)"
   ]
  },
  {
   "cell_type": "markdown",
   "id": "4fed3b28-5b65-4d93-8a72-669e890a0404",
   "metadata": {},
   "source": [
    "```\n",
    "--> In this example, we have only five values to print, and we can do so without any issues\n",
    "\n",
    "--> However, if we need to print 100,000 values, we should consider using an array data structure\n",
    "\n",
    "--> Arrays are designed to store multiple values under a single variable name, making them suitable for handling larger sets of data\n",
    "```"
   ]
  },
  {
   "cell_type": "code",
   "execution_count": 10,
   "id": "e53586f0-bdb2-42f3-a0d4-6fe533b355f3",
   "metadata": {},
   "outputs": [
    {
     "name": "stdout",
     "output_type": "stream",
     "text": [
      "4\n",
      "6\n",
      "8\n",
      "9\n",
      "3\n"
     ]
    }
   ],
   "source": [
    "a = [4, 6, 8, 9, 3]\n",
    "\n",
    "# To access items in an array, we use index numbers, \n",
    "# which generally start from 0 and go to n-1.\n",
    "\n",
    "print(a[0])\n",
    "print(a[1])\n",
    "print(a[2])\n",
    "print(a[3])\n",
    "print(a[4])\n"
   ]
  },
  {
   "cell_type": "code",
   "execution_count": 11,
   "id": "8a9587ae-d9ab-4f80-84a1-de54e308f416",
   "metadata": {},
   "outputs": [
    {
     "name": "stdout",
     "output_type": "stream",
     "text": [
      "4\n",
      "vignesh\n",
      "8\n",
      "Hello macha\n",
      "3\n"
     ]
    }
   ],
   "source": [
    "# In Python, it is not mandatory to store only the same type of data in an array; \n",
    "# we have the opportunity to store different types of data.\n",
    "\n",
    "a = [4, \"vignesh\", 8, \"Hello macha\", 3]\n",
    "\n",
    "\n",
    "print(a[0])\n",
    "print(a[1])\n",
    "print(a[2])\n",
    "print(a[3])\n",
    "print(a[4])"
   ]
  },
  {
   "cell_type": "code",
   "execution_count": 12,
   "id": "2d32c07e-7649-4f95-ae98-8592d3fe1a18",
   "metadata": {},
   "outputs": [
    {
     "name": "stdout",
     "output_type": "stream",
     "text": [
      "4\n",
      "vignesh\n",
      "8\n",
      "Hello macha\n",
      "3\n"
     ]
    }
   ],
   "source": [
    "# We reduce the assignment of 100,000 variables to a single variable assignment. \n",
    "# However, we still need to print all 100,000 index values manually. \n",
    "# Therefore, we are looking for a solution that allows us to print them automatically, \n",
    "# eliminating the need to print each one individually.\n",
    "\n",
    "a = [4, \"vignesh\", 8, \"Hello macha\", 3]\n",
    "\n",
    "for i in range(5):\n",
    "\tprint(a[i])"
   ]
  },
  {
   "cell_type": "markdown",
   "id": "0141e69f-4670-4153-a194-b674cee710b9",
   "metadata": {},
   "source": [
    "# range"
   ]
  },
  {
   "cell_type": "code",
   "execution_count": 13,
   "id": "0c5e365c-1b05-47f9-bba8-b808885e1edf",
   "metadata": {},
   "outputs": [
    {
     "name": "stdout",
     "output_type": "stream",
     "text": [
      "range(0, 5)\n",
      "[0, 1, 2, 3, 4]\n"
     ]
    }
   ],
   "source": [
    "print(range(5))\n",
    "print(list(range(5)))"
   ]
  },
  {
   "cell_type": "code",
   "execution_count": 14,
   "id": "fa18586a-2ff3-4a75-b294-2922ebae51f4",
   "metadata": {},
   "outputs": [
    {
     "name": "stdout",
     "output_type": "stream",
     "text": [
      "[0, 1, 2, 3, 4, 5]\n",
      "[0, 1, 2, 3, 4, 5, 6]\n"
     ]
    }
   ],
   "source": [
    "# single value in range: ending-1\n",
    "print(list(range(6))) # 0 to 5\n",
    "print(list(range(7))) # 0 to 6"
   ]
  },
  {
   "cell_type": "code",
   "execution_count": 15,
   "id": "384f643f-148d-4e2c-a2e2-ef1e194a3165",
   "metadata": {},
   "outputs": [
    {
     "name": "stdout",
     "output_type": "stream",
     "text": [
      "[2, 3, 4]\n"
     ]
    }
   ],
   "source": [
    "# two value in range: first starting, ending-1\n",
    "print(list(range(2, 5))) # 2 to 4"
   ]
  },
  {
   "cell_type": "code",
   "execution_count": 16,
   "id": "40fc7df3-b3da-4d3a-a634-a44d0749fe2e",
   "metadata": {},
   "outputs": [
    {
     "name": "stdout",
     "output_type": "stream",
     "text": [
      "[2, 3, 4, 5]\n",
      "[2, 4]\n"
     ]
    }
   ],
   "source": [
    "# three value in range: first starting, ending-1, step value\n",
    "print(list(range(2, 6))) # 2 to 5\n",
    "print(list(range(2, 6, 2)))"
   ]
  },
  {
   "cell_type": "code",
   "execution_count": 17,
   "id": "cc5b9147-ef79-4fbc-a68a-f5ec528ae9e3",
   "metadata": {},
   "outputs": [
    {
     "name": "stdout",
     "output_type": "stream",
     "text": [
      "[2, 3, 4, 5, 6]\n",
      "[2, 4, 6]\n"
     ]
    }
   ],
   "source": [
    "print(list(range(2, 7))) # 2 to 6\n",
    "print(list(range(2, 7, 2)))"
   ]
  },
  {
   "cell_type": "code",
   "execution_count": 18,
   "id": "bed6ed4f-75f8-43f5-956c-1ae2caffb16d",
   "metadata": {},
   "outputs": [
    {
     "name": "stdout",
     "output_type": "stream",
     "text": [
      "1\n",
      "5\n",
      "6\n"
     ]
    }
   ],
   "source": [
    "li = [1, 5, 6]\n",
    "\n",
    "for i in li:\n",
    "\tprint(i)\n",
    "\n",
    "# The program runs three times and prints all the values of the list `li`."
   ]
  },
  {
   "cell_type": "code",
   "execution_count": 19,
   "id": "7ca9bf42-8e4b-47f2-94a4-79b76b145335",
   "metadata": {},
   "outputs": [
    {
     "name": "stdout",
     "output_type": "stream",
     "text": [
      "macha\n",
      "macha\n",
      "macha\n"
     ]
    }
   ],
   "source": [
    "li = [1, 5, 6]\n",
    "\n",
    "for i in li:\n",
    "\tprint(\"macha\")"
   ]
  },
  {
   "cell_type": "code",
   "execution_count": 20,
   "id": "71f394ce-0959-4c9d-a6dd-e88c057b224a",
   "metadata": {},
   "outputs": [
    {
     "name": "stdout",
     "output_type": "stream",
     "text": [
      "macha\n",
      "1\n",
      "macha\n",
      "5\n",
      "macha\n",
      "6\n"
     ]
    }
   ],
   "source": [
    "li = [1, 5, 6]\n",
    "\n",
    "for i in li:\n",
    "\tprint(\"macha\")\n",
    "\tprint(i)"
   ]
  },
  {
   "cell_type": "code",
   "execution_count": 21,
   "id": "312b0537-7c2a-49ad-b097-8ab288cf5d18",
   "metadata": {},
   "outputs": [
    {
     "name": "stdout",
     "output_type": "stream",
     "text": [
      "macha\n",
      "1\n",
      "macha\n",
      "5\n",
      "macha\n",
      "6\n",
      "bad boy\n"
     ]
    }
   ],
   "source": [
    "li = [1, 5, 6]\n",
    "\n",
    "for i in li:\n",
    "\tprint(\"macha\")\n",
    "\tprint(i)\n",
    "print(\"bad boy\")"
   ]
  },
  {
   "cell_type": "code",
   "execution_count": 22,
   "id": "ed90c591-3658-45ed-b5ac-ce17473713c1",
   "metadata": {},
   "outputs": [
    {
     "name": "stdout",
     "output_type": "stream",
     "text": [
      "macha\n",
      "1\n",
      "macha\n",
      "5\n",
      "macha\n",
      "6\n",
      "bad boy\n"
     ]
    }
   ],
   "source": [
    "for i in [1, 5, 6]:\n",
    "\tprint(\"macha\")\n",
    "\tprint(i)\n",
    "print(\"bad boy\")"
   ]
  },
  {
   "cell_type": "markdown",
   "id": "42279ea7-a110-441d-886c-4679845dd03f",
   "metadata": {},
   "source": [
    "# Problem\n",
    "\n",
    "- Let’s say a merchant asked his employee to count the total number of Amazon delivery boxes that contained the number 1 inside, as the merchant promised to give money."
   ]
  },
  {
   "cell_type": "code",
   "execution_count": 23,
   "id": "3a8fed18-5938-4b85-8fe4-57498e0891ac",
   "metadata": {},
   "outputs": [
    {
     "name": "stdout",
     "output_type": "stream",
     "text": [
      "1\n",
      "5\n",
      "6\n",
      "8\n",
      "1\n",
      "4\n",
      "1\n",
      "6\n",
      "1\n"
     ]
    }
   ],
   "source": [
    "li = [1, 5, 6, 8, 1, 4, 1, 6, 1]\n",
    "\n",
    "for i in li:\n",
    "\tprint(i)"
   ]
  },
  {
   "cell_type": "code",
   "execution_count": 24,
   "id": "c4c020d2-6b34-4a53-97b0-db0a449c6cfc",
   "metadata": {},
   "outputs": [
    {
     "name": "stdout",
     "output_type": "stream",
     "text": [
      "1\n",
      "5\n",
      "6\n",
      "8\n",
      "1\n",
      "4\n",
      "1\n",
      "6\n",
      "1\n",
      "9\n"
     ]
    }
   ],
   "source": [
    "li = [1, 5, 6, 8, 1, 4, 1, 6, 1]\n",
    "ans = 0\n",
    "for i in li:\n",
    "\tprint(i)\n",
    "\tans = ans + 1\n",
    "print(ans)"
   ]
  },
  {
   "cell_type": "code",
   "execution_count": 25,
   "id": "80f6e86b-3a1e-42af-9ad0-ca3cb2c98bba",
   "metadata": {},
   "outputs": [
    {
     "name": "stdout",
     "output_type": "stream",
     "text": [
      "9\n"
     ]
    }
   ],
   "source": [
    "li = [1, 5, 6, 8, 1, 4, 1, 6, 1]\n",
    "ans = 0\n",
    "for i in li:\n",
    "\t# print(i)\n",
    "\tans = ans + 1\n",
    "print(ans)"
   ]
  },
  {
   "cell_type": "code",
   "execution_count": 26,
   "id": "673dc136-d63d-4146-8bc3-16a18d474383",
   "metadata": {},
   "outputs": [
    {
     "name": "stdout",
     "output_type": "stream",
     "text": [
      "4\n"
     ]
    }
   ],
   "source": [
    "li = [1, 5, 6, 8, 1, 4, 1, 6, 1]\n",
    "ans = 0\n",
    "for i in li:\n",
    "\t# print(i)\n",
    "\tif (i == 1):\n",
    "\t    ans = ans + 1\n",
    "print(ans)"
   ]
  },
  {
   "cell_type": "markdown",
   "id": "129d9237-9c7b-421d-afb0-9d304bfaa07a",
   "metadata": {},
   "source": [
    "# range extension"
   ]
  },
  {
   "cell_type": "code",
   "execution_count": 27,
   "id": "13df8998-3a83-443b-a8f2-4266269141ad",
   "metadata": {},
   "outputs": [
    {
     "name": "stdout",
     "output_type": "stream",
     "text": [
      "2\n",
      "3\n",
      "4\n",
      "5\n",
      "6\n",
      "7\n"
     ]
    }
   ],
   "source": [
    "for i in range(2, 8): # 2 to 7\n",
    "\tprint(i)"
   ]
  },
  {
   "cell_type": "code",
   "execution_count": 28,
   "id": "e0482a82-f7c0-4726-af3a-de6481c2c507",
   "metadata": {},
   "outputs": [
    {
     "name": "stdout",
     "output_type": "stream",
     "text": [
      "0\n",
      "1\n",
      "2\n",
      "3\n"
     ]
    }
   ],
   "source": [
    "for i in range(4): # 0 to 4\n",
    "\tprint(i)"
   ]
  },
  {
   "cell_type": "code",
   "execution_count": 29,
   "id": "ab7b24bb-8bac-45f0-ae4d-b379bf5ccbe6",
   "metadata": {},
   "outputs": [
    {
     "name": "stdout",
     "output_type": "stream",
     "text": [
      "4\n",
      "8\n",
      "9\n",
      "2\n"
     ]
    }
   ],
   "source": [
    "li = [4, 8, 9, 2]\n",
    "for i in range(4): # 0 to 4\n",
    "\tprint(li[i])"
   ]
  },
  {
   "cell_type": "markdown",
   "id": "6e379b93-00a7-472a-bb5b-10f64c22d17a",
   "metadata": {},
   "source": [
    "# Create an array of varying lengths and print all the items within it"
   ]
  },
  {
   "cell_type": "code",
   "execution_count": 30,
   "id": "2bce2de4-ee0f-4ce4-b25f-30fa7752740c",
   "metadata": {},
   "outputs": [
    {
     "name": "stdout",
     "output_type": "stream",
     "text": [
      "10\n",
      "2\n",
      "5\n",
      "4\n",
      "8\n",
      "3\n",
      "7\n"
     ]
    }
   ],
   "source": [
    "new_arr = [10, 2, 5, 4, 8, 3, 7]\n",
    "\n",
    "for i in range(7):\n",
    "    print(new_arr[i])"
   ]
  },
  {
   "cell_type": "code",
   "execution_count": null,
   "id": "76ee8289-3d29-441f-ac2a-5b8348b749b1",
   "metadata": {},
   "outputs": [],
   "source": []
  }
 ],
 "metadata": {
  "kernelspec": {
   "display_name": "Python 3 (ipykernel)",
   "language": "python",
   "name": "python3"
  },
  "language_info": {
   "codemirror_mode": {
    "name": "ipython",
    "version": 3
   },
   "file_extension": ".py",
   "mimetype": "text/x-python",
   "name": "python",
   "nbconvert_exporter": "python",
   "pygments_lexer": "ipython3",
   "version": "3.11.7"
  }
 },
 "nbformat": 4,
 "nbformat_minor": 5
}
