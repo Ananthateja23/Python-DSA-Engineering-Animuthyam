{
 "cells": [
  {
   "cell_type": "markdown",
   "id": "202ea97b-4e04-414c-a24f-37ef2c9c8eef",
   "metadata": {},
   "source": [
    "# Leetcode Problem: Number of Good Pairs\n",
    "\n",
    "- Click on the link to start solving the Leetcode Problem\n",
    "- [Leetcode-Problem](https://leetcode.com/problems/number-of-good-pairs/description/)"
   ]
  },
  {
   "cell_type": "markdown",
   "id": "d8b51fb3-7691-4653-88e1-2453e7f9d51c",
   "metadata": {},
   "source": [
    "# Solving problem with brute force approach\n",
    "```\n",
    "nums : 1  2  3  1  1  3\n",
    "index: 0  1  2  3  4  5\n",
    "```"
   ]
  },
  {
   "cell_type": "code",
   "execution_count": 1,
   "id": "f6428f68-8f70-46e2-be95-5d61ea19abfd",
   "metadata": {},
   "outputs": [
    {
     "name": "stdout",
     "output_type": "stream",
     "text": [
      "4\n"
     ]
    }
   ],
   "source": [
    "nums = [1, 2, 3, 1, 1, 3]\n",
    "n = len(nums)\n",
    "ans = 0\n",
    "for i in range(n-1):\n",
    "    for j in range(i+1, n):\n",
    "        if ((i < j) and (nums[i] == nums[j])):\n",
    "            ans += 1\n",
    "print(ans)"
   ]
  },
  {
   "cell_type": "markdown",
   "id": "0c39fc34-28e5-4528-922e-190bad3cedf9",
   "metadata": {},
   "source": [
    "```python\n",
    "# Solved with brute force\n",
    "class Solution:\n",
    "\tdef numIdenticalPairs(self, nums: List[int]) -> int:\n",
    "        n = len(nums)\n",
    "        ans = 0\n",
    "        for i in range(n-1):\n",
    "            for j in range(i+1, n):\n",
    "                if ((i < j) and (nums[i] == nums[j])):\n",
    "                    ans += 1\n",
    "        return ans\n",
    "\n",
    "# time complexity: O(n)\n",
    "```"
   ]
  },
  {
   "cell_type": "markdown",
   "id": "9aa42a19-d787-426d-8610-0676fea9856c",
   "metadata": {},
   "source": [
    "```\n",
    "Let's understand the problem \n",
    "\n",
    "\n",
    "arr1 : [4, 4], size : 2\n",
    "arr2 : [4, 4, 4], size : 3\n",
    "\n",
    "\n",
    "size  ans\n",
    "\n",
    "2      1\n",
    "3      3\n",
    "4      6\n",
    "5      10\n",
    "6      15\n",
    "7      21\n",
    "\n",
    "\n",
    "size  ans\n",
    "\n",
    "2      1   = 1\n",
    "3      3   = 1 + 2\n",
    "4      6   = 1 + 2 + 3\n",
    "5      10  = 1 + 2 + 3 + 4\n",
    "6      15  = 1 + 2 + 3 + 4 + 5\n",
    "7      21  = 1 + 2 + 3 + 4 + 5 + 6\n",
    "```"
   ]
  },
  {
   "cell_type": "code",
   "execution_count": 2,
   "id": "85ede6e5-6471-4917-8f67-55de4e1dcc27",
   "metadata": {},
   "outputs": [
    {
     "name": "stdout",
     "output_type": "stream",
     "text": [
      "1\n",
      "2\n",
      "3\n",
      "4\n",
      "5\n"
     ]
    }
   ],
   "source": [
    "li = [4, 4, 4, 4, 4, 4]\n",
    "n = len(li)\n",
    "ans = 0\n",
    "for i in range(1, n):\n",
    "\tprint(i)"
   ]
  },
  {
   "cell_type": "code",
   "execution_count": 3,
   "id": "e4d2167e-ca5f-4370-823f-9aa6fc7e329c",
   "metadata": {},
   "outputs": [
    {
     "name": "stdout",
     "output_type": "stream",
     "text": [
      "15\n"
     ]
    }
   ],
   "source": [
    "li = [4, 4, 4, 4, 4, 4]\n",
    "n = len(li)\n",
    "ans = 0\n",
    "for i in range(1, n):\n",
    "\tans += i\n",
    "print(ans)"
   ]
  },
  {
   "cell_type": "code",
   "execution_count": 4,
   "id": "1c08aa10-1732-4c62-99ef-470642830a41",
   "metadata": {},
   "outputs": [
    {
     "name": "stdout",
     "output_type": "stream",
     "text": [
      "21\n"
     ]
    }
   ],
   "source": [
    "li = [4, 4, 4, 4, 4, 4, 4]\n",
    "n = len(li)\n",
    "ans = 0\n",
    "for i in range(1, n):\n",
    "\tans += i\n",
    "print(ans)"
   ]
  },
  {
   "cell_type": "markdown",
   "id": "e97b5eb8-cff4-4ff7-90f9-6a4610719d2b",
   "metadata": {},
   "source": [
    "```\n",
    "let' say k = n-1\n",
    "\n",
    "values are 1, 2, 3 ... k\n",
    "\n",
    "sum of first k natural numbers = k(k+1)/2\n",
    "```"
   ]
  },
  {
   "cell_type": "code",
   "execution_count": 5,
   "id": "76b0253b-695c-4b98-8d33-628b4e95068b",
   "metadata": {},
   "outputs": [
    {
     "name": "stdout",
     "output_type": "stream",
     "text": [
      "21\n"
     ]
    }
   ],
   "source": [
    "li = [4, 4, 4, 4, 4, 4, 4]\n",
    "n = len(li)\n",
    "ans = 0\n",
    "k = n-1\n",
    "ans = k*(k+1)/2\n",
    "print(int(ans))"
   ]
  },
  {
   "cell_type": "code",
   "execution_count": 6,
   "id": "4835685c-208d-4a33-9ad6-a00cb9b67c0e",
   "metadata": {},
   "outputs": [
    {
     "name": "stdout",
     "output_type": "stream",
     "text": [
      "21\n"
     ]
    }
   ],
   "source": [
    "li = [4, 4, 4, 4, 4, 4, 4]\n",
    "n = len(li)\n",
    "ans = 0\n",
    "ans = n*(n-1)/2\n",
    "print(int(ans))"
   ]
  },
  {
   "cell_type": "code",
   "execution_count": 7,
   "id": "a327aea8-3a59-4816-b10f-b9d95dc35104",
   "metadata": {},
   "outputs": [
    {
     "name": "stdout",
     "output_type": "stream",
     "text": [
      "10\n"
     ]
    }
   ],
   "source": [
    "dici = {4: 2, 2: 3, 6: 4}\n",
    "ans = 0\n",
    "for i in dici:\n",
    "\tn = dici[i]\n",
    "\ttemp = n*(n-1)/2\n",
    "\tans += temp\n",
    "print(int(ans))"
   ]
  },
  {
   "cell_type": "code",
   "execution_count": 8,
   "id": "02d7f4db-b474-41bf-bb8c-2ccfce027844",
   "metadata": {},
   "outputs": [
    {
     "name": "stdout",
     "output_type": "stream",
     "text": [
      "10\n"
     ]
    }
   ],
   "source": [
    "li = [4, 4, 2, 2, 2, 6, 6, 6, 6]\n",
    "dici = {}\n",
    "for i in li:\n",
    "\tif i in dici:\n",
    "\t\tdici[i] += 1\n",
    "\telse:\n",
    "\t\tdici[i] = 1\n",
    "ans = 0\n",
    "for i in dici:\n",
    "\tn = dici[i]\n",
    "\ttemp = n*(n-1)/2\n",
    "\tans += temp\n",
    "print(int(ans))"
   ]
  },
  {
   "cell_type": "markdown",
   "id": "ae01e396-5ccd-4241-a539-4c722f061957",
   "metadata": {},
   "source": [
    "```python\n",
    "# Solved with optimized approach\n",
    "class Solution:\n",
    "\tdef numIdenticalPairs(self, nums: List[int]) -> int:\n",
    "        dici = {}\n",
    "        for i in nums:\n",
    "        \tif i in dici:\n",
    "        \t\tdici[i] += 1\n",
    "        \telse:\n",
    "        \t\tdici[i] = 1\n",
    "        ans = 0\n",
    "        for i in dici:\n",
    "        \tn = dici[i]\n",
    "        \ttemp = n*(n-1)/2\n",
    "        \tans += temp\n",
    "        return int(ans)\n",
    "\n",
    "# time complexity: O(n)\n",
    "```"
   ]
  },
  {
   "cell_type": "code",
   "execution_count": null,
   "id": "01e187ad-824a-4bd9-9f56-3769c7cfc4a2",
   "metadata": {},
   "outputs": [],
   "source": []
  }
 ],
 "metadata": {
  "kernelspec": {
   "display_name": "Python 3 (ipykernel)",
   "language": "python",
   "name": "python3"
  },
  "language_info": {
   "codemirror_mode": {
    "name": "ipython",
    "version": 3
   },
   "file_extension": ".py",
   "mimetype": "text/x-python",
   "name": "python",
   "nbconvert_exporter": "python",
   "pygments_lexer": "ipython3",
   "version": "3.11.7"
  }
 },
 "nbformat": 4,
 "nbformat_minor": 5
}
