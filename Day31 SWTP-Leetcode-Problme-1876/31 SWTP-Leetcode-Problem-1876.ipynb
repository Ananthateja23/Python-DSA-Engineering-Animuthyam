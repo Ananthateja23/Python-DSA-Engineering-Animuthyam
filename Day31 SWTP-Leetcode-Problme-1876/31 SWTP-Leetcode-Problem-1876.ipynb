{
 "cells": [
  {
   "cell_type": "markdown",
   "id": "613108aa-0c6c-4e31-9a35-31cc776cf085",
   "metadata": {},
   "source": [
    "# Leetcode Problem : `1876. Substrings of Size Three with Distinct Characters`\n",
    "- Click on the link to start solving the problem\n",
    "- [Leetcode-Problem](https://leetcode.com/problems/substrings-of-size-three-with-distinct-characters/description/)"
   ]
  },
  {
   "cell_type": "markdown",
   "id": "8d1c5d85-28d9-4a2b-ab16-cac5accd97bf",
   "metadata": {},
   "source": [
    "# Method01: Solving the problem with brute force approach"
   ]
  },
  {
   "cell_type": "code",
   "execution_count": 1,
   "id": "1a569fb1-6c8d-4085-80eb-e14eef4c88fe",
   "metadata": {},
   "outputs": [
    {
     "name": "stdout",
     "output_type": "stream",
     "text": [
      "abc 1\n",
      "bcd 2\n"
     ]
    }
   ],
   "source": [
    "# self tried and got an logic error in subarray finding\n",
    "s = \"abcd\"\n",
    "n = len(s)\n",
    "good_arr = 0\n",
    "sub_arr_len = 3\n",
    "for i in range(n):\n",
    "    for j in range(i, n):\n",
    "        res = \"\"\n",
    "        for k in range(i, j+1):\n",
    "            ch = s[k]\n",
    "            if ch not in res:\n",
    "                res += ch\n",
    "        if len(res) == sub_arr_len:\n",
    "            good_arr +=1\n",
    "            print(res, good_arr)"
   ]
  },
  {
   "cell_type": "code",
   "execution_count": 2,
   "id": "5d68c003-faa2-43cb-8388-ead9bede543a",
   "metadata": {},
   "outputs": [
    {
     "name": "stdout",
     "output_type": "stream",
     "text": [
      "a Hi\n",
      "ab Hi\n",
      "abc Hi\n",
      "abc\n",
      "abcd Hi\n",
      "b Hi\n",
      "bc Hi\n",
      "bcd Hi\n",
      "bcd\n",
      "c Hi\n",
      "cd Hi\n",
      "d Hi\n"
     ]
    }
   ],
   "source": [
    "s = \"abcd\"\n",
    "n = len(s)\n",
    "sub_arr_len = 3\n",
    "for i in range(n):\n",
    "    for j in range(i, n):\n",
    "        res = \"\"\n",
    "        for k in range(i, j+1):\n",
    "            res += s[k]\n",
    "        print(res, \"Hi\")\n",
    "        if len(res) == sub_arr_len:\n",
    "            print(res)\n",
    "            # break\n",
    "       "
   ]
  },
  {
   "cell_type": "code",
   "execution_count": 3,
   "id": "88381867-7903-4766-8880-72b0c8f3691b",
   "metadata": {},
   "outputs": [
    {
     "name": "stdout",
     "output_type": "stream",
     "text": [
      "abc 1\n",
      "bca 2\n",
      "cab 3\n",
      "abc 4\n"
     ]
    }
   ],
   "source": [
    "s = \"aababcabc\"\n",
    "n = len(s)\n",
    "good_arr = 0\n",
    "sub_arr_len = 3\n",
    "for i in range(n):\n",
    "    for j in range(i, n):\n",
    "        res = \"\"\n",
    "        for k in range(i, j+1):\n",
    "            ch = s[k]\n",
    "            res += ch\n",
    "        if len(res) == sub_arr_len:\n",
    "            temp = \"\"\n",
    "            for t in res:\n",
    "                if t not in temp:\n",
    "                    temp += t\n",
    "            if res == temp:\n",
    "                good_arr += 1\n",
    "                print(res, good_arr)"
   ]
  },
  {
   "cell_type": "code",
   "execution_count": 4,
   "id": "2971a6ac-8b66-40ee-b93b-e89a82e61737",
   "metadata": {},
   "outputs": [
    {
     "name": "stdout",
     "output_type": "stream",
     "text": [
      "abc 1\n",
      "bca 2\n",
      "cab 3\n",
      "abc 4\n"
     ]
    }
   ],
   "source": [
    "# Animuthyam brute force logic\n",
    "s = \"aababcabc\"\n",
    "n = len(s)\n",
    "good_arr = 0\n",
    "sub_arr_len = 3\n",
    "for i in range(n):\n",
    "    for j in range(i, n):\n",
    "        res = \"\"\n",
    "        for k in range(i, j+1):\n",
    "            ch = s[k]\n",
    "            res += ch\n",
    "        if len(res) == sub_arr_len and len(set(res)) == sub_arr_len:\n",
    "            good_arr += 1\n",
    "            print(res, good_arr)"
   ]
  },
  {
   "cell_type": "code",
   "execution_count": 5,
   "id": "6aea18cb-4bf9-4910-854a-24a0e3597039",
   "metadata": {},
   "outputs": [
    {
     "name": "stdout",
     "output_type": "stream",
     "text": [
      "['x', 'y', 'z']\n",
      "1\n"
     ]
    }
   ],
   "source": [
    "s = \"xyzzaz\"\n",
    "n = len(s)\n",
    "sub_arr_len = 3\n",
    "ans = 0\n",
    "for i in range(n):\n",
    "    for j in range(i, n):\n",
    "        li = []\n",
    "        for k in range(i, j+1):\n",
    "            li.append(s[k])\n",
    "        if (len(li) == sub_arr_len) and (len(set(li)) == sub_arr_len):\n",
    "            print(li)\n",
    "            ans += 1\n",
    "print(ans)"
   ]
  },
  {
   "cell_type": "markdown",
   "id": "750fac7a-1830-4682-a61f-86919957cfa3",
   "metadata": {},
   "source": [
    "# Solved the problem with brute force approach\n",
    "```python\n",
    "class Solution:\n",
    "    def countGoodSubstrings(self, s: str) -> int:\n",
    "        n = len(s)\n",
    "        sub_arr_len = 3\n",
    "        ans = 0\n",
    "        for i in range(n):\n",
    "            for j in range(i, n):\n",
    "                li = []\n",
    "                for k in range(i, j+1):\n",
    "                    li.append(s[k])\n",
    "                if (len(li) == sub_arr_len) and (len(set(li)) == sub_arr_len):\n",
    "                    ans += 1\n",
    "        return ans \n",
    "```"
   ]
  },
  {
   "cell_type": "markdown",
   "id": "698e6cd2-88d5-4295-9336-874695f6a47d",
   "metadata": {},
   "source": [
    "# Method02: Solving the problem with Sliding Window and Two Pointers approach"
   ]
  },
  {
   "cell_type": "code",
   "execution_count": 6,
   "id": "aa411032-1227-41e9-aaf9-f12825f31dbd",
   "metadata": {},
   "outputs": [
    {
     "name": "stdout",
     "output_type": "stream",
     "text": [
      "['x']\n",
      "['x', 'y']\n",
      "['x', 'y', 'z']\n",
      "['x', 'y', 'z', 'z']\n",
      "['x', 'y', 'z', 'z', 'a']\n",
      "['x', 'y', 'z', 'z', 'a', 'z']\n"
     ]
    }
   ],
   "source": [
    "s = \"xyzzaz\"\n",
    "    #012345\n",
    "n = len(s)\n",
    "l = 0\n",
    "temp = []\n",
    "for r in range(n):\n",
    "    temp.append(s[r])\n",
    "    print(temp)"
   ]
  },
  {
   "cell_type": "code",
   "execution_count": 7,
   "id": "6b807963-9882-4ee8-ac4b-5303740eb173",
   "metadata": {},
   "outputs": [
    {
     "name": "stdout",
     "output_type": "stream",
     "text": [
      "['x', 'y', 'z']\n"
     ]
    }
   ],
   "source": [
    "s = \"xyzzaz\" #yzz\n",
    "    #012345\n",
    "n = len(s)\n",
    "l = 0\n",
    "temp = []\n",
    "for r in range(n):\n",
    "    temp.append(s[r])\n",
    "    if r-l == 3:\n",
    "        temp.pop(0)\n",
    "        l += 1\n",
    "    if (r-l+1 == 3) and (len(set(temp)) == 3):\n",
    "        print(temp)"
   ]
  },
  {
   "cell_type": "code",
   "execution_count": 8,
   "id": "c61862f7-b780-4ff7-a18c-d96a412dc8e9",
   "metadata": {},
   "outputs": [
    {
     "name": "stdout",
     "output_type": "stream",
     "text": [
      "{'x': 1}\n",
      "{'x': 1, 'y': 1}\n",
      "{'x': 1, 'y': 1, 'z': 1}\n",
      "{'y': 1, 'z': 2}\n",
      "{'z': 2, 'a': 1}\n",
      "{'z': 2, 'a': 1}\n"
     ]
    }
   ],
   "source": [
    "# Solving with SWTP approach\n",
    "s = \"xyzzaz\"\n",
    "n = len(s)\n",
    "l = 0\n",
    "k = 3\n",
    "dici = {}\n",
    "for r in range(n):\n",
    "    ch = s[r]\n",
    "    if ch in dici:\n",
    "        dici[ch] += 1\n",
    "    else:\n",
    "        dici[ch] = 1\n",
    "\n",
    "    if (r-l == k):\n",
    "        chl = s[l]\n",
    "        dici[chl] -= 1\n",
    "        if dici[chl] == 0:\n",
    "            dici.pop(chl)\n",
    "        l += 1\n",
    "    print(dici)"
   ]
  },
  {
   "cell_type": "code",
   "execution_count": 9,
   "id": "fd4b4536-8040-4b3a-83a7-6227777a3549",
   "metadata": {},
   "outputs": [
    {
     "name": "stdout",
     "output_type": "stream",
     "text": [
      "{'x': 1, 'y': 1, 'z': 1}\n"
     ]
    }
   ],
   "source": [
    "s = \"xyzzaz\"\n",
    "n = len(s)\n",
    "l = 0\n",
    "sub_arr_len = 3\n",
    "ans = 0\n",
    "dici = {}\n",
    "for r in range(n):\n",
    "    chrr = s[r]\n",
    "    if chrr not in dici:\n",
    "        dici[chrr] = 1\n",
    "    else:\n",
    "        dici[chrr] += 1\n",
    "    \n",
    "    if (r-l == sub_arr_len):\n",
    "        chrl = s[l]\n",
    "        dici[chrl] -= 1\n",
    "        if dici[chrl] == 0:\n",
    "            dici.pop(chrl)\n",
    "        l += 1\n",
    "    if len(dici) == sub_arr_len:\n",
    "        print(dici)"
   ]
  },
  {
   "cell_type": "code",
   "execution_count": 10,
   "id": "2f8e42f2-eaf9-4183-a05d-6a1002a68afe",
   "metadata": {},
   "outputs": [
    {
     "name": "stdout",
     "output_type": "stream",
     "text": [
      "{'x': 1, 'y': 1, 'z': 1}\n",
      "1\n"
     ]
    }
   ],
   "source": [
    "s = \"xyzzaz\"\n",
    "n = len(s)\n",
    "l = 0\n",
    "sub_arr_len = 3\n",
    "ans = 0\n",
    "dici = {}\n",
    "for r in range(n):\n",
    "    chrr = s[r]\n",
    "    if chrr not in dici:\n",
    "        dici[chrr] = 1\n",
    "    else:\n",
    "        dici[chrr] += 1\n",
    "    \n",
    "    if (r-l == sub_arr_len):\n",
    "        chrl = s[l]\n",
    "        dici[chrl] -= 1\n",
    "        if dici[chrl] == 0:\n",
    "            dici.pop(chrl)\n",
    "        l += 1\n",
    "    if len(dici) == sub_arr_len:\n",
    "        print(dici)\n",
    "        ans += 1\n",
    "print(ans)"
   ]
  },
  {
   "cell_type": "markdown",
   "id": "56f7fb36-886a-4ab5-8ed0-711be7cbf9d0",
   "metadata": {},
   "source": [
    "# Solved with sliding window and Two Pointers Algorithm\n",
    "```python\n",
    "class Solution:\n",
    "    def countGoodSubstrings(self, s: str) -> int:\n",
    "        n = len(s)\n",
    "        k = 3 #sub_arr_len \n",
    "        l = 0\n",
    "        ans = 0\n",
    "        dici = {}\n",
    "        for r in range(n):\n",
    "            chrr = s[r]\n",
    "            if chrr in dici:\n",
    "                dici[chrr] += 1\n",
    "            else:\n",
    "                dici[chrr] = 1\n",
    "            if (r-l == k):\n",
    "                chrl = s[l]\n",
    "                dici[chrl] -= 1\n",
    "                if dici[chrl] == 0:\n",
    "                    dici.pop(chrl)\n",
    "                l += 1\n",
    "            \n",
    "            if len(dici) == k:\n",
    "                ans += 1\n",
    "        return ans\n",
    "```"
   ]
  },
  {
   "cell_type": "code",
   "execution_count": null,
   "id": "09f045c6-8224-4c5e-bd82-486337d0ada3",
   "metadata": {},
   "outputs": [],
   "source": []
  }
 ],
 "metadata": {
  "kernelspec": {
   "display_name": "Python 3 (ipykernel)",
   "language": "python",
   "name": "python3"
  },
  "language_info": {
   "codemirror_mode": {
    "name": "ipython",
    "version": 3
   },
   "file_extension": ".py",
   "mimetype": "text/x-python",
   "name": "python",
   "nbconvert_exporter": "python",
   "pygments_lexer": "ipython3",
   "version": "3.11.7"
  }
 },
 "nbformat": 4,
 "nbformat_minor": 5
}
