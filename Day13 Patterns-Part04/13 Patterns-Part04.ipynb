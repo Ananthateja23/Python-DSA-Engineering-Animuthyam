{
 "cells": [
  {
   "cell_type": "markdown",
   "id": "66ab9b84-d6cb-4e83-a71d-050be746a2b8",
   "metadata": {},
   "source": [
    "# Pattern12: Booka padina Konda muggu"
   ]
  },
  {
   "cell_type": "markdown",
   "id": "78483bf2-4bfe-4d4c-8170-07176d44c54c",
   "metadata": {},
   "source": [
    "```python\n",
    "\n",
    "# self tried and written code\n",
    "\n",
    "r = 4\n",
    "for i in range(r):\n",
    "    for j in range(r-i-1):\n",
    "        print(\" \", end=\"\")\n",
    "    for k in range(2*i+1):\n",
    "        if k == 0 or k == 2*i or i == r-1:\n",
    "            print(\"*\", end=\"\")\n",
    "        else:\n",
    "            print(\" \", end=\"\")\n",
    "    print()\n",
    "```"
   ]
  },
  {
   "cell_type": "code",
   "execution_count": 1,
   "id": "a20a7d93-61c5-4ea9-a0d4-1e56cdbabbc7",
   "metadata": {},
   "outputs": [
    {
     "name": "stdout",
     "output_type": "stream",
     "text": [
      "    *\n",
      "   ***\n",
      "  *****\n",
      " *******\n",
      "*********\n"
     ]
    }
   ],
   "source": [
    "# printing the konda muggu\n",
    "r = 5\n",
    "for i in range(r):\n",
    "    for j in range(r-i-1):\n",
    "        print(\" \", end=\"\")\n",
    "    for k in range(2*i+1):\n",
    "        print(\"*\", end=\"\")\n",
    "    print()"
   ]
  },
  {
   "cell_type": "markdown",
   "id": "d9239386-6f7d-45de-8339-d641d6ffe18b",
   "metadata": {},
   "source": [
    "# Breakdown the pattern12 and understand how to solve it simply"
   ]
  },
  {
   "cell_type": "code",
   "execution_count": 2,
   "id": "1236ba0b-1d81-4318-9aaf-55b7be7e2847",
   "metadata": {},
   "outputs": [
    {
     "name": "stdout",
     "output_type": "stream",
     "text": [
      "    *\n",
      "   ***\n",
      "  *****\n",
      " *******\n",
      "*********\n"
     ]
    }
   ],
   "source": [
    "r = 5\n",
    "for i in range(r):\n",
    "    for j in range(r-i-1):\n",
    "        print(\" \", end=\"\")\n",
    "    for k in range(2*i+1):\n",
    "        print(\"*\", end=\"\")\n",
    "    print()"
   ]
  },
  {
   "cell_type": "code",
   "execution_count": 3,
   "id": "cb6bbba8-8b4e-4458-b399-bdf48982d42c",
   "metadata": {},
   "outputs": [
    {
     "name": "stdout",
     "output_type": "stream",
     "text": [
      "*\n",
      "***\n",
      "*****\n",
      "*******\n",
      "*********\n"
     ]
    }
   ],
   "source": [
    "r = 5\n",
    "for i in range(r):\n",
    "    for k in range(2*i+1):\n",
    "        print(\"*\", end=\"\")\n",
    "    print()"
   ]
  },
  {
   "cell_type": "code",
   "execution_count": 4,
   "id": "f3309749-3938-4467-acd1-05d1a8325874",
   "metadata": {},
   "outputs": [
    {
     "name": "stdout",
     "output_type": "stream",
     "text": [
      "*\n",
      "*--\n",
      "*----\n",
      "*------\n",
      "*--------\n"
     ]
    }
   ],
   "source": [
    "r = 5\n",
    "for i in range(r):\n",
    "    for k in range(2*i+1):\n",
    "        if k == 0:\n",
    "            print(\"*\", end=\"\")\n",
    "        else:\n",
    "            print(\"-\", end=\"\")\n",
    "    print()"
   ]
  },
  {
   "cell_type": "code",
   "execution_count": 5,
   "id": "2a0409c5-dd32-4b4b-8223-1e59d7e3afce",
   "metadata": {},
   "outputs": [
    {
     "name": "stdout",
     "output_type": "stream",
     "text": [
      "*\n",
      "*-*\n",
      "*---*\n",
      "*-----*\n",
      "*-------*\n"
     ]
    }
   ],
   "source": [
    "r = 5\n",
    "for i in range(r):\n",
    "    for k in range(2*i+1):\n",
    "        if k == 0 or k == 2*i:\n",
    "            print(\"*\", end=\"\")\n",
    "        else:\n",
    "            print(\"-\", end=\"\")\n",
    "    print()"
   ]
  },
  {
   "cell_type": "code",
   "execution_count": 6,
   "id": "733407fb-4916-4da4-8bed-98c158bb4530",
   "metadata": {},
   "outputs": [
    {
     "name": "stdout",
     "output_type": "stream",
     "text": [
      "*\n",
      "*-*\n",
      "*---*\n",
      "*-----*\n",
      "*********\n"
     ]
    }
   ],
   "source": [
    "r = 5\n",
    "for i in range(r):\n",
    "    for k in range(2*i+1):\n",
    "        if k == 0 or k == 2*i or i == r-1:\n",
    "            print(\"*\", end=\"\")\n",
    "        else:\n",
    "            print(\"-\", end=\"\")\n",
    "    print()"
   ]
  },
  {
   "cell_type": "code",
   "execution_count": 7,
   "id": "7f69fdd5-6665-4fc3-82f8-88e90774786a",
   "metadata": {},
   "outputs": [
    {
     "name": "stdout",
     "output_type": "stream",
     "text": [
      "*\n",
      "* *\n",
      "*   *\n",
      "*     *\n",
      "*********\n"
     ]
    }
   ],
   "source": [
    "r = 5\n",
    "for i in range(r):\n",
    "    for k in range(2*i+1):\n",
    "        if k == 0 or k == 2*i or i == r-1:\n",
    "            print(\"*\", end=\"\")\n",
    "        else:\n",
    "            print(\" \", end=\"\")\n",
    "    print()"
   ]
  },
  {
   "cell_type": "code",
   "execution_count": 8,
   "id": "145d0ee4-4380-4001-984e-2db6f0aca225",
   "metadata": {},
   "outputs": [
    {
     "name": "stdout",
     "output_type": "stream",
     "text": [
      "    *\n",
      "   * *\n",
      "  *   *\n",
      " *     *\n",
      "*********\n"
     ]
    }
   ],
   "source": [
    "r = 5\n",
    "for i in range(r):\n",
    "    for j in range(r-i-1):\n",
    "        print(\" \", end=\"\")\n",
    "    for k in range(2*i+1):\n",
    "        if k == 0 or k == 2*i or i == r-1:\n",
    "            print(\"*\", end=\"\")\n",
    "        else:\n",
    "            print(\" \", end=\"\")\n",
    "    print()"
   ]
  },
  {
   "cell_type": "markdown",
   "id": "82281f4b-2bcd-435e-b28f-1cb1f4cb411d",
   "metadata": {},
   "source": [
    "# Pattern13: Booka padina reverse Konda muggu\n",
    "```python\n",
    "\n",
    "# self tried and written code\n",
    "\n",
    "r = 4\n",
    "for i in range(r-1, -1, -1):\n",
    "    for j in range(r-i-1):\n",
    "        print(\" \", end=\"\")\n",
    "    for k in range(2*i+1):\n",
    "        if k == 0 or k == 2*i or i == r-1:\n",
    "            print(\"*\", end=\"\")\n",
    "        else:\n",
    "            print(\" \", end=\"\")\n",
    "    print()\n",
    "```"
   ]
  },
  {
   "cell_type": "code",
   "execution_count": 9,
   "id": "6455dc5f-e110-4f8e-b0d3-5617305d1026",
   "metadata": {},
   "outputs": [
    {
     "name": "stdout",
     "output_type": "stream",
     "text": [
      "*********\n",
      " *******\n",
      "  *****\n",
      "   ***\n",
      "    *\n"
     ]
    }
   ],
   "source": [
    "# printing reverse konda mugu\n",
    "\n",
    "r = 5\n",
    "for i in range(r-1, -1, -1):\n",
    "    for j in range(r-i-1):\n",
    "        print(\" \", end=\"\")\n",
    "    for k in range(2*i+1):\n",
    "        print(\"*\", end=\"\")\n",
    "    print()"
   ]
  },
  {
   "cell_type": "code",
   "execution_count": 10,
   "id": "0edf8736-87be-423a-ba87-9e4f4338f32f",
   "metadata": {},
   "outputs": [
    {
     "name": "stdout",
     "output_type": "stream",
     "text": [
      "*********\n",
      " *     *\n",
      "  *   *\n",
      "   * *\n",
      "    *\n"
     ]
    }
   ],
   "source": [
    "r = 5\n",
    "for i in range(r-1, -1, -1):\n",
    "    for j in range(r-i-1):\n",
    "        print(\" \", end=\"\")\n",
    "    for k in range(2*i+1):\n",
    "        if k == 0 or k == 2*i or i == r-1:\n",
    "            print(\"*\", end=\"\")\n",
    "        else:\n",
    "            print(\" \", end=\"\")\n",
    "    print()"
   ]
  },
  {
   "cell_type": "markdown",
   "id": "07ba69de-3e76-472f-9599-184924794539",
   "metadata": {},
   "source": [
    "# Pattern15: hollow rhombus"
   ]
  },
  {
   "cell_type": "code",
   "execution_count": 12,
   "id": "70137b15-9f03-4f87-86bc-4ab8cca52765",
   "metadata": {},
   "outputs": [
    {
     "name": "stdout",
     "output_type": "stream",
     "text": [
      "  *\n",
      " ***\n",
      "*****\n",
      "*****\n",
      " ***\n",
      "  *\n"
     ]
    }
   ],
   "source": [
    "r = 3\n",
    "for i in range(r):\n",
    "    for j in range(r-i-1):\n",
    "        print(\" \", end=\"\")\n",
    "    for k in range(2*i+1):\n",
    "        print(\"*\", end=\"\")\n",
    "    print()\n",
    "for i in range(r-1, -1, -1):\n",
    "    for j in range(r-i-1):\n",
    "        print(\" \", end=\"\")\n",
    "    for k in range(2*i+1):\n",
    "        print(\"*\", end=\"\")\n",
    "    print()"
   ]
  },
  {
   "cell_type": "code",
   "execution_count": 13,
   "id": "6fe5908c-e197-472d-aa69-133711e63fbc",
   "metadata": {},
   "outputs": [
    {
     "name": "stdout",
     "output_type": "stream",
     "text": [
      "  *\n",
      " ***\n",
      "*****\n",
      " ***\n",
      "  *\n"
     ]
    }
   ],
   "source": [
    "r = 3\n",
    "for i in range(r-1):\n",
    "    for j in range(r-i-1):\n",
    "        print(\" \", end=\"\")\n",
    "    for k in range(2*i+1):\n",
    "        print(\"*\", end=\"\")\n",
    "    print()\n",
    "for i in range(r-1, -1, -1):\n",
    "    for j in range(r-i-1):\n",
    "        print(\" \", end=\"\")\n",
    "    for k in range(2*i+1):\n",
    "        print(\"*\", end=\"\")\n",
    "    print()"
   ]
  },
  {
   "cell_type": "code",
   "execution_count": 14,
   "id": "af892c6e-8d57-41f2-8404-d1e17732d688",
   "metadata": {},
   "outputs": [
    {
     "name": "stdout",
     "output_type": "stream",
     "text": [
      "  *\n",
      " * *\n",
      "*   *\n",
      " * *\n",
      "  *\n"
     ]
    }
   ],
   "source": [
    "r = 3\n",
    "for i in range(r-1):\n",
    "    for j in range(r-i-1):\n",
    "        print(\" \", end=\"\")\n",
    "    for k in range(2*i+1):\n",
    "        if k == 0 or k == 2*i:\n",
    "            print(\"*\", end=\"\")\n",
    "        else:\n",
    "            print(\" \", end=\"\")\n",
    "    print()\n",
    "for i in range(r-1, -1, -1):\n",
    "    for j in range(r-i-1):\n",
    "        print(\" \", end=\"\")\n",
    "    for k in range(2*i+1):\n",
    "        if k == 0 or k == 2*i:\n",
    "            print(\"*\", end=\"\")\n",
    "        else:\n",
    "            print(\" \", end=\"\")\n",
    "    print()"
   ]
  },
  {
   "cell_type": "code",
   "execution_count": 15,
   "id": "c5327816-9d80-4ff5-a8dd-202703b48b49",
   "metadata": {},
   "outputs": [
    {
     "name": "stdout",
     "output_type": "stream",
     "text": [
      "  *\n",
      " * *\n",
      "*   *\n",
      " * *\n",
      "  *\n"
     ]
    }
   ],
   "source": [
    "r = 3\n",
    "for i in range(r):\n",
    "    for j in range(r-i-1):\n",
    "        print(\" \", end=\"\")\n",
    "    for k in range(2*i+1):\n",
    "        if k == 0 or k == 2*i:\n",
    "            print(\"*\", end=\"\")\n",
    "        else:\n",
    "            print(\" \", end=\"\")\n",
    "    print()\n",
    "for i in range(r-2, -1, -1):\n",
    "    for j in range(r-i-1):\n",
    "        print(\" \", end=\"\")\n",
    "    for k in range(2*i+1):\n",
    "        if k == 0 or k == 2*i:\n",
    "            print(\"*\", end=\"\")\n",
    "        else:\n",
    "            print(\" \", end=\"\")\n",
    "    print()"
   ]
  },
  {
   "cell_type": "markdown",
   "id": "9df89478-027d-434a-9eb3-ee5c8b62cd05",
   "metadata": {},
   "source": [
    "# Pattern15:\n",
    "```\n",
    "1\n",
    "1 2\n",
    "1 2 3\n",
    "1 2 3 4\n",
    "1 2 3 4 5\n",
    "1 2 3 4 5 6\n",
    "```"
   ]
  },
  {
   "cell_type": "code",
   "execution_count": 20,
   "id": "5d354bed-a8eb-41e6-8185-4c4484410fc8",
   "metadata": {},
   "outputs": [
    {
     "name": "stdout",
     "output_type": "stream",
     "text": [
      "1 \n",
      "1 2 \n",
      "1 2 3 \n",
      "1 2 3 4 \n",
      "1 2 3 4 5 \n",
      "1 2 3 4 5 6 \n"
     ]
    }
   ],
   "source": [
    "n = 6 # number of rows\n",
    "\n",
    "for i in range(n):\n",
    "    for j in range(1, i+2):\n",
    "        print(j, end=\" \")\n",
    "    print()"
   ]
  },
  {
   "cell_type": "code",
   "execution_count": 21,
   "id": "caa0a3f0-51c5-4d0b-8fda-d0dd26d65403",
   "metadata": {},
   "outputs": [
    {
     "name": "stdout",
     "output_type": "stream",
     "text": [
      "1 \n",
      "1 2 \n",
      "1 2 3 \n",
      "1 2 3 4 \n",
      "1 2 3 4 5 \n",
      "1 2 3 4 5 6 \n"
     ]
    }
   ],
   "source": [
    "n = 6 # number of rows\n",
    "\n",
    "for i in range(1, n+1):\n",
    "    for j in range(1, i+1):\n",
    "        print(j, end=\" \")\n",
    "    print()"
   ]
  },
  {
   "cell_type": "markdown",
   "id": "c9e84458-2c33-48bf-940a-e93cccd9379e",
   "metadata": {},
   "source": [
    "# Pattern16\n",
    "```\n",
    "----1\n",
    "---21\n",
    "--321\n",
    "-4321\n",
    "54321\n",
    "```"
   ]
  },
  {
   "cell_type": "code",
   "execution_count": 22,
   "id": "f01080f3-596d-4374-867b-d915c63ea49f",
   "metadata": {},
   "outputs": [
    {
     "name": "stdout",
     "output_type": "stream",
     "text": [
      "    1\n",
      "   21\n",
      "  321\n",
      " 4321\n",
      "54321\n"
     ]
    }
   ],
   "source": [
    "r = 5\n",
    "\n",
    "for i in range(r):\n",
    "    for j in range(r-i-1):\n",
    "        print(\" \", end=\"\")\n",
    "    for k in range(i+1, 0, -1):\n",
    "        print(k, end=\"\")\n",
    "    print()"
   ]
  },
  {
   "cell_type": "markdown",
   "id": "bd5342f8-c8a8-4272-a2d9-2f64e8802c6c",
   "metadata": {},
   "source": [
    "# Pattern17\n",
    "```\n",
    "----1\n",
    "---212\n",
    "--32123\n",
    "-4321234\n",
    "543212345\n",
    "```"
   ]
  },
  {
   "cell_type": "code",
   "execution_count": 23,
   "id": "133e183e-6d02-4d39-bf2e-1666c1f5528e",
   "metadata": {},
   "outputs": [
    {
     "name": "stdout",
     "output_type": "stream",
     "text": [
      "    1\n",
      "   211\n",
      "  32112\n",
      " 4321123\n",
      "543211234\n"
     ]
    }
   ],
   "source": [
    "r = 5\n",
    "\n",
    "for i in range(r):\n",
    "    for j in range(r-i-1):\n",
    "        print(\" \", end=\"\")\n",
    "    for k in range(i+1, 0, -1):\n",
    "        print(k, end=\"\")\n",
    "    for m in range(1, i+1):\n",
    "        print(m, end=\"\")\n",
    "    print()"
   ]
  },
  {
   "cell_type": "code",
   "execution_count": 24,
   "id": "c13b85e9-bfd7-4c63-8e4c-36496d0cd782",
   "metadata": {},
   "outputs": [
    {
     "name": "stdout",
     "output_type": "stream",
     "text": [
      "    1\n",
      "   21\n",
      "  3212\n",
      " 432123\n",
      "54321234\n"
     ]
    }
   ],
   "source": [
    "r = 5\n",
    "\n",
    "for i in range(r):\n",
    "    for j in range(r-i-1):\n",
    "        print(\" \", end=\"\")\n",
    "    for k in range(i+1, 0, -1):\n",
    "        print(k, end=\"\")\n",
    "    for m in range(2, i+1):\n",
    "        print(m, end=\"\")\n",
    "    print()"
   ]
  },
  {
   "cell_type": "code",
   "execution_count": 25,
   "id": "47cc5d20-a274-4c50-803c-53396b02b2cb",
   "metadata": {},
   "outputs": [
    {
     "name": "stdout",
     "output_type": "stream",
     "text": [
      "    1\n",
      "   212\n",
      "  32123\n",
      " 4321234\n",
      "543212345\n"
     ]
    }
   ],
   "source": [
    "r = 5\n",
    "\n",
    "for i in range(r):\n",
    "    for j in range(r-i-1):\n",
    "        print(\" \", end=\"\")\n",
    "    for k in range(i+1, 0, -1):\n",
    "        print(k, end=\"\")\n",
    "    for m in range(2, i+2):\n",
    "        print(m, end=\"\")\n",
    "    print()"
   ]
  },
  {
   "cell_type": "code",
   "execution_count": null,
   "id": "c4c4dcda-1d02-4939-974a-a7a7417c49ac",
   "metadata": {},
   "outputs": [],
   "source": []
  }
 ],
 "metadata": {
  "kernelspec": {
   "display_name": "Python 3 (ipykernel)",
   "language": "python",
   "name": "python3"
  },
  "language_info": {
   "codemirror_mode": {
    "name": "ipython",
    "version": 3
   },
   "file_extension": ".py",
   "mimetype": "text/x-python",
   "name": "python",
   "nbconvert_exporter": "python",
   "pygments_lexer": "ipython3",
   "version": "3.11.7"
  }
 },
 "nbformat": 4,
 "nbformat_minor": 5
}
