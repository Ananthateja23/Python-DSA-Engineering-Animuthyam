{
 "cells": [
  {
   "cell_type": "markdown",
   "id": "1ea42be5-2543-4102-8494-f95ab6453e0d",
   "metadata": {},
   "source": [
    "# Pattern05: Square Bokka mugu"
   ]
  },
  {
   "cell_type": "code",
   "execution_count": 1,
   "id": "6df16235-3b53-4360-95ce-b5301b5c5a63",
   "metadata": {},
   "outputs": [
    {
     "name": "stdout",
     "output_type": "stream",
     "text": [
      "*-*-*-*\n",
      "*-*-*-*\n",
      "*-*-*-*\n",
      "*-*-*-*\n",
      "*-*-*-*\n"
     ]
    }
   ],
   "source": [
    "r = 5\n",
    "c = 4\n",
    "\n",
    "for i in range(r):\n",
    "    for j in range(c):\n",
    "        print(\"*\", end=\"\")\n",
    "        if j != c-1:\n",
    "            print(\"-\", end=\"\")\n",
    "    print()"
   ]
  },
  {
   "cell_type": "code",
   "execution_count": 2,
   "id": "bd701d71-3864-4036-a3b8-21904171db4a",
   "metadata": {},
   "outputs": [
    {
     "name": "stdout",
     "output_type": "stream",
     "text": [
      "*-*-*-*\n",
      "+-+-+-+\n",
      "+-+-+-+\n",
      "+-+-+-+\n",
      "*-*-*-*\n"
     ]
    }
   ],
   "source": [
    "r = 5\n",
    "c = 4\n",
    "\n",
    "for i in range(r):\n",
    "    for j in range(c):\n",
    "        if i == 0 or i == r-1:\n",
    "            print(\"*\", end=\"\")\n",
    "        else:\n",
    "            print(\"+\", end=\"\")\n",
    "        if j != c-1:\n",
    "            print(\"-\", end=\"\")\n",
    "    print()"
   ]
  },
  {
   "cell_type": "code",
   "execution_count": 3,
   "id": "7da1685a-0d68-4577-9000-6b9e4834585a",
   "metadata": {},
   "outputs": [
    {
     "name": "stdout",
     "output_type": "stream",
     "text": [
      "*-*-*-*\n",
      "*-+-+-+\n",
      "*-+-+-+\n",
      "*-+-+-+\n",
      "*-*-*-*\n"
     ]
    }
   ],
   "source": [
    "r = 5\n",
    "c = 4\n",
    "\n",
    "for i in range(r):\n",
    "    for j in range(c):\n",
    "        if i == 0 or i == r-1 or j == 0:\n",
    "            print(\"*\", end=\"\")\n",
    "        else:\n",
    "            print(\"+\", end=\"\")\n",
    "        if j != c-1:\n",
    "            print(\"-\", end=\"\")\n",
    "    print()"
   ]
  },
  {
   "cell_type": "code",
   "execution_count": 4,
   "id": "807ba5c3-03e2-4174-b04e-6f7883b4cef8",
   "metadata": {},
   "outputs": [
    {
     "name": "stdout",
     "output_type": "stream",
     "text": [
      "*-*-*-*\n",
      "*-+-+-*\n",
      "*-+-+-*\n",
      "*-+-+-*\n",
      "*-*-*-*\n"
     ]
    }
   ],
   "source": [
    "r = 5\n",
    "c = 4\n",
    "\n",
    "for i in range(r):\n",
    "    for j in range(c):\n",
    "        if i == 0 or i == r-1 or j == 0 or j == c-1:\n",
    "            print(\"*\", end=\"\")\n",
    "        else:\n",
    "            print(\"+\", end=\"\")\n",
    "        if j != c-1:\n",
    "            print(\"-\", end=\"\")\n",
    "    print()"
   ]
  },
  {
   "cell_type": "code",
   "execution_count": 5,
   "id": "72ed7c0d-93f6-4367-b025-dd6987682b75",
   "metadata": {},
   "outputs": [
    {
     "name": "stdout",
     "output_type": "stream",
     "text": [
      "* * * *\n",
      "* + + *\n",
      "* + + *\n",
      "* + + *\n",
      "* * * *\n"
     ]
    }
   ],
   "source": [
    "r = 5\n",
    "c = 4\n",
    "\n",
    "for i in range(r):\n",
    "    for j in range(c):\n",
    "        if i == 0 or i == r-1 or j == 0 or j == c-1:\n",
    "            print(\"*\", end=\"\")\n",
    "        else:\n",
    "            print(\"+\", end=\"\")\n",
    "        if j != c-1:\n",
    "            print(\" \", end=\"\")\n",
    "    print()"
   ]
  },
  {
   "cell_type": "code",
   "execution_count": 6,
   "id": "57e2031c-4212-41ce-8859-f66784c2897c",
   "metadata": {},
   "outputs": [
    {
     "name": "stdout",
     "output_type": "stream",
     "text": [
      "* * * *\n",
      "*     *\n",
      "*     *\n",
      "*     *\n",
      "* * * *\n"
     ]
    }
   ],
   "source": [
    "r = 5\n",
    "c = 4\n",
    "\n",
    "for i in range(r):\n",
    "    for j in range(c):\n",
    "        if i == 0 or i == r-1 or j == 0 or j == c-1:\n",
    "            print(\"*\", end=\"\")\n",
    "        else:\n",
    "            print(\" \", end=\"\")\n",
    "        if j != c-1:\n",
    "            print(\" \", end=\"\")\n",
    "    print()"
   ]
  },
  {
   "cell_type": "code",
   "execution_count": 7,
   "id": "5aa89ba2-4561-4a19-9dde-6bb542c52b80",
   "metadata": {},
   "outputs": [
    {
     "name": "stdout",
     "output_type": "stream",
     "text": [
      "****\n",
      "*  *\n",
      "*  *\n",
      "*  *\n",
      "****\n"
     ]
    }
   ],
   "source": [
    "r = 5\n",
    "c = 4\n",
    "\n",
    "for i in range(r):\n",
    "    for j in range(c):\n",
    "        if i == 0 or i == r-1 or j == 0 or j == c-1:\n",
    "            print(\"*\", end=\"\")\n",
    "        else:\n",
    "            print(\" \", end=\"\")\n",
    "        # if j != c-1:\n",
    "        #     print(\" \", end=\"\")\n",
    "    print()"
   ]
  },
  {
   "cell_type": "code",
   "execution_count": 8,
   "id": "87d11175-d758-4a47-b1b2-fd2a5564b13f",
   "metadata": {},
   "outputs": [
    {
     "name": "stdout",
     "output_type": "stream",
     "text": [
      "*****\n",
      "*   *\n",
      "*   *\n",
      "*   *\n",
      "*****\n"
     ]
    }
   ],
   "source": [
    "r = 5\n",
    "c = 5\n",
    "\n",
    "for i in range(r):\n",
    "    for j in range(c):\n",
    "        if i == 0 or i == r-1 or j == 0 or j == c-1:\n",
    "            print(\"*\", end=\"\")\n",
    "        else:\n",
    "            print(\" \", end=\"\")\n",
    "        # if j != c-1:\n",
    "        #     print(\" \", end=\"\")\n",
    "    print()"
   ]
  },
  {
   "cell_type": "code",
   "execution_count": 9,
   "id": "555d938d-4e33-4b58-a92e-a3cd266d97db",
   "metadata": {},
   "outputs": [
    {
     "name": "stdout",
     "output_type": "stream",
     "text": [
      "* * * * *\n",
      "*       *\n",
      "*       *\n",
      "*       *\n",
      "* * * * *\n"
     ]
    }
   ],
   "source": [
    "r = 5\n",
    "c = 5\n",
    "\n",
    "for i in range(r):\n",
    "    for j in range(c):\n",
    "        if i == 0 or i == r-1 or j == 0 or j == c-1:\n",
    "            print(\"*\", end=\"\")\n",
    "        else:\n",
    "            print(\" \", end=\"\")\n",
    "        if j != c-1:\n",
    "            print(\" \", end=\"\")\n",
    "    print()"
   ]
  },
  {
   "cell_type": "markdown",
   "id": "a7645752-a1f6-47ca-9982-8eae918037ca",
   "metadata": {},
   "source": [
    "# Pattern06: Padukkuna scale bokka muggu"
   ]
  },
  {
   "cell_type": "code",
   "execution_count": 10,
   "id": "8f4c0cd8-7e69-4244-82bc-f63966868555",
   "metadata": {},
   "outputs": [
    {
     "name": "stdout",
     "output_type": "stream",
     "text": [
      "* * * * * * * * * * * * * * *\n",
      "*                           *\n",
      "*                           *\n",
      "* * * * * * * * * * * * * * *\n"
     ]
    }
   ],
   "source": [
    "r = 4\n",
    "c = 15\n",
    "\n",
    "for i in range(r):\n",
    "    for j in range(c):\n",
    "        if i == 0 or i == r-1 or j == 0 or j == c-1:\n",
    "            print(\"*\", end=\"\")\n",
    "        else:\n",
    "            print(\" \", end=\"\")\n",
    "        if j != c-1:\n",
    "            print(\" \", end=\"\")\n",
    "    print()"
   ]
  },
  {
   "cell_type": "markdown",
   "id": "17844b08-d4cb-40fc-b4b6-09c6adbf8222",
   "metadata": {},
   "source": [
    "# Pattern07: Bike stand muggu"
   ]
  },
  {
   "cell_type": "markdown",
   "id": "84e4292b-f7ad-4fee-86a5-a53a2e3076dc",
   "metadata": {},
   "source": [
    "# Understand how to print a triangle"
   ]
  },
  {
   "cell_type": "code",
   "execution_count": 11,
   "id": "60b753e2-daec-44b1-a7ad-5610e2fbb2dd",
   "metadata": {},
   "outputs": [
    {
     "name": "stdout",
     "output_type": "stream",
     "text": [
      "***\n",
      "***\n",
      "***\n"
     ]
    }
   ],
   "source": [
    "c = 3\n",
    "\n",
    "for i in range(c):\n",
    "    for j in range(c):\n",
    "        print(\"*\", end=\"\")\n",
    "    print()"
   ]
  },
  {
   "cell_type": "code",
   "execution_count": 12,
   "id": "5369be83-5484-438a-945b-54efc55fb052",
   "metadata": {},
   "outputs": [
    {
     "name": "stdout",
     "output_type": "stream",
     "text": [
      "Hello 0\n",
      "***\n",
      "Hello 1\n",
      "***\n",
      "Hello 2\n",
      "***\n"
     ]
    }
   ],
   "source": [
    "c = 3\n",
    "\n",
    "for i in range(c):\n",
    "    print(\"Hello\", i)\n",
    "    for j in range(c):\n",
    "        print(\"*\", end=\"\")\n",
    "    print()"
   ]
  },
  {
   "cell_type": "code",
   "execution_count": 13,
   "id": "6ca18af5-ac10-4991-b400-76bb35528b2c",
   "metadata": {},
   "outputs": [
    {
     "name": "stdout",
     "output_type": "stream",
     "text": [
      "Hello 0\n",
      "*****\n",
      "Hello 1\n",
      "*****\n",
      "Hello 2\n",
      "*****\n"
     ]
    }
   ],
   "source": [
    "c = 3\n",
    "\n",
    "for i in range(c):\n",
    "    print(\"Hello\", i)\n",
    "    temp = 5\n",
    "    for j in range(temp):\n",
    "        print(\"*\", end=\"\")\n",
    "    print()"
   ]
  },
  {
   "cell_type": "code",
   "execution_count": 14,
   "id": "c5a4b4ff-5b01-48cb-b383-22d3b45d43d9",
   "metadata": {},
   "outputs": [
    {
     "name": "stdout",
     "output_type": "stream",
     "text": [
      "Hello 0\n",
      "***\n",
      "Hello 1\n",
      "***\n",
      "Hello 2\n",
      "***\n"
     ]
    }
   ],
   "source": [
    "c = 3\n",
    "\n",
    "for i in range(c):\n",
    "    print(\"Hello\", i)\n",
    "    temp = 3\n",
    "    for j in range(temp):\n",
    "        print(\"*\", end=\"\")\n",
    "    print()"
   ]
  },
  {
   "cell_type": "code",
   "execution_count": 15,
   "id": "68396eb9-2f7c-47bb-9c10-9f058e93a628",
   "metadata": {},
   "outputs": [
    {
     "name": "stdout",
     "output_type": "stream",
     "text": [
      "Hello 0\n",
      "***\n",
      "Hello 1\n",
      "**\n",
      "Hello 2\n",
      "*\n"
     ]
    }
   ],
   "source": [
    "c = 3\n",
    "\n",
    "for i in range(c):\n",
    "    print(\"Hello\", i)\n",
    "    temp = 3\n",
    "    if i == 0:\n",
    "        temp = 3\n",
    "    if i == 1:\n",
    "        temp = 2\n",
    "    if i == 2:\n",
    "        temp = 1\n",
    "    for j in range(temp):\n",
    "        print(\"*\", end=\"\")\n",
    "    print()"
   ]
  },
  {
   "cell_type": "code",
   "execution_count": 16,
   "id": "6b2282b2-4296-4072-896c-62904400c103",
   "metadata": {},
   "outputs": [
    {
     "name": "stdout",
     "output_type": "stream",
     "text": [
      "Hello 0\n",
      "***\n",
      "Hello 1\n",
      "**\n",
      "Hello 2\n",
      "*\n"
     ]
    }
   ],
   "source": [
    "c = 3\n",
    "\n",
    "for i in range(c):\n",
    "    print(\"Hello\", i)\n",
    "    temp = 3\n",
    "    if i == 0:\n",
    "        temp = c - 0\n",
    "    if i == 1:\n",
    "        temp = c - 1\n",
    "    if i == 2:\n",
    "        temp = c - 2\n",
    "    for j in range(temp):\n",
    "        print(\"*\", end=\"\")\n",
    "    print()"
   ]
  },
  {
   "cell_type": "code",
   "execution_count": 17,
   "id": "fae004c6-63cf-433d-bf77-afb104111f17",
   "metadata": {},
   "outputs": [
    {
     "name": "stdout",
     "output_type": "stream",
     "text": [
      "Hello 0\n",
      "***\n",
      "Hello 1\n",
      "**\n",
      "Hello 2\n",
      "*\n"
     ]
    }
   ],
   "source": [
    "c = 3\n",
    "\n",
    "for i in range(c):\n",
    "    print(\"Hello\", i)\n",
    "    temp = 3\n",
    "    if i == 0:\n",
    "        temp = c - i\n",
    "    if i == 1:\n",
    "        temp = c - i\n",
    "    if i == 2:\n",
    "        temp = c - i\n",
    "    for j in range(temp):\n",
    "        print(\"*\", end=\"\")\n",
    "    print()"
   ]
  },
  {
   "cell_type": "code",
   "execution_count": 18,
   "id": "bf2b8f1a-3191-4e4d-8c33-f4c34c68ea3f",
   "metadata": {},
   "outputs": [
    {
     "name": "stdout",
     "output_type": "stream",
     "text": [
      "Hello 0\n",
      "***\n",
      "Hello 1\n",
      "**\n",
      "Hello 2\n",
      "*\n"
     ]
    }
   ],
   "source": [
    "c = 3\n",
    "\n",
    "for i in range(c):\n",
    "    print(\"Hello\", i)\n",
    "    temp = c - i\n",
    "    for j in range(temp):\n",
    "        print(\"*\", end=\"\")\n",
    "    print()"
   ]
  },
  {
   "cell_type": "code",
   "execution_count": 19,
   "id": "703ddc54-ece0-4181-bf71-570fdc9a5f5c",
   "metadata": {},
   "outputs": [
    {
     "name": "stdout",
     "output_type": "stream",
     "text": [
      "***\n",
      "**\n",
      "*\n"
     ]
    }
   ],
   "source": [
    "c = 3\n",
    "\n",
    "for i in range(c):\n",
    "    temp = c - i\n",
    "    for j in range(temp):\n",
    "        print(\"*\", end=\"\")\n",
    "    print()"
   ]
  },
  {
   "cell_type": "code",
   "execution_count": 20,
   "id": "c345bc89-77fb-43cf-a5fd-d1d265168e7d",
   "metadata": {},
   "outputs": [
    {
     "name": "stdout",
     "output_type": "stream",
     "text": [
      "***\n",
      "**\n",
      "*\n"
     ]
    }
   ],
   "source": [
    "c = 3\n",
    "\n",
    "for i in range(c):\n",
    "    for j in range(c-i):\n",
    "        print(\"*\", end=\"\")\n",
    "    print()"
   ]
  },
  {
   "cell_type": "code",
   "execution_count": 21,
   "id": "3e4e0a16-c34c-4a62-ba68-8922b9c8fc3a",
   "metadata": {},
   "outputs": [
    {
     "name": "stdout",
     "output_type": "stream",
     "text": [
      "***---\n",
      "**---\n",
      "*---\n"
     ]
    }
   ],
   "source": [
    "c = 3\n",
    "\n",
    "for i in range(c):\n",
    "    for j in range(c-i):\n",
    "        print(\"*\", end=\"\")\n",
    "    for k in range(3):\n",
    "        print(\"-\", end=\"\")\n",
    "    print()"
   ]
  },
  {
   "cell_type": "code",
   "execution_count": 22,
   "id": "d2a7ac98-062f-41bd-bb6c-7b37314ed58e",
   "metadata": {},
   "outputs": [
    {
     "name": "stdout",
     "output_type": "stream",
     "text": [
      "***---\n",
      "**---\n",
      "*---\n",
      "---\n"
     ]
    }
   ],
   "source": [
    "c = 3\n",
    "\n",
    "for i in range(c+1):\n",
    "    for j in range(c-i):\n",
    "        print(\"*\", end=\"\")\n",
    "    for k in range(3):\n",
    "        print(\"-\", end=\"\")\n",
    "    print()"
   ]
  },
  {
   "cell_type": "code",
   "execution_count": 23,
   "id": "65fb360a-692d-4154-9444-ef321ecc159d",
   "metadata": {},
   "outputs": [
    {
     "name": "stdout",
     "output_type": "stream",
     "text": [
      "***---\n",
      "**---\n",
      "*---\n",
      "---\n"
     ]
    }
   ],
   "source": [
    "r = 4\n",
    "c = 3\n",
    "c1 = r-1\n",
    "\n",
    "for i in range(r):\n",
    "    for j in range(c1-i):\n",
    "        print(\"*\", end=\"\")\n",
    "    for k in range(c):\n",
    "        print(\"-\", end=\"\")\n",
    "    print()"
   ]
  },
  {
   "cell_type": "code",
   "execution_count": 24,
   "id": "58e0145a-990e-4e85-9ef9-a877cbcdd3c6",
   "metadata": {},
   "outputs": [
    {
     "name": "stdout",
     "output_type": "stream",
     "text": [
      "*****---\n",
      "****---\n",
      "***---\n",
      "**---\n",
      "*---\n",
      "---\n"
     ]
    }
   ],
   "source": [
    "r = 6\n",
    "c = 3\n",
    "c1 = r-1\n",
    "\n",
    "for i in range(r):\n",
    "    for j in range(c1-i):\n",
    "        print(\"*\", end=\"\")\n",
    "    for k in range(c):\n",
    "        print(\"-\", end=\"\")\n",
    "    print()"
   ]
  },
  {
   "cell_type": "code",
   "execution_count": 25,
   "id": "18df2e98-9ad9-40e6-8135-4ff91ecf3fe9",
   "metadata": {},
   "outputs": [
    {
     "name": "stdout",
     "output_type": "stream",
     "text": [
      "***************---\n",
      "**************---\n",
      "*************---\n",
      "************---\n",
      "***********---\n",
      "**********---\n",
      "*********---\n",
      "********---\n",
      "*******---\n",
      "******---\n",
      "*****---\n",
      "****---\n",
      "***---\n",
      "**---\n",
      "*---\n",
      "---\n"
     ]
    }
   ],
   "source": [
    "r = 16\n",
    "c = 3\n",
    "c1 = r-1\n",
    "\n",
    "for i in range(r):\n",
    "    for j in range(c1-i):\n",
    "        print(\"*\", end=\"\")\n",
    "    for k in range(c):\n",
    "        print(\"-\", end=\"\")\n",
    "    print()"
   ]
  },
  {
   "cell_type": "code",
   "execution_count": 26,
   "id": "1fdc3af0-9363-4570-affd-7be2e1de8ff4",
   "metadata": {},
   "outputs": [
    {
     "name": "stdout",
     "output_type": "stream",
     "text": [
      "***************-----\n",
      "**************-----\n",
      "*************-----\n",
      "************-----\n",
      "***********-----\n",
      "**********-----\n",
      "*********-----\n",
      "********-----\n",
      "*******-----\n",
      "******-----\n",
      "*****-----\n",
      "****-----\n",
      "***-----\n",
      "**-----\n",
      "*-----\n",
      "-----\n"
     ]
    }
   ],
   "source": [
    "r = 16\n",
    "c = 5\n",
    "c1 = r-1\n",
    "\n",
    "for i in range(r):\n",
    "    for j in range(c1-i):\n",
    "        print(\"*\", end=\"\")\n",
    "    for k in range(c):\n",
    "        print(\"-\", end=\"\")\n",
    "    print()"
   ]
  },
  {
   "cell_type": "code",
   "execution_count": 27,
   "id": "bf5cf8fe-6921-4095-b477-9c642c30592f",
   "metadata": {},
   "outputs": [
    {
     "name": "stdout",
     "output_type": "stream",
     "text": [
      "               *****\n",
      "              *****\n",
      "             *****\n",
      "            *****\n",
      "           *****\n",
      "          *****\n",
      "         *****\n",
      "        *****\n",
      "       *****\n",
      "      *****\n",
      "     *****\n",
      "    *****\n",
      "   *****\n",
      "  *****\n",
      " *****\n",
      "*****\n"
     ]
    }
   ],
   "source": [
    "r = 16\n",
    "c = 5\n",
    "c1 = r-1\n",
    "\n",
    "for i in range(r):\n",
    "    for j in range(c1-i):\n",
    "        print(\" \", end=\"\")\n",
    "    for k in range(c):\n",
    "        print(\"*\", end=\"\")\n",
    "    print()"
   ]
  },
  {
   "cell_type": "markdown",
   "id": "a21eff91-c705-4cd2-91e3-286e6d44f8b9",
   "metadata": {},
   "source": [
    "# Pattern07: Reverse Bike stand muggu"
   ]
  },
  {
   "cell_type": "code",
   "execution_count": 28,
   "id": "a9dfbe9f-cea9-482b-9456-c9bd97ab3d43",
   "metadata": {},
   "outputs": [
    {
     "name": "stdout",
     "output_type": "stream",
     "text": [
      "*****\n",
      " *****\n",
      "  *****\n",
      "   *****\n",
      "    *****\n",
      "     *****\n",
      "      *****\n",
      "       *****\n",
      "        *****\n",
      "         *****\n",
      "          *****\n",
      "           *****\n",
      "            *****\n",
      "             *****\n",
      "              *****\n",
      "               *****\n"
     ]
    }
   ],
   "source": [
    "r = 16\n",
    "c = 5\n",
    "c1 = r-1\n",
    "\n",
    "for i in range(r):\n",
    "    for j in range(i):\n",
    "        print(\" \", end=\"\")\n",
    "    for k in range(c):\n",
    "        print(\"*\", end=\"\")\n",
    "    print()"
   ]
  },
  {
   "cell_type": "code",
   "execution_count": null,
   "id": "1c13cd05-436b-4265-bce6-f142d628b40c",
   "metadata": {},
   "outputs": [],
   "source": []
  }
 ],
 "metadata": {
  "kernelspec": {
   "display_name": "Python 3 (ipykernel)",
   "language": "python",
   "name": "python3"
  },
  "language_info": {
   "codemirror_mode": {
    "name": "ipython",
    "version": 3
   },
   "file_extension": ".py",
   "mimetype": "text/x-python",
   "name": "python",
   "nbconvert_exporter": "python",
   "pygments_lexer": "ipython3",
   "version": "3.11.7"
  }
 },
 "nbformat": 4,
 "nbformat_minor": 5
}
