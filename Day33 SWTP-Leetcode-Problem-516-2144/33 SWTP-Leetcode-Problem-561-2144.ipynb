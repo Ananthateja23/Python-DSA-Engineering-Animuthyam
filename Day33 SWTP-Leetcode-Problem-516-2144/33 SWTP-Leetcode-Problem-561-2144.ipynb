{
 "cells": [
  {
   "cell_type": "markdown",
   "id": "cddab87c-e5dc-4e1c-a3e9-0bd12c2af66c",
   "metadata": {},
   "source": [
    "# Leetcode Problem : `561. Array Partition`\n",
    "- Click on the link to start solve the problem\n",
    "- [Leetcode-Problem](https://leetcode.com/problems/array-partition/description/)"
   ]
  },
  {
   "cell_type": "code",
   "execution_count": 1,
   "id": "ddb8c6ed-f895-4bcf-b6a6-68f06adf0b2d",
   "metadata": {},
   "outputs": [
    {
     "name": "stdout",
     "output_type": "stream",
     "text": [
      "4\n"
     ]
    }
   ],
   "source": [
    "arr = [1, 4, 3, 2]\n",
    "arr.sort()\n",
    "ans = 0\n",
    "for i in range(0, len(arr), 2):\n",
    "    ans += arr[i]\n",
    "print(ans)"
   ]
  },
  {
   "cell_type": "code",
   "execution_count": 2,
   "id": "70311271-7beb-4285-b002-5b75f7d8d7c5",
   "metadata": {},
   "outputs": [
    {
     "name": "stdout",
     "output_type": "stream",
     "text": [
      "9\n"
     ]
    }
   ],
   "source": [
    "arr = [6, 2, 6, 5, 1, 2]\n",
    "arr.sort()\n",
    "ans = 0\n",
    "for i in range(0, len(arr), 2):\n",
    "    ans += arr[i]\n",
    "print(ans)"
   ]
  },
  {
   "cell_type": "markdown",
   "id": "e3200b8b-eb86-4c9d-91a1-e6522b97d94f",
   "metadata": {},
   "source": [
    "```python\n",
    "class Solution:\n",
    "    def arrayPairSum(self, nums: List[int]) -> int:\n",
    "        nums.sort()\n",
    "        ans = 0\n",
    "        for i in range(0, len(nums), 2):\n",
    "            ans += nums[i]\n",
    "        return ans\n",
    "        \n",
    "```"
   ]
  },
  {
   "cell_type": "markdown",
   "id": "35a2b521-5d08-464c-9b07-65df8a0eb204",
   "metadata": {},
   "source": [
    "# Leetcode Problem : `2144. Minimum Cost of Buying Candies With Discount`\n",
    "- Click on the link to start solve the problem\n",
    "- [Leetcode-Problem](https://leetcode.com/problems/minimum-cost-of-buying-candies-with-discount/description/)"
   ]
  },
  {
   "cell_type": "code",
   "execution_count": 3,
   "id": "606e1f63-83e7-4f11-9440-d136ca17f16e",
   "metadata": {},
   "outputs": [
    {
     "name": "stdout",
     "output_type": "stream",
     "text": [
      "23\n"
     ]
    }
   ],
   "source": [
    "arr = [6, 5, 7, 9, 2, 2]\n",
    "arr.sort()\n",
    "ans = 0\n",
    "took = 0\n",
    "for i in range(len(arr)-1, -1, -1):\n",
    "    if (took == 2):\n",
    "        took = 0\n",
    "    else:\n",
    "        ans += arr[i]\n",
    "        took += 1\n",
    "print(ans)"
   ]
  },
  {
   "cell_type": "markdown",
   "id": "0ef6a111-808c-4680-b846-49a6b0f11337",
   "metadata": {},
   "source": [
    "```python\n",
    "class Solution:\n",
    "    def minimumCost(self, cost: List[int]) -> int:\n",
    "        cost.sort()\n",
    "        took = 0\n",
    "        ans = 0\n",
    "        for i in range(len(cost)-1, -1, -1):\n",
    "            if (took == 2):\n",
    "                took = 0\n",
    "            else:\n",
    "                ans += cost[i]\n",
    "                took += 1\n",
    "        return ans\n",
    "        \n",
    "```"
   ]
  },
  {
   "cell_type": "code",
   "execution_count": null,
   "id": "7863bf45-dcbd-48e0-8355-ab13304b3344",
   "metadata": {},
   "outputs": [],
   "source": []
  }
 ],
 "metadata": {
  "kernelspec": {
   "display_name": "Python 3 (ipykernel)",
   "language": "python",
   "name": "python3"
  },
  "language_info": {
   "codemirror_mode": {
    "name": "ipython",
    "version": 3
   },
   "file_extension": ".py",
   "mimetype": "text/x-python",
   "name": "python",
   "nbconvert_exporter": "python",
   "pygments_lexer": "ipython3",
   "version": "3.11.7"
  }
 },
 "nbformat": 4,
 "nbformat_minor": 5
}
