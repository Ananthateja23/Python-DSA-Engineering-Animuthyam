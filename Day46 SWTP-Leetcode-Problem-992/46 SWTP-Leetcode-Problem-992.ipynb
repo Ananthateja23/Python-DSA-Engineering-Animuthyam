{
 "cells": [
  {
   "cell_type": "markdown",
   "id": "f95a286d-5a4b-4e86-b445-bcf82923a888",
   "metadata": {},
   "source": [
    "# Leetcode Problem : `992 Subarrays with K Different Integers`\n",
    "- Click on the link to solve the problem\n",
    "- <a href=\"https://leetcode.com/problems/subarrays-with-k-different-integers/description/\" target=\"_blank\">Leetcode-Problem</a>"
   ]
  },
  {
   "cell_type": "code",
   "execution_count": 1,
   "id": "6d2bbe72-c2b3-4342-aa39-d95616688beb",
   "metadata": {},
   "outputs": [
    {
     "name": "stdout",
     "output_type": "stream",
     "text": [
      "12\n"
     ]
    }
   ],
   "source": [
    "nums = [1, 2, 1, 2, 3]\n",
    "k = 2\n",
    "l = 0\n",
    "ans = 0\n",
    "dici = {}\n",
    "for r in range(len(nums)):\n",
    "    ch = nums[r]\n",
    "    if ch in dici:\n",
    "        dici[ch] += 1\n",
    "    else:\n",
    "        dici[ch] = 1\n",
    "\n",
    "    while len(dici) > k:\n",
    "        lval = nums[l]\n",
    "        dici[lval] -= 1\n",
    "        if dici[lval] == 0:\n",
    "            dici.pop(lval)\n",
    "        l += 1\n",
    "    ans += (r-l+1)\n",
    "print(ans)"
   ]
  },
  {
   "cell_type": "code",
   "execution_count": 2,
   "id": "443d92e2-8260-41ec-9373-496d62843340",
   "metadata": {},
   "outputs": [
    {
     "name": "stdout",
     "output_type": "stream",
     "text": [
      "5\n"
     ]
    }
   ],
   "source": [
    "nums = [1, 2, 1, 2, 3]\n",
    "k = 1\n",
    "l = 0\n",
    "ans = 0\n",
    "dici = {}\n",
    "for r in range(len(nums)):\n",
    "    ch = nums[r]\n",
    "    if ch in dici:\n",
    "        dici[ch] += 1\n",
    "    else:\n",
    "        dici[ch] = 1\n",
    "\n",
    "    while len(dici) > k:\n",
    "        lval = nums[l]\n",
    "        dici[lval] -= 1\n",
    "        if dici[lval] == 0:\n",
    "            dici.pop(lval)\n",
    "        l += 1\n",
    "    ans += (r-l+1)\n",
    "print(ans)"
   ]
  },
  {
   "cell_type": "code",
   "execution_count": 3,
   "id": "16533aa3-9481-4421-8dd7-bf9c546d2711",
   "metadata": {},
   "outputs": [],
   "source": [
    "def atMostK(nums, k):\n",
    "    l = 0\n",
    "    ans = 0\n",
    "    dici = {}\n",
    "    for r in range(len(nums)):\n",
    "        ch = nums[r]\n",
    "        if ch in dici:\n",
    "            dici[ch] += 1\n",
    "        else:\n",
    "            dici[ch] = 1\n",
    "    \n",
    "        while len(dici) > k:\n",
    "            lval = nums[l]\n",
    "            dici[lval] -= 1\n",
    "            if dici[lval] == 0:\n",
    "                dici.pop(lval)\n",
    "            l += 1\n",
    "        ans += (r-l+1)\n",
    "    return ans"
   ]
  },
  {
   "cell_type": "code",
   "execution_count": 4,
   "id": "0dd03d37-5a25-4c36-acfc-296e19bdbb03",
   "metadata": {},
   "outputs": [
    {
     "name": "stdout",
     "output_type": "stream",
     "text": [
      "7\n"
     ]
    }
   ],
   "source": [
    "nums = [1, 2, 1, 2, 3]\n",
    "k = 2\n",
    "print(atMostK(nums, k) - atMostK(nums, k-1))"
   ]
  },
  {
   "cell_type": "markdown",
   "id": "cb7be251-0a39-400d-8db7-f806be5d69ea",
   "metadata": {},
   "source": [
    "# Leetcode Problem Solved\n",
    "```python\n",
    "class Solution:\n",
    "    def subarraysWithKDistinct(self, nums: List[int], k: int) -> int:\n",
    "        def atMostK(nums, k):\n",
    "            ans = 0\n",
    "            l = 0\n",
    "            n = len(nums)\n",
    "            dici = {}\n",
    "            for r in range(n):\n",
    "\n",
    "                ch = nums[r]\n",
    "                if ch in dici:\n",
    "                    dici[ch] += 1\n",
    "                else:\n",
    "                    dici[ch] = 1\n",
    "\n",
    "                while len(dici) > k:\n",
    "                    lval = nums[l]\n",
    "                    dici[lval] -= 1\n",
    "                    if dici[lval] == 0:\n",
    "                        dici.pop(lval)\n",
    "                    l += 1\n",
    "                ans += (r-l+1)\n",
    "            return ans\n",
    "        ans = atMostK(nums, k) - atMostK(nums, k-1)\n",
    "        return ans\n",
    "```"
   ]
  },
  {
   "cell_type": "code",
   "execution_count": null,
   "id": "71a54a44-9b92-4cde-95b3-445e2e5798de",
   "metadata": {},
   "outputs": [],
   "source": []
  }
 ],
 "metadata": {
  "kernelspec": {
   "display_name": "Python 3 (ipykernel)",
   "language": "python",
   "name": "python3"
  },
  "language_info": {
   "codemirror_mode": {
    "name": "ipython",
    "version": 3
   },
   "file_extension": ".py",
   "mimetype": "text/x-python",
   "name": "python",
   "nbconvert_exporter": "python",
   "pygments_lexer": "ipython3",
   "version": "3.11.7"
  }
 },
 "nbformat": 4,
 "nbformat_minor": 5
}
