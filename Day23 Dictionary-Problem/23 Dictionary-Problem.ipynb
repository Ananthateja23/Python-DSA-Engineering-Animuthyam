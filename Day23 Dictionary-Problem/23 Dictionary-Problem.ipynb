{
 "cells": [
  {
   "cell_type": "markdown",
   "id": "f4a29aa7-301b-4193-b3da-419d9e866afc",
   "metadata": {},
   "source": [
    "# Problem01:\n",
    "```\n",
    "Annimuthyam degara oka array lo strings unai ayithe. Ae strings eni times undhi ani chepali animuthyam\n",
    "\n",
    "arr: [\"Hello\", \"bolo\", \"Hello\", \"tata\"]\n",
    "\n",
    "\n",
    "\"Hello\" --> 2\n",
    "\"bolo\"  --> 1\n",
    "\"tata\"  --> 1\n",
    "```"
   ]
  },
  {
   "cell_type": "code",
   "execution_count": 1,
   "id": "19b4f682-8bf0-45f4-8bce-7eca6b27bbd1",
   "metadata": {},
   "outputs": [
    {
     "name": "stdout",
     "output_type": "stream",
     "text": [
      "Hello --> 2\n",
      "bolo --> 1\n",
      "tata --> 1\n"
     ]
    }
   ],
   "source": [
    "arr = [\"Hello\", \"bolo\", \"Hello\", \"tata\"]\n",
    "n = len(arr)\n",
    "dici = {}\n",
    "for i in range(n):\n",
    "    key = arr[i]\n",
    "    if key not in dici:\n",
    "        dici[key] = 1\n",
    "    else:\n",
    "        dici[key] += 1\n",
    "\n",
    "for key in dici:\n",
    "    print(key, \"-->\", dici[key])"
   ]
  },
  {
   "cell_type": "markdown",
   "id": "88a6807e-0ed0-46f9-b3d5-002fbdaa2b78",
   "metadata": {},
   "source": [
    "# Problem02:\n",
    "\n",
    "### Leetcode Problem: Majority Element\n",
    "\n",
    "- Click on the link to start solving the problem\n",
    "- [Leetcode-Problem](https://leetcode.com/problems/majority-element/description/)"
   ]
  },
  {
   "cell_type": "markdown",
   "id": "5b721313-c322-451b-94d1-86f0deb42063",
   "metadata": {},
   "source": [
    "# Method01\n",
    "```python\n",
    "# Self Solved approach\n",
    "nums = [3, 2, 3]\n",
    "n = len(nums)\n",
    "dici = {}\n",
    "\n",
    "for i in range(n):\n",
    "    key = dici[i]\n",
    "    if key in dici:\n",
    "        dici[key] += 1\n",
    "    else:\n",
    "        dici[key] = 1\n",
    "\n",
    "for key in dici:\n",
    "    if dici[key] > n//2:\n",
    "        print(key)\n",
    "```"
   ]
  },
  {
   "cell_type": "markdown",
   "id": "3824a317-a415-48df-a334-8575fc363198",
   "metadata": {},
   "source": [
    "```python\n",
    "# Leetcode Solution\n",
    "# Solved with frequency count approach\n",
    "class Solution:\n",
    "    def majorityElement(self, nums: List[int]) -> int:\n",
    "        dici = {}\n",
    "        for i in nums:\n",
    "            if i in dici:\n",
    "                dici[i] += 1\n",
    "            else:\n",
    "                dici[i] = 1\n",
    "        \n",
    "        ans = -1\n",
    "        temp= len(nums)//2\n",
    "        for i in dici:\n",
    "            val = dici[i]\n",
    "            if val > temp:\n",
    "                ans = i\n",
    "                break\n",
    "        return ans\n",
    "\n",
    "# time complexity is O(n)\n",
    "```"
   ]
  },
  {
   "cell_type": "markdown",
   "id": "76d2772e-62f9-42bb-96b3-aa8e275239cc",
   "metadata": {},
   "source": [
    "# Method02\n",
    "```\n",
    "Note:\n",
    "\n",
    "--> Ideas are come only when you write test cases and start thinking and observe how to solve the problem\n",
    "\n",
    "Examples:\n",
    "\n",
    "(1) [2, 2, 1, 1, 1, 2, 2] --> [1, 1, 1, 2, 2, 2, 2]\n",
    "\n",
    "(2) [2, 2, 1, 3, 2]       --> [1, 2, 2, 2, 3]\n",
    "\n",
    "```"
   ]
  },
  {
   "cell_type": "code",
   "execution_count": 2,
   "id": "04b039c9-a62a-4b36-9586-41716eaa5fbc",
   "metadata": {},
   "outputs": [
    {
     "name": "stdout",
     "output_type": "stream",
     "text": [
      "[1, 1, 1, 2, 2, 2, 2]\n",
      "2\n"
     ]
    }
   ],
   "source": [
    "# solved with bubble sort\n",
    "l = [2, 2, 1, 1, 1, 2, 2]\n",
    "n = len(l)\n",
    "for i in range(n-1):\n",
    "\tfor j in range(n-1-i):\n",
    "\t\tif l[j] > l[j+1]:\n",
    "\t\t\tl[j], l[j+1] = l[j+1], l[j]\n",
    "print(l)\n",
    "print(l[n//2])"
   ]
  },
  {
   "cell_type": "code",
   "execution_count": 3,
   "id": "f764fdcd-76e9-4d74-88a5-2962af03ec3a",
   "metadata": {},
   "outputs": [
    {
     "name": "stdout",
     "output_type": "stream",
     "text": [
      "2\n"
     ]
    }
   ],
   "source": [
    "# solved with sorting\n",
    "nums = [2, 2, 1, 1, 1, 2, 2]\n",
    "\n",
    "nums.sort()\n",
    "temp = len(nums)//2\n",
    "print(nums[temp])\n",
    "\n",
    "# time complexity: O(nlogn) for sort()"
   ]
  },
  {
   "cell_type": "markdown",
   "id": "b121844d-d796-4d54-8924-e86758ab18e8",
   "metadata": {},
   "source": [
    "# Understanding the order of time complexity\n",
    "- O(1) < O(logn) < O(n) < O(nlogn) < O(n^2) "
   ]
  },
  {
   "cell_type": "code",
   "execution_count": null,
   "id": "8b0a9f50-86ba-40e3-80cd-3310c5f8296c",
   "metadata": {},
   "outputs": [],
   "source": []
  }
 ],
 "metadata": {
  "kernelspec": {
   "display_name": "Python 3 (ipykernel)",
   "language": "python",
   "name": "python3"
  },
  "language_info": {
   "codemirror_mode": {
    "name": "ipython",
    "version": 3
   },
   "file_extension": ".py",
   "mimetype": "text/x-python",
   "name": "python",
   "nbconvert_exporter": "python",
   "pygments_lexer": "ipython3",
   "version": "3.11.7"
  }
 },
 "nbformat": 4,
 "nbformat_minor": 5
}
